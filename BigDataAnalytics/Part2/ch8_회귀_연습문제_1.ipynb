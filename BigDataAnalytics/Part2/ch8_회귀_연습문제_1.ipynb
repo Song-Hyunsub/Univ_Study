{
 "cells": [
  {
   "cell_type": "code",
   "execution_count": 3,
   "id": "cc729d1c-ff7e-43ff-9c98-8dacc9be6e8a",
   "metadata": {},
   "outputs": [
    {
     "name": "stdout",
     "output_type": "stream",
     "text": [
      "===== 데이터 크기 =====\n",
      "Train Shape: (10505, 11)\n",
      "Test Shape: (4502, 10)\n",
      "\n",
      "===== 데이터 정보(자료형) =====\n",
      "<class 'pandas.core.frame.DataFrame'>\n",
      "RangeIndex: 10505 entries, 0 to 10504\n",
      "Data columns (total 11 columns):\n",
      " #   Column            Non-Null Count  Dtype  \n",
      "---  ------            --------------  -----  \n",
      " 0   airline           10505 non-null  object \n",
      " 1   flight            10505 non-null  object \n",
      " 2   source_city       10505 non-null  object \n",
      " 3   departure_time    10505 non-null  object \n",
      " 4   stops             10505 non-null  object \n",
      " 5   arrival_time      10505 non-null  object \n",
      " 6   destination_city  10505 non-null  object \n",
      " 7   class             10505 non-null  object \n",
      " 8   duration          10505 non-null  float64\n",
      " 9   days_left         10505 non-null  int64  \n",
      " 10  price             10505 non-null  int64  \n",
      "dtypes: float64(1), int64(2), object(8)\n",
      "memory usage: 902.9+ KB\n",
      "None\n",
      "\n",
      "===== train 결측치 수 =====\n",
      "0\n",
      "\n",
      "===== test 결측치 수 =====\n",
      "0\n",
      "\n",
      "===== 카테고리 비교 =====\n",
      "airline \t카테코리 동일함\n",
      "flight \t카테고리 동일하지 않음\n",
      "source_city \t카테코리 동일함\n",
      "departure_time \t카테코리 동일함\n",
      "stops \t카테코리 동일함\n",
      "arrival_time \t카테코리 동일함\n",
      "destination_city \t카테코리 동일함\n",
      "class \t카테코리 동일함\n",
      "\n",
      "===== target 기술 통계 =====\n",
      "count     10505.000000\n",
      "mean      20650.139838\n",
      "std       22570.924117\n",
      "min        1105.000000\n",
      "25%        4755.000000\n",
      "50%        7455.000000\n",
      "75%       42457.000000\n",
      "max      110936.000000\n",
      "Name: price, dtype: float64\n"
     ]
    }
   ],
   "source": [
    "# 1. 문제 정의\n",
    "# 평가: RMSE\n",
    "# targert: price\n",
    "# 최종 파일: result.csv(컬럼 1개 pred)\n",
    "\n",
    "# 2. 라이브러리 및 데이터 불러오기\n",
    "import pandas as pd\n",
    "train = pd.read_csv('flight_train.csv')\n",
    "test = pd.read_csv('flight_test.csv')\n",
    "\n",
    "# 3. 탐색적 데이터 분석(EDA)\n",
    "print(\"===== 데이터 크기 =====\")\n",
    "print(\"Train Shape:\", train.shape)\n",
    "print(\"Test Shape:\", test.shape)\n",
    "\n",
    "\n",
    "print(\"\\n===== 데이터 정보(자료형) =====\")\n",
    "print(train.info())\n",
    "      \n",
    "print(\"\\n===== train 결측치 수 =====\")\n",
    "print(train.isnull().sum().sum())\n",
    "\n",
    "print(\"\\n===== test 결측치 수 =====\")\n",
    "print(test.isnull().sum().sum())\n",
    "\n",
    "print(\"\\n===== 카테고리 비교 =====\")\n",
    "cols = train.select_dtypes(include='object').columns\n",
    "for col in cols:\n",
    "    set_train = set(train[col])\n",
    "    set_test = set(test[col])\n",
    "    same = (set_train == set_test)\n",
    "    if same:\n",
    "        print(col, \"\\t카테코리 동일함\")\n",
    "    else:\n",
    "        print(col, \"\\t카테고리 동일하지 않음\")\n",
    "\n",
    "print(\"\\n===== target 기술 통계 =====\")\n",
    "print(train['price'].describe())"
   ]
  },
  {
   "cell_type": "code",
   "execution_count": 5,
   "id": "e5243e72-b0cc-4908-a92a-c276a037e0d7",
   "metadata": {},
   "outputs": [
    {
     "data": {
      "text/plain": [
       "<Axes: >"
      ]
     },
     "execution_count": 5,
     "metadata": {},
     "output_type": "execute_result"
    },
    {
     "data": {
      "image/png": "[encoded data removed]",
      "text/plain": [
       "<Figure size 640x480 with 1 Axes>"
      ]
     },
     "metadata": {},
     "output_type": "display_data"
    }
   ],
   "source": [
    "train['price'].hist()  # 시험 환경에서는 지원 X"
   ]
  },
  {
   "cell_type": "code",
   "execution_count": 7,
   "id": "aa95a66f-e2e3-4d3b-9d0a-be3a35cc0fe8",
   "metadata": {},
   "outputs": [
    {
     "name": "stdout",
     "output_type": "stream",
     "text": [
      "\n",
      "===== 분할된 데이터 크기 =====\n",
      "(8404, 37) (2101, 37) (8404,) (2101,)\n",
      "\n",
      " rmse: 4376.841613585934\n",
      "\n",
      "===== 제출 파일(샘플 5개) =====\n",
      "       pred\n",
      "0  57356.34\n",
      "1   5334.44\n",
      "2  13244.83\n",
      "3   5951.10\n",
      "4   5102.89\n"
     ]
    }
   ],
   "source": [
    "# 4. 데이터 전처리\n",
    "target = train.pop('price')\n",
    "\n",
    "# 컬럼 삭제\n",
    "train = train.drop('flight', axis=1)\n",
    "test = test.drop('flight', axis=1)\n",
    "\n",
    "# 원-핫 인코딩\n",
    "train = pd.get_dummies(train)\n",
    "test = pd.get_dummies(test)\n",
    "\n",
    "# 5. 검증 데이터 나누기\n",
    "from sklearn.model_selection import train_test_split\n",
    "X_tr, X_val, y_tr, y_val = train_test_split(train, target, test_size=0.2, random_state=0)\n",
    "\n",
    "print(\"\\n===== 분할된 데이터 크기 =====\")\n",
    "print(X_tr.shape, X_val.shape, y_tr.shape, y_val.shape)\n",
    "\n",
    "# 6. 머신러닝 학습 및 평가\n",
    "from sklearn.ensemble import RandomForestRegressor\n",
    "rf = RandomForestRegressor(random_state=0)\n",
    "rf.fit(X_tr, y_tr)\n",
    "pred = rf.predict(X_val)\n",
    "\n",
    "from sklearn.metrics import root_mean_squared_error\n",
    "result = root_mean_squared_error(y_val, pred)\n",
    "print('\\n rmse:', result)\n",
    "\n",
    "# 7. 예측 및 결과 파일 생성\n",
    "pred = rf.predict(test)\n",
    "submit = pd.DataFrame({'pred':pred})\n",
    "submit.to_csv(\"result.csv\", index=False)\n",
    "\n",
    "# 제출 파일 확인\n",
    "print(\"\\n===== 제출 파일(샘플 5개) =====\")\n",
    "print(pd.read_csv(\"result.csv\").head())"
   ]
  },
  {
   "cell_type": "code",
   "execution_count": 13,
   "id": "eb4b5a92-724b-49d7-ada3-7c93ff2f2abd",
   "metadata": {},
   "outputs": [
    {
     "name": "stdout",
     "output_type": "stream",
     "text": [
      "\n",
      "===== 분할된 데이터 크기 =====\n",
      "(8404, 38) (2101, 38) (8404,) (2101,)\n",
      "\n",
      " rmse: 3675.155093297134\n"
     ]
    }
   ],
   "source": [
    "# 성능 개선\n",
    "\n",
    "# 2. 라이브러리 및 데이터 불러오기\n",
    "import pandas as pd\n",
    "train = pd.read_csv('flight_train.csv')\n",
    "test = pd.read_csv('flight_test.csv')\n",
    "\n",
    "# 4. 데이터 전처리\n",
    "target = train.pop('price')\n",
    "\n",
    "# flight 컬럼 일부 사용\n",
    "train['f2'] = train['flight'].str.split('-').str[1].astype(int)\n",
    "test['f2'] = test['flight'].str.split('-').str[1].astype(int)\n",
    "\n",
    "# 컬럼 삭제\n",
    "train = train.drop('flight', axis=1)\n",
    "test = test.drop('flight', axis=1)\n",
    "\n",
    "# 스케일링\n",
    "from sklearn.preprocessing import StandardScaler\n",
    "scaler = StandardScaler()\n",
    "cols = ['duration', 'days_left']\n",
    "train[cols] = scaler.fit_transform(train[cols])\n",
    "test[cols] = scaler.transform(test[cols])\n",
    "\n",
    "# 원-핫 인코딩\n",
    "train = pd.get_dummies(train)\n",
    "test = pd.get_dummies(test)\n",
    "\n",
    "# 5. 검증 데이터 나누기\n",
    "from sklearn.model_selection import train_test_split\n",
    "X_tr, X_val, y_tr, y_val = train_test_split(train, target, test_size=0.2, random_state=0)\n",
    "\n",
    "print(\"\\n===== 분할된 데이터 크기 =====\")\n",
    "print(X_tr.shape, X_val.shape, y_tr.shape, y_val.shape)\n",
    "\n",
    "# 6. 머신러닝 학습 및 평가\n",
    "from sklearn.ensemble import RandomForestRegressor\n",
    "rf = RandomForestRegressor(max_depth=20, n_estimators=200, random_state=0)\n",
    "rf.fit(X_tr, y_tr)\n",
    "pred = rf.predict(X_val)\n",
    "\n",
    "from sklearn.metrics import root_mean_squared_error\n",
    "result = root_mean_squared_error(y_val, pred)\n",
    "print('\\n rmse:', result)\n",
    "\n",
    "# 7. 예측 및 결과 파일 생성\n",
    "pred = rf.predict(test)\n",
    "submit = pd.DataFrame({'pred':pred})\n",
    "submit.to_csv(\"result.csv\", index=False)"
   ]
  }
 ],
 "metadata": {
  "kernelspec": {
   "display_name": "Python 3 (ipykernel)",
   "language": "python",
   "name": "python3"
  },
  "language_info": {
   "codemirror_mode": {
    "name": "ipython",
    "version": 3
   },
   "file_extension": ".py",
   "mimetype": "text/x-python",
   "name": "python",
   "nbconvert_exporter": "python",
   "pygments_lexer": "ipython3",
   "version": "3.12.3"
  }
 },
 "nbformat": 4,
 "nbformat_minor": 5
}
