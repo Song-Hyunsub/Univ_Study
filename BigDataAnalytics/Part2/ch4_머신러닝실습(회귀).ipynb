{
 "cells": [
  {
   "cell_type": "markdown",
   "id": "2e93b984-d5d3-405e-a67b-93cdc9d6de78",
   "metadata": {},
   "source": [
    "### 탐색적 데이터 분석(EDA)"
   ]
  },
  {
   "cell_type": "code",
   "execution_count": 1,
   "id": "54b76070-a10b-41d5-899d-e2c6fd268b9c",
   "metadata": {},
   "outputs": [],
   "source": [
    "import pandas as pd\n",
    "train = pd.read_csv(\"train.csv\")\n",
    "test = pd.read_csv(\"test.csv\")"
   ]
  },
  {
   "cell_type": "code",
   "execution_count": 3,
   "id": "01c322cd-74ac-458c-aae9-3436c5448f07",
   "metadata": {},
   "outputs": [
    {
     "data": {
      "text/plain": [
       "((6818, 12), (1705, 11))"
      ]
     },
     "execution_count": 3,
     "metadata": {},
     "output_type": "execute_result"
    }
   ],
   "source": [
    "train.shape, test.shape"
   ]
  },
  {
   "cell_type": "code",
   "execution_count": 5,
   "id": "8d8d75df-310f-47ce-bad4-0d0dee0cbf93",
   "metadata": {},
   "outputs": [
    {
     "data": {
      "text/html": [
       "<div>\n",
       "<style scoped>\n",
       "    .dataframe tbody tr th:only-of-type {\n",
       "        vertical-align: middle;\n",
       "    }\n",
       "\n",
       "    .dataframe tbody tr th {\n",
       "        vertical-align: top;\n",
       "    }\n",
       "\n",
       "    .dataframe thead th {\n",
       "        text-align: right;\n",
       "    }\n",
       "</style>\n",
       "<table border=\"1\" class=\"dataframe\">\n",
       "  <thead>\n",
       "    <tr style=\"text-align: right;\">\n",
       "      <th></th>\n",
       "      <th>Item_Identifier</th>\n",
       "      <th>Item_Weight</th>\n",
       "      <th>Item_Fat_Content</th>\n",
       "      <th>Item_Visibility</th>\n",
       "      <th>Item_Type</th>\n",
       "      <th>Item_MRP</th>\n",
       "      <th>Outlet_Identifier</th>\n",
       "      <th>Outlet_Establishment_Year</th>\n",
       "      <th>Outlet_Size</th>\n",
       "      <th>Outlet_Location_Type</th>\n",
       "      <th>Outlet_Type</th>\n",
       "      <th>Item_Outlet_Sales</th>\n",
       "    </tr>\n",
       "  </thead>\n",
       "  <tbody>\n",
       "    <tr>\n",
       "      <th>0</th>\n",
       "      <td>NCR06</td>\n",
       "      <td>12.500</td>\n",
       "      <td>Low Fat</td>\n",
       "      <td>0.006760</td>\n",
       "      <td>Household</td>\n",
       "      <td>42.8112</td>\n",
       "      <td>OUT013</td>\n",
       "      <td>1987</td>\n",
       "      <td>High</td>\n",
       "      <td>Tier 3</td>\n",
       "      <td>Supermarket Type1</td>\n",
       "      <td>639.1680</td>\n",
       "    </tr>\n",
       "    <tr>\n",
       "      <th>1</th>\n",
       "      <td>FDW11</td>\n",
       "      <td>12.600</td>\n",
       "      <td>Low Fat</td>\n",
       "      <td>0.048741</td>\n",
       "      <td>Breads</td>\n",
       "      <td>60.4194</td>\n",
       "      <td>OUT013</td>\n",
       "      <td>1987</td>\n",
       "      <td>High</td>\n",
       "      <td>Tier 3</td>\n",
       "      <td>Supermarket Type1</td>\n",
       "      <td>990.7104</td>\n",
       "    </tr>\n",
       "    <tr>\n",
       "      <th>2</th>\n",
       "      <td>FDH32</td>\n",
       "      <td>12.800</td>\n",
       "      <td>Low Fat</td>\n",
       "      <td>0.075997</td>\n",
       "      <td>Fruits and Vegetables</td>\n",
       "      <td>97.1410</td>\n",
       "      <td>OUT013</td>\n",
       "      <td>1987</td>\n",
       "      <td>High</td>\n",
       "      <td>Tier 3</td>\n",
       "      <td>Supermarket Type1</td>\n",
       "      <td>2799.6890</td>\n",
       "    </tr>\n",
       "    <tr>\n",
       "      <th>3</th>\n",
       "      <td>FDL52</td>\n",
       "      <td>6.635</td>\n",
       "      <td>Regular</td>\n",
       "      <td>0.046351</td>\n",
       "      <td>Frozen Foods</td>\n",
       "      <td>37.4506</td>\n",
       "      <td>OUT017</td>\n",
       "      <td>2007</td>\n",
       "      <td>NaN</td>\n",
       "      <td>Tier 2</td>\n",
       "      <td>Supermarket Type1</td>\n",
       "      <td>1176.4686</td>\n",
       "    </tr>\n",
       "    <tr>\n",
       "      <th>4</th>\n",
       "      <td>FDO09</td>\n",
       "      <td>13.500</td>\n",
       "      <td>Regular</td>\n",
       "      <td>0.125170</td>\n",
       "      <td>Snack Foods</td>\n",
       "      <td>261.4910</td>\n",
       "      <td>OUT013</td>\n",
       "      <td>1987</td>\n",
       "      <td>High</td>\n",
       "      <td>Tier 3</td>\n",
       "      <td>Supermarket Type1</td>\n",
       "      <td>3418.8830</td>\n",
       "    </tr>\n",
       "  </tbody>\n",
       "</table>\n",
       "</div>"
      ],
      "text/plain": [
       "  Item_Identifier  Item_Weight Item_Fat_Content  Item_Visibility  \\\n",
       "0           NCR06       12.500          Low Fat         0.006760   \n",
       "1           FDW11       12.600          Low Fat         0.048741   \n",
       "2           FDH32       12.800          Low Fat         0.075997   \n",
       "3           FDL52        6.635          Regular         0.046351   \n",
       "4           FDO09       13.500          Regular         0.125170   \n",
       "\n",
       "               Item_Type  Item_MRP Outlet_Identifier  \\\n",
       "0              Household   42.8112            OUT013   \n",
       "1                 Breads   60.4194            OUT013   \n",
       "2  Fruits and Vegetables   97.1410            OUT013   \n",
       "3           Frozen Foods   37.4506            OUT017   \n",
       "4            Snack Foods  261.4910            OUT013   \n",
       "\n",
       "   Outlet_Establishment_Year Outlet_Size Outlet_Location_Type  \\\n",
       "0                       1987        High               Tier 3   \n",
       "1                       1987        High               Tier 3   \n",
       "2                       1987        High               Tier 3   \n",
       "3                       2007         NaN               Tier 2   \n",
       "4                       1987        High               Tier 3   \n",
       "\n",
       "         Outlet_Type  Item_Outlet_Sales  \n",
       "0  Supermarket Type1           639.1680  \n",
       "1  Supermarket Type1           990.7104  \n",
       "2  Supermarket Type1          2799.6890  \n",
       "3  Supermarket Type1          1176.4686  \n",
       "4  Supermarket Type1          3418.8830  "
      ]
     },
     "execution_count": 5,
     "metadata": {},
     "output_type": "execute_result"
    }
   ],
   "source": [
    "train.head()"
   ]
  },
  {
   "cell_type": "code",
   "execution_count": 7,
   "id": "5183ae2d-2cda-408f-92f7-401c12b4d47f",
   "metadata": {},
   "outputs": [
    {
     "name": "stdout",
     "output_type": "stream",
     "text": [
      "<class 'pandas.core.frame.DataFrame'>\n",
      "RangeIndex: 6818 entries, 0 to 6817\n",
      "Data columns (total 12 columns):\n",
      " #   Column                     Non-Null Count  Dtype  \n",
      "---  ------                     --------------  -----  \n",
      " 0   Item_Identifier            6818 non-null   object \n",
      " 1   Item_Weight                5656 non-null   float64\n",
      " 2   Item_Fat_Content           6818 non-null   object \n",
      " 3   Item_Visibility            6818 non-null   float64\n",
      " 4   Item_Type                  6818 non-null   object \n",
      " 5   Item_MRP                   6818 non-null   float64\n",
      " 6   Outlet_Identifier          6818 non-null   object \n",
      " 7   Outlet_Establishment_Year  6818 non-null   int64  \n",
      " 8   Outlet_Size                4878 non-null   object \n",
      " 9   Outlet_Location_Type       6818 non-null   object \n",
      " 10  Outlet_Type                6818 non-null   object \n",
      " 11  Item_Outlet_Sales          6818 non-null   float64\n",
      "dtypes: float64(4), int64(1), object(7)\n",
      "memory usage: 639.3+ KB\n"
     ]
    }
   ],
   "source": [
    "train.info()"
   ]
  },
  {
   "cell_type": "code",
   "execution_count": 11,
   "id": "b0c857d0-a6ee-4847-964b-6a387eac42f7",
   "metadata": {},
   "outputs": [
    {
     "data": {
      "text/plain": [
       "<Axes: >"
      ]
     },
     "execution_count": 11,
     "metadata": {},
     "output_type": "execute_result"
    },
    {
     "data": {
      "image/png": "[encoded data removed]",
      "text/plain": [
       "<Figure size 640x480 with 1 Axes>"
      ]
     },
     "metadata": {},
     "output_type": "display_data"
    }
   ],
   "source": [
    "train['Item_Outlet_Sales'].hist()  # 실제 시험에서는 시각화 사용 X"
   ]
  },
  {
   "cell_type": "code",
   "execution_count": 15,
   "id": "130f3aae-6118-4253-82fa-909545d0b04a",
   "metadata": {},
   "outputs": [
    {
     "data": {
      "text/html": [
       "<div>\n",
       "<style scoped>\n",
       "    .dataframe tbody tr th:only-of-type {\n",
       "        vertical-align: middle;\n",
       "    }\n",
       "\n",
       "    .dataframe tbody tr th {\n",
       "        vertical-align: top;\n",
       "    }\n",
       "\n",
       "    .dataframe thead th {\n",
       "        text-align: right;\n",
       "    }\n",
       "</style>\n",
       "<table border=\"1\" class=\"dataframe\">\n",
       "  <thead>\n",
       "    <tr style=\"text-align: right;\">\n",
       "      <th></th>\n",
       "      <th>Item_Identifier</th>\n",
       "      <th>Item_Fat_Content</th>\n",
       "      <th>Item_Type</th>\n",
       "      <th>Outlet_Identifier</th>\n",
       "      <th>Outlet_Size</th>\n",
       "      <th>Outlet_Location_Type</th>\n",
       "      <th>Outlet_Type</th>\n",
       "    </tr>\n",
       "  </thead>\n",
       "  <tbody>\n",
       "    <tr>\n",
       "      <th>count</th>\n",
       "      <td>6818</td>\n",
       "      <td>6818</td>\n",
       "      <td>6818</td>\n",
       "      <td>6818</td>\n",
       "      <td>4878</td>\n",
       "      <td>6818</td>\n",
       "      <td>6818</td>\n",
       "    </tr>\n",
       "    <tr>\n",
       "      <th>unique</th>\n",
       "      <td>1554</td>\n",
       "      <td>5</td>\n",
       "      <td>16</td>\n",
       "      <td>10</td>\n",
       "      <td>3</td>\n",
       "      <td>3</td>\n",
       "      <td>4</td>\n",
       "    </tr>\n",
       "    <tr>\n",
       "      <th>top</th>\n",
       "      <td>FDW26</td>\n",
       "      <td>Low Fat</td>\n",
       "      <td>Snack Foods</td>\n",
       "      <td>OUT046</td>\n",
       "      <td>Medium</td>\n",
       "      <td>Tier 3</td>\n",
       "      <td>Supermarket Type1</td>\n",
       "    </tr>\n",
       "    <tr>\n",
       "      <th>freq</th>\n",
       "      <td>9</td>\n",
       "      <td>4092</td>\n",
       "      <td>963</td>\n",
       "      <td>763</td>\n",
       "      <td>2228</td>\n",
       "      <td>2664</td>\n",
       "      <td>4474</td>\n",
       "    </tr>\n",
       "  </tbody>\n",
       "</table>\n",
       "</div>"
      ],
      "text/plain": [
       "       Item_Identifier Item_Fat_Content    Item_Type Outlet_Identifier  \\\n",
       "count             6818             6818         6818              6818   \n",
       "unique            1554                5           16                10   \n",
       "top              FDW26          Low Fat  Snack Foods            OUT046   \n",
       "freq                 9             4092          963               763   \n",
       "\n",
       "       Outlet_Size Outlet_Location_Type        Outlet_Type  \n",
       "count         4878                 6818               6818  \n",
       "unique           3                    3                  4  \n",
       "top         Medium               Tier 3  Supermarket Type1  \n",
       "freq          2228                 2664               4474  "
      ]
     },
     "execution_count": 15,
     "metadata": {},
     "output_type": "execute_result"
    }
   ],
   "source": [
    "train.describe(include='O')"
   ]
  },
  {
   "cell_type": "code",
   "execution_count": 17,
   "id": "46262105-40ea-463a-9861-76ee084bdecb",
   "metadata": {},
   "outputs": [
    {
     "data": {
      "text/html": [
       "<div>\n",
       "<style scoped>\n",
       "    .dataframe tbody tr th:only-of-type {\n",
       "        vertical-align: middle;\n",
       "    }\n",
       "\n",
       "    .dataframe tbody tr th {\n",
       "        vertical-align: top;\n",
       "    }\n",
       "\n",
       "    .dataframe thead th {\n",
       "        text-align: right;\n",
       "    }\n",
       "</style>\n",
       "<table border=\"1\" class=\"dataframe\">\n",
       "  <thead>\n",
       "    <tr style=\"text-align: right;\">\n",
       "      <th></th>\n",
       "      <th>Item_Identifier</th>\n",
       "      <th>Item_Fat_Content</th>\n",
       "      <th>Item_Type</th>\n",
       "      <th>Outlet_Identifier</th>\n",
       "      <th>Outlet_Size</th>\n",
       "      <th>Outlet_Location_Type</th>\n",
       "      <th>Outlet_Type</th>\n",
       "    </tr>\n",
       "  </thead>\n",
       "  <tbody>\n",
       "    <tr>\n",
       "      <th>count</th>\n",
       "      <td>1705</td>\n",
       "      <td>1705</td>\n",
       "      <td>1705</td>\n",
       "      <td>1705</td>\n",
       "      <td>1235</td>\n",
       "      <td>1705</td>\n",
       "      <td>1705</td>\n",
       "    </tr>\n",
       "    <tr>\n",
       "      <th>unique</th>\n",
       "      <td>1077</td>\n",
       "      <td>5</td>\n",
       "      <td>16</td>\n",
       "      <td>10</td>\n",
       "      <td>3</td>\n",
       "      <td>3</td>\n",
       "      <td>4</td>\n",
       "    </tr>\n",
       "    <tr>\n",
       "      <th>top</th>\n",
       "      <td>FDG33</td>\n",
       "      <td>Low Fat</td>\n",
       "      <td>Fruits and Vegetables</td>\n",
       "      <td>OUT013</td>\n",
       "      <td>Medium</td>\n",
       "      <td>Tier 3</td>\n",
       "      <td>Supermarket Type1</td>\n",
       "    </tr>\n",
       "    <tr>\n",
       "      <th>freq</th>\n",
       "      <td>4</td>\n",
       "      <td>997</td>\n",
       "      <td>272</td>\n",
       "      <td>207</td>\n",
       "      <td>565</td>\n",
       "      <td>686</td>\n",
       "      <td>1103</td>\n",
       "    </tr>\n",
       "  </tbody>\n",
       "</table>\n",
       "</div>"
      ],
      "text/plain": [
       "       Item_Identifier Item_Fat_Content              Item_Type  \\\n",
       "count             1705             1705                   1705   \n",
       "unique            1077                5                     16   \n",
       "top              FDG33          Low Fat  Fruits and Vegetables   \n",
       "freq                 4              997                    272   \n",
       "\n",
       "       Outlet_Identifier Outlet_Size Outlet_Location_Type        Outlet_Type  \n",
       "count               1705        1235                 1705               1705  \n",
       "unique                10           3                    3                  4  \n",
       "top               OUT013      Medium               Tier 3  Supermarket Type1  \n",
       "freq                 207         565                  686               1103  "
      ]
     },
     "execution_count": 17,
     "metadata": {},
     "output_type": "execute_result"
    }
   ],
   "source": [
    "test.describe(include='O')"
   ]
  },
  {
   "cell_type": "code",
   "execution_count": 19,
   "id": "97b34f12-ade6-45f7-babd-327142152013",
   "metadata": {},
   "outputs": [
    {
     "data": {
      "text/plain": [
       "Item_Identifier                 0\n",
       "Item_Weight                  1162\n",
       "Item_Fat_Content                0\n",
       "Item_Visibility                 0\n",
       "Item_Type                       0\n",
       "Item_MRP                        0\n",
       "Outlet_Identifier               0\n",
       "Outlet_Establishment_Year       0\n",
       "Outlet_Size                  1940\n",
       "Outlet_Location_Type            0\n",
       "Outlet_Type                     0\n",
       "Item_Outlet_Sales               0\n",
       "dtype: int64"
      ]
     },
     "execution_count": 19,
     "metadata": {},
     "output_type": "execute_result"
    }
   ],
   "source": [
    "train.isnull().sum()"
   ]
  },
  {
   "cell_type": "code",
   "execution_count": 21,
   "id": "ebc7f440-f071-44de-bc88-c07ddb4dbd40",
   "metadata": {},
   "outputs": [
    {
     "data": {
      "text/plain": [
       "Item_Identifier                0\n",
       "Item_Weight                  301\n",
       "Item_Fat_Content               0\n",
       "Item_Visibility                0\n",
       "Item_Type                      0\n",
       "Item_MRP                       0\n",
       "Outlet_Identifier              0\n",
       "Outlet_Establishment_Year      0\n",
       "Outlet_Size                  470\n",
       "Outlet_Location_Type           0\n",
       "Outlet_Type                    0\n",
       "dtype: int64"
      ]
     },
     "execution_count": 21,
     "metadata": {},
     "output_type": "execute_result"
    }
   ],
   "source": [
    "test.isnull().sum()"
   ]
  },
  {
   "cell_type": "markdown",
   "id": "b38b0e99-0379-4380-b034-10acefe1edaf",
   "metadata": {},
   "source": [
    "### 데이터 전처리"
   ]
  },
  {
   "cell_type": "code",
   "execution_count": 25,
   "id": "19c67ac3-41a6-4561-bf01-55cd1b297d99",
   "metadata": {},
   "outputs": [
    {
     "data": {
      "text/plain": [
       "['Item_Identifier',\n",
       " 'Item_Fat_Content',\n",
       " 'Item_Type',\n",
       " 'Outlet_Identifier',\n",
       " 'Outlet_Size',\n",
       " 'Outlet_Location_Type',\n",
       " 'Outlet_Type']"
      ]
     },
     "execution_count": 25,
     "metadata": {},
     "output_type": "execute_result"
    }
   ],
   "source": [
    "list(train.columns[train.dtypes == object])"
   ]
  },
  {
   "cell_type": "code",
   "execution_count": 29,
   "id": "76f48cac-5e6c-429c-a0c0-be1646e52e05",
   "metadata": {},
   "outputs": [
    {
     "data": {
      "text/plain": [
       "['Item_Fat_Content',\n",
       " 'Item_Type',\n",
       " 'Outlet_Identifier',\n",
       " 'Outlet_Size',\n",
       " 'Outlet_Location_Type',\n",
       " 'Outlet_Type']"
      ]
     },
     "execution_count": 29,
     "metadata": {},
     "output_type": "execute_result"
    }
   ],
   "source": [
    "cols = ['Item_Fat_Content', 'Item_Type', 'Outlet_Identifier', 'Outlet_Size', 'Outlet_Location_Type', 'Outlet_Type']\n",
    "cols"
   ]
  },
  {
   "cell_type": "code",
   "execution_count": 31,
   "id": "ede277a1-0a79-4fe8-a546-58f4a1568fa5",
   "metadata": {},
   "outputs": [
    {
     "name": "stdout",
     "output_type": "stream",
     "text": [
      "(6818, 11) (1705, 11)\n",
      "(8523, 11)\n"
     ]
    }
   ],
   "source": [
    "target = train.pop('Item_Outlet_Sales')\n",
    "print(train.shape, test.shape)\n",
    "df = pd.concat([train, test])\n",
    "print(df.shape)"
   ]
  },
  {
   "cell_type": "code",
   "execution_count": 33,
   "id": "d08d3150-657c-47c3-bf2c-115caecf3e75",
   "metadata": {},
   "outputs": [],
   "source": [
    "# 레이블 인코딩\n",
    "from sklearn.preprocessing import LabelEncoder\n",
    "le = LabelEncoder()\n",
    "for col in cols:\n",
    "    df[col] = le.fit_transform(df[col])"
   ]
  },
  {
   "cell_type": "code",
   "execution_count": 35,
   "id": "a270d7b7-ffbf-4538-86f9-8c51754bede2",
   "metadata": {},
   "outputs": [
    {
     "name": "stdout",
     "output_type": "stream",
     "text": [
      "Item_Fat_Content 레이블 인코딩 완료\n",
      "Item_Type 레이블 인코딩 완료\n",
      "Outlet_Identifier 레이블 인코딩 완료\n",
      "Outlet_Size 레이블 인코딩 완료\n",
      "Outlet_Location_Type 레이블 인코딩 완료\n",
      "Outlet_Type 레이블 인코딩 완료\n"
     ]
    }
   ],
   "source": [
    "# 레이블 인코딩 하는 다른 방법 (cat.codes)\n",
    "for col in cols:\n",
    "    df[col] = df[col].astype(\"category\").cat.codes\n",
    "    print(f\"{col} 레이블 인코딩 완료\")"
   ]
  },
  {
   "cell_type": "code",
   "execution_count": 37,
   "id": "bc422048-3c0f-4670-8558-43a082bf2b91",
   "metadata": {},
   "outputs": [
    {
     "data": {
      "text/html": [
       "<div>\n",
       "<style scoped>\n",
       "    .dataframe tbody tr th:only-of-type {\n",
       "        vertical-align: middle;\n",
       "    }\n",
       "\n",
       "    .dataframe tbody tr th {\n",
       "        vertical-align: top;\n",
       "    }\n",
       "\n",
       "    .dataframe thead th {\n",
       "        text-align: right;\n",
       "    }\n",
       "</style>\n",
       "<table border=\"1\" class=\"dataframe\">\n",
       "  <thead>\n",
       "    <tr style=\"text-align: right;\">\n",
       "      <th></th>\n",
       "      <th>Item_Identifier</th>\n",
       "      <th>Item_Weight</th>\n",
       "      <th>Item_Fat_Content</th>\n",
       "      <th>Item_Visibility</th>\n",
       "      <th>Item_Type</th>\n",
       "      <th>Item_MRP</th>\n",
       "      <th>Outlet_Identifier</th>\n",
       "      <th>Outlet_Establishment_Year</th>\n",
       "      <th>Outlet_Size</th>\n",
       "      <th>Outlet_Location_Type</th>\n",
       "      <th>Outlet_Type</th>\n",
       "    </tr>\n",
       "  </thead>\n",
       "  <tbody>\n",
       "    <tr>\n",
       "      <th>0</th>\n",
       "      <td>NCR06</td>\n",
       "      <td>12.500</td>\n",
       "      <td>1</td>\n",
       "      <td>0.006760</td>\n",
       "      <td>9</td>\n",
       "      <td>42.8112</td>\n",
       "      <td>1</td>\n",
       "      <td>1987</td>\n",
       "      <td>0</td>\n",
       "      <td>2</td>\n",
       "      <td>1</td>\n",
       "    </tr>\n",
       "    <tr>\n",
       "      <th>1</th>\n",
       "      <td>FDW11</td>\n",
       "      <td>12.600</td>\n",
       "      <td>1</td>\n",
       "      <td>0.048741</td>\n",
       "      <td>1</td>\n",
       "      <td>60.4194</td>\n",
       "      <td>1</td>\n",
       "      <td>1987</td>\n",
       "      <td>0</td>\n",
       "      <td>2</td>\n",
       "      <td>1</td>\n",
       "    </tr>\n",
       "    <tr>\n",
       "      <th>2</th>\n",
       "      <td>FDH32</td>\n",
       "      <td>12.800</td>\n",
       "      <td>1</td>\n",
       "      <td>0.075997</td>\n",
       "      <td>6</td>\n",
       "      <td>97.1410</td>\n",
       "      <td>1</td>\n",
       "      <td>1987</td>\n",
       "      <td>0</td>\n",
       "      <td>2</td>\n",
       "      <td>1</td>\n",
       "    </tr>\n",
       "    <tr>\n",
       "      <th>3</th>\n",
       "      <td>FDL52</td>\n",
       "      <td>6.635</td>\n",
       "      <td>2</td>\n",
       "      <td>0.046351</td>\n",
       "      <td>5</td>\n",
       "      <td>37.4506</td>\n",
       "      <td>2</td>\n",
       "      <td>2007</td>\n",
       "      <td>3</td>\n",
       "      <td>1</td>\n",
       "      <td>1</td>\n",
       "    </tr>\n",
       "    <tr>\n",
       "      <th>4</th>\n",
       "      <td>FDO09</td>\n",
       "      <td>13.500</td>\n",
       "      <td>2</td>\n",
       "      <td>0.125170</td>\n",
       "      <td>13</td>\n",
       "      <td>261.4910</td>\n",
       "      <td>1</td>\n",
       "      <td>1987</td>\n",
       "      <td>0</td>\n",
       "      <td>2</td>\n",
       "      <td>1</td>\n",
       "    </tr>\n",
       "  </tbody>\n",
       "</table>\n",
       "</div>"
      ],
      "text/plain": [
       "  Item_Identifier  Item_Weight  Item_Fat_Content  Item_Visibility  Item_Type  \\\n",
       "0           NCR06       12.500                 1         0.006760          9   \n",
       "1           FDW11       12.600                 1         0.048741          1   \n",
       "2           FDH32       12.800                 1         0.075997          6   \n",
       "3           FDL52        6.635                 2         0.046351          5   \n",
       "4           FDO09       13.500                 2         0.125170         13   \n",
       "\n",
       "   Item_MRP  Outlet_Identifier  Outlet_Establishment_Year  Outlet_Size  \\\n",
       "0   42.8112                  1                       1987            0   \n",
       "1   60.4194                  1                       1987            0   \n",
       "2   97.1410                  1                       1987            0   \n",
       "3   37.4506                  2                       2007            3   \n",
       "4  261.4910                  1                       1987            0   \n",
       "\n",
       "   Outlet_Location_Type  Outlet_Type  \n",
       "0                     2            1  \n",
       "1                     2            1  \n",
       "2                     2            1  \n",
       "3                     1            1  \n",
       "4                     2            1  "
      ]
     },
     "execution_count": 37,
     "metadata": {},
     "output_type": "execute_result"
    }
   ],
   "source": [
    "df.head()"
   ]
  },
  {
   "cell_type": "code",
   "execution_count": 49,
   "id": "4064d612-9d5f-46cb-883e-e3cbd971500c",
   "metadata": {},
   "outputs": [
    {
     "data": {
      "text/plain": [
       "((6818, 11), (1705, 11))"
      ]
     },
     "execution_count": 49,
     "metadata": {},
     "output_type": "execute_result"
    }
   ],
   "source": [
    "train = df.iloc[:len(train)].copy()\n",
    "test = df.iloc[len(train):].copy()\n",
    "train.shape, test.shape"
   ]
  },
  {
   "cell_type": "code",
   "execution_count": 51,
   "id": "1d57311f-fa8d-4968-bf6e-06f6173204f9",
   "metadata": {},
   "outputs": [],
   "source": [
    "# 결측치를 최솟값과 최빈값으로 채우기\n",
    "train['Item_Weight'] = train['Item_Weight'].fillna(train['Item_Weight'].min())\n",
    "train['Outlet_Size'] = train['Outlet_Size'].fillna(train['Outlet_Size'].mode()[0])\n",
    "test['Item_Weight'] = test['Item_Weight'].fillna(test['Item_Weight'].min())\n",
    "test['Outlet_Size'] = test['Outlet_Size'].fillna(test['Outlet_Size'].mode()[0])"
   ]
  },
  {
   "cell_type": "code",
   "execution_count": 53,
   "id": "db38100f-8377-4c41-ad66-fa32d8384a33",
   "metadata": {},
   "outputs": [
    {
     "name": "stdout",
     "output_type": "stream",
     "text": [
      "(6818, 11) (1705, 11)\n",
      "(6818, 10) (1705, 10)\n"
     ]
    }
   ],
   "source": [
    "# item_id 삭제하기\n",
    "print(train.shape, test.shape)\n",
    "train.drop('Item_Identifier', axis=1, inplace=True)\n",
    "test.drop('Item_Identifier', axis=1, inplace=True)\n",
    "print(train.shape, test.shape)"
   ]
  },
  {
   "cell_type": "markdown",
   "id": "6ff28e32-2eea-410a-825e-9bd75e00e89b",
   "metadata": {},
   "source": [
    "### 검증 데이터 나누기"
   ]
  },
  {
   "cell_type": "code",
   "execution_count": 61,
   "id": "d31be20b-6dcd-40c1-bd88-2c58ce2702d2",
   "metadata": {},
   "outputs": [
    {
     "data": {
      "text/plain": [
       "((5454, 10), (1364, 10), (5454,), (1364,))"
      ]
     },
     "execution_count": 61,
     "metadata": {},
     "output_type": "execute_result"
    }
   ],
   "source": [
    "# 1. X 데이터에서 타깃 변수 제외\n",
    "# 2. y 데이터는 시리즈 형태로\n",
    "# 3. random_state 고정\n",
    "from sklearn.model_selection import train_test_split\n",
    "X_train, X_val, y_train, y_val = train_test_split(\n",
    "    train,\n",
    "    target,\n",
    "    test_size=0.2,\n",
    "    random_state=0)\n",
    "X_train.shape, X_val.shape, y_train.shape, y_val.shape"
   ]
  },
  {
   "cell_type": "markdown",
   "id": "71ef942a-0ab2-4d58-b306-e89844865c9c",
   "metadata": {},
   "source": [
    "### 머신러닝 학습 평가"
   ]
  },
  {
   "cell_type": "code",
   "execution_count": 63,
   "id": "6d2c3c34-83db-45f7-8753-7ebf3c6ac3c8",
   "metadata": {},
   "outputs": [],
   "source": [
    "from sklearn.metrics import mean_squared_error\n",
    "from sklearn.metrics import mean_absolute_error\n",
    "from sklearn.metrics import r2_score\n",
    "from sklearn.metrics import root_mean_squared_error"
   ]
  },
  {
   "cell_type": "code",
   "execution_count": 65,
   "id": "8bdca70f-18f2-408b-b2de-f213bd51b825",
   "metadata": {},
   "outputs": [
    {
     "name": "stdout",
     "output_type": "stream",
     "text": [
      "MSE: 1282923.0729833895\n",
      "MAE: 865.1968401416271\n",
      "R2: 0.5058168396924843\n",
      "RMSE: 1132.6619411737067\n"
     ]
    }
   ],
   "source": [
    "# 선형 회귀\n",
    "from sklearn.linear_model import LinearRegression\n",
    "lr = LinearRegression()\n",
    "lr.fit(X_train, y_train)\n",
    "y_pred = lr.predict(X_val)\n",
    "\n",
    "result = mean_squared_error(y_val, y_pred)\n",
    "print('MSE:', result)\n",
    "result = mean_absolute_error(y_val, y_pred)\n",
    "print('MAE:', result)\n",
    "result = r2_score(y_val, y_pred)\n",
    "print('R2:', result)\n",
    "result = root_mean_squared_error(y_val, y_pred)\n",
    "print('RMSE:', result)"
   ]
  },
  {
   "cell_type": "code",
   "execution_count": 67,
   "id": "59c18953-163e-442c-9faf-7f3435ad8b55",
   "metadata": {},
   "outputs": [
    {
     "name": "stdout",
     "output_type": "stream",
     "text": [
      "MSE: 1101802.8117346708\n",
      "MAE: 747.2971172067448\n",
      "R2: 0.5755845326933362\n",
      "RMSE: 1049.6679530854844\n"
     ]
    }
   ],
   "source": [
    "# 랜덤포레스트\n",
    "from sklearn.ensemble import RandomForestRegressor\n",
    "rf = RandomForestRegressor(random_state=0)\n",
    "rf.fit(X_train, y_train)\n",
    "y_pred = rf.predict(X_val)\n",
    "\n",
    "result = mean_squared_error(y_val, y_pred)\n",
    "print('MSE:', result)\n",
    "result = mean_absolute_error(y_val, y_pred)\n",
    "print('MAE:', result)\n",
    "result = r2_score(y_val, y_pred)\n",
    "print('R2:', result)\n",
    "result = root_mean_squared_error(y_val, y_pred)\n",
    "print('RMSE:', result)"
   ]
  },
  {
   "cell_type": "code",
   "execution_count": 69,
   "id": "208480a1-6a85-495a-96fc-d1dbbe0a9878",
   "metadata": {},
   "outputs": [
    {
     "name": "stderr",
     "output_type": "stream",
     "text": [
      "\n",
      "[notice] A new release of pip is available: 24.1.1 -> 25.1.1\n",
      "[notice] To update, run: python.exe -m pip install --upgrade pip\n"
     ]
    },
    {
     "name": "stdout",
     "output_type": "stream",
     "text": [
      "Requirement already satisfied: lightgbm in c:\\users\\shs21\\anaconda3\\lib\\site-packages (4.6.0)\n",
      "Requirement already satisfied: numpy>=1.17.0 in c:\\users\\shs21\\anaconda3\\lib\\site-packages (from lightgbm) (1.26.4)\n",
      "Requirement already satisfied: scipy in c:\\users\\shs21\\anaconda3\\lib\\site-packages (from lightgbm) (1.13.1)\n",
      "MSE: 1115654.3482227568\n",
      "MAE: 736.6367966578568\n",
      "R2: 0.5702489079618556\n",
      "RMSE: 1056.2454015155554\n"
     ]
    }
   ],
   "source": [
    "# LightGBM\n",
    "!pip install lightgbm\n",
    "import lightgbm as lgb\n",
    "model = lgb.LGBMRegressor(random_state=0, verbose=-1)\n",
    "model.fit(X_train, y_train)\n",
    "y_pred = model.predict(X_val)\n",
    "\n",
    "result = mean_squared_error(y_val, y_pred)\n",
    "print('MSE:', result)\n",
    "result = mean_absolute_error(y_val, y_pred)\n",
    "print('MAE:', result)\n",
    "result = r2_score(y_val, y_pred)\n",
    "print('R2:', result)\n",
    "result = root_mean_squared_error(y_val, y_pred)\n",
    "print('RMSE:', result)"
   ]
  },
  {
   "cell_type": "markdown",
   "id": "7d0a6b4d-d0e0-4537-a5ce-840038e2420c",
   "metadata": {},
   "source": [
    "### 예측 및 결과 파일 생성"
   ]
  },
  {
   "cell_type": "code",
   "execution_count": 72,
   "id": "65d242ea-e0d4-4769-8f11-3b2b210f3199",
   "metadata": {},
   "outputs": [
    {
     "data": {
      "text/plain": [
       "array([1226.50504175,  830.18920951, 1788.76644309, ..., 3666.34876099,\n",
       "        990.65125496, 1224.1960178 ])"
      ]
     },
     "execution_count": 72,
     "metadata": {},
     "output_type": "execute_result"
    }
   ],
   "source": [
    "pred = model.predict(test)\n",
    "pred"
   ]
  },
  {
   "cell_type": "code",
   "execution_count": 74,
   "id": "645d5e12-2dcf-4d41-bc6a-afc748cca63f",
   "metadata": {},
   "outputs": [],
   "source": [
    "submit = pd.DataFrame({'pred':pred})\n",
    "submit.to_csv(\"result.csv\", index=False)"
   ]
  },
  {
   "cell_type": "code",
   "execution_count": 76,
   "id": "b632c323-0de3-4b78-b06f-4b04f6420aed",
   "metadata": {},
   "outputs": [
    {
     "data": {
      "text/html": [
       "<div>\n",
       "<style scoped>\n",
       "    .dataframe tbody tr th:only-of-type {\n",
       "        vertical-align: middle;\n",
       "    }\n",
       "\n",
       "    .dataframe tbody tr th {\n",
       "        vertical-align: top;\n",
       "    }\n",
       "\n",
       "    .dataframe thead th {\n",
       "        text-align: right;\n",
       "    }\n",
       "</style>\n",
       "<table border=\"1\" class=\"dataframe\">\n",
       "  <thead>\n",
       "    <tr style=\"text-align: right;\">\n",
       "      <th></th>\n",
       "      <th>pred</th>\n",
       "    </tr>\n",
       "  </thead>\n",
       "  <tbody>\n",
       "    <tr>\n",
       "      <th>0</th>\n",
       "      <td>1226.505042</td>\n",
       "    </tr>\n",
       "    <tr>\n",
       "      <th>1</th>\n",
       "      <td>830.189210</td>\n",
       "    </tr>\n",
       "    <tr>\n",
       "      <th>2</th>\n",
       "      <td>1788.766443</td>\n",
       "    </tr>\n",
       "    <tr>\n",
       "      <th>3</th>\n",
       "      <td>1644.510784</td>\n",
       "    </tr>\n",
       "    <tr>\n",
       "      <th>4</th>\n",
       "      <td>2831.798098</td>\n",
       "    </tr>\n",
       "    <tr>\n",
       "      <th>...</th>\n",
       "      <td>...</td>\n",
       "    </tr>\n",
       "    <tr>\n",
       "      <th>1700</th>\n",
       "      <td>285.648607</td>\n",
       "    </tr>\n",
       "    <tr>\n",
       "      <th>1701</th>\n",
       "      <td>481.591492</td>\n",
       "    </tr>\n",
       "    <tr>\n",
       "      <th>1702</th>\n",
       "      <td>3666.348761</td>\n",
       "    </tr>\n",
       "    <tr>\n",
       "      <th>1703</th>\n",
       "      <td>990.651255</td>\n",
       "    </tr>\n",
       "    <tr>\n",
       "      <th>1704</th>\n",
       "      <td>1224.196018</td>\n",
       "    </tr>\n",
       "  </tbody>\n",
       "</table>\n",
       "<p>1705 rows × 1 columns</p>\n",
       "</div>"
      ],
      "text/plain": [
       "             pred\n",
       "0     1226.505042\n",
       "1      830.189210\n",
       "2     1788.766443\n",
       "3     1644.510784\n",
       "4     2831.798098\n",
       "...           ...\n",
       "1700   285.648607\n",
       "1701   481.591492\n",
       "1702  3666.348761\n",
       "1703   990.651255\n",
       "1704  1224.196018\n",
       "\n",
       "[1705 rows x 1 columns]"
      ]
     },
     "execution_count": 76,
     "metadata": {},
     "output_type": "execute_result"
    }
   ],
   "source": [
    "pd.read_csv(\"result.csv\")"
   ]
  }
 ],
 "metadata": {
  "kernelspec": {
   "display_name": "Python 3 (ipykernel)",
   "language": "python",
   "name": "python3"
  },
  "language_info": {
   "codemirror_mode": {
    "name": "ipython",
    "version": 3
   },
   "file_extension": ".py",
   "mimetype": "text/x-python",
   "name": "python",
   "nbconvert_exporter": "python",
   "pygments_lexer": "ipython3",
   "version": "3.12.3"
  }
 },
 "nbformat": 4,
 "nbformat_minor": 5
}
