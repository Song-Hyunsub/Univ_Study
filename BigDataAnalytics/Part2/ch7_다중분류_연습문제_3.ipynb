{
 "cells": [
  {
   "cell_type": "code",
   "execution_count": 1,
   "id": "f83ddc47-e4b4-43be-beac-b029203db344",
   "metadata": {},
   "outputs": [
    {
     "name": "stdout",
     "output_type": "stream",
     "text": [
      "===== 데이터 크기 =====\n",
      "(149, 10) (65, 9)\n",
      "\n",
      "\n",
      "===== train 데이터 샘플 =====\n",
      "        RI     Na    Mg    Al     Si    K    Ca   Ba   Fe  Type\n",
      "0  1.51829  14.46  2.24  1.62  72.38  0.0  9.26  0.0  0.0     6\n",
      "\n",
      "\n",
      "===== test 데이터 샘플 =====\n",
      "        RI     Na    Mg    Al     Si     K    Ca   Ba    Fe\n",
      "0  1.51748  12.86  3.56  1.27  73.21  0.54  8.38  0.0  0.17\n",
      "\n",
      "\n",
      "===== 데이터 정보(자료형) =====\n",
      "<class 'pandas.core.frame.DataFrame'>\n",
      "RangeIndex: 149 entries, 0 to 148\n",
      "Data columns (total 10 columns):\n",
      " #   Column  Non-Null Count  Dtype  \n",
      "---  ------  --------------  -----  \n",
      " 0   RI      149 non-null    float64\n",
      " 1   Na      149 non-null    float64\n",
      " 2   Mg      149 non-null    float64\n",
      " 3   Al      149 non-null    float64\n",
      " 4   Si      149 non-null    float64\n",
      " 5   K       149 non-null    float64\n",
      " 6   Ca      149 non-null    float64\n",
      " 7   Ba      149 non-null    float64\n",
      " 8   Fe      149 non-null    float64\n",
      " 9   Type    149 non-null    int64  \n",
      "dtypes: float64(9), int64(1)\n",
      "memory usage: 11.8 KB\n",
      "None\n",
      "\n",
      "\n",
      "===== train 결측치 수 =====\n",
      "0\n",
      "\n",
      "\n",
      "===== test 결측치 수 =====\n",
      "0\n",
      "\n",
      "\n",
      "===== target 빈도 =====\n",
      "Type\n",
      "2    53\n",
      "1    49\n",
      "7    23\n",
      "3     9\n",
      "5     8\n",
      "6     7\n",
      "Name: count, dtype: int64\n"
     ]
    }
   ],
   "source": [
    "# 1. 문제 정의\n",
    "# 평가: f1-weighted\n",
    "# target: Type\n",
    "# 최종 파일: result.csv(컬럼 1개 pred)\n",
    "\n",
    "# 2. 라이브러리 및 데이터 불러오기\n",
    "import pandas as pd\n",
    "train = pd.read_csv(\"glass_train.csv\")\n",
    "test = pd.read_csv(\"glass_test.csv\")\n",
    "\n",
    "# 3. 탐색적 데이터 분석(EDA)\n",
    "print(\"===== 데이터 크기 =====\")\n",
    "print(train.shape, test.shape)\n",
    "print(\"\\n\")\n",
    "\n",
    "print(\"===== train 데이터 샘플 =====\")\n",
    "print(train.head(1))\n",
    "print(\"\\n\")\n",
    "\n",
    "print(\"===== test 데이터 샘플 =====\")\n",
    "print(test.head(1))\n",
    "print(\"\\n\")\n",
    "\n",
    "print(\"===== 데이터 정보(자료형) =====\")\n",
    "print(train.info())\n",
    "print(\"\\n\")\n",
    "\n",
    "print(\"===== train 결측치 수 =====\")\n",
    "print(train.isnull().sum().sum())\n",
    "print(\"\\n\")\n",
    "\n",
    "print(\"===== test 결측치 수 =====\")\n",
    "print(test.isnull().sum().sum())\n",
    "print(\"\\n\")\n",
    "\n",
    "print(\"===== target 빈도 =====\")\n",
    "print(train['Type'].value_counts())"
   ]
  },
  {
   "cell_type": "code",
   "execution_count": 3,
   "id": "19b4c98f-cb2c-444b-8161-538d6e77047a",
   "metadata": {},
   "outputs": [
    {
     "name": "stdout",
     "output_type": "stream",
     "text": [
      "f1: 0.6119801766860591\n"
     ]
    }
   ],
   "source": [
    "# 4. 데이터 전처리\n",
    "target = train.pop('Type')\n",
    "\n",
    "# 5. 검증 데이터 나누기\n",
    "from sklearn.model_selection import train_test_split\n",
    "X_tr, X_val, y_tr, y_val = train_test_split(train, target, test_size=0.2, random_state=0)\n",
    "\n",
    "# 6. 머신러닝 학습 및 평가\n",
    "from sklearn.ensemble import RandomForestClassifier\n",
    "rf = RandomForestClassifier(random_state=0)\n",
    "rf.fit(X_tr, y_tr)\n",
    "pred = rf.predict(X_val)\n",
    "\n",
    "from sklearn.metrics import f1_score\n",
    "score = f1_score(y_val, pred, average='weighted')\n",
    "print('f1:', score)\n",
    "\n",
    "# 7. 예측 및 결과 파일 생성\n",
    "pred = rf.predict(test)\n",
    "submit = pd.DataFrame({'pred':pred})\n",
    "submit.to_csv(\"result.csv\", index=False)"
   ]
  },
  {
   "cell_type": "code",
   "execution_count": 5,
   "id": "6cb31465-9fd5-47b5-8db5-d9513ef27a52",
   "metadata": {},
   "outputs": [
    {
     "name": "stdout",
     "output_type": "stream",
     "text": [
      "\n",
      " f1: 0.6507936507936507\n"
     ]
    }
   ],
   "source": [
    "# 2. 라이브러리 및 데이터 불러오기\n",
    "import pandas as pd\n",
    "train = pd.read_csv(\"glass_train.csv\")\n",
    "test = pd.read_csv(\"glass_test.csv\")\n",
    "\n",
    "# 4. 데이터 전처리\n",
    "target = train.pop('Type')\n",
    "\n",
    "# 5. 검증 데이터 나누기\n",
    "from sklearn.model_selection import train_test_split\n",
    "X_tr, X_val, y_tr, y_val = train_test_split(train, target, test_size=0.2, random_state=0)\n",
    "\n",
    "# 6. 머신러닝 학습 및 평가\n",
    "from sklearn.ensemble import RandomForestClassifier\n",
    "rf = RandomForestClassifier(max_depth=5, n_estimators=200, random_state=0)\n",
    "rf.fit(X_tr, y_tr)\n",
    "pred = rf.predict(X_val)\n",
    "\n",
    "from sklearn.metrics import f1_score\n",
    "score = f1_score(y_val, pred, average='weighted')\n",
    "print('\\n f1:', score)\n",
    "\n",
    "# 7. 예측 및 결과 파일 생성\n",
    "pred = rf.predict(test)\n",
    "submit = pd.DataFrame({'pred':pred})\n",
    "submit.to_csv(\"result.csv\", index=False)"
   ]
  }
 ],
 "metadata": {
  "kernelspec": {
   "display_name": "Python 3 (ipykernel)",
   "language": "python",
   "name": "python3"
  },
  "language_info": {
   "codemirror_mode": {
    "name": "ipython",
    "version": 3
   },
   "file_extension": ".py",
   "mimetype": "text/x-python",
   "name": "python",
   "nbconvert_exporter": "python",
   "pygments_lexer": "ipython3",
   "version": "3.12.3"
  }
 },
 "nbformat": 4,
 "nbformat_minor": 5
}
