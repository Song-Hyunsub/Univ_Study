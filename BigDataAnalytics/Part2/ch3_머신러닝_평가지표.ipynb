{
 "cells": [
  {
   "cell_type": "markdown",
   "id": "e9199088-1f0f-49e3-8563-2cb14ff8e4e7",
   "metadata": {},
   "source": [
    "### 이진 분류 평가지표"
   ]
  },
  {
   "cell_type": "code",
   "execution_count": 2,
   "id": "be82c514-1ea7-46ce-bb12-1a2997a370df",
   "metadata": {},
   "outputs": [],
   "source": [
    "# 이진 분류 데이터\n",
    "import pandas as pd\n",
    "y_true = pd.DataFrame([1, 1, 1, 0, 0, 1, 1, 1, 1, 0]) # 실제 값\n",
    "y_pred = pd.DataFrame([1, 0, 1, 1, 0, 0, 0, 1, 1, 0]) # 예측 값\n",
    "\n",
    "y_true_str = pd.DataFrame(['A', 'A', 'A', 'B', 'B', 'A', 'A', 'A', 'A', 'B']) # 실제 값\n",
    "y_pred_str = pd.DataFrame(['A', 'B', 'A', 'A', 'B', 'B', 'B', 'A', 'A', 'B']) # 예측 값"
   ]
  },
  {
   "cell_type": "code",
   "execution_count": 4,
   "id": "49ff0884-1fca-4945-ab7f-990237b99a5a",
   "metadata": {},
   "outputs": [
    {
     "name": "stdout",
     "output_type": "stream",
     "text": [
      "정확도: 0.6\n",
      "정확도: 0.6\n"
     ]
    }
   ],
   "source": [
    "# 정확도\n",
    "from sklearn.metrics import accuracy_score\n",
    "accuracy = accuracy_score(y_true, y_pred)\n",
    "print(\"정확도:\", accuracy)\n",
    "\n",
    "accuracy = accuracy_score(y_true_str, y_pred_str)\n",
    "print(\"정확도:\", accuracy)"
   ]
  },
  {
   "cell_type": "code",
   "execution_count": 6,
   "id": "e813d3e2-7c26-468f-b631-917acf94d4d3",
   "metadata": {},
   "outputs": [
    {
     "name": "stdout",
     "output_type": "stream",
     "text": [
      "정밀도: 0.8\n",
      "정밀도: 0.8\n"
     ]
    }
   ],
   "source": [
    "# 정밀도\n",
    "from sklearn.metrics import precision_score\n",
    "precision = precision_score(y_true, y_pred)\n",
    "print(\"정밀도:\", precision)\n",
    "\n",
    "precision = precision_score(y_true_str, y_pred_str, pos_label='A')\n",
    "print(\"정밀도:\", precision)"
   ]
  },
  {
   "cell_type": "code",
   "execution_count": 8,
   "id": "0a09903f-5752-48ee-99df-fb8ac03ac6d8",
   "metadata": {},
   "outputs": [
    {
     "name": "stdout",
     "output_type": "stream",
     "text": [
      "재현율: 0.5714285714285714\n",
      "재현율: 0.5714285714285714\n"
     ]
    }
   ],
   "source": [
    "# 재현율\n",
    "from sklearn.metrics import recall_score\n",
    "recall = recall_score(y_true, y_pred)\n",
    "print(\"재현율:\", recall)\n",
    "\n",
    "recall = recall_score(y_true_str, y_pred_str, pos_label='A')\n",
    "print(\"재현율:\", recall)"
   ]
  },
  {
   "cell_type": "code",
   "execution_count": 10,
   "id": "40a1d7ae-a833-4e6a-9603-da865173584f",
   "metadata": {},
   "outputs": [
    {
     "name": "stdout",
     "output_type": "stream",
     "text": [
      "F1 스코어: 0.6666666666666666\n",
      "F1 스코어: 0.6666666666666666\n"
     ]
    }
   ],
   "source": [
    "# f1 스코어\n",
    "from sklearn.metrics import f1_score\n",
    "f1 = f1_score(y_true, y_pred)\n",
    "print(\"F1 스코어:\", f1)\n",
    "\n",
    "f1 = f1_score(y_true_str, y_pred_str, pos_label='A')\n",
    "print(\"F1 스코어:\", f1)"
   ]
  },
  {
   "cell_type": "code",
   "execution_count": 12,
   "id": "66279de5-cc01-4ffc-8095-d6b1e7eea57d",
   "metadata": {},
   "outputs": [
    {
     "name": "stdout",
     "output_type": "stream",
     "text": [
      "ROC-AUC: 0.86\n"
     ]
    }
   ],
   "source": [
    "# ROC-AUC\n",
    "from sklearn.metrics import roc_auc_score\n",
    "# 실제 값(0: 음성, 1: 양성)\n",
    "y_true = pd.DataFrame([0, 1, 0, 1, 1, 0, 0, 0, 1, 1])\n",
    "# 예측값 중 양성(1) 확률\n",
    "y_pred_proba = pd.DataFrame([0.4, 0.9, 0.1, 0.3, 0.8, 0.6, 0.4, 0.2, 0.7, 0.6])\n",
    "\n",
    "roc_auc = roc_auc_score(y_true, y_pred_proba)\n",
    "print(\"ROC-AUC:\", roc_auc)"
   ]
  },
  {
   "cell_type": "code",
   "execution_count": 16,
   "id": "e2531e15-9300-49f0-8079-02aae4c2da6e",
   "metadata": {},
   "outputs": [
    {
     "name": "stdout",
     "output_type": "stream",
     "text": [
      "ROC-AUC: 0.86\n"
     ]
    }
   ],
   "source": [
    "# 실제 값\n",
    "y_true_str = pd.DataFrame(['A', 'B', 'A', 'B', 'B', 'A', 'A', 'A', 'B', 'B'])\n",
    "\n",
    "# 예측값 중 B 확률\n",
    "y_pred_proba_str = pd.DataFrame([0.4, 0.9, 0.1, 0.3, 0.8, 0.6, 0.4, 0.2, 0.7, 0.6])\n",
    "roc_auc = roc_auc_score(y_true, y_pred_proba_str)\n",
    "\n",
    "print(\"ROC-AUC:\", roc_auc)"
   ]
  },
  {
   "cell_type": "markdown",
   "id": "a2be25bf-0fb3-4353-a461-8478015203a5",
   "metadata": {},
   "source": [
    "### 다중 분류 평가지표"
   ]
  },
  {
   "cell_type": "code",
   "execution_count": 19,
   "id": "53a8eb16-bc12-4b64-9adc-de05edfc2523",
   "metadata": {},
   "outputs": [],
   "source": [
    "# 다중 분류 데이터\n",
    "y_true = pd.DataFrame([1, 2, 3, 3, 2, 1, 3, 3, 2, 1]) # 실제 값\n",
    "y_pred = pd.DataFrame([1, 2, 1, 3, 2, 1, 1, 2, 2, 1]) # 예측 값\n",
    "\n",
    "y_true_str = pd.DataFrame(['A', 'B', 'C', 'C', 'B', 'A', 'C', 'C', 'B', 'A']) # 실제 값\n",
    "y_pred_str = pd.DataFrame(['A', 'B', 'A', 'C', 'B', 'A', 'A', 'B', 'B', 'A']) # 예측 값"
   ]
  },
  {
   "cell_type": "code",
   "execution_count": 21,
   "id": "915f8b71-ef4d-413d-8518-66b71ea4e99c",
   "metadata": {},
   "outputs": [
    {
     "name": "stdout",
     "output_type": "stream",
     "text": [
      "정확도: 0.7\n",
      "정확도: 0.7\n"
     ]
    }
   ],
   "source": [
    "# 정확도\n",
    "from sklearn.metrics import accuracy_score\n",
    "accuracy = accuracy_score(y_true, y_pred)\n",
    "print(\"정확도:\", accuracy)\n",
    "\n",
    "accuracy = accuracy_score(y_true_str, y_pred_str)\n",
    "print(\"정확도:\", accuracy)"
   ]
  },
  {
   "cell_type": "code",
   "execution_count": 25,
   "id": "0a155bc8-03b5-4d9e-8d5b-35835c0d2de8",
   "metadata": {},
   "outputs": [
    {
     "name": "stdout",
     "output_type": "stream",
     "text": [
      "정밀도: 0.7833333333333333\n",
      "정밀도: 0.7833333333333333\n"
     ]
    }
   ],
   "source": [
    "# 정밀도\n",
    "from sklearn.metrics import precision_score\n",
    "precision = precision_score(y_true, y_pred, average='macro') # average = micro, macro, weighted\n",
    "print(\"정밀도:\", precision)\n",
    "\n",
    "precision = precision_score(y_true_str, y_pred_str, average='macro')\n",
    "print(\"정밀도:\", precision)"
   ]
  },
  {
   "cell_type": "code",
   "execution_count": 27,
   "id": "6436a2fd-2a76-42d0-b3fb-97fd5a78c178",
   "metadata": {},
   "outputs": [
    {
     "name": "stdout",
     "output_type": "stream",
     "text": [
      "재현율: 0.75\n",
      "재현율: 0.75\n"
     ]
    }
   ],
   "source": [
    "# 재현율\n",
    "from sklearn.metrics import recall_score\n",
    "recall = recall_score(y_true, y_pred, average='macro')\n",
    "print(\"재현율:\", recall)\n",
    "\n",
    "recall = recall_score(y_true_str, y_pred_str, average='macro')\n",
    "print(\"재현율:\", recall)"
   ]
  },
  {
   "cell_type": "code",
   "execution_count": 29,
   "id": "f69b485d-c733-4f54-9e8d-574b3d362925",
   "metadata": {},
   "outputs": [
    {
     "name": "stdout",
     "output_type": "stream",
     "text": [
      "F1 스코어: 0.669047619047619\n",
      "F1 스코어: 0.669047619047619\n"
     ]
    }
   ],
   "source": [
    "# f1 스코어\n",
    "from sklearn.metrics import f1_score\n",
    "f1 = f1_score(y_true, y_pred, average='macro')\n",
    "print(\"F1 스코어:\", f1)\n",
    "\n",
    "f1 = f1_score(y_true_str, y_pred_str, average='macro')\n",
    "print(\"F1 스코어:\", f1)"
   ]
  },
  {
   "cell_type": "markdown",
   "id": "55e0b67c-20ea-4433-89f1-d8f7db802619",
   "metadata": {},
   "source": [
    "### 회귀 평가지표"
   ]
  },
  {
   "cell_type": "code",
   "execution_count": 32,
   "id": "68ba7c3d-b8f9-4fc2-a0b0-df7ec84194ce",
   "metadata": {},
   "outputs": [],
   "source": [
    "import pandas as pd\n",
    "y_true = pd.DataFrame([1, 2, 5, 2, 4, 4, 7, 9])  # 실제 값\n",
    "y_pred = pd.DataFrame([1.14, 2.53, 4.87, 3.08, 4.21, 5.53, 7.51, 10.32]) # 예측 값"
   ]
  },
  {
   "cell_type": "code",
   "execution_count": 34,
   "id": "612edfc3-f5de-4288-a2bb-93be71e36d6c",
   "metadata": {},
   "outputs": [
    {
     "name": "stdout",
     "output_type": "stream",
     "text": [
      "MSE: 0.7339125000000001\n"
     ]
    }
   ],
   "source": [
    "# MSE\n",
    "from sklearn.metrics import mean_squared_error\n",
    "mse = mean_squared_error(y_true, y_pred)\n",
    "print(\"MSE:\", mse)"
   ]
  },
  {
   "cell_type": "code",
   "execution_count": 36,
   "id": "00d37907-907e-45e2-894a-e4df48fc18c9",
   "metadata": {},
   "outputs": [
    {
     "name": "stdout",
     "output_type": "stream",
     "text": [
      "MAE: 0.68125\n"
     ]
    }
   ],
   "source": [
    "# MAE\n",
    "from sklearn.metrics import mean_absolute_error\n",
    "mae = mean_absolute_error(y_true, y_pred)\n",
    "print(\"MAE:\", mae)"
   ]
  },
  {
   "cell_type": "code",
   "execution_count": 38,
   "id": "9eb998e2-6ee0-490f-aa16-b80c4673b25f",
   "metadata": {},
   "outputs": [
    {
     "name": "stdout",
     "output_type": "stream",
     "text": [
      "결정 계수 0.8859941747572815\n"
     ]
    }
   ],
   "source": [
    "# 결정 계수\n",
    "from sklearn.metrics import r2_score\n",
    "r2 = r2_score(y_true, y_pred)\n",
    "print(\"결정 계수\", r2)"
   ]
  },
  {
   "cell_type": "code",
   "execution_count": 40,
   "id": "a5305227-b194-411d-9d72-712fb757af16",
   "metadata": {},
   "outputs": [
    {
     "name": "stdout",
     "output_type": "stream",
     "text": [
      "RMSE: 0.8566869323154171\n"
     ]
    }
   ],
   "source": [
    "# RMSE\n",
    "from sklearn.metrics import root_mean_squared_error\n",
    "rmse = root_mean_squared_error(y_true, y_pred)\n",
    "print(\"RMSE:\", rmse)"
   ]
  },
  {
   "cell_type": "code",
   "execution_count": 46,
   "id": "88a2f40f-12ad-430a-b94f-768c135f7515",
   "metadata": {},
   "outputs": [
    {
     "name": "stdout",
     "output_type": "stream",
     "text": [
      "MSLE: 0.027278486182156947\n"
     ]
    }
   ],
   "source": [
    "# MSLE\n",
    "from sklearn.metrics import mean_squared_log_error\n",
    "msle = mean_squared_log_error(y_true, y_pred)\n",
    "print(\"MSLE:\", msle)"
   ]
  },
  {
   "cell_type": "code",
   "execution_count": 48,
   "id": "6877549a-8c63-47af-bca5-6c6e9009c8db",
   "metadata": {},
   "outputs": [
    {
     "name": "stdout",
     "output_type": "stream",
     "text": [
      "RMSLE: 0.16516199981278062\n"
     ]
    }
   ],
   "source": [
    "# RMSLE\n",
    "from sklearn.metrics import root_mean_squared_log_error\n",
    "rmsle = root_mean_squared_log_error(y_true, y_pred)\n",
    "print(\"RMSLE:\", rmsle)"
   ]
  },
  {
   "cell_type": "code",
   "execution_count": 50,
   "id": "fbedbed9-d4fc-480c-8322-0cc76969a235",
   "metadata": {},
   "outputs": [
    {
     "name": "stdout",
     "output_type": "stream",
     "text": [
      "MAPE: 0    20.319048\n",
      "dtype: float64\n"
     ]
    }
   ],
   "source": [
    "# MAPE\n",
    "mape = (abs((y_true - y_pred)/y_true)).mean() * 100\n",
    "print(\"MAPE:\", mape)"
   ]
  }
 ],
 "metadata": {
  "kernelspec": {
   "display_name": "Python 3 (ipykernel)",
   "language": "python",
   "name": "python3"
  },
  "language_info": {
   "codemirror_mode": {
    "name": "ipython",
    "version": 3
   },
   "file_extension": ".py",
   "mimetype": "text/x-python",
   "name": "python",
   "nbconvert_exporter": "python",
   "pygments_lexer": "ipython3",
   "version": "3.12.3"
  }
 },
 "nbformat": 4,
 "nbformat_minor": 5
}
