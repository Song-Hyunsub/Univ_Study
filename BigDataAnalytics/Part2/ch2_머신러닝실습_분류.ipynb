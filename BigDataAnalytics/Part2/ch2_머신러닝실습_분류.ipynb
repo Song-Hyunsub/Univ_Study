{
 "cells": [
  {
   "cell_type": "code",
   "execution_count": 153,
   "id": "02f70a6d-45bb-465c-8210-906d2d3d448e",
   "metadata": {},
   "outputs": [],
   "source": [
    "# 판다스 라이브러리\n",
    "import pandas as pd\n",
    "\n",
    "# 데이터 불러오기\n",
    "train = pd.read_csv('train.csv')\n",
    "test = pd.read_csv('test.csv')"
   ]
  },
  {
   "cell_type": "code",
   "execution_count": 155,
   "id": "00bdf247-98ea-4960-87b8-464d9365283d",
   "metadata": {},
   "outputs": [
    {
     "data": {
      "text/html": [
       "<div>\n",
       "<style scoped>\n",
       "    .dataframe tbody tr th:only-of-type {\n",
       "        vertical-align: middle;\n",
       "    }\n",
       "\n",
       "    .dataframe tbody tr th {\n",
       "        vertical-align: top;\n",
       "    }\n",
       "\n",
       "    .dataframe thead th {\n",
       "        text-align: right;\n",
       "    }\n",
       "</style>\n",
       "<table border=\"1\" class=\"dataframe\">\n",
       "  <thead>\n",
       "    <tr style=\"text-align: right;\">\n",
       "      <th></th>\n",
       "      <th>id</th>\n",
       "      <th>age</th>\n",
       "      <th>workclass</th>\n",
       "      <th>fnlwgt</th>\n",
       "      <th>education</th>\n",
       "      <th>education.num</th>\n",
       "      <th>marital.status</th>\n",
       "      <th>occupation</th>\n",
       "      <th>relationship</th>\n",
       "      <th>race</th>\n",
       "      <th>sex</th>\n",
       "      <th>capital.gain</th>\n",
       "      <th>capital.loss</th>\n",
       "      <th>hours.per.week</th>\n",
       "      <th>native.country</th>\n",
       "      <th>income</th>\n",
       "    </tr>\n",
       "  </thead>\n",
       "  <tbody>\n",
       "    <tr>\n",
       "      <th>0</th>\n",
       "      <td>3331</td>\n",
       "      <td>34.0</td>\n",
       "      <td>State-gov</td>\n",
       "      <td>177331</td>\n",
       "      <td>Some-college</td>\n",
       "      <td>10</td>\n",
       "      <td>Married-civ-spouse</td>\n",
       "      <td>Prof-specialty</td>\n",
       "      <td>Husband</td>\n",
       "      <td>Black</td>\n",
       "      <td>Male</td>\n",
       "      <td>4386</td>\n",
       "      <td>0</td>\n",
       "      <td>40.0</td>\n",
       "      <td>United-States</td>\n",
       "      <td>&gt;50K</td>\n",
       "    </tr>\n",
       "    <tr>\n",
       "      <th>1</th>\n",
       "      <td>19749</td>\n",
       "      <td>58.0</td>\n",
       "      <td>Private</td>\n",
       "      <td>290661</td>\n",
       "      <td>HS-grad</td>\n",
       "      <td>9</td>\n",
       "      <td>Married-civ-spouse</td>\n",
       "      <td>Craft-repair</td>\n",
       "      <td>Husband</td>\n",
       "      <td>White</td>\n",
       "      <td>Male</td>\n",
       "      <td>0</td>\n",
       "      <td>0</td>\n",
       "      <td>40.0</td>\n",
       "      <td>United-States</td>\n",
       "      <td>&lt;=50K</td>\n",
       "    </tr>\n",
       "    <tr>\n",
       "      <th>2</th>\n",
       "      <td>1157</td>\n",
       "      <td>48.0</td>\n",
       "      <td>Private</td>\n",
       "      <td>125933</td>\n",
       "      <td>Some-college</td>\n",
       "      <td>10</td>\n",
       "      <td>Widowed</td>\n",
       "      <td>Exec-managerial</td>\n",
       "      <td>Unmarried</td>\n",
       "      <td>Black</td>\n",
       "      <td>Female</td>\n",
       "      <td>0</td>\n",
       "      <td>1669</td>\n",
       "      <td>38.0</td>\n",
       "      <td>United-States</td>\n",
       "      <td>&lt;=50K</td>\n",
       "    </tr>\n",
       "  </tbody>\n",
       "</table>\n",
       "</div>"
      ],
      "text/plain": [
       "      id   age  workclass  fnlwgt     education  education.num  \\\n",
       "0   3331  34.0  State-gov  177331  Some-college             10   \n",
       "1  19749  58.0    Private  290661       HS-grad              9   \n",
       "2   1157  48.0    Private  125933  Some-college             10   \n",
       "\n",
       "       marital.status       occupation relationship   race     sex  \\\n",
       "0  Married-civ-spouse   Prof-specialty      Husband  Black    Male   \n",
       "1  Married-civ-spouse     Craft-repair      Husband  White    Male   \n",
       "2             Widowed  Exec-managerial    Unmarried  Black  Female   \n",
       "\n",
       "   capital.gain  capital.loss  hours.per.week native.country income  \n",
       "0          4386             0            40.0  United-States   >50K  \n",
       "1             0             0            40.0  United-States  <=50K  \n",
       "2             0          1669            38.0  United-States  <=50K  "
      ]
     },
     "execution_count": 155,
     "metadata": {},
     "output_type": "execute_result"
    }
   ],
   "source": [
    "train.head(3)"
   ]
  },
  {
   "cell_type": "code",
   "execution_count": 157,
   "id": "4e9196b1-c9a6-4f21-9188-5fbad43373e8",
   "metadata": {},
   "outputs": [
    {
     "data": {
      "text/plain": [
       "((29304, 16), (3257, 15))"
      ]
     },
     "execution_count": 157,
     "metadata": {},
     "output_type": "execute_result"
    }
   ],
   "source": [
    "train.shape, test.shape"
   ]
  },
  {
   "cell_type": "code",
   "execution_count": 159,
   "id": "75d54138-798a-45b3-807f-e0cdae301125",
   "metadata": {},
   "outputs": [
    {
     "name": "stdout",
     "output_type": "stream",
     "text": [
      "<class 'pandas.core.frame.DataFrame'>\n",
      "RangeIndex: 29304 entries, 0 to 29303\n",
      "Data columns (total 16 columns):\n",
      " #   Column          Non-Null Count  Dtype  \n",
      "---  ------          --------------  -----  \n",
      " 0   id              29304 non-null  int64  \n",
      " 1   age             29292 non-null  float64\n",
      " 2   workclass       27642 non-null  object \n",
      " 3   fnlwgt          29304 non-null  int64  \n",
      " 4   education       29304 non-null  object \n",
      " 5   education.num   29304 non-null  int64  \n",
      " 6   marital.status  29304 non-null  object \n",
      " 7   occupation      27636 non-null  object \n",
      " 8   relationship    29304 non-null  object \n",
      " 9   race            29304 non-null  object \n",
      " 10  sex             29304 non-null  object \n",
      " 11  capital.gain    29304 non-null  int64  \n",
      " 12  capital.loss    29304 non-null  int64  \n",
      " 13  hours.per.week  29291 non-null  float64\n",
      " 14  native.country  28767 non-null  object \n",
      " 15  income          29304 non-null  object \n",
      "dtypes: float64(2), int64(5), object(9)\n",
      "memory usage: 3.6+ MB\n"
     ]
    }
   ],
   "source": [
    "train.info()"
   ]
  },
  {
   "cell_type": "code",
   "execution_count": 161,
   "id": "2c4ff688-4f5e-43c0-9973-70910b98d6ad",
   "metadata": {},
   "outputs": [
    {
     "data": {
      "text/html": [
       "<div>\n",
       "<style scoped>\n",
       "    .dataframe tbody tr th:only-of-type {\n",
       "        vertical-align: middle;\n",
       "    }\n",
       "\n",
       "    .dataframe tbody tr th {\n",
       "        vertical-align: top;\n",
       "    }\n",
       "\n",
       "    .dataframe thead th {\n",
       "        text-align: right;\n",
       "    }\n",
       "</style>\n",
       "<table border=\"1\" class=\"dataframe\">\n",
       "  <thead>\n",
       "    <tr style=\"text-align: right;\">\n",
       "      <th></th>\n",
       "      <th>id</th>\n",
       "      <th>age</th>\n",
       "      <th>fnlwgt</th>\n",
       "      <th>education.num</th>\n",
       "      <th>capital.gain</th>\n",
       "      <th>capital.loss</th>\n",
       "      <th>hours.per.week</th>\n",
       "    </tr>\n",
       "  </thead>\n",
       "  <tbody>\n",
       "    <tr>\n",
       "      <th>count</th>\n",
       "      <td>29304.000000</td>\n",
       "      <td>29292.000000</td>\n",
       "      <td>2.930400e+04</td>\n",
       "      <td>29304.000000</td>\n",
       "      <td>29304.000000</td>\n",
       "      <td>29304.000000</td>\n",
       "      <td>29291.000000</td>\n",
       "    </tr>\n",
       "    <tr>\n",
       "      <th>mean</th>\n",
       "      <td>16264.027880</td>\n",
       "      <td>38.553223</td>\n",
       "      <td>1.897488e+05</td>\n",
       "      <td>10.080842</td>\n",
       "      <td>1093.858722</td>\n",
       "      <td>86.744506</td>\n",
       "      <td>40.434229</td>\n",
       "    </tr>\n",
       "    <tr>\n",
       "      <th>std</th>\n",
       "      <td>9384.518323</td>\n",
       "      <td>13.628811</td>\n",
       "      <td>1.055250e+05</td>\n",
       "      <td>2.570824</td>\n",
       "      <td>7477.435640</td>\n",
       "      <td>401.518928</td>\n",
       "      <td>12.324036</td>\n",
       "    </tr>\n",
       "    <tr>\n",
       "      <th>min</th>\n",
       "      <td>0.000000</td>\n",
       "      <td>-38.000000</td>\n",
       "      <td>1.228500e+04</td>\n",
       "      <td>1.000000</td>\n",
       "      <td>0.000000</td>\n",
       "      <td>0.000000</td>\n",
       "      <td>1.000000</td>\n",
       "    </tr>\n",
       "    <tr>\n",
       "      <th>25%</th>\n",
       "      <td>8145.750000</td>\n",
       "      <td>28.000000</td>\n",
       "      <td>1.177890e+05</td>\n",
       "      <td>9.000000</td>\n",
       "      <td>0.000000</td>\n",
       "      <td>0.000000</td>\n",
       "      <td>40.000000</td>\n",
       "    </tr>\n",
       "    <tr>\n",
       "      <th>50%</th>\n",
       "      <td>16253.500000</td>\n",
       "      <td>37.000000</td>\n",
       "      <td>1.783765e+05</td>\n",
       "      <td>10.000000</td>\n",
       "      <td>0.000000</td>\n",
       "      <td>0.000000</td>\n",
       "      <td>40.000000</td>\n",
       "    </tr>\n",
       "    <tr>\n",
       "      <th>75%</th>\n",
       "      <td>24374.250000</td>\n",
       "      <td>48.000000</td>\n",
       "      <td>2.370682e+05</td>\n",
       "      <td>12.000000</td>\n",
       "      <td>0.000000</td>\n",
       "      <td>0.000000</td>\n",
       "      <td>45.000000</td>\n",
       "    </tr>\n",
       "    <tr>\n",
       "      <th>max</th>\n",
       "      <td>32560.000000</td>\n",
       "      <td>90.000000</td>\n",
       "      <td>1.484705e+06</td>\n",
       "      <td>16.000000</td>\n",
       "      <td>99999.000000</td>\n",
       "      <td>4356.000000</td>\n",
       "      <td>99.000000</td>\n",
       "    </tr>\n",
       "  </tbody>\n",
       "</table>\n",
       "</div>"
      ],
      "text/plain": [
       "                 id           age        fnlwgt  education.num  capital.gain  \\\n",
       "count  29304.000000  29292.000000  2.930400e+04   29304.000000  29304.000000   \n",
       "mean   16264.027880     38.553223  1.897488e+05      10.080842   1093.858722   \n",
       "std     9384.518323     13.628811  1.055250e+05       2.570824   7477.435640   \n",
       "min        0.000000    -38.000000  1.228500e+04       1.000000      0.000000   \n",
       "25%     8145.750000     28.000000  1.177890e+05       9.000000      0.000000   \n",
       "50%    16253.500000     37.000000  1.783765e+05      10.000000      0.000000   \n",
       "75%    24374.250000     48.000000  2.370682e+05      12.000000      0.000000   \n",
       "max    32560.000000     90.000000  1.484705e+06      16.000000  99999.000000   \n",
       "\n",
       "       capital.loss  hours.per.week  \n",
       "count  29304.000000    29291.000000  \n",
       "mean      86.744506       40.434229  \n",
       "std      401.518928       12.324036  \n",
       "min        0.000000        1.000000  \n",
       "25%        0.000000       40.000000  \n",
       "50%        0.000000       40.000000  \n",
       "75%        0.000000       45.000000  \n",
       "max     4356.000000       99.000000  "
      ]
     },
     "execution_count": 161,
     "metadata": {},
     "output_type": "execute_result"
    }
   ],
   "source": [
    "train.describe()"
   ]
  },
  {
   "cell_type": "code",
   "execution_count": 163,
   "id": "a53efe0b-7909-4c66-8735-40be7fa8e4d1",
   "metadata": {},
   "outputs": [
    {
     "data": {
      "text/html": [
       "<div>\n",
       "<style scoped>\n",
       "    .dataframe tbody tr th:only-of-type {\n",
       "        vertical-align: middle;\n",
       "    }\n",
       "\n",
       "    .dataframe tbody tr th {\n",
       "        vertical-align: top;\n",
       "    }\n",
       "\n",
       "    .dataframe thead th {\n",
       "        text-align: right;\n",
       "    }\n",
       "</style>\n",
       "<table border=\"1\" class=\"dataframe\">\n",
       "  <thead>\n",
       "    <tr style=\"text-align: right;\">\n",
       "      <th></th>\n",
       "      <th>id</th>\n",
       "      <th>age</th>\n",
       "      <th>fnlwgt</th>\n",
       "      <th>education.num</th>\n",
       "      <th>capital.gain</th>\n",
       "      <th>capital.loss</th>\n",
       "      <th>hours.per.week</th>\n",
       "    </tr>\n",
       "  </thead>\n",
       "  <tbody>\n",
       "    <tr>\n",
       "      <th>count</th>\n",
       "      <td>3257.000000</td>\n",
       "      <td>3251.000000</td>\n",
       "      <td>3.257000e+03</td>\n",
       "      <td>3257.000000</td>\n",
       "      <td>3257.000000</td>\n",
       "      <td>3257.000000</td>\n",
       "      <td>3248.000000</td>\n",
       "    </tr>\n",
       "    <tr>\n",
       "      <th>mean</th>\n",
       "      <td>16423.704943</td>\n",
       "      <td>38.802830</td>\n",
       "      <td>1.900447e+05</td>\n",
       "      <td>10.079214</td>\n",
       "      <td>931.804728</td>\n",
       "      <td>92.336199</td>\n",
       "      <td>40.468288</td>\n",
       "    </tr>\n",
       "    <tr>\n",
       "      <th>std</th>\n",
       "      <td>9535.416746</td>\n",
       "      <td>13.917588</td>\n",
       "      <td>1.057902e+05</td>\n",
       "      <td>2.590118</td>\n",
       "      <td>6496.962999</td>\n",
       "      <td>415.732721</td>\n",
       "      <td>12.598546</td>\n",
       "    </tr>\n",
       "    <tr>\n",
       "      <th>min</th>\n",
       "      <td>3.000000</td>\n",
       "      <td>17.000000</td>\n",
       "      <td>1.882700e+04</td>\n",
       "      <td>1.000000</td>\n",
       "      <td>0.000000</td>\n",
       "      <td>0.000000</td>\n",
       "      <td>1.000000</td>\n",
       "    </tr>\n",
       "    <tr>\n",
       "      <th>25%</th>\n",
       "      <td>8078.000000</td>\n",
       "      <td>28.000000</td>\n",
       "      <td>1.186520e+05</td>\n",
       "      <td>9.000000</td>\n",
       "      <td>0.000000</td>\n",
       "      <td>0.000000</td>\n",
       "      <td>40.000000</td>\n",
       "    </tr>\n",
       "    <tr>\n",
       "      <th>50%</th>\n",
       "      <td>16626.000000</td>\n",
       "      <td>37.000000</td>\n",
       "      <td>1.783190e+05</td>\n",
       "      <td>10.000000</td>\n",
       "      <td>0.000000</td>\n",
       "      <td>0.000000</td>\n",
       "      <td>40.000000</td>\n",
       "    </tr>\n",
       "    <tr>\n",
       "      <th>75%</th>\n",
       "      <td>24743.000000</td>\n",
       "      <td>48.000000</td>\n",
       "      <td>2.364360e+05</td>\n",
       "      <td>12.000000</td>\n",
       "      <td>0.000000</td>\n",
       "      <td>0.000000</td>\n",
       "      <td>45.000000</td>\n",
       "    </tr>\n",
       "    <tr>\n",
       "      <th>max</th>\n",
       "      <td>32559.000000</td>\n",
       "      <td>90.000000</td>\n",
       "      <td>1.033222e+06</td>\n",
       "      <td>16.000000</td>\n",
       "      <td>99999.000000</td>\n",
       "      <td>3900.000000</td>\n",
       "      <td>99.000000</td>\n",
       "    </tr>\n",
       "  </tbody>\n",
       "</table>\n",
       "</div>"
      ],
      "text/plain": [
       "                 id          age        fnlwgt  education.num  capital.gain  \\\n",
       "count   3257.000000  3251.000000  3.257000e+03    3257.000000   3257.000000   \n",
       "mean   16423.704943    38.802830  1.900447e+05      10.079214    931.804728   \n",
       "std     9535.416746    13.917588  1.057902e+05       2.590118   6496.962999   \n",
       "min        3.000000    17.000000  1.882700e+04       1.000000      0.000000   \n",
       "25%     8078.000000    28.000000  1.186520e+05       9.000000      0.000000   \n",
       "50%    16626.000000    37.000000  1.783190e+05      10.000000      0.000000   \n",
       "75%    24743.000000    48.000000  2.364360e+05      12.000000      0.000000   \n",
       "max    32559.000000    90.000000  1.033222e+06      16.000000  99999.000000   \n",
       "\n",
       "       capital.loss  hours.per.week  \n",
       "count   3257.000000     3248.000000  \n",
       "mean      92.336199       40.468288  \n",
       "std      415.732721       12.598546  \n",
       "min        0.000000        1.000000  \n",
       "25%        0.000000       40.000000  \n",
       "50%        0.000000       40.000000  \n",
       "75%        0.000000       45.000000  \n",
       "max     3900.000000       99.000000  "
      ]
     },
     "execution_count": 163,
     "metadata": {},
     "output_type": "execute_result"
    }
   ],
   "source": [
    "test.describe()"
   ]
  },
  {
   "cell_type": "code",
   "execution_count": 165,
   "id": "aa764292-1020-4d42-ad4b-7dfa7b9d0b25",
   "metadata": {},
   "outputs": [
    {
     "data": {
      "text/html": [
       "<div>\n",
       "<style scoped>\n",
       "    .dataframe tbody tr th:only-of-type {\n",
       "        vertical-align: middle;\n",
       "    }\n",
       "\n",
       "    .dataframe tbody tr th {\n",
       "        vertical-align: top;\n",
       "    }\n",
       "\n",
       "    .dataframe thead th {\n",
       "        text-align: right;\n",
       "    }\n",
       "</style>\n",
       "<table border=\"1\" class=\"dataframe\">\n",
       "  <thead>\n",
       "    <tr style=\"text-align: right;\">\n",
       "      <th></th>\n",
       "      <th>workclass</th>\n",
       "      <th>education</th>\n",
       "      <th>marital.status</th>\n",
       "      <th>occupation</th>\n",
       "      <th>relationship</th>\n",
       "      <th>race</th>\n",
       "      <th>sex</th>\n",
       "      <th>native.country</th>\n",
       "      <th>income</th>\n",
       "    </tr>\n",
       "  </thead>\n",
       "  <tbody>\n",
       "    <tr>\n",
       "      <th>count</th>\n",
       "      <td>27642</td>\n",
       "      <td>29304</td>\n",
       "      <td>29304</td>\n",
       "      <td>27636</td>\n",
       "      <td>29304</td>\n",
       "      <td>29304</td>\n",
       "      <td>29304</td>\n",
       "      <td>28767</td>\n",
       "      <td>29304</td>\n",
       "    </tr>\n",
       "    <tr>\n",
       "      <th>unique</th>\n",
       "      <td>8</td>\n",
       "      <td>16</td>\n",
       "      <td>7</td>\n",
       "      <td>14</td>\n",
       "      <td>6</td>\n",
       "      <td>5</td>\n",
       "      <td>2</td>\n",
       "      <td>41</td>\n",
       "      <td>2</td>\n",
       "    </tr>\n",
       "    <tr>\n",
       "      <th>top</th>\n",
       "      <td>Private</td>\n",
       "      <td>HS-grad</td>\n",
       "      <td>Married-civ-spouse</td>\n",
       "      <td>Prof-specialty</td>\n",
       "      <td>Husband</td>\n",
       "      <td>White</td>\n",
       "      <td>Male</td>\n",
       "      <td>United-States</td>\n",
       "      <td>&lt;=50K</td>\n",
       "    </tr>\n",
       "    <tr>\n",
       "      <th>freq</th>\n",
       "      <td>20451</td>\n",
       "      <td>9449</td>\n",
       "      <td>13466</td>\n",
       "      <td>3683</td>\n",
       "      <td>11845</td>\n",
       "      <td>25022</td>\n",
       "      <td>19578</td>\n",
       "      <td>26240</td>\n",
       "      <td>22263</td>\n",
       "    </tr>\n",
       "  </tbody>\n",
       "</table>\n",
       "</div>"
      ],
      "text/plain": [
       "       workclass education      marital.status      occupation relationship  \\\n",
       "count      27642     29304               29304           27636        29304   \n",
       "unique         8        16                   7              14            6   \n",
       "top      Private   HS-grad  Married-civ-spouse  Prof-specialty      Husband   \n",
       "freq       20451      9449               13466            3683        11845   \n",
       "\n",
       "         race    sex native.country income  \n",
       "count   29304  29304          28767  29304  \n",
       "unique      5      2             41      2  \n",
       "top     White   Male  United-States  <=50K  \n",
       "freq    25022  19578          26240  22263  "
      ]
     },
     "execution_count": 165,
     "metadata": {},
     "output_type": "execute_result"
    }
   ],
   "source": [
    "train.describe(include='O')"
   ]
  },
  {
   "cell_type": "code",
   "execution_count": 167,
   "id": "3d279b5a-515a-42b6-b12e-fc8ea9395ecd",
   "metadata": {},
   "outputs": [
    {
     "data": {
      "text/html": [
       "<div>\n",
       "<style scoped>\n",
       "    .dataframe tbody tr th:only-of-type {\n",
       "        vertical-align: middle;\n",
       "    }\n",
       "\n",
       "    .dataframe tbody tr th {\n",
       "        vertical-align: top;\n",
       "    }\n",
       "\n",
       "    .dataframe thead th {\n",
       "        text-align: right;\n",
       "    }\n",
       "</style>\n",
       "<table border=\"1\" class=\"dataframe\">\n",
       "  <thead>\n",
       "    <tr style=\"text-align: right;\">\n",
       "      <th></th>\n",
       "      <th>workclass</th>\n",
       "      <th>education</th>\n",
       "      <th>marital.status</th>\n",
       "      <th>occupation</th>\n",
       "      <th>relationship</th>\n",
       "      <th>race</th>\n",
       "      <th>sex</th>\n",
       "      <th>native.country</th>\n",
       "    </tr>\n",
       "  </thead>\n",
       "  <tbody>\n",
       "    <tr>\n",
       "      <th>count</th>\n",
       "      <td>3083</td>\n",
       "      <td>3257</td>\n",
       "      <td>3257</td>\n",
       "      <td>3082</td>\n",
       "      <td>3257</td>\n",
       "      <td>3257</td>\n",
       "      <td>3257</td>\n",
       "      <td>3211</td>\n",
       "    </tr>\n",
       "    <tr>\n",
       "      <th>unique</th>\n",
       "      <td>8</td>\n",
       "      <td>16</td>\n",
       "      <td>7</td>\n",
       "      <td>14</td>\n",
       "      <td>6</td>\n",
       "      <td>5</td>\n",
       "      <td>2</td>\n",
       "      <td>37</td>\n",
       "    </tr>\n",
       "    <tr>\n",
       "      <th>top</th>\n",
       "      <td>Private</td>\n",
       "      <td>HS-grad</td>\n",
       "      <td>Married-civ-spouse</td>\n",
       "      <td>Prof-specialty</td>\n",
       "      <td>Husband</td>\n",
       "      <td>White</td>\n",
       "      <td>Male</td>\n",
       "      <td>United-States</td>\n",
       "    </tr>\n",
       "    <tr>\n",
       "      <th>freq</th>\n",
       "      <td>2245</td>\n",
       "      <td>1052</td>\n",
       "      <td>1510</td>\n",
       "      <td>457</td>\n",
       "      <td>1348</td>\n",
       "      <td>2794</td>\n",
       "      <td>2212</td>\n",
       "      <td>2930</td>\n",
       "    </tr>\n",
       "  </tbody>\n",
       "</table>\n",
       "</div>"
      ],
      "text/plain": [
       "       workclass education      marital.status      occupation relationship  \\\n",
       "count       3083      3257                3257            3082         3257   \n",
       "unique         8        16                   7              14            6   \n",
       "top      Private   HS-grad  Married-civ-spouse  Prof-specialty      Husband   \n",
       "freq        2245      1052                1510             457         1348   \n",
       "\n",
       "         race   sex native.country  \n",
       "count    3257  3257           3211  \n",
       "unique      5     2             37  \n",
       "top     White  Male  United-States  \n",
       "freq     2794  2212           2930  "
      ]
     },
     "execution_count": 167,
     "metadata": {},
     "output_type": "execute_result"
    }
   ],
   "source": [
    "test.describe(include='object')"
   ]
  },
  {
   "cell_type": "code",
   "execution_count": 169,
   "id": "2f0b883d-b2d4-4d43-a5bb-4fe7d65198a0",
   "metadata": {},
   "outputs": [
    {
     "data": {
      "text/plain": [
       "id                   0\n",
       "age                 12\n",
       "workclass         1662\n",
       "fnlwgt               0\n",
       "education            0\n",
       "education.num        0\n",
       "marital.status       0\n",
       "occupation        1668\n",
       "relationship         0\n",
       "race                 0\n",
       "sex                  0\n",
       "capital.gain         0\n",
       "capital.loss         0\n",
       "hours.per.week      13\n",
       "native.country     537\n",
       "income               0\n",
       "dtype: int64"
      ]
     },
     "execution_count": 169,
     "metadata": {},
     "output_type": "execute_result"
    }
   ],
   "source": [
    "train.isnull().sum()"
   ]
  },
  {
   "cell_type": "code",
   "execution_count": 171,
   "id": "a268a818-4832-4ffc-88e1-6265b76a2091",
   "metadata": {},
   "outputs": [
    {
     "data": {
      "text/plain": [
       "id                  0\n",
       "age                 6\n",
       "workclass         174\n",
       "fnlwgt              0\n",
       "education           0\n",
       "education.num       0\n",
       "marital.status      0\n",
       "occupation        175\n",
       "relationship        0\n",
       "race                0\n",
       "sex                 0\n",
       "capital.gain        0\n",
       "capital.loss        0\n",
       "hours.per.week      9\n",
       "native.country     46\n",
       "dtype: int64"
      ]
     },
     "execution_count": 171,
     "metadata": {},
     "output_type": "execute_result"
    }
   ],
   "source": [
    "test.isnull().sum()"
   ]
  },
  {
   "cell_type": "code",
   "execution_count": 173,
   "id": "8ec958cd-3158-498f-83c6-8900e8966b96",
   "metadata": {},
   "outputs": [
    {
     "data": {
      "text/plain": [
       "income\n",
       "<=50K    22263\n",
       ">50K      7041\n",
       "Name: count, dtype: int64"
      ]
     },
     "execution_count": 173,
     "metadata": {},
     "output_type": "execute_result"
    }
   ],
   "source": [
    "train['income'].value_counts()"
   ]
  },
  {
   "cell_type": "code",
   "execution_count": 175,
   "id": "db4ecede-64f3-4dd7-a306-e4a2cf79cd27",
   "metadata": {},
   "outputs": [
    {
     "name": "stdout",
     "output_type": "stream",
     "text": [
      "처리전: (29304, 16)\n",
      "처리후: (27096, 16)\n"
     ]
    }
   ],
   "source": [
    "print(\"처리전:\", train.shape)\n",
    "df = train.dropna()\n",
    "print(\"처리후:\", df.shape)"
   ]
  },
  {
   "cell_type": "code",
   "execution_count": 177,
   "id": "3b5f986e-22cd-4a64-a643-ee07190e9986",
   "metadata": {},
   "outputs": [
    {
     "data": {
      "text/plain": [
       "id                 0\n",
       "age               12\n",
       "workclass          0\n",
       "fnlwgt             0\n",
       "education          0\n",
       "education.num      0\n",
       "marital.status     0\n",
       "occupation         6\n",
       "relationship       0\n",
       "race               0\n",
       "sex                0\n",
       "capital.gain       0\n",
       "capital.loss       0\n",
       "hours.per.week    13\n",
       "native.country     0\n",
       "income             0\n",
       "dtype: int64"
      ]
     },
     "execution_count": 177,
     "metadata": {},
     "output_type": "execute_result"
    }
   ],
   "source": [
    "df = train.dropna(subset=['native.country', 'workclass'])\n",
    "df.isnull().sum()"
   ]
  },
  {
   "cell_type": "code",
   "execution_count": 179,
   "id": "25e766a7-680d-49e3-a64f-6a5e6dfbbf43",
   "metadata": {},
   "outputs": [
    {
     "name": "stdout",
     "output_type": "stream",
     "text": [
      "처리전: (29304, 16)\n",
      "처리후: (29304, 11)\n"
     ]
    }
   ],
   "source": [
    "print(\"처리전:\", train.shape)\n",
    "df = train.dropna(axis=1)\n",
    "print(\"처리후:\", df.shape)"
   ]
  },
  {
   "cell_type": "code",
   "execution_count": 181,
   "id": "ba5f6128-b6c2-4996-b341-e676951b4f1d",
   "metadata": {},
   "outputs": [
    {
     "name": "stdout",
     "output_type": "stream",
     "text": [
      "처리전: (29304, 16)\n",
      "처리후: (29304, 14)\n"
     ]
    }
   ],
   "source": [
    "print(\"처리전:\", train.shape)\n",
    "df = train.drop(['native.country', 'workclass'], axis=1)\n",
    "print(\"처리후:\", df.shape)"
   ]
  },
  {
   "cell_type": "code",
   "execution_count": 183,
   "id": "39730332-87eb-4c8d-88bb-c1d9038dd437",
   "metadata": {},
   "outputs": [
    {
     "data": {
      "text/plain": [
       "id                   0\n",
       "age                 12\n",
       "workclass            0\n",
       "fnlwgt               0\n",
       "education            0\n",
       "education.num        0\n",
       "marital.status       0\n",
       "occupation        1668\n",
       "relationship         0\n",
       "race                 0\n",
       "sex                  0\n",
       "capital.gain         0\n",
       "capital.loss         0\n",
       "hours.per.week      13\n",
       "native.country       0\n",
       "income               0\n",
       "dtype: int64"
      ]
     },
     "execution_count": 183,
     "metadata": {},
     "output_type": "execute_result"
    }
   ],
   "source": [
    "m = train['workclass'].mode()[0]\n",
    "train['workclass'] = train['workclass'].fillna(m)\n",
    "m = train['native.country'].mode()[0]\n",
    "train['native.country'] = train['native.country'].fillna(m)\n",
    "train.isnull().sum()"
   ]
  },
  {
   "cell_type": "code",
   "execution_count": 185,
   "id": "aa503975-c51e-41d7-8f2e-6175e7a37f25",
   "metadata": {},
   "outputs": [
    {
     "data": {
      "text/plain": [
       "id                 0\n",
       "age               12\n",
       "workclass          0\n",
       "fnlwgt             0\n",
       "education          0\n",
       "education.num      0\n",
       "marital.status     0\n",
       "occupation         0\n",
       "relationship       0\n",
       "race               0\n",
       "sex                0\n",
       "capital.gain       0\n",
       "capital.loss       0\n",
       "hours.per.week    13\n",
       "native.country     0\n",
       "income             0\n",
       "dtype: int64"
      ]
     },
     "execution_count": 185,
     "metadata": {},
     "output_type": "execute_result"
    }
   ],
   "source": [
    "train['occupation'] = train['occupation'].fillna('X')\n",
    "train.isnull().sum()"
   ]
  },
  {
   "cell_type": "code",
   "execution_count": 187,
   "id": "066b21a4-caad-48e5-a4e6-4efa6d31c1eb",
   "metadata": {},
   "outputs": [],
   "source": [
    "# test 데이터\n",
    "test['workclass'] = test['workclass'].fillna(train['workclass'].mode()[0])\n",
    "test['native.country'] = test['native.country'].fillna(train['native.country'].mode()[0])\n",
    "test['occupation'] = test['occupation'].fillna(\"X\")"
   ]
  },
  {
   "cell_type": "code",
   "execution_count": 189,
   "id": "09ee4587-cd83-4afb-9bc7-52dc2440dde5",
   "metadata": {},
   "outputs": [
    {
     "name": "stdout",
     "output_type": "stream",
     "text": [
      "평균값: 38\n"
     ]
    }
   ],
   "source": [
    "# 평균값으로 채우기\n",
    "value = int(train['age'].mean())\n",
    "print(\"평균값:\", value)\n",
    "train['age']=train['age'].fillna(value)\n",
    "test['age']=test['age'].fillna(value)"
   ]
  },
  {
   "cell_type": "code",
   "execution_count": 191,
   "id": "832a4d47-241e-4f58-a48c-8dfa2ae5ba8a",
   "metadata": {},
   "outputs": [
    {
     "name": "stdout",
     "output_type": "stream",
     "text": [
      "중앙값: 40\n"
     ]
    }
   ],
   "source": [
    "# 중앙값으로 채우기\n",
    "value = int(train['hours.per.week'].median())\n",
    "print(\"중앙값:\", value)\n",
    "train['hours.per.week']=train['hours.per.week'].fillna(value)\n",
    "test['hours.per.week']=test['hours.per.week'].fillna(value)"
   ]
  },
  {
   "cell_type": "code",
   "execution_count": 193,
   "id": "332d2cf2-9fb5-41df-ac0e-4f3933b70db5",
   "metadata": {},
   "outputs": [
    {
     "data": {
      "text/plain": [
       "id                0\n",
       "age               0\n",
       "workclass         0\n",
       "fnlwgt            0\n",
       "education         0\n",
       "education.num     0\n",
       "marital.status    0\n",
       "occupation        0\n",
       "relationship      0\n",
       "race              0\n",
       "sex               0\n",
       "capital.gain      0\n",
       "capital.loss      0\n",
       "hours.per.week    0\n",
       "native.country    0\n",
       "income            0\n",
       "dtype: int64"
      ]
     },
     "execution_count": 193,
     "metadata": {},
     "output_type": "execute_result"
    }
   ],
   "source": [
    "train.isnull().sum()"
   ]
  },
  {
   "cell_type": "code",
   "execution_count": 195,
   "id": "4d8ba010-9630-455b-b676-fd27790f2730",
   "metadata": {},
   "outputs": [
    {
     "data": {
      "text/html": [
       "<div>\n",
       "<style scoped>\n",
       "    .dataframe tbody tr th:only-of-type {\n",
       "        vertical-align: middle;\n",
       "    }\n",
       "\n",
       "    .dataframe tbody tr th {\n",
       "        vertical-align: top;\n",
       "    }\n",
       "\n",
       "    .dataframe thead th {\n",
       "        text-align: right;\n",
       "    }\n",
       "</style>\n",
       "<table border=\"1\" class=\"dataframe\">\n",
       "  <thead>\n",
       "    <tr style=\"text-align: right;\">\n",
       "      <th></th>\n",
       "      <th>id</th>\n",
       "      <th>age</th>\n",
       "      <th>fnlwgt</th>\n",
       "      <th>education.num</th>\n",
       "      <th>capital.gain</th>\n",
       "      <th>capital.loss</th>\n",
       "      <th>hours.per.week</th>\n",
       "    </tr>\n",
       "  </thead>\n",
       "  <tbody>\n",
       "    <tr>\n",
       "      <th>count</th>\n",
       "      <td>29304.000000</td>\n",
       "      <td>29304.000000</td>\n",
       "      <td>2.930400e+04</td>\n",
       "      <td>29304.000000</td>\n",
       "      <td>29304.000000</td>\n",
       "      <td>29304.000000</td>\n",
       "      <td>29304.000000</td>\n",
       "    </tr>\n",
       "    <tr>\n",
       "      <th>mean</th>\n",
       "      <td>16264.027880</td>\n",
       "      <td>38.552996</td>\n",
       "      <td>1.897488e+05</td>\n",
       "      <td>10.080842</td>\n",
       "      <td>1093.858722</td>\n",
       "      <td>86.744506</td>\n",
       "      <td>40.434036</td>\n",
       "    </tr>\n",
       "    <tr>\n",
       "      <th>std</th>\n",
       "      <td>9384.518323</td>\n",
       "      <td>13.626025</td>\n",
       "      <td>1.055250e+05</td>\n",
       "      <td>2.570824</td>\n",
       "      <td>7477.435640</td>\n",
       "      <td>401.518928</td>\n",
       "      <td>12.321306</td>\n",
       "    </tr>\n",
       "    <tr>\n",
       "      <th>min</th>\n",
       "      <td>0.000000</td>\n",
       "      <td>-38.000000</td>\n",
       "      <td>1.228500e+04</td>\n",
       "      <td>1.000000</td>\n",
       "      <td>0.000000</td>\n",
       "      <td>0.000000</td>\n",
       "      <td>1.000000</td>\n",
       "    </tr>\n",
       "    <tr>\n",
       "      <th>25%</th>\n",
       "      <td>8145.750000</td>\n",
       "      <td>28.000000</td>\n",
       "      <td>1.177890e+05</td>\n",
       "      <td>9.000000</td>\n",
       "      <td>0.000000</td>\n",
       "      <td>0.000000</td>\n",
       "      <td>40.000000</td>\n",
       "    </tr>\n",
       "    <tr>\n",
       "      <th>50%</th>\n",
       "      <td>16253.500000</td>\n",
       "      <td>37.000000</td>\n",
       "      <td>1.783765e+05</td>\n",
       "      <td>10.000000</td>\n",
       "      <td>0.000000</td>\n",
       "      <td>0.000000</td>\n",
       "      <td>40.000000</td>\n",
       "    </tr>\n",
       "    <tr>\n",
       "      <th>75%</th>\n",
       "      <td>24374.250000</td>\n",
       "      <td>48.000000</td>\n",
       "      <td>2.370682e+05</td>\n",
       "      <td>12.000000</td>\n",
       "      <td>0.000000</td>\n",
       "      <td>0.000000</td>\n",
       "      <td>45.000000</td>\n",
       "    </tr>\n",
       "    <tr>\n",
       "      <th>max</th>\n",
       "      <td>32560.000000</td>\n",
       "      <td>90.000000</td>\n",
       "      <td>1.484705e+06</td>\n",
       "      <td>16.000000</td>\n",
       "      <td>99999.000000</td>\n",
       "      <td>4356.000000</td>\n",
       "      <td>99.000000</td>\n",
       "    </tr>\n",
       "  </tbody>\n",
       "</table>\n",
       "</div>"
      ],
      "text/plain": [
       "                 id           age        fnlwgt  education.num  capital.gain  \\\n",
       "count  29304.000000  29304.000000  2.930400e+04   29304.000000  29304.000000   \n",
       "mean   16264.027880     38.552996  1.897488e+05      10.080842   1093.858722   \n",
       "std     9384.518323     13.626025  1.055250e+05       2.570824   7477.435640   \n",
       "min        0.000000    -38.000000  1.228500e+04       1.000000      0.000000   \n",
       "25%     8145.750000     28.000000  1.177890e+05       9.000000      0.000000   \n",
       "50%    16253.500000     37.000000  1.783765e+05      10.000000      0.000000   \n",
       "75%    24374.250000     48.000000  2.370682e+05      12.000000      0.000000   \n",
       "max    32560.000000     90.000000  1.484705e+06      16.000000  99999.000000   \n",
       "\n",
       "       capital.loss  hours.per.week  \n",
       "count  29304.000000    29304.000000  \n",
       "mean      86.744506       40.434036  \n",
       "std      401.518928       12.321306  \n",
       "min        0.000000        1.000000  \n",
       "25%        0.000000       40.000000  \n",
       "50%        0.000000       40.000000  \n",
       "75%        0.000000       45.000000  \n",
       "max     4356.000000       99.000000  "
      ]
     },
     "execution_count": 195,
     "metadata": {},
     "output_type": "execute_result"
    }
   ],
   "source": [
    "train.describe()"
   ]
  },
  {
   "cell_type": "code",
   "execution_count": 197,
   "id": "7d4fd161-0017-43b4-8bff-5865aa25bace",
   "metadata": {},
   "outputs": [
    {
     "data": {
      "text/html": [
       "<div>\n",
       "<style scoped>\n",
       "    .dataframe tbody tr th:only-of-type {\n",
       "        vertical-align: middle;\n",
       "    }\n",
       "\n",
       "    .dataframe tbody tr th {\n",
       "        vertical-align: top;\n",
       "    }\n",
       "\n",
       "    .dataframe thead th {\n",
       "        text-align: right;\n",
       "    }\n",
       "</style>\n",
       "<table border=\"1\" class=\"dataframe\">\n",
       "  <thead>\n",
       "    <tr style=\"text-align: right;\">\n",
       "      <th></th>\n",
       "      <th>id</th>\n",
       "      <th>age</th>\n",
       "      <th>workclass</th>\n",
       "      <th>fnlwgt</th>\n",
       "      <th>education</th>\n",
       "      <th>education.num</th>\n",
       "      <th>marital.status</th>\n",
       "      <th>occupation</th>\n",
       "      <th>relationship</th>\n",
       "      <th>race</th>\n",
       "      <th>sex</th>\n",
       "      <th>capital.gain</th>\n",
       "      <th>capital.loss</th>\n",
       "      <th>hours.per.week</th>\n",
       "      <th>native.country</th>\n",
       "      <th>income</th>\n",
       "    </tr>\n",
       "  </thead>\n",
       "  <tbody>\n",
       "    <tr>\n",
       "      <th>39</th>\n",
       "      <td>29188</td>\n",
       "      <td>-33.0</td>\n",
       "      <td>Private</td>\n",
       "      <td>263561</td>\n",
       "      <td>Some-college</td>\n",
       "      <td>10</td>\n",
       "      <td>Married-civ-spouse</td>\n",
       "      <td>Craft-repair</td>\n",
       "      <td>Husband</td>\n",
       "      <td>White</td>\n",
       "      <td>Male</td>\n",
       "      <td>0</td>\n",
       "      <td>0</td>\n",
       "      <td>60.0</td>\n",
       "      <td>United-States</td>\n",
       "      <td>&gt;50K</td>\n",
       "    </tr>\n",
       "    <tr>\n",
       "      <th>79</th>\n",
       "      <td>14325</td>\n",
       "      <td>-38.0</td>\n",
       "      <td>Private</td>\n",
       "      <td>22245</td>\n",
       "      <td>HS-grad</td>\n",
       "      <td>9</td>\n",
       "      <td>Married-civ-spouse</td>\n",
       "      <td>Exec-managerial</td>\n",
       "      <td>Husband</td>\n",
       "      <td>White</td>\n",
       "      <td>Male</td>\n",
       "      <td>0</td>\n",
       "      <td>0</td>\n",
       "      <td>60.0</td>\n",
       "      <td>United-States</td>\n",
       "      <td>&gt;50K</td>\n",
       "    </tr>\n",
       "    <tr>\n",
       "      <th>26161</th>\n",
       "      <td>4292</td>\n",
       "      <td>-25.0</td>\n",
       "      <td>Private</td>\n",
       "      <td>200681</td>\n",
       "      <td>Some-college</td>\n",
       "      <td>10</td>\n",
       "      <td>Never-married</td>\n",
       "      <td>X</td>\n",
       "      <td>Own-child</td>\n",
       "      <td>White</td>\n",
       "      <td>Male</td>\n",
       "      <td>0</td>\n",
       "      <td>0</td>\n",
       "      <td>40.0</td>\n",
       "      <td>United-States</td>\n",
       "      <td>&lt;=50K</td>\n",
       "    </tr>\n",
       "  </tbody>\n",
       "</table>\n",
       "</div>"
      ],
      "text/plain": [
       "          id   age workclass  fnlwgt     education  education.num  \\\n",
       "39     29188 -33.0   Private  263561  Some-college             10   \n",
       "79     14325 -38.0   Private   22245       HS-grad              9   \n",
       "26161   4292 -25.0   Private  200681  Some-college             10   \n",
       "\n",
       "           marital.status       occupation relationship   race   sex  \\\n",
       "39     Married-civ-spouse     Craft-repair      Husband  White  Male   \n",
       "79     Married-civ-spouse  Exec-managerial      Husband  White  Male   \n",
       "26161       Never-married                X    Own-child  White  Male   \n",
       "\n",
       "       capital.gain  capital.loss  hours.per.week native.country income  \n",
       "39                0             0            60.0  United-States   >50K  \n",
       "79                0             0            60.0  United-States   >50K  \n",
       "26161             0             0            40.0  United-States  <=50K  "
      ]
     },
     "execution_count": 197,
     "metadata": {},
     "output_type": "execute_result"
    }
   ],
   "source": [
    "train[train['age']<=0]"
   ]
  },
  {
   "cell_type": "code",
   "execution_count": 199,
   "id": "78cd776c-5d0b-4da7-87c8-bf31e1acbfb4",
   "metadata": {},
   "outputs": [
    {
     "data": {
      "text/html": [
       "<div>\n",
       "<style scoped>\n",
       "    .dataframe tbody tr th:only-of-type {\n",
       "        vertical-align: middle;\n",
       "    }\n",
       "\n",
       "    .dataframe tbody tr th {\n",
       "        vertical-align: top;\n",
       "    }\n",
       "\n",
       "    .dataframe thead th {\n",
       "        text-align: right;\n",
       "    }\n",
       "</style>\n",
       "<table border=\"1\" class=\"dataframe\">\n",
       "  <thead>\n",
       "    <tr style=\"text-align: right;\">\n",
       "      <th></th>\n",
       "      <th>id</th>\n",
       "      <th>age</th>\n",
       "      <th>workclass</th>\n",
       "      <th>fnlwgt</th>\n",
       "      <th>education</th>\n",
       "      <th>education.num</th>\n",
       "      <th>marital.status</th>\n",
       "      <th>occupation</th>\n",
       "      <th>relationship</th>\n",
       "      <th>race</th>\n",
       "      <th>sex</th>\n",
       "      <th>capital.gain</th>\n",
       "      <th>capital.loss</th>\n",
       "      <th>hours.per.week</th>\n",
       "      <th>native.country</th>\n",
       "    </tr>\n",
       "  </thead>\n",
       "  <tbody>\n",
       "  </tbody>\n",
       "</table>\n",
       "</div>"
      ],
      "text/plain": [
       "Empty DataFrame\n",
       "Columns: [id, age, workclass, fnlwgt, education, education.num, marital.status, occupation, relationship, race, sex, capital.gain, capital.loss, hours.per.week, native.country]\n",
       "Index: []"
      ]
     },
     "execution_count": 199,
     "metadata": {},
     "output_type": "execute_result"
    }
   ],
   "source": [
    "test[test['age']<=0]"
   ]
  },
  {
   "cell_type": "code",
   "execution_count": 201,
   "id": "231f7295-21ac-4f3b-ba77-ab5cc761cd38",
   "metadata": {},
   "outputs": [
    {
     "name": "stdout",
     "output_type": "stream",
     "text": [
      "(29304, 16)\n",
      "(29301, 16)\n"
     ]
    }
   ],
   "source": [
    "print(train.shape)\n",
    "train = train[train['age']>0]\n",
    "print(train.shape)"
   ]
  },
  {
   "cell_type": "code",
   "execution_count": 203,
   "id": "dfb232e8-b083-4b5d-97f0-49a182898e43",
   "metadata": {},
   "outputs": [],
   "source": [
    "y_train = train.pop(\"income\")"
   ]
  },
  {
   "cell_type": "code",
   "execution_count": 205,
   "id": "29e3340d-5da3-40ed-8ab4-d9ec5eb308da",
   "metadata": {},
   "outputs": [
    {
     "name": "stdout",
     "output_type": "stream",
     "text": [
      "(29301, 15) (3257, 15) (29301, 107) (3257, 103)\n"
     ]
    }
   ],
   "source": [
    "# 원-핫 인코딩\n",
    "train_oh = pd.get_dummies(train)\n",
    "test_oh = pd.get_dummies(test)\n",
    "print(train.shape, test.shape, train_oh.shape, test_oh.shape)"
   ]
  },
  {
   "cell_type": "code",
   "execution_count": 207,
   "id": "11b08552-7767-40cf-8c6f-64e887351b1d",
   "metadata": {},
   "outputs": [
    {
     "name": "stdout",
     "output_type": "stream",
     "text": [
      "(29301, 15) (3257, 15)\n",
      "(29301, 107) (3257, 107)\n"
     ]
    }
   ],
   "source": [
    "# 데이터를 합쳐서 인코딩하는 방법\n",
    "print(train.shape, test.shape)\n",
    "data=pd.concat([train, test], axis=0)\n",
    "data_oh=pd.get_dummies(data)\n",
    "train_oh=data_oh.iloc[:len(train)].copy()\n",
    "test_oh=data_oh.iloc[len(train):].copy()\n",
    "print(train_oh.shape, test_oh.shape)"
   ]
  },
  {
   "cell_type": "code",
   "execution_count": 209,
   "id": "dade697c-16e9-4ecc-8a63-c9880646edcb",
   "metadata": {},
   "outputs": [
    {
     "name": "stdout",
     "output_type": "stream",
     "text": [
      "Index(['workclass', 'education', 'marital.status', 'occupation',\n",
      "       'relationship', 'race', 'sex', 'native.country'],\n",
      "      dtype='object')\n"
     ]
    }
   ],
   "source": [
    "# 레이블 인코딩\n",
    "# cols = train.select_dtypes(include='object').columns 방법1\n",
    "cols = train.columns[train.dtypes==object] # 방법2\n",
    "print(cols)"
   ]
  },
  {
   "cell_type": "code",
   "execution_count": 211,
   "id": "43141529-529b-472f-a387-365e988e1995",
   "metadata": {},
   "outputs": [
    {
     "data": {
      "text/html": [
       "<div>\n",
       "<style scoped>\n",
       "    .dataframe tbody tr th:only-of-type {\n",
       "        vertical-align: middle;\n",
       "    }\n",
       "\n",
       "    .dataframe tbody tr th {\n",
       "        vertical-align: top;\n",
       "    }\n",
       "\n",
       "    .dataframe thead th {\n",
       "        text-align: right;\n",
       "    }\n",
       "</style>\n",
       "<table border=\"1\" class=\"dataframe\">\n",
       "  <thead>\n",
       "    <tr style=\"text-align: right;\">\n",
       "      <th></th>\n",
       "      <th>id</th>\n",
       "      <th>age</th>\n",
       "      <th>workclass</th>\n",
       "      <th>fnlwgt</th>\n",
       "      <th>education</th>\n",
       "      <th>education.num</th>\n",
       "      <th>marital.status</th>\n",
       "      <th>occupation</th>\n",
       "      <th>relationship</th>\n",
       "      <th>race</th>\n",
       "      <th>sex</th>\n",
       "      <th>capital.gain</th>\n",
       "      <th>capital.loss</th>\n",
       "      <th>hours.per.week</th>\n",
       "      <th>native.country</th>\n",
       "    </tr>\n",
       "  </thead>\n",
       "  <tbody>\n",
       "    <tr>\n",
       "      <th>0</th>\n",
       "      <td>3331</td>\n",
       "      <td>34.0</td>\n",
       "      <td>6</td>\n",
       "      <td>177331</td>\n",
       "      <td>15</td>\n",
       "      <td>10</td>\n",
       "      <td>2</td>\n",
       "      <td>9</td>\n",
       "      <td>0</td>\n",
       "      <td>2</td>\n",
       "      <td>1</td>\n",
       "      <td>4386</td>\n",
       "      <td>0</td>\n",
       "      <td>40.0</td>\n",
       "      <td>38</td>\n",
       "    </tr>\n",
       "    <tr>\n",
       "      <th>1</th>\n",
       "      <td>19749</td>\n",
       "      <td>58.0</td>\n",
       "      <td>3</td>\n",
       "      <td>290661</td>\n",
       "      <td>11</td>\n",
       "      <td>9</td>\n",
       "      <td>2</td>\n",
       "      <td>2</td>\n",
       "      <td>0</td>\n",
       "      <td>4</td>\n",
       "      <td>1</td>\n",
       "      <td>0</td>\n",
       "      <td>0</td>\n",
       "      <td>40.0</td>\n",
       "      <td>38</td>\n",
       "    </tr>\n",
       "    <tr>\n",
       "      <th>2</th>\n",
       "      <td>1157</td>\n",
       "      <td>48.0</td>\n",
       "      <td>3</td>\n",
       "      <td>125933</td>\n",
       "      <td>15</td>\n",
       "      <td>10</td>\n",
       "      <td>6</td>\n",
       "      <td>3</td>\n",
       "      <td>4</td>\n",
       "      <td>2</td>\n",
       "      <td>0</td>\n",
       "      <td>0</td>\n",
       "      <td>1669</td>\n",
       "      <td>38.0</td>\n",
       "      <td>38</td>\n",
       "    </tr>\n",
       "    <tr>\n",
       "      <th>3</th>\n",
       "      <td>693</td>\n",
       "      <td>58.0</td>\n",
       "      <td>3</td>\n",
       "      <td>100313</td>\n",
       "      <td>15</td>\n",
       "      <td>10</td>\n",
       "      <td>2</td>\n",
       "      <td>10</td>\n",
       "      <td>0</td>\n",
       "      <td>4</td>\n",
       "      <td>1</td>\n",
       "      <td>0</td>\n",
       "      <td>1902</td>\n",
       "      <td>40.0</td>\n",
       "      <td>38</td>\n",
       "    </tr>\n",
       "    <tr>\n",
       "      <th>4</th>\n",
       "      <td>12522</td>\n",
       "      <td>41.0</td>\n",
       "      <td>3</td>\n",
       "      <td>195661</td>\n",
       "      <td>15</td>\n",
       "      <td>10</td>\n",
       "      <td>2</td>\n",
       "      <td>13</td>\n",
       "      <td>0</td>\n",
       "      <td>4</td>\n",
       "      <td>1</td>\n",
       "      <td>0</td>\n",
       "      <td>0</td>\n",
       "      <td>54.0</td>\n",
       "      <td>38</td>\n",
       "    </tr>\n",
       "  </tbody>\n",
       "</table>\n",
       "</div>"
      ],
      "text/plain": [
       "      id   age  workclass  fnlwgt  education  education.num  marital.status  \\\n",
       "0   3331  34.0          6  177331         15             10               2   \n",
       "1  19749  58.0          3  290661         11              9               2   \n",
       "2   1157  48.0          3  125933         15             10               6   \n",
       "3    693  58.0          3  100313         15             10               2   \n",
       "4  12522  41.0          3  195661         15             10               2   \n",
       "\n",
       "   occupation  relationship  race  sex  capital.gain  capital.loss  \\\n",
       "0           9             0     2    1          4386             0   \n",
       "1           2             0     4    1             0             0   \n",
       "2           3             4     2    0             0          1669   \n",
       "3          10             0     4    1             0          1902   \n",
       "4          13             0     4    1             0             0   \n",
       "\n",
       "   hours.per.week  native.country  \n",
       "0            40.0              38  \n",
       "1            40.0              38  \n",
       "2            38.0              38  \n",
       "3            40.0              38  \n",
       "4            54.0              38  "
      ]
     },
     "execution_count": 211,
     "metadata": {},
     "output_type": "execute_result"
    }
   ],
   "source": [
    "from sklearn.preprocessing import LabelEncoder\n",
    "\n",
    "for col in cols:\n",
    "    le = LabelEncoder()\n",
    "    train[col] = le.fit_transform(train[col])\n",
    "    test[col] = le.transform(test[col])\n",
    "\n",
    "train.head()"
   ]
  },
  {
   "cell_type": "code",
   "execution_count": 213,
   "id": "a8cae91a-b901-4f9e-a6e1-eb4af62b2f52",
   "metadata": {},
   "outputs": [],
   "source": [
    "cols = ['age', 'fnlwgt', 'education.num', 'capital.gain', 'capital.loss', 'hours.per.week']"
   ]
  },
  {
   "cell_type": "code",
   "execution_count": 215,
   "id": "1d838b78-8857-4b54-ac8b-99473ef63e0e",
   "metadata": {},
   "outputs": [],
   "source": [
    "def get_data():\n",
    "    train_copy = train.copy()\n",
    "    test_copy = test.copy()\n",
    "    return train_copy, test_copy"
   ]
  },
  {
   "cell_type": "code",
   "execution_count": 217,
   "id": "17d3754b-0921-467c-a8c8-4c656c1922ac",
   "metadata": {},
   "outputs": [
    {
     "name": "stdout",
     "output_type": "stream",
     "text": [
      "    age  fnlwgt  education.num  capital.gain  capital.loss  hours.per.week\n",
      "0  34.0  177331             10          4386             0            40.0\n",
      "1  58.0  290661              9             0             0            40.0\n",
      "        age    fnlwgt  education.num  capital.gain  capital.loss  \\\n",
      "0  0.232877  0.112092       0.600000       0.04386           0.0   \n",
      "1  0.561644  0.189060       0.533333       0.00000           0.0   \n",
      "\n",
      "   hours.per.week  \n",
      "0        0.397959  \n",
      "1        0.397959  \n"
     ]
    }
   ],
   "source": [
    "# Min-Max 스케일링\n",
    "train_copy, test_copy = get_data()\n",
    "\n",
    "from sklearn.preprocessing import MinMaxScaler\n",
    "scaler = MinMaxScaler()\n",
    "print(train_copy[cols].head(2))\n",
    "train_copy[cols] = scaler.fit_transform(train_copy[cols])\n",
    "test_copy[cols] = scaler.transform(test_copy[cols])\n",
    "print(train_copy[cols].head(2))"
   ]
  },
  {
   "cell_type": "code",
   "execution_count": 219,
   "id": "d6ceae59-ae49-4156-afea-09e7f5e8b985",
   "metadata": {},
   "outputs": [
    {
     "name": "stdout",
     "output_type": "stream",
     "text": [
      "    age  fnlwgt  education.num  capital.gain  capital.loss  hours.per.week\n",
      "0  34.0  177331             10          4386             0            40.0\n",
      "1  58.0  290661              9             0             0            40.0\n",
      "        age    fnlwgt  education.num  capital.gain  capital.loss  \\\n",
      "0 -0.335121 -0.117705      -0.031462      0.440247     -0.216056   \n",
      "1  1.428590  0.956277      -0.420430     -0.146298     -0.216056   \n",
      "\n",
      "   hours.per.week  \n",
      "0       -0.035121  \n",
      "1       -0.035121  \n"
     ]
    }
   ],
   "source": [
    "# Standard 스케일링\n",
    "train_copy, test_copy = get_data()\n",
    "\n",
    "from sklearn.preprocessing import StandardScaler\n",
    "scaler = StandardScaler()\n",
    "print(train_copy[cols].head(2))\n",
    "train_copy[cols] = scaler.fit_transform(train_copy[cols])\n",
    "test_copy[cols] = scaler.transform(test_copy[cols])\n",
    "print(train_copy[cols].head(2))"
   ]
  },
  {
   "cell_type": "code",
   "execution_count": 221,
   "id": "12cfc5ce-8823-459f-badd-0f8b7415d0a1",
   "metadata": {},
   "outputs": [
    {
     "name": "stdout",
     "output_type": "stream",
     "text": [
      "    age  fnlwgt  education.num  capital.gain  capital.loss  hours.per.week\n",
      "0  34.0  177331             10          4386             0            40.0\n",
      "1  58.0  290661              9             0             0            40.0\n",
      "    age    fnlwgt  education.num  capital.gain  capital.loss  hours.per.week\n",
      "0 -0.15 -0.008711       0.000000        4386.0           0.0             0.0\n",
      "1  1.05  0.941438      -0.333333           0.0           0.0             0.0\n"
     ]
    }
   ],
   "source": [
    "# Robust 스케일링\n",
    "from sklearn.preprocessing import RobustScaler\n",
    "scaler = RobustScaler()\n",
    "print(train[cols].head(2))\n",
    "train[cols] = scaler.fit_transform(train[cols])\n",
    "test[cols] = scaler.transform(test[cols])\n",
    "print(train[cols].head(2))"
   ]
  },
  {
   "cell_type": "markdown",
   "id": "0bd2fe4a-6b76-4800-86e8-9de0b0cd3a9d",
   "metadata": {},
   "source": [
    "target 변수가 숫자가 아닌 문자에서 레이블 인코딩이 필요하다면?"
   ]
  },
  {
   "cell_type": "code",
   "execution_count": 224,
   "id": "8a45d489-880e-4ef5-9e0d-cc75d06aec49",
   "metadata": {},
   "outputs": [
    {
     "data": {
      "text/plain": [
       "income\n",
       "<=50K    22262\n",
       ">50K      7039\n",
       "Name: count, dtype: int64"
      ]
     },
     "execution_count": 224,
     "metadata": {},
     "output_type": "execute_result"
    }
   ],
   "source": [
    "y_train.value_counts()"
   ]
  },
  {
   "cell_type": "code",
   "execution_count": 226,
   "id": "30d95b0b-c5ec-4455-8bde-62c66c6c599e",
   "metadata": {},
   "outputs": [
    {
     "data": {
      "text/plain": [
       "income\n",
       "0    22262\n",
       "1     7039\n",
       "Name: count, dtype: int64"
      ]
     },
     "execution_count": 226,
     "metadata": {},
     "output_type": "execute_result"
    }
   ],
   "source": [
    "# map() 활용 방법\n",
    "target = y_train.map({'<=50K':0, '>50K':1})\n",
    "target.value_counts()"
   ]
  },
  {
   "cell_type": "code",
   "execution_count": 230,
   "id": "37222197-fdef-420f-bb94-d6e54842cc94",
   "metadata": {},
   "outputs": [
    {
     "name": "stderr",
     "output_type": "stream",
     "text": [
      "C:\\Users\\shs21\\AppData\\Local\\Temp\\ipykernel_24676\\587291357.py:2: FutureWarning: Downcasting behavior in `replace` is deprecated and will be removed in a future version. To retain the old behavior, explicitly call `result.infer_objects(copy=False)`. To opt-in to the future behavior, set `pd.set_option('future.no_silent_downcasting', True)`\n",
      "  target = y_train.replace('<=50K', 0).replace('>50K', 1)\n"
     ]
    },
    {
     "data": {
      "text/plain": [
       "income\n",
       "0    22262\n",
       "1     7039\n",
       "Name: count, dtype: int64"
      ]
     },
     "execution_count": 230,
     "metadata": {},
     "output_type": "execute_result"
    }
   ],
   "source": [
    "# replace()를 활용하는 방법\n",
    "target = y_train.replace('<=50K', 0).replace('>50K', 1)\n",
    "target.value_counts()"
   ]
  },
  {
   "cell_type": "markdown",
   "id": "0ffae82f-608f-4c1d-87bf-83184bd39705",
   "metadata": {},
   "source": [
    "### 검증 데이터 나누기"
   ]
  },
  {
   "cell_type": "code",
   "execution_count": 235,
   "id": "92043707-1290-4867-bd38-2f7b42198263",
   "metadata": {},
   "outputs": [
    {
     "data": {
      "text/plain": [
       "((23440, 15), (5861, 15), (23440,), (5861,))"
      ]
     },
     "execution_count": 235,
     "metadata": {},
     "output_type": "execute_result"
    }
   ],
   "source": [
    "from sklearn.model_selection import train_test_split\n",
    "X_train, X_val, y_train, y_val = train_test_split(train,\n",
    "                                                  y_train,\n",
    "                                                  test_size=0.2,\n",
    "                                                  random_state=0)\n",
    "X_train.shape, X_val.shape, y_train.shape, y_val.shape"
   ]
  },
  {
   "cell_type": "markdown",
   "id": "1ee1eacf-af4a-4ef8-a8a3-cd9d42d4f4cb",
   "metadata": {},
   "source": [
    "### 머신러닝 학습 및 평가"
   ]
  },
  {
   "cell_type": "code",
   "execution_count": 238,
   "id": "56ab2934-e204-4351-b083-63d4819569b0",
   "metadata": {},
   "outputs": [
    {
     "name": "stdout",
     "output_type": "stream",
     "text": [
      "['<=50K' '>50K']\n"
     ]
    },
    {
     "data": {
      "text/plain": [
       "array([[1.  , 0.  ],\n",
       "       [1.  , 0.  ],\n",
       "       [0.9 , 0.1 ],\n",
       "       [0.63, 0.37],\n",
       "       [1.  , 0.  ],\n",
       "       [0.99, 0.01],\n",
       "       [0.98, 0.02],\n",
       "       [0.94, 0.06],\n",
       "       [0.12, 0.88],\n",
       "       [0.88, 0.12]])"
      ]
     },
     "execution_count": 238,
     "metadata": {},
     "output_type": "execute_result"
    }
   ],
   "source": [
    "# 랜덤포레스트\n",
    "from sklearn.ensemble import RandomForestClassifier\n",
    "rf = RandomForestClassifier(random_state=0)\n",
    "rf.fit(X_train, y_train)\n",
    "pred = rf.predict_proba(X_val) # 각 레이블에 속할 확률값 변환\n",
    "print(rf.classes_)\n",
    "pred[:10]"
   ]
  },
  {
   "cell_type": "code",
   "execution_count": 240,
   "id": "d908c43d-ce1d-4ef1-81d3-a5ac8f988463",
   "metadata": {},
   "outputs": [
    {
     "name": "stdout",
     "output_type": "stream",
     "text": [
      "roc_auc: 0.9173623004487484\n"
     ]
    }
   ],
   "source": [
    "# ROC_AUC\n",
    "from sklearn.metrics import roc_auc_score\n",
    "roc_auc = roc_auc_score(y_val, pred[:,1])\n",
    "print('roc_auc:', roc_auc)"
   ]
  },
  {
   "cell_type": "code",
   "execution_count": 242,
   "id": "9aae15c7-3647-487f-a500-e497f694a662",
   "metadata": {},
   "outputs": [
    {
     "data": {
      "text/plain": [
       "array(['<=50K', '<=50K', '<=50K', '<=50K', '<=50K', '<=50K', '<=50K',\n",
       "       '<=50K', '>50K', '<=50K'], dtype=object)"
      ]
     },
     "execution_count": 242,
     "metadata": {},
     "output_type": "execute_result"
    }
   ],
   "source": [
    "pred = rf.predict(X_val)\n",
    "pred[:10]"
   ]
  },
  {
   "cell_type": "code",
   "execution_count": 244,
   "id": "f83441ae-a8bc-4011-9e2f-fde88fe2e2df",
   "metadata": {},
   "outputs": [
    {
     "name": "stdout",
     "output_type": "stream",
     "text": [
      "accuracy_score: 0.8694761986009213\n"
     ]
    }
   ],
   "source": [
    "# Accuracy\n",
    "from sklearn.metrics import accuracy_score\n",
    "accuracy = accuracy_score(y_val, pred)\n",
    "print('accuracy_score:', accuracy)"
   ]
  },
  {
   "cell_type": "code",
   "execution_count": 246,
   "id": "00e3c42f-3195-4352-8a52-7e880b3c4928",
   "metadata": {},
   "outputs": [
    {
     "name": "stdout",
     "output_type": "stream",
     "text": [
      "f1_score: 0.6926476496584973\n"
     ]
    }
   ],
   "source": [
    "# F1 스코어\n",
    "from sklearn.metrics import f1_score\n",
    "f1 = f1_score(y_val, pred, pos_label='>50K')\n",
    "print('f1_score:', f1)"
   ]
  },
  {
   "cell_type": "code",
   "execution_count": 251,
   "id": "322eb250-6267-4183-9892-4b7405d3c903",
   "metadata": {},
   "outputs": [
    {
     "name": "stdout",
     "output_type": "stream",
     "text": [
      "Requirement already satisfied: lightgbm in c:\\users\\shs21\\anaconda3\\lib\\site-packages (4.6.0)\n",
      "Requirement already satisfied: numpy>=1.17.0 in c:\\users\\shs21\\anaconda3\\lib\\site-packages (from lightgbm) (1.26.4)\n",
      "Requirement already satisfied: scipy in c:\\users\\shs21\\anaconda3\\lib\\site-packages (from lightgbm) (1.13.1)\n"
     ]
    },
    {
     "name": "stderr",
     "output_type": "stream",
     "text": [
      "\n",
      "[notice] A new release of pip is available: 24.1.1 -> 25.1.1\n",
      "[notice] To update, run: python.exe -m pip install --upgrade pip\n"
     ]
    }
   ],
   "source": [
    "!pip install lightgbm"
   ]
  },
  {
   "cell_type": "code",
   "execution_count": 259,
   "id": "01321809-58db-4308-863e-c388e432e3db",
   "metadata": {},
   "outputs": [
    {
     "name": "stdout",
     "output_type": "stream",
     "text": [
      "[LightGBM] [Info] Number of positive: 5670, number of negative: 17770\n",
      "[LightGBM] [Info] Auto-choosing row-wise multi-threading, the overhead of testing was 0.002111 seconds.\n",
      "You can set `force_row_wise=true` to remove the overhead.\n",
      "And if memory is not enough, you can set `force_col_wise=true`.\n",
      "[LightGBM] [Info] Total Bins 941\n",
      "[LightGBM] [Info] Number of data points in the train set: 23440, number of used features: 15\n",
      "[LightGBM] [Info] [binary:BoostFromScore]: pavg=0.241894 -> initscore=-1.142323\n",
      "[LightGBM] [Info] Start training from score -1.142323\n",
      "roc_auc 0.9279535666686397\n",
      "accuracy_score: 0.8771540692714553\n",
      "f1_score: 0.7158642462509865\n"
     ]
    }
   ],
   "source": [
    "# LightGBM\n",
    "import lightgbm as lgb\n",
    "lgbmc = lgb.LGBMClassifier(random_state=0, verbose=1)\n",
    "lgbmc.fit(X_train, y_train)\n",
    "pred = lgbmc.predict_proba(X_val)\n",
    "\n",
    "roc_auc = roc_auc_score(y_val, pred[:,1])\n",
    "print('roc_auc', roc_auc)\n",
    "\n",
    "pred = lgbmc.predict(X_val)\n",
    "accuracy = accuracy_score(y_val, pred)\n",
    "print('accuracy_score:', accuracy)\n",
    "\n",
    "f1 = f1_score(y_val, pred, pos_label='>50K')\n",
    "print('f1_score:', f1)"
   ]
  },
  {
   "cell_type": "markdown",
   "id": "f8cd51d8-6457-4ca3-982a-62cf9b5acf5a",
   "metadata": {},
   "source": [
    "### 예측 및 결과 파일 생성"
   ]
  },
  {
   "cell_type": "code",
   "execution_count": 263,
   "id": "13c1b749-fbde-4742-a6c3-c9c4d9b1e98b",
   "metadata": {},
   "outputs": [
    {
     "data": {
      "text/plain": [
       "array([[0.89924007, 0.10075993],\n",
       "       [0.97622077, 0.02377923],\n",
       "       [0.9853122 , 0.0146878 ],\n",
       "       ...,\n",
       "       [0.93528667, 0.06471333],\n",
       "       [0.98996872, 0.01003128],\n",
       "       [0.96723292, 0.03276708]])"
      ]
     },
     "execution_count": 263,
     "metadata": {},
     "output_type": "execute_result"
    }
   ],
   "source": [
    "pred = lgbmc.predict_proba(test)\n",
    "pred"
   ]
  },
  {
   "cell_type": "code",
   "execution_count": 265,
   "id": "465629f5-0d80-4cd2-803b-248cb3ec00bb",
   "metadata": {},
   "outputs": [],
   "source": [
    "submit = pd.DataFrame({'pred':pred[:,1]})\n",
    "submit.to_csv(\"result.csv\", index=False)"
   ]
  },
  {
   "cell_type": "code",
   "execution_count": 267,
   "id": "45ab8079-8bad-4391-aee0-eeb462a5a046",
   "metadata": {},
   "outputs": [
    {
     "data": {
      "text/html": [
       "<div>\n",
       "<style scoped>\n",
       "    .dataframe tbody tr th:only-of-type {\n",
       "        vertical-align: middle;\n",
       "    }\n",
       "\n",
       "    .dataframe tbody tr th {\n",
       "        vertical-align: top;\n",
       "    }\n",
       "\n",
       "    .dataframe thead th {\n",
       "        text-align: right;\n",
       "    }\n",
       "</style>\n",
       "<table border=\"1\" class=\"dataframe\">\n",
       "  <thead>\n",
       "    <tr style=\"text-align: right;\">\n",
       "      <th></th>\n",
       "      <th>pred</th>\n",
       "    </tr>\n",
       "  </thead>\n",
       "  <tbody>\n",
       "    <tr>\n",
       "      <th>0</th>\n",
       "      <td>0.100760</td>\n",
       "    </tr>\n",
       "    <tr>\n",
       "      <th>1</th>\n",
       "      <td>0.023779</td>\n",
       "    </tr>\n",
       "    <tr>\n",
       "      <th>2</th>\n",
       "      <td>0.014688</td>\n",
       "    </tr>\n",
       "    <tr>\n",
       "      <th>3</th>\n",
       "      <td>0.798048</td>\n",
       "    </tr>\n",
       "    <tr>\n",
       "      <th>4</th>\n",
       "      <td>0.026542</td>\n",
       "    </tr>\n",
       "    <tr>\n",
       "      <th>...</th>\n",
       "      <td>...</td>\n",
       "    </tr>\n",
       "    <tr>\n",
       "      <th>3252</th>\n",
       "      <td>0.009613</td>\n",
       "    </tr>\n",
       "    <tr>\n",
       "      <th>3253</th>\n",
       "      <td>0.321992</td>\n",
       "    </tr>\n",
       "    <tr>\n",
       "      <th>3254</th>\n",
       "      <td>0.064713</td>\n",
       "    </tr>\n",
       "    <tr>\n",
       "      <th>3255</th>\n",
       "      <td>0.010031</td>\n",
       "    </tr>\n",
       "    <tr>\n",
       "      <th>3256</th>\n",
       "      <td>0.032767</td>\n",
       "    </tr>\n",
       "  </tbody>\n",
       "</table>\n",
       "<p>3257 rows × 1 columns</p>\n",
       "</div>"
      ],
      "text/plain": [
       "          pred\n",
       "0     0.100760\n",
       "1     0.023779\n",
       "2     0.014688\n",
       "3     0.798048\n",
       "4     0.026542\n",
       "...        ...\n",
       "3252  0.009613\n",
       "3253  0.321992\n",
       "3254  0.064713\n",
       "3255  0.010031\n",
       "3256  0.032767\n",
       "\n",
       "[3257 rows x 1 columns]"
      ]
     },
     "execution_count": 267,
     "metadata": {},
     "output_type": "execute_result"
    }
   ],
   "source": [
    "pd.read_csv(\"result.csv\")"
   ]
  },
  {
   "cell_type": "code",
   "execution_count": null,
   "id": "dae00aee-4540-4eac-9f69-24bc7b03e359",
   "metadata": {},
   "outputs": [],
   "source": []
  }
 ],
 "metadata": {
  "kernelspec": {
   "display_name": "Python 3 (ipykernel)",
   "language": "python",
   "name": "python3"
  },
  "language_info": {
   "codemirror_mode": {
    "name": "ipython",
    "version": 3
   },
   "file_extension": ".py",
   "mimetype": "text/x-python",
   "name": "python",
   "nbconvert_exporter": "python",
   "pygments_lexer": "ipython3",
   "version": "3.12.3"
  }
 },
 "nbformat": 4,
 "nbformat_minor": 5
}
