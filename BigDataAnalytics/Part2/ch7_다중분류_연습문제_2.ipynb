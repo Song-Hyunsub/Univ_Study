{
 "cells": [
  {
   "cell_type": "code",
   "execution_count": 14,
   "id": "e9016f49-31f9-4b6c-80df-fbf76dbd30c9",
   "metadata": {},
   "outputs": [
    {
     "name": "stdout",
     "output_type": "stream",
     "text": [
      "===== 데이터 정보(자료형) =====\n",
      "<class 'pandas.core.frame.DataFrame'>\n",
      "RangeIndex: 100 entries, 0 to 99\n",
      "Data columns (total 6 columns):\n",
      " #   Column       Non-Null Count  Dtype  \n",
      "---  ------       --------------  -----  \n",
      " 0   Age          100 non-null    int64  \n",
      " 1   Sex          100 non-null    object \n",
      " 2   BP           100 non-null    object \n",
      " 3   Cholesterol  100 non-null    object \n",
      " 4   Na_to_K      100 non-null    float64\n",
      " 5   Drug         100 non-null    object \n",
      "dtypes: float64(1), int64(1), object(4)\n",
      "memory usage: 4.8+ KB\n",
      "None\n",
      "\n",
      "===== train 결측치 수 =====\n",
      "0\n",
      "\n",
      "===== test 결측치 수 =====\n",
      "0\n",
      "\n",
      "===== train/test 카테고리별 수 =====\n",
      "Sex            2\n",
      "BP             3\n",
      "Cholesterol    2\n",
      "dtype: int64\n",
      "Sex            2\n",
      "BP             3\n",
      "Cholesterol    2\n",
      "dtype: int64\n",
      "\n",
      "===== target 빈도 =====\n",
      "Drug\n",
      "DrugY    41\n",
      "drugX    34\n",
      "drugA    13\n",
      "drugB     8\n",
      "drugC     4\n",
      "Name: count, dtype: int64\n"
     ]
    }
   ],
   "source": [
    "# 1.문제 정의\n",
    "# 평가: f1-macro\n",
    "# target: Drug\n",
    "# 최종 파일: result.csv(컬럼 1개 pred, 1 확률값)\n",
    "\n",
    "# 2. 라이브러리 및 데이터 불러오기\n",
    "import pandas as pd\n",
    "train = pd.read_csv(\"drug_train.csv\")\n",
    "test = pd.read_csv(\"drug_test.csv\")\n",
    "\n",
    "# 3. 탐색적 데이터 분석(EDA)\n",
    "print(\"===== 데이터 정보(자료형) =====\")\n",
    "print(train.info())\n",
    "      \n",
    "print(\"\\n===== train 결측치 수 =====\")\n",
    "print(train.isnull().sum().sum())\n",
    "\n",
    "print(\"\\n===== test 결측치 수 =====\")\n",
    "print(test.isnull().sum().sum())\n",
    "\n",
    "print(\"\\n===== train/test 카테고리별 수 =====\")\n",
    "print(train[['Sex', 'BP', 'Cholesterol']].nunique())\n",
    "print(test[['Sex', 'BP', 'Cholesterol']].nunique())\n",
    "\n",
    "print(\"\\n===== target 빈도 =====\")\n",
    "print(train['Drug'].value_counts())"
   ]
  },
  {
   "cell_type": "code",
   "execution_count": 16,
   "id": "e4882e7b-d27e-4e6c-82d0-004cda1eadc2",
   "metadata": {},
   "outputs": [
    {
     "name": "stdout",
     "output_type": "stream",
     "text": [
      "\n",
      " f1-macro: 1.0\n"
     ]
    }
   ],
   "source": [
    "# 4. 데이터 전처리\n",
    "# 원-핫 인코딩\n",
    "target = train.pop('Drug')\n",
    "train = pd.get_dummies(train)\n",
    "test = pd.get_dummies(test)\n",
    "\n",
    "# 5. 검증 데이터 나누기\n",
    "from sklearn.model_selection import train_test_split\n",
    "X_tr, X_val, y_tr, y_val = train_test_split(train, target, test_size=0.2, random_state=0)\n",
    "\n",
    "# 6. 머신러닝 학습 및 평가\n",
    "from sklearn.ensemble import RandomForestClassifier\n",
    "rf = RandomForestClassifier(random_state=0)\n",
    "rf.fit(X_tr, y_tr)\n",
    "pred = rf.predict(X_val)\n",
    "\n",
    "from sklearn.metrics import f1_score\n",
    "f1 = f1_score(y_val, pred, average='macro')\n",
    "print('\\n f1-macro:', f1)\n",
    "\n",
    "# 7. 예측 및 결과 파일 생성\n",
    "pred = rf.predict(test)\n",
    "submit = pd.DataFrame({'pred':pred})\n",
    "submit.to_csv(\"result.csv\", index=False)"
   ]
  },
  {
   "cell_type": "code",
   "execution_count": 18,
   "id": "22eeea5b-7e3c-42c0-8629-1476a8089b03",
   "metadata": {},
   "outputs": [
    {
     "name": "stdout",
     "output_type": "stream",
     "text": [
      "0.9074643874643874\n"
     ]
    }
   ],
   "source": [
    "# 성능 개선\n",
    "\n",
    "# 2. 라이브러리 및 데이터 불러오기\n",
    "import pandas as pd\n",
    "train = pd.read_csv(\"drug_train.csv\")\n",
    "test = pd.read_csv(\"drug_test.csv\")\n",
    "\n",
    "# 4. 데이터 전처리\n",
    "target = train.pop('Drug')\n",
    "\n",
    "# 원-핫 인코딩\n",
    "train = pd.get_dummies(train)\n",
    "test = pd.get_dummies(test)\n",
    "\n",
    "# 5. 크로스 벨리데이션\n",
    "from sklearn.metrics import f1_score\n",
    "from sklearn.model_selection import cross_val_score\n",
    "from sklearn.ensemble import RandomForestClassifier\n",
    "X_tr, X_val, y_tr, y_val = train_test_split(train, target, test_size=0.2, random_state=0)\n",
    "rf = RandomForestClassifier(random_state=0)\n",
    "f1_scores = cross_val_score(rf, train, target, cv=3, scoring='f1_macro')\n",
    "print(f1_scores.mean())\n",
    "\n",
    "# 6. 머신러닝 학습\n",
    "rf.fit(train, target)\n",
    "\n",
    "# 7. 예측 및 결과 파일 생성\n",
    "pred = rf.predict(test)\n",
    "submit = pd.DataFrame({'pred':pred})\n",
    "submit.to_csv(\"result.csv\", index=False)"
   ]
  }
 ],
 "metadata": {
  "kernelspec": {
   "display_name": "Python 3 (ipykernel)",
   "language": "python",
   "name": "python3"
  },
  "language_info": {
   "codemirror_mode": {
    "name": "ipython",
    "version": 3
   },
   "file_extension": ".py",
   "mimetype": "text/x-python",
   "name": "python",
   "nbconvert_exporter": "python",
   "pygments_lexer": "ipython3",
   "version": "3.12.3"
  }
 },
 "nbformat": 4,
 "nbformat_minor": 5
}
