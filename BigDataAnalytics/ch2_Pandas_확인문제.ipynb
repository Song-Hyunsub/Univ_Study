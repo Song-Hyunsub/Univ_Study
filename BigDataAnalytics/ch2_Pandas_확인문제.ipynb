{
 "cells": [
  {
   "cell_type": "code",
   "execution_count": 123,
   "id": "c5139112-94c5-4850-9d1e-0e7b3d3767b9",
   "metadata": {},
   "outputs": [
    {
     "data": {
      "text/html": [
       "<div>\n",
       "<style scoped>\n",
       "    .dataframe tbody tr th:only-of-type {\n",
       "        vertical-align: middle;\n",
       "    }\n",
       "\n",
       "    .dataframe tbody tr th {\n",
       "        vertical-align: top;\n",
       "    }\n",
       "\n",
       "    .dataframe thead th {\n",
       "        text-align: right;\n",
       "    }\n",
       "</style>\n",
       "<table border=\"1\" class=\"dataframe\">\n",
       "  <thead>\n",
       "    <tr style=\"text-align: right;\">\n",
       "      <th></th>\n",
       "      <th>메뉴</th>\n",
       "      <th>가격</th>\n",
       "      <th>칼로리</th>\n",
       "      <th>원산지</th>\n",
       "    </tr>\n",
       "  </thead>\n",
       "  <tbody>\n",
       "    <tr>\n",
       "      <th>0</th>\n",
       "      <td>아메리카노</td>\n",
       "      <td>4500</td>\n",
       "      <td>10.0</td>\n",
       "      <td>과테말라</td>\n",
       "    </tr>\n",
       "    <tr>\n",
       "      <th>1</th>\n",
       "      <td>카페라떼</td>\n",
       "      <td>5000</td>\n",
       "      <td>110.0</td>\n",
       "      <td>브라질</td>\n",
       "    </tr>\n",
       "    <tr>\n",
       "      <th>2</th>\n",
       "      <td>에스프레소</td>\n",
       "      <td>4000</td>\n",
       "      <td>NaN</td>\n",
       "      <td>과테말라</td>\n",
       "    </tr>\n",
       "    <tr>\n",
       "      <th>3</th>\n",
       "      <td>카페모카</td>\n",
       "      <td>5900</td>\n",
       "      <td>210.0</td>\n",
       "      <td>NaN</td>\n",
       "    </tr>\n",
       "    <tr>\n",
       "      <th>4</th>\n",
       "      <td>바닐라라떼</td>\n",
       "      <td>5300</td>\n",
       "      <td>NaN</td>\n",
       "      <td>NaN</td>\n",
       "    </tr>\n",
       "  </tbody>\n",
       "</table>\n",
       "</div>"
      ],
      "text/plain": [
       "      메뉴    가격    칼로리   원산지\n",
       "0  아메리카노  4500   10.0  과테말라\n",
       "1   카페라떼  5000  110.0   브라질\n",
       "2  에스프레소  4000    NaN  과테말라\n",
       "3   카페모카  5900  210.0   NaN\n",
       "4  바닐라라떼  5300    NaN   NaN"
      ]
     },
     "execution_count": 123,
     "metadata": {},
     "output_type": "execute_result"
    }
   ],
   "source": [
    "import pandas as pd\n",
    "import numpy as np\n",
    "\n",
    "df = pd.DataFrame({\n",
    "    \"메뉴\":['아메리카노', '카페라떼', '에스프레소', '카페모카', '바닐라라떼'],\n",
    "    \"가격\":[4500, 5000, 4000, 5900, 5300],\n",
    "    \"칼로리\":[10, 110, np.NaN, 210, np.NaN],\n",
    "    \"원산지\":['과테말라','브라질','과테말라', np.NaN, np.NaN]\n",
    "})\n",
    "df"
   ]
  },
  {
   "cell_type": "markdown",
   "id": "5ad0b8f0-c2ca-4e56-8b53-ad69b2b93652",
   "metadata": {},
   "source": [
    "Q1) '칼로리' 컬럼의 결측치를 칼로리 데이터 중 최솟값으로 채우시오."
   ]
  },
  {
   "cell_type": "code",
   "execution_count": 125,
   "id": "70d16b9c-c844-44db-8001-f175e6f06873",
   "metadata": {},
   "outputs": [
    {
     "name": "stdout",
     "output_type": "stream",
     "text": [
      "      메뉴    가격    칼로리   원산지\n",
      "0  아메리카노  4500   10.0  과테말라\n",
      "1   카페라떼  5000  110.0   브라질\n",
      "2  에스프레소  4000   10.0  과테말라\n",
      "3   카페모카  5900  210.0   NaN\n",
      "4  바닐라라떼  5300   10.0   NaN\n"
     ]
    }
   ],
   "source": [
    "min_cal=df['칼로리'].min()\n",
    "df['칼로리']=df['칼로리'].fillna(min_cal)\n",
    "print(df)"
   ]
  },
  {
   "cell_type": "markdown",
   "id": "2fa1d66b-7605-4d28-88b5-90504ae5c723",
   "metadata": {},
   "source": [
    "Q2) '원산지' 컬럼의 결측치를 원산지 데이터 중 최빈값으로 채우시오."
   ]
  },
  {
   "cell_type": "code",
   "execution_count": 127,
   "id": "5e25edc4-32a0-4ec5-9974-609eb71f1314",
   "metadata": {},
   "outputs": [
    {
     "name": "stdout",
     "output_type": "stream",
     "text": [
      "      메뉴    가격    칼로리   원산지\n",
      "0  아메리카노  4500   10.0  과테말라\n",
      "1   카페라떼  5000  110.0   브라질\n",
      "2  에스프레소  4000   10.0  과테말라\n",
      "3   카페모카  5900  210.0  과테말라\n",
      "4  바닐라라떼  5300   10.0  과테말라\n"
     ]
    }
   ],
   "source": [
    "# 유일한 최빈값 : mode()[0]\n",
    "mode_org = df['원산지'].mode()[0]\n",
    "df['원산지']=df['원산지'].fillna(mode_org)\n",
    "print(df)"
   ]
  },
  {
   "cell_type": "markdown",
   "id": "c1b60ec9-ffc9-49d7-8065-e203b008a44e",
   "metadata": {},
   "source": [
    "Q3) '가격'이 5,000 이상인 데이터의 수를 구하시오."
   ]
  },
  {
   "cell_type": "code",
   "execution_count": 129,
   "id": "812d2db3-7c92-42d4-91c8-52fedea32409",
   "metadata": {},
   "outputs": [
    {
     "data": {
      "text/plain": [
       "3"
      ]
     },
     "execution_count": 129,
     "metadata": {},
     "output_type": "execute_result"
    }
   ],
   "source": [
    "cond = df['가격']>=5000\n",
    "len(df[cond])  # 또는 sum(cond)"
   ]
  },
  {
   "cell_type": "markdown",
   "id": "e3f7639e-e731-49d4-bf84-28568b91be0b",
   "metadata": {},
   "source": [
    "Q4) '이벤트가' 컬럼을 만들고 기존 가격에서 50% 할인된 가격을 채우시오."
   ]
  },
  {
   "cell_type": "code",
   "execution_count": 131,
   "id": "d273ed50-dd60-4802-9406-8c7e4a95cf7b",
   "metadata": {},
   "outputs": [
    {
     "data": {
      "text/html": [
       "<div>\n",
       "<style scoped>\n",
       "    .dataframe tbody tr th:only-of-type {\n",
       "        vertical-align: middle;\n",
       "    }\n",
       "\n",
       "    .dataframe tbody tr th {\n",
       "        vertical-align: top;\n",
       "    }\n",
       "\n",
       "    .dataframe thead th {\n",
       "        text-align: right;\n",
       "    }\n",
       "</style>\n",
       "<table border=\"1\" class=\"dataframe\">\n",
       "  <thead>\n",
       "    <tr style=\"text-align: right;\">\n",
       "      <th></th>\n",
       "      <th>메뉴</th>\n",
       "      <th>가격</th>\n",
       "      <th>칼로리</th>\n",
       "      <th>원산지</th>\n",
       "      <th>이벤트가</th>\n",
       "    </tr>\n",
       "  </thead>\n",
       "  <tbody>\n",
       "    <tr>\n",
       "      <th>0</th>\n",
       "      <td>아메리카노</td>\n",
       "      <td>4500</td>\n",
       "      <td>10.0</td>\n",
       "      <td>과테말라</td>\n",
       "      <td>2250.0</td>\n",
       "    </tr>\n",
       "    <tr>\n",
       "      <th>1</th>\n",
       "      <td>카페라떼</td>\n",
       "      <td>5000</td>\n",
       "      <td>110.0</td>\n",
       "      <td>브라질</td>\n",
       "      <td>2500.0</td>\n",
       "    </tr>\n",
       "    <tr>\n",
       "      <th>2</th>\n",
       "      <td>에스프레소</td>\n",
       "      <td>4000</td>\n",
       "      <td>10.0</td>\n",
       "      <td>과테말라</td>\n",
       "      <td>2000.0</td>\n",
       "    </tr>\n",
       "    <tr>\n",
       "      <th>3</th>\n",
       "      <td>카페모카</td>\n",
       "      <td>5900</td>\n",
       "      <td>210.0</td>\n",
       "      <td>과테말라</td>\n",
       "      <td>2950.0</td>\n",
       "    </tr>\n",
       "    <tr>\n",
       "      <th>4</th>\n",
       "      <td>바닐라라떼</td>\n",
       "      <td>5300</td>\n",
       "      <td>10.0</td>\n",
       "      <td>과테말라</td>\n",
       "      <td>2650.0</td>\n",
       "    </tr>\n",
       "  </tbody>\n",
       "</table>\n",
       "</div>"
      ],
      "text/plain": [
       "      메뉴    가격    칼로리   원산지    이벤트가\n",
       "0  아메리카노  4500   10.0  과테말라  2250.0\n",
       "1   카페라떼  5000  110.0   브라질  2500.0\n",
       "2  에스프레소  4000   10.0  과테말라  2000.0\n",
       "3   카페모카  5900  210.0  과테말라  2950.0\n",
       "4  바닐라라떼  5300   10.0  과테말라  2650.0"
      ]
     },
     "execution_count": 131,
     "metadata": {},
     "output_type": "execute_result"
    }
   ],
   "source": [
    "df['이벤트가']=df['가격']*0.5\n",
    "df"
   ]
  },
  {
   "cell_type": "markdown",
   "id": "448606fa-9790-4d8c-811d-0ec5a40d819e",
   "metadata": {},
   "source": [
    "Q5) '칼로리' 컬럼을 삭제하시오."
   ]
  },
  {
   "cell_type": "code",
   "execution_count": 133,
   "id": "bf3b5c4b-7531-4f08-b3ab-ae00669d9256",
   "metadata": {},
   "outputs": [
    {
     "data": {
      "text/html": [
       "<div>\n",
       "<style scoped>\n",
       "    .dataframe tbody tr th:only-of-type {\n",
       "        vertical-align: middle;\n",
       "    }\n",
       "\n",
       "    .dataframe tbody tr th {\n",
       "        vertical-align: top;\n",
       "    }\n",
       "\n",
       "    .dataframe thead th {\n",
       "        text-align: right;\n",
       "    }\n",
       "</style>\n",
       "<table border=\"1\" class=\"dataframe\">\n",
       "  <thead>\n",
       "    <tr style=\"text-align: right;\">\n",
       "      <th></th>\n",
       "      <th>메뉴</th>\n",
       "      <th>가격</th>\n",
       "      <th>원산지</th>\n",
       "      <th>이벤트가</th>\n",
       "    </tr>\n",
       "  </thead>\n",
       "  <tbody>\n",
       "    <tr>\n",
       "      <th>0</th>\n",
       "      <td>아메리카노</td>\n",
       "      <td>4500</td>\n",
       "      <td>과테말라</td>\n",
       "      <td>2250.0</td>\n",
       "    </tr>\n",
       "    <tr>\n",
       "      <th>1</th>\n",
       "      <td>카페라떼</td>\n",
       "      <td>5000</td>\n",
       "      <td>브라질</td>\n",
       "      <td>2500.0</td>\n",
       "    </tr>\n",
       "    <tr>\n",
       "      <th>2</th>\n",
       "      <td>에스프레소</td>\n",
       "      <td>4000</td>\n",
       "      <td>과테말라</td>\n",
       "      <td>2000.0</td>\n",
       "    </tr>\n",
       "    <tr>\n",
       "      <th>3</th>\n",
       "      <td>카페모카</td>\n",
       "      <td>5900</td>\n",
       "      <td>과테말라</td>\n",
       "      <td>2950.0</td>\n",
       "    </tr>\n",
       "    <tr>\n",
       "      <th>4</th>\n",
       "      <td>바닐라라떼</td>\n",
       "      <td>5300</td>\n",
       "      <td>과테말라</td>\n",
       "      <td>2650.0</td>\n",
       "    </tr>\n",
       "  </tbody>\n",
       "</table>\n",
       "</div>"
      ],
      "text/plain": [
       "      메뉴    가격   원산지    이벤트가\n",
       "0  아메리카노  4500  과테말라  2250.0\n",
       "1   카페라떼  5000   브라질  2500.0\n",
       "2  에스프레소  4000  과테말라  2000.0\n",
       "3   카페모카  5900  과테말라  2950.0\n",
       "4  바닐라라떼  5300  과테말라  2650.0"
      ]
     },
     "execution_count": 133,
     "metadata": {},
     "output_type": "execute_result"
    }
   ],
   "source": [
    "df=df.drop('칼로리', axis=1)\n",
    "df"
   ]
  },
  {
   "cell_type": "markdown",
   "id": "64fe6eb6-d0fc-41da-afa2-6a6c85343021",
   "metadata": {},
   "source": [
    "Q6) 위에서부터 3개의 행만 선택하시오. (loc 사용)"
   ]
  },
  {
   "cell_type": "code",
   "execution_count": 135,
   "id": "32d0fda6-c145-4aa7-85bf-e8bf3085da8d",
   "metadata": {},
   "outputs": [
    {
     "data": {
      "text/html": [
       "<div>\n",
       "<style scoped>\n",
       "    .dataframe tbody tr th:only-of-type {\n",
       "        vertical-align: middle;\n",
       "    }\n",
       "\n",
       "    .dataframe tbody tr th {\n",
       "        vertical-align: top;\n",
       "    }\n",
       "\n",
       "    .dataframe thead th {\n",
       "        text-align: right;\n",
       "    }\n",
       "</style>\n",
       "<table border=\"1\" class=\"dataframe\">\n",
       "  <thead>\n",
       "    <tr style=\"text-align: right;\">\n",
       "      <th></th>\n",
       "      <th>메뉴</th>\n",
       "      <th>가격</th>\n",
       "      <th>원산지</th>\n",
       "      <th>이벤트가</th>\n",
       "    </tr>\n",
       "  </thead>\n",
       "  <tbody>\n",
       "    <tr>\n",
       "      <th>0</th>\n",
       "      <td>아메리카노</td>\n",
       "      <td>4500</td>\n",
       "      <td>과테말라</td>\n",
       "      <td>2250.0</td>\n",
       "    </tr>\n",
       "    <tr>\n",
       "      <th>1</th>\n",
       "      <td>카페라떼</td>\n",
       "      <td>5000</td>\n",
       "      <td>브라질</td>\n",
       "      <td>2500.0</td>\n",
       "    </tr>\n",
       "    <tr>\n",
       "      <th>2</th>\n",
       "      <td>에스프레소</td>\n",
       "      <td>4000</td>\n",
       "      <td>과테말라</td>\n",
       "      <td>2000.0</td>\n",
       "    </tr>\n",
       "  </tbody>\n",
       "</table>\n",
       "</div>"
      ],
      "text/plain": [
       "      메뉴    가격   원산지    이벤트가\n",
       "0  아메리카노  4500  과테말라  2250.0\n",
       "1   카페라떼  5000   브라질  2500.0\n",
       "2  에스프레소  4000  과테말라  2000.0"
      ]
     },
     "execution_count": 135,
     "metadata": {},
     "output_type": "execute_result"
    }
   ],
   "source": [
    "df.loc[:2]"
   ]
  },
  {
   "cell_type": "markdown",
   "id": "e789e420-6381-4995-9313-e86467842869",
   "metadata": {},
   "source": [
    "Q7) 위에서부터 3개의 행만 선택하시오. (iloc 사용)"
   ]
  },
  {
   "cell_type": "code",
   "execution_count": 137,
   "id": "56cac528-c827-45a0-a7d8-786f98b04026",
   "metadata": {},
   "outputs": [
    {
     "data": {
      "text/html": [
       "<div>\n",
       "<style scoped>\n",
       "    .dataframe tbody tr th:only-of-type {\n",
       "        vertical-align: middle;\n",
       "    }\n",
       "\n",
       "    .dataframe tbody tr th {\n",
       "        vertical-align: top;\n",
       "    }\n",
       "\n",
       "    .dataframe thead th {\n",
       "        text-align: right;\n",
       "    }\n",
       "</style>\n",
       "<table border=\"1\" class=\"dataframe\">\n",
       "  <thead>\n",
       "    <tr style=\"text-align: right;\">\n",
       "      <th></th>\n",
       "      <th>메뉴</th>\n",
       "      <th>가격</th>\n",
       "      <th>원산지</th>\n",
       "      <th>이벤트가</th>\n",
       "    </tr>\n",
       "  </thead>\n",
       "  <tbody>\n",
       "    <tr>\n",
       "      <th>0</th>\n",
       "      <td>아메리카노</td>\n",
       "      <td>4500</td>\n",
       "      <td>과테말라</td>\n",
       "      <td>2250.0</td>\n",
       "    </tr>\n",
       "    <tr>\n",
       "      <th>1</th>\n",
       "      <td>카페라떼</td>\n",
       "      <td>5000</td>\n",
       "      <td>브라질</td>\n",
       "      <td>2500.0</td>\n",
       "    </tr>\n",
       "    <tr>\n",
       "      <th>2</th>\n",
       "      <td>에스프레소</td>\n",
       "      <td>4000</td>\n",
       "      <td>과테말라</td>\n",
       "      <td>2000.0</td>\n",
       "    </tr>\n",
       "  </tbody>\n",
       "</table>\n",
       "</div>"
      ],
      "text/plain": [
       "      메뉴    가격   원산지    이벤트가\n",
       "0  아메리카노  4500  과테말라  2250.0\n",
       "1   카페라떼  5000   브라질  2500.0\n",
       "2  에스프레소  4000  과테말라  2000.0"
      ]
     },
     "execution_count": 137,
     "metadata": {},
     "output_type": "execute_result"
    }
   ],
   "source": [
    "df.iloc[:3]"
   ]
  },
  {
   "cell_type": "markdown",
   "id": "f4c4a0f0-efa3-4468-9711-e2776f4068e0",
   "metadata": {},
   "source": [
    "Q8) 주어진 데이터(df)에서 아래 값을 loc를 활용해 데이터프레임으로 출력하시오.\n",
    "- 카페라떼 5000\n",
    "- 에스프레소 4000"
   ]
  },
  {
   "cell_type": "code",
   "execution_count": 139,
   "id": "b958ef80-5080-4cd7-bfe2-7175aa428e3f",
   "metadata": {},
   "outputs": [
    {
     "data": {
      "text/html": [
       "<div>\n",
       "<style scoped>\n",
       "    .dataframe tbody tr th:only-of-type {\n",
       "        vertical-align: middle;\n",
       "    }\n",
       "\n",
       "    .dataframe tbody tr th {\n",
       "        vertical-align: top;\n",
       "    }\n",
       "\n",
       "    .dataframe thead th {\n",
       "        text-align: right;\n",
       "    }\n",
       "</style>\n",
       "<table border=\"1\" class=\"dataframe\">\n",
       "  <thead>\n",
       "    <tr style=\"text-align: right;\">\n",
       "      <th></th>\n",
       "      <th>메뉴</th>\n",
       "      <th>가격</th>\n",
       "    </tr>\n",
       "  </thead>\n",
       "  <tbody>\n",
       "    <tr>\n",
       "      <th>1</th>\n",
       "      <td>카페라떼</td>\n",
       "      <td>5000</td>\n",
       "    </tr>\n",
       "    <tr>\n",
       "      <th>2</th>\n",
       "      <td>에스프레소</td>\n",
       "      <td>4000</td>\n",
       "    </tr>\n",
       "  </tbody>\n",
       "</table>\n",
       "</div>"
      ],
      "text/plain": [
       "      메뉴    가격\n",
       "1   카페라떼  5000\n",
       "2  에스프레소  4000"
      ]
     },
     "execution_count": 139,
     "metadata": {},
     "output_type": "execute_result"
    }
   ],
   "source": [
    "df.loc[1:2, :'가격']"
   ]
  },
  {
   "cell_type": "markdown",
   "id": "be8419f0-e8cd-4855-a14d-be5de5ff4a25",
   "metadata": {},
   "source": [
    "Q9) 주어진 데이터(df)에서 아래 값을 iloc을 활용해 데이터프레임으로 출력하시오.\n",
    "- 카페라떼 5000\n",
    "- 에스프레소 4000"
   ]
  },
  {
   "cell_type": "code",
   "execution_count": 141,
   "id": "eca01672-ccd7-4180-ba5e-0c30a7fcf76c",
   "metadata": {},
   "outputs": [
    {
     "data": {
      "text/html": [
       "<div>\n",
       "<style scoped>\n",
       "    .dataframe tbody tr th:only-of-type {\n",
       "        vertical-align: middle;\n",
       "    }\n",
       "\n",
       "    .dataframe tbody tr th {\n",
       "        vertical-align: top;\n",
       "    }\n",
       "\n",
       "    .dataframe thead th {\n",
       "        text-align: right;\n",
       "    }\n",
       "</style>\n",
       "<table border=\"1\" class=\"dataframe\">\n",
       "  <thead>\n",
       "    <tr style=\"text-align: right;\">\n",
       "      <th></th>\n",
       "      <th>메뉴</th>\n",
       "      <th>가격</th>\n",
       "    </tr>\n",
       "  </thead>\n",
       "  <tbody>\n",
       "    <tr>\n",
       "      <th>1</th>\n",
       "      <td>카페라떼</td>\n",
       "      <td>5000</td>\n",
       "    </tr>\n",
       "    <tr>\n",
       "      <th>2</th>\n",
       "      <td>에스프레소</td>\n",
       "      <td>4000</td>\n",
       "    </tr>\n",
       "  </tbody>\n",
       "</table>\n",
       "</div>"
      ],
      "text/plain": [
       "      메뉴    가격\n",
       "1   카페라떼  5000\n",
       "2  에스프레소  4000"
      ]
     },
     "execution_count": 141,
     "metadata": {},
     "output_type": "execute_result"
    }
   ],
   "source": [
    "df.iloc[1:3, :2]"
   ]
  },
  {
   "cell_type": "markdown",
   "id": "51926905-b32c-4af4-8a5e-2ddfba43a84e",
   "metadata": {},
   "source": [
    "Q10) 메뉴 중 가격이 가장 비싼 순으로 정렬해 상위 3개의 값을 구하시오."
   ]
  },
  {
   "cell_type": "code",
   "execution_count": 143,
   "id": "b709ce2a-2887-4a25-8bf5-314aec894612",
   "metadata": {},
   "outputs": [
    {
     "data": {
      "text/html": [
       "<div>\n",
       "<style scoped>\n",
       "    .dataframe tbody tr th:only-of-type {\n",
       "        vertical-align: middle;\n",
       "    }\n",
       "\n",
       "    .dataframe tbody tr th {\n",
       "        vertical-align: top;\n",
       "    }\n",
       "\n",
       "    .dataframe thead th {\n",
       "        text-align: right;\n",
       "    }\n",
       "</style>\n",
       "<table border=\"1\" class=\"dataframe\">\n",
       "  <thead>\n",
       "    <tr style=\"text-align: right;\">\n",
       "      <th></th>\n",
       "      <th>메뉴</th>\n",
       "      <th>가격</th>\n",
       "      <th>원산지</th>\n",
       "      <th>이벤트가</th>\n",
       "    </tr>\n",
       "  </thead>\n",
       "  <tbody>\n",
       "    <tr>\n",
       "      <th>3</th>\n",
       "      <td>카페모카</td>\n",
       "      <td>5900</td>\n",
       "      <td>과테말라</td>\n",
       "      <td>2950.0</td>\n",
       "    </tr>\n",
       "    <tr>\n",
       "      <th>4</th>\n",
       "      <td>바닐라라떼</td>\n",
       "      <td>5300</td>\n",
       "      <td>과테말라</td>\n",
       "      <td>2650.0</td>\n",
       "    </tr>\n",
       "    <tr>\n",
       "      <th>1</th>\n",
       "      <td>카페라떼</td>\n",
       "      <td>5000</td>\n",
       "      <td>브라질</td>\n",
       "      <td>2500.0</td>\n",
       "    </tr>\n",
       "  </tbody>\n",
       "</table>\n",
       "</div>"
      ],
      "text/plain": [
       "      메뉴    가격   원산지    이벤트가\n",
       "3   카페모카  5900  과테말라  2950.0\n",
       "4  바닐라라떼  5300  과테말라  2650.0\n",
       "1   카페라떼  5000   브라질  2500.0"
      ]
     },
     "execution_count": 143,
     "metadata": {},
     "output_type": "execute_result"
    }
   ],
   "source": [
    "df.sort_values('가격', ascending=False).iloc[:3]"
   ]
  }
 ],
 "metadata": {
  "kernelspec": {
   "display_name": "Python 3 (ipykernel)",
   "language": "python",
   "name": "python3"
  },
  "language_info": {
   "codemirror_mode": {
    "name": "ipython",
    "version": 3
   },
   "file_extension": ".py",
   "mimetype": "text/x-python",
   "name": "python",
   "nbconvert_exporter": "python",
   "pygments_lexer": "ipython3",
   "version": "3.12.3"
  }
 },
 "nbformat": 4,
 "nbformat_minor": 5
}
