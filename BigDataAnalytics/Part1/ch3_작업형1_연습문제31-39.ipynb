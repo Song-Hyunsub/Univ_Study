{
 "cells": [
  {
   "cell_type": "markdown",
   "id": "bb887756-d4b7-41ca-b89e-aa748b50c4fc",
   "metadata": {},
   "source": [
    "Q31) 문자열, 형 변환"
   ]
  },
  {
   "cell_type": "code",
   "execution_count": 11,
   "id": "e9f9c038-eb89-4695-be6b-c2bb9aef4e3b",
   "metadata": {},
   "outputs": [],
   "source": [
    "import pandas as pd\n",
    "df = pd.read_csv(\"delivery_time.csv\")"
   ]
  },
  {
   "cell_type": "code",
   "execution_count": 21,
   "id": "3f994496-dfb6-49a7-89e6-6c3daa47bf14",
   "metadata": {},
   "outputs": [],
   "source": [
    "# 문자 슬라이싱\n",
    "df['user_int'] = df['user'].str[5:]"
   ]
  },
  {
   "cell_type": "code",
   "execution_count": 23,
   "id": "5cacd156-003b-4aae-aa77-4430ee16c09e",
   "metadata": {},
   "outputs": [],
   "source": [
    "# 자료형 변환\n",
    "df['user_int'] = df['user_int'].astype(int)"
   ]
  },
  {
   "cell_type": "code",
   "execution_count": 25,
   "id": "46e830bb-7324-460b-98b9-e5234a1a0ca5",
   "metadata": {},
   "outputs": [
    {
     "name": "stdout",
     "output_type": "stream",
     "text": [
      "261387\n"
     ]
    }
   ],
   "source": [
    "# 합계\n",
    "print(df['user_int'].sum())"
   ]
  },
  {
   "cell_type": "markdown",
   "id": "ea318e5c-db15-49a1-bad8-c30683fda629",
   "metadata": {},
   "source": [
    "Q32) 합계(열 방향), 상위 값 선택"
   ]
  },
  {
   "cell_type": "code",
   "execution_count": 2,
   "id": "d9f0007b-7c3c-4cdc-9e31-7a354f3df213",
   "metadata": {},
   "outputs": [],
   "source": [
    "import pandas as pd\n",
    "df = pd.read_csv(\"school_data.csv\")"
   ]
  },
  {
   "cell_type": "code",
   "execution_count": 4,
   "id": "4e8a5688-e40f-4a27-8bc0-92392b9128f8",
   "metadata": {},
   "outputs": [],
   "source": [
    "# 수학, 영어, 국어 점수 합계\n",
    "df['total_score'] = df[['수학','영어','국어']].sum(axis=1)"
   ]
  },
  {
   "cell_type": "code",
   "execution_count": 8,
   "id": "c8702935-b368-4431-8497-2df0c8048cb6",
   "metadata": {},
   "outputs": [],
   "source": [
    "# 합계 점수를 기준으로 상위 10명 선택\n",
    "top10 = df.nlargest(10, 'total_score')"
   ]
  },
  {
   "cell_type": "code",
   "execution_count": 12,
   "id": "bf1dc892-3797-4bb6-97e8-74105a815ab6",
   "metadata": {},
   "outputs": [
    {
     "data": {
      "text/html": [
       "<div>\n",
       "<style scoped>\n",
       "    .dataframe tbody tr th:only-of-type {\n",
       "        vertical-align: middle;\n",
       "    }\n",
       "\n",
       "    .dataframe tbody tr th {\n",
       "        vertical-align: top;\n",
       "    }\n",
       "\n",
       "    .dataframe thead th {\n",
       "        text-align: right;\n",
       "    }\n",
       "</style>\n",
       "<table border=\"1\" class=\"dataframe\">\n",
       "  <thead>\n",
       "    <tr style=\"text-align: right;\">\n",
       "      <th></th>\n",
       "      <th>이름</th>\n",
       "      <th>수학</th>\n",
       "      <th>영어</th>\n",
       "      <th>국어</th>\n",
       "      <th>수학교사</th>\n",
       "      <th>영어교사</th>\n",
       "      <th>국어교사</th>\n",
       "      <th>total_score</th>\n",
       "    </tr>\n",
       "  </thead>\n",
       "  <tbody>\n",
       "    <tr>\n",
       "      <th>6</th>\n",
       "      <td>원숭이</td>\n",
       "      <td>86</td>\n",
       "      <td>97</td>\n",
       "      <td>71</td>\n",
       "      <td>김선생</td>\n",
       "      <td>장선생</td>\n",
       "      <td>이선생</td>\n",
       "      <td>254</td>\n",
       "    </tr>\n",
       "    <tr>\n",
       "      <th>4</th>\n",
       "      <td>호랑이</td>\n",
       "      <td>83</td>\n",
       "      <td>92</td>\n",
       "      <td>75</td>\n",
       "      <td>박선생</td>\n",
       "      <td>장선생</td>\n",
       "      <td>이선생</td>\n",
       "      <td>250</td>\n",
       "    </tr>\n",
       "    <tr>\n",
       "      <th>8</th>\n",
       "      <td>코끼리</td>\n",
       "      <td>96</td>\n",
       "      <td>94</td>\n",
       "      <td>43</td>\n",
       "      <td>김선생</td>\n",
       "      <td>유선생</td>\n",
       "      <td>이선생</td>\n",
       "      <td>233</td>\n",
       "    </tr>\n",
       "    <tr>\n",
       "      <th>1</th>\n",
       "      <td>고양이</td>\n",
       "      <td>92</td>\n",
       "      <td>48</td>\n",
       "      <td>80</td>\n",
       "      <td>김선생</td>\n",
       "      <td>장선생</td>\n",
       "      <td>이선생</td>\n",
       "      <td>220</td>\n",
       "    </tr>\n",
       "    <tr>\n",
       "      <th>13</th>\n",
       "      <td>하이에나</td>\n",
       "      <td>96</td>\n",
       "      <td>40</td>\n",
       "      <td>84</td>\n",
       "      <td>김선생</td>\n",
       "      <td>장선생</td>\n",
       "      <td>최선생</td>\n",
       "      <td>220</td>\n",
       "    </tr>\n",
       "    <tr>\n",
       "      <th>18</th>\n",
       "      <td>독수리</td>\n",
       "      <td>96</td>\n",
       "      <td>34</td>\n",
       "      <td>81</td>\n",
       "      <td>박선생</td>\n",
       "      <td>장선생</td>\n",
       "      <td>이선생</td>\n",
       "      <td>211</td>\n",
       "    </tr>\n",
       "    <tr>\n",
       "      <th>28</th>\n",
       "      <td>돌고래</td>\n",
       "      <td>84</td>\n",
       "      <td>52</td>\n",
       "      <td>67</td>\n",
       "      <td>박선생</td>\n",
       "      <td>유선생</td>\n",
       "      <td>최선생</td>\n",
       "      <td>203</td>\n",
       "    </tr>\n",
       "    <tr>\n",
       "      <th>15</th>\n",
       "      <td>강치</td>\n",
       "      <td>83</td>\n",
       "      <td>69</td>\n",
       "      <td>49</td>\n",
       "      <td>박선생</td>\n",
       "      <td>유선생</td>\n",
       "      <td>이선생</td>\n",
       "      <td>201</td>\n",
       "    </tr>\n",
       "    <tr>\n",
       "      <th>24</th>\n",
       "      <td>참새</td>\n",
       "      <td>2</td>\n",
       "      <td>100</td>\n",
       "      <td>91</td>\n",
       "      <td>김선생</td>\n",
       "      <td>유선생</td>\n",
       "      <td>최선생</td>\n",
       "      <td>193</td>\n",
       "    </tr>\n",
       "    <tr>\n",
       "      <th>7</th>\n",
       "      <td>기린</td>\n",
       "      <td>97</td>\n",
       "      <td>85</td>\n",
       "      <td>1</td>\n",
       "      <td>김선생</td>\n",
       "      <td>유선생</td>\n",
       "      <td>최선생</td>\n",
       "      <td>183</td>\n",
       "    </tr>\n",
       "  </tbody>\n",
       "</table>\n",
       "</div>"
      ],
      "text/plain": [
       "      이름  수학   영어  국어 수학교사 영어교사 국어교사  total_score\n",
       "6    원숭이  86   97  71  김선생  장선생  이선생          254\n",
       "4    호랑이  83   92  75  박선생  장선생  이선생          250\n",
       "8    코끼리  96   94  43  김선생  유선생  이선생          233\n",
       "1    고양이  92   48  80  김선생  장선생  이선생          220\n",
       "13  하이에나  96   40  84  김선생  장선생  최선생          220\n",
       "18   독수리  96   34  81  박선생  장선생  이선생          211\n",
       "28   돌고래  84   52  67  박선생  유선생  최선생          203\n",
       "15    강치  83   69  49  박선생  유선생  이선생          201\n",
       "24    참새   2  100  91  김선생  유선생  최선생          193\n",
       "7     기린  97   85   1  김선생  유선생  최선생          183"
      ]
     },
     "execution_count": 12,
     "metadata": {},
     "output_type": "execute_result"
    }
   ],
   "source": [
    "top10"
   ]
  },
  {
   "cell_type": "code",
   "execution_count": 10,
   "id": "a4cc82a7-29f0-457c-b3e9-ab846a3569c3",
   "metadata": {},
   "outputs": [
    {
     "name": "stdout",
     "output_type": "stream",
     "text": [
      "82\n"
     ]
    }
   ],
   "source": [
    "# 선택된 10명의 수학 평균 점수 계산\n",
    "result = top10['수학'].mean()\n",
    "print(round(result))"
   ]
  },
  {
   "cell_type": "markdown",
   "id": "204d18ff-b636-4083-be65-79ab0a99d823",
   "metadata": {},
   "source": [
    "Q33) 데이터프레임 재구조화"
   ]
  },
  {
   "cell_type": "code",
   "execution_count": 15,
   "id": "f70d7d3e-8e29-47fa-854e-5dbef8ed2524",
   "metadata": {},
   "outputs": [],
   "source": [
    "import pandas as pd\n",
    "df = pd.read_csv(\"school_data.csv\")"
   ]
  },
  {
   "cell_type": "code",
   "execution_count": 17,
   "id": "6aff89c7-1372-4a0c-9dd0-d23bc7342040",
   "metadata": {},
   "outputs": [],
   "source": [
    "# 이름을 유지하면서 수학, 영어, 국어 형태 변경\n",
    "melted_df = df.melt(id_vars=['이름'], value_vars=['수학', '영어', '국어'])"
   ]
  },
  {
   "cell_type": "code",
   "execution_count": 19,
   "id": "ff34aafb-2605-4b42-8e3e-d1560241e7d0",
   "metadata": {},
   "outputs": [
    {
     "data": {
      "text/html": [
       "<div>\n",
       "<style scoped>\n",
       "    .dataframe tbody tr th:only-of-type {\n",
       "        vertical-align: middle;\n",
       "    }\n",
       "\n",
       "    .dataframe tbody tr th {\n",
       "        vertical-align: top;\n",
       "    }\n",
       "\n",
       "    .dataframe thead th {\n",
       "        text-align: right;\n",
       "    }\n",
       "</style>\n",
       "<table border=\"1\" class=\"dataframe\">\n",
       "  <thead>\n",
       "    <tr style=\"text-align: right;\">\n",
       "      <th></th>\n",
       "      <th>이름</th>\n",
       "      <th>variable</th>\n",
       "      <th>value</th>\n",
       "    </tr>\n",
       "  </thead>\n",
       "  <tbody>\n",
       "    <tr>\n",
       "      <th>0</th>\n",
       "      <td>강아지</td>\n",
       "      <td>수학</td>\n",
       "      <td>66</td>\n",
       "    </tr>\n",
       "    <tr>\n",
       "      <th>1</th>\n",
       "      <td>고양이</td>\n",
       "      <td>수학</td>\n",
       "      <td>92</td>\n",
       "    </tr>\n",
       "    <tr>\n",
       "      <th>2</th>\n",
       "      <td>토끼</td>\n",
       "      <td>수학</td>\n",
       "      <td>98</td>\n",
       "    </tr>\n",
       "    <tr>\n",
       "      <th>3</th>\n",
       "      <td>사자</td>\n",
       "      <td>수학</td>\n",
       "      <td>17</td>\n",
       "    </tr>\n",
       "    <tr>\n",
       "      <th>4</th>\n",
       "      <td>호랑이</td>\n",
       "      <td>수학</td>\n",
       "      <td>83</td>\n",
       "    </tr>\n",
       "    <tr>\n",
       "      <th>...</th>\n",
       "      <td>...</td>\n",
       "      <td>...</td>\n",
       "      <td>...</td>\n",
       "    </tr>\n",
       "    <tr>\n",
       "      <th>85</th>\n",
       "      <td>타조</td>\n",
       "      <td>국어</td>\n",
       "      <td>49</td>\n",
       "    </tr>\n",
       "    <tr>\n",
       "      <th>86</th>\n",
       "      <td>개구리</td>\n",
       "      <td>국어</td>\n",
       "      <td>86</td>\n",
       "    </tr>\n",
       "    <tr>\n",
       "      <th>87</th>\n",
       "      <td>펠리칸</td>\n",
       "      <td>국어</td>\n",
       "      <td>3</td>\n",
       "    </tr>\n",
       "    <tr>\n",
       "      <th>88</th>\n",
       "      <td>돌고래</td>\n",
       "      <td>국어</td>\n",
       "      <td>67</td>\n",
       "    </tr>\n",
       "    <tr>\n",
       "      <th>89</th>\n",
       "      <td>매</td>\n",
       "      <td>국어</td>\n",
       "      <td>11</td>\n",
       "    </tr>\n",
       "  </tbody>\n",
       "</table>\n",
       "<p>90 rows × 3 columns</p>\n",
       "</div>"
      ],
      "text/plain": [
       "     이름 variable  value\n",
       "0   강아지       수학     66\n",
       "1   고양이       수학     92\n",
       "2    토끼       수학     98\n",
       "3    사자       수학     17\n",
       "4   호랑이       수학     83\n",
       "..  ...      ...    ...\n",
       "85   타조       국어     49\n",
       "86  개구리       국어     86\n",
       "87  펠리칸       국어      3\n",
       "88  돌고래       국어     67\n",
       "89    매       국어     11\n",
       "\n",
       "[90 rows x 3 columns]"
      ]
     },
     "execution_count": 19,
     "metadata": {},
     "output_type": "execute_result"
    }
   ],
   "source": [
    "melted_df"
   ]
  },
  {
   "cell_type": "code",
   "execution_count": 21,
   "id": "359eda7c-9305-46d3-bd80-5c18d2aff460",
   "metadata": {},
   "outputs": [
    {
     "name": "stdout",
     "output_type": "stream",
     "text": [
      "420\n"
     ]
    }
   ],
   "source": [
    "# 가장 작은 값 25개의 합\n",
    "result = melted_df['value'].nsmallest(25).sum()\n",
    "print(result)"
   ]
  },
  {
   "cell_type": "markdown",
   "id": "95e38204-2fdf-4ae0-b451-e1804d117d45",
   "metadata": {},
   "source": [
    "Q34) 데이터 합치기(concat)"
   ]
  },
  {
   "cell_type": "code",
   "execution_count": 24,
   "id": "9927800d-280b-4695-9668-bcbabfe1efb9",
   "metadata": {},
   "outputs": [],
   "source": [
    "import pandas as pd\n",
    "df = pd.read_csv(\"school_data.csv\")\n",
    "df_science = pd.read_csv(\"school_data_science.csv\")"
   ]
  },
  {
   "cell_type": "code",
   "execution_count": 26,
   "id": "9ba1f812-d604-45a8-8970-3805f119cf4a",
   "metadata": {},
   "outputs": [],
   "source": [
    "# 두 데이터프레임 합치기(axis=1)\n",
    "df = pd.concat([df, df_science], axis=1)"
   ]
  },
  {
   "cell_type": "code",
   "execution_count": 30,
   "id": "5fb0cba5-f556-4a70-8b37-c3ef56309394",
   "metadata": {},
   "outputs": [],
   "source": [
    "# 수평(열)으로 평균 계산\n",
    "df['수영국과 평균'] = df[['수학','영어','국어','과학']].mean(axis=1)"
   ]
  },
  {
   "cell_type": "code",
   "execution_count": 32,
   "id": "008ff936-ee4a-411a-9808-57d4a4d13e12",
   "metadata": {},
   "outputs": [
    {
     "name": "stdout",
     "output_type": "stream",
     "text": [
      "9\n"
     ]
    }
   ],
   "source": [
    "# 수학, 영어, 국어, 과학 평균이 60점 이상\n",
    "result = sum(df['수영국과 평균']>=60)\n",
    "print(result)"
   ]
  },
  {
   "cell_type": "markdown",
   "id": "59ef9a14-8d37-4a32-be2a-3e10324a3741",
   "metadata": {},
   "source": [
    "Q35) 데이터 합치기(merge)"
   ]
  },
  {
   "cell_type": "code",
   "execution_count": 35,
   "id": "a011cab9-fa5a-4c11-862e-0e0755e26cf4",
   "metadata": {},
   "outputs": [],
   "source": [
    "import pandas as pd\n",
    "df = pd.read_csv(\"school_data.csv\")\n",
    "df_social = pd.read_csv(\"school_data_social.csv\")"
   ]
  },
  {
   "cell_type": "code",
   "execution_count": 37,
   "id": "6bd70cf5-23a4-4746-aeeb-83730205a093",
   "metadata": {},
   "outputs": [],
   "source": [
    "# '이름'을 기준으로 두 데이터프레임 합치기\n",
    "merged_df = pd.merge(df, df_social, on='이름')"
   ]
  },
  {
   "cell_type": "code",
   "execution_count": 39,
   "id": "622c48a0-eb56-45ec-82df-2408314bdbdf",
   "metadata": {},
   "outputs": [],
   "source": [
    "# 교사 필터링\n",
    "cond1 = merged_df['영어교사']=='장선생'\n",
    "cond2 = merged_df['사회교사']=='오선생'"
   ]
  },
  {
   "cell_type": "code",
   "execution_count": 41,
   "id": "d96264c5-db28-4e4a-8974-b65d3946364d",
   "metadata": {},
   "outputs": [
    {
     "name": "stdout",
     "output_type": "stream",
     "text": [
      "602\n"
     ]
    }
   ],
   "source": [
    "# 필터링된 데이터에서 수학 점수 합\n",
    "result = merged_df[cond1 & cond2]['수학'].sum()\n",
    "print(result)"
   ]
  },
  {
   "cell_type": "markdown",
   "id": "ca7b3515-e8e4-4247-a90b-265b16899424",
   "metadata": {},
   "source": [
    "Q36) 조건별 변환(transform)"
   ]
  },
  {
   "cell_type": "code",
   "execution_count": 47,
   "id": "291a7873-ae6e-45ee-bff6-a874f3f62561",
   "metadata": {},
   "outputs": [],
   "source": [
    "import pandas as pd\n",
    "df=pd.read_csv(\"sales.csv\")"
   ]
  },
  {
   "cell_type": "code",
   "execution_count": 49,
   "id": "9dc088d9-e6b4-483e-a079-cbbfe067e8f1",
   "metadata": {},
   "outputs": [],
   "source": [
    "# 지역별 평균 판매금액 계산 후, 결측값 대체\n",
    "m=df.groupby('지역코드')['판매금액'].transform('mean')\n",
    "df['판매금액']=df['판매금액'].fillna(m)"
   ]
  },
  {
   "cell_type": "code",
   "execution_count": 53,
   "id": "dbca24a1-1aec-42cc-b505-6ad1f969916e",
   "metadata": {},
   "outputs": [],
   "source": [
    "# 각 거래별 해당 지역의 평균 판매금액 구하기\n",
    "df['지역평균'] = df.groupby('지역코드')['판매금액'].transform('mean')"
   ]
  },
  {
   "cell_type": "code",
   "execution_count": 55,
   "id": "b8179c75-1450-41ca-aadf-6bde24a6e6d3",
   "metadata": {},
   "outputs": [],
   "source": [
    "# 판매금액과 지역평균의 차이(절대값) 계산하여 새로운 컬럼 생성\n",
    "df['차이'] = abs(df['판매금액']-df['지역평균'])"
   ]
  },
  {
   "cell_type": "code",
   "execution_count": 57,
   "id": "cb9c672c-4894-4eed-a96b-1112a8b8f9d2",
   "metadata": {},
   "outputs": [
    {
     "data": {
      "text/plain": [
       "103"
      ]
     },
     "execution_count": 57,
     "metadata": {},
     "output_type": "execute_result"
    }
   ],
   "source": [
    "# 지역별 차이 평균 계산 후, 최대값을 가지는 지역코드 출력\n",
    "result = df.groupby('지역코드')['차이'].mean().idxmax()\n",
    "result"
   ]
  },
  {
   "cell_type": "markdown",
   "id": "5999fb0c-167f-4b62-af0d-5f1a6230c7b9",
   "metadata": {},
   "source": [
    "Q37) 재구조화(unstack), 맵핑"
   ]
  },
  {
   "cell_type": "code",
   "execution_count": 65,
   "id": "79dcc0e4-4619-4c9f-a454-28fd433b62c8",
   "metadata": {},
   "outputs": [],
   "source": [
    "import pandas as pd\n",
    "df = pd.read_csv(\"store_sales.csv\")"
   ]
  },
  {
   "cell_type": "code",
   "execution_count": 67,
   "id": "309151e5-9567-4ac4-ba7d-a85b8c3cc782",
   "metadata": {},
   "outputs": [],
   "source": [
    "# 매출액 계산\n",
    "df['매출액']=df['판매수량'] * df['단가']"
   ]
  },
  {
   "cell_type": "code",
   "execution_count": 71,
   "id": "37d69e7f-d7ca-469a-a5ff-cf344a4856b0",
   "metadata": {},
   "outputs": [],
   "source": [
    "day_mapping = {'월':'평일', '화':'평일', '수':'평일', '목':'평일', '금':'평일', '토':'주말', '일':'주말'}"
   ]
  },
  {
   "cell_type": "code",
   "execution_count": 73,
   "id": "9500c3d4-5892-458d-98de-fef35a4472c8",
   "metadata": {},
   "outputs": [],
   "source": [
    "# 매핑을 활용하여 새로운 열 추가\n",
    "df['구분']=df['요일'].map(day_mapping)"
   ]
  },
  {
   "cell_type": "code",
   "execution_count": 75,
   "id": "2e5b1c17-b634-4279-98b5-5e236e73037e",
   "metadata": {},
   "outputs": [],
   "source": [
    "# 매장코드 & 평일/주말별 매출액 합계\n",
    "store_sales = df.groupby(['매장코드','구분'])['매출액'].sum().unstack()"
   ]
  },
  {
   "cell_type": "code",
   "execution_count": 77,
   "id": "41730cf0-2465-4818-b0f0-9c5dabcd9ff8",
   "metadata": {},
   "outputs": [],
   "source": [
    "# 평일과 주말 매출액 차이 계산\n",
    "store_sales['차이'] = abs(store_sales['평일']-store_sales['주말'])"
   ]
  },
  {
   "cell_type": "code",
   "execution_count": 79,
   "id": "bc849ab7-c036-4103-9857-4ee8c8f7a051",
   "metadata": {},
   "outputs": [
    {
     "data": {
      "text/plain": [
       "241975"
      ]
     },
     "execution_count": 79,
     "metadata": {},
     "output_type": "execute_result"
    }
   ],
   "source": [
    "# 전체 매장 중 매출액 차이가 가장 큰 매장의 차이 값 찾기\n",
    "store_sales['차이'].max()"
   ]
  },
  {
   "cell_type": "markdown",
   "id": "9e87970b-235d-46e2-896c-bb39f95efc58",
   "metadata": {},
   "source": [
    "Q38) 피벗테이블"
   ]
  },
  {
   "cell_type": "code",
   "execution_count": 84,
   "id": "be5dd08c-e8df-406a-a0b2-1c5a145a479b",
   "metadata": {},
   "outputs": [],
   "source": [
    "import pandas as pd\n",
    "df = pd.read_csv(\"region_sales.csv\")"
   ]
  },
  {
   "cell_type": "code",
   "execution_count": 86,
   "id": "acecea9c-982b-4bda-acc8-f37b17bd9e1f",
   "metadata": {},
   "outputs": [],
   "source": [
    "# 피벗 테이블 생성 : Region, Channel별로 Product별 Sales 합계 계산\n",
    "pivot_table = pd.pivot_table(df, index=['Region', 'Channel'], columns='Product', values='Sales', aggfunc='sum')"
   ]
  },
  {
   "cell_type": "code",
   "execution_count": 88,
   "id": "cbe02780-9b4d-4801-8861-517a29632890",
   "metadata": {},
   "outputs": [],
   "source": [
    "# A비율 계산: 제품 A의 판매액 / 총매출\n",
    "pivot_table['총매출'] = pivot_table['A'] + pivot_table['B']\n",
    "pivot_table['A비율'] = pivot_table['A'] / pivot_table['총매출']"
   ]
  },
  {
   "cell_type": "code",
   "execution_count": 90,
   "id": "e3febf2e-1803-45e6-8fc3-8a16eebca64b",
   "metadata": {},
   "outputs": [
    {
     "data": {
      "text/plain": [
       "0.51"
      ]
     },
     "execution_count": 90,
     "metadata": {},
     "output_type": "execute_result"
    }
   ],
   "source": [
    "# 최대 A비율 값 출력\n",
    "result = pivot_table['A비율'].max()\n",
    "round(result, 2)"
   ]
  },
  {
   "cell_type": "markdown",
   "id": "7a931977-b740-4fd5-8656-2b2fd2560ade",
   "metadata": {},
   "source": [
    "Q39) 재구조화(melt), 그룹핑"
   ]
  },
  {
   "cell_type": "code",
   "execution_count": 93,
   "id": "f20f137b-e880-455f-8944-c68b4a506a83",
   "metadata": {},
   "outputs": [],
   "source": [
    "import pandas as pd\n",
    "df = pd.read_csv('monthly_sales.csv')\n",
    "\n",
    "# melt로 Wide(가로) -> Long(세로) 변환\n",
    "melted_df = pd.melt(\n",
    "    df,\n",
    "    id_vars='Region',\n",
    "    value_vars=['Jan','Feb','Mar'],\n",
    "    var_name='Month',\n",
    "    value_name='Sales'\n",
    ")"
   ]
  },
  {
   "cell_type": "code",
   "execution_count": 95,
   "id": "fa241aee-45bf-488d-824d-816e129506b6",
   "metadata": {},
   "outputs": [],
   "source": [
    "# Region, Month별 매출 합계 구하기\n",
    "grouped_sales = melted_df.groupby(['Region', 'Month'])['Sales'].sum().reset_index()"
   ]
  },
  {
   "cell_type": "code",
   "execution_count": 97,
   "id": "d6ece1a4-e963-4729-a8f7-2a9cfcb87100",
   "metadata": {},
   "outputs": [
    {
     "data": {
      "text/plain": [
       "6"
      ]
     },
     "execution_count": 97,
     "metadata": {},
     "output_type": "execute_result"
    }
   ],
   "source": [
    "# 매출 합계가 1400을 초과하는 건수\n",
    "cond = grouped_sales['Sales']>1400\n",
    "len(grouped_sales[cond])"
   ]
  },
  {
   "cell_type": "code",
   "execution_count": null,
   "id": "b8b281f4-b3a6-4838-8958-7c5818c7845f",
   "metadata": {},
   "outputs": [],
   "source": []
  }
 ],
 "metadata": {
  "kernelspec": {
   "display_name": "Python 3 (ipykernel)",
   "language": "python",
   "name": "python3"
  },
  "language_info": {
   "codemirror_mode": {
    "name": "ipython",
    "version": 3
   },
   "file_extension": ".py",
   "mimetype": "text/x-python",
   "name": "python",
   "nbconvert_exporter": "python",
   "pygments_lexer": "ipython3",
   "version": "3.12.3"
  }
 },
 "nbformat": 4,
 "nbformat_minor": 5
}
