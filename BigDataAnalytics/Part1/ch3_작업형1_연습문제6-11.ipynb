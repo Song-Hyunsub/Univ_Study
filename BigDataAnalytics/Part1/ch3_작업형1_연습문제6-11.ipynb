{
 "cells": [
  {
   "cell_type": "markdown",
   "id": "bc4f0b9e-0928-49c0-9b1c-a4c75cb65975",
   "metadata": {},
   "source": [
    "### Q6) 필터링, 분산"
   ]
  },
  {
   "cell_type": "code",
   "execution_count": 2,
   "id": "f6e7ebe4-97b5-4f43-8484-fe5f4133f787",
   "metadata": {},
   "outputs": [],
   "source": [
    "import pandas as pd\n",
    "df = pd.read_csv(\"type1_data1.csv\")"
   ]
  },
  {
   "cell_type": "code",
   "execution_count": 4,
   "id": "64362cec-5361-40fd-a7ac-86fe0f97b5c1",
   "metadata": {},
   "outputs": [
    {
     "name": "stdout",
     "output_type": "stream",
     "text": [
      "235.43\n"
     ]
    }
   ],
   "source": [
    "# 조건에 맞는 데이터\n",
    "cond1 = df['f3']=='gold'\n",
    "cond2 = df['f2']==2\n",
    "df = df[cond1 & cond2]\n",
    "\n",
    "# 분산\n",
    "result = df['f1'].var()\n",
    "\n",
    "# 출력\n",
    "print(round(result, 2))"
   ]
  },
  {
   "cell_type": "markdown",
   "id": "37fdfb05-0385-4ab2-8ba9-20bb1d6fd68b",
   "metadata": {},
   "source": [
    "### Q7) 값 변경(연산), 필터링 절댓값"
   ]
  },
  {
   "cell_type": "code",
   "execution_count": 7,
   "id": "bc3ff185-49f6-4384-a709-391a0c1e9441",
   "metadata": {},
   "outputs": [],
   "source": [
    "import pandas as pd\n",
    "df = pd.read_csv(\"type1_data1.csv\")"
   ]
  },
  {
   "cell_type": "code",
   "execution_count": 9,
   "id": "811c7ed7-4c37-4d3c-8909-5e71dd0144b2",
   "metadata": {},
   "outputs": [
    {
     "name": "stdout",
     "output_type": "stream",
     "text": [
      "263.13\n"
     ]
    }
   ],
   "source": [
    "# 나이+1\n",
    "df['age'] = df['age'] + 1\n",
    "\n",
    "# 20대, 30대 조건\n",
    "cond1 = (df['age']>=20) & (df['age']<30)\n",
    "cond2 = (df['age']>=30) & (df['age']<40)\n",
    "\n",
    "# 20대 views의 평균과 30대 views의 평균의 차이의 절댓값\n",
    "result = abs(df[cond1]['views'].mean() - df[cond2]['views'].mean())\n",
    "\n",
    "print(round(result, 2))"
   ]
  },
  {
   "cell_type": "markdown",
   "id": "7962e207-cb9a-4775-b4d2-a2391491ed50",
   "metadata": {},
   "source": [
    "### Q8) 시계열 데이터, 필터링, 데이터 개수"
   ]
  },
  {
   "cell_type": "code",
   "execution_count": 12,
   "id": "10c7cb4e-acdf-4a40-81c4-e76550a8572b",
   "metadata": {},
   "outputs": [],
   "source": [
    "import pandas as pd\n",
    "df = pd.read_csv(\"type1_data1.csv\")"
   ]
  },
  {
   "cell_type": "code",
   "execution_count": 14,
   "id": "750e7394-eb80-4191-bc84-597e286a2546",
   "metadata": {},
   "outputs": [],
   "source": [
    "# 자료형 변환\n",
    "df['subscribed'] = pd.to_datetime(df['subscribed'])"
   ]
  },
  {
   "cell_type": "code",
   "execution_count": 16,
   "id": "e3b38def-0497-430e-af0d-a7884d9c8259",
   "metadata": {},
   "outputs": [],
   "source": [
    "# 파생변수 생성(연, 월)\n",
    "df['year'] = df['subscribed'].dt.year\n",
    "df['month'] = df['subscribed'].dt.month"
   ]
  },
  {
   "cell_type": "code",
   "execution_count": 18,
   "id": "a8ad6521-e06b-487d-8660-fdeec26b3f0b",
   "metadata": {},
   "outputs": [],
   "source": [
    "# 2024년 2월이고, 'f3'이 gold인 데이터\n",
    "cond1 = df['year']==2024\n",
    "cond2 = df['month']==2\n",
    "cond3 = df['f3']=='gold'\n",
    "df = df[cond1 & cond2 & cond3]"
   ]
  },
  {
   "cell_type": "code",
   "execution_count": 20,
   "id": "c5422ef7-f0ea-44a6-a903-df4083e374c9",
   "metadata": {},
   "outputs": [
    {
     "name": "stdout",
     "output_type": "stream",
     "text": [
      "5\n"
     ]
    }
   ],
   "source": [
    "# 데이터 개수\n",
    "print(len(df))"
   ]
  },
  {
   "cell_type": "markdown",
   "id": "e11d9237-0dc5-464e-a384-68ce2bc4358a",
   "metadata": {},
   "source": [
    "### Q9) 필터링, 카테고리, 최빈값"
   ]
  },
  {
   "cell_type": "code",
   "execution_count": 23,
   "id": "4e80f67e-7f65-4d11-bc19-db74c8f62791",
   "metadata": {},
   "outputs": [],
   "source": [
    "import pandas as pd\n",
    "df = pd.read_csv(\"type1_data1.csv\")"
   ]
  },
  {
   "cell_type": "code",
   "execution_count": 25,
   "id": "a2530179-f564-4e30-b88d-f82e967bd13e",
   "metadata": {},
   "outputs": [
    {
     "name": "stdout",
     "output_type": "stream",
     "text": [
      "ISFJ\n"
     ]
    }
   ],
   "source": [
    "# views수가 1000 이하\n",
    "cond = df['views']<=1000\n",
    "df = df[cond]\n",
    "\n",
    "# f4 컬럼 종류별 개수\n",
    "df = df['f4'].value_counts()  # 자동으로 내림차순 정렬!!\n",
    "\n",
    "# f4 컬럼 최빈값\n",
    "print(df.index[0])"
   ]
  },
  {
   "cell_type": "code",
   "execution_count": 27,
   "id": "61a28e7c-ddc4-4002-892c-ef64aba565ca",
   "metadata": {},
   "outputs": [
    {
     "name": "stdout",
     "output_type": "stream",
     "text": [
      "ISFJ\n"
     ]
    }
   ],
   "source": [
    "# 풀이 2\n",
    "import pandas as pd\n",
    "df = pd.read_csv(\"type1_data1.csv\")\n",
    "\n",
    "# views수가 1000 이하\n",
    "cond = df['views']<=1000\n",
    "df = df[cond]\n",
    "\n",
    "# f4컬럼 최빈값\n",
    "print(df['f4'].mode()[0])"
   ]
  },
  {
   "cell_type": "markdown",
   "id": "9fd4b5ab-e4dd-41a1-a7b8-8d20b9af7446",
   "metadata": {},
   "source": [
    "### Q10) 그룹핑, 최댓값, 정렬"
   ]
  },
  {
   "cell_type": "code",
   "execution_count": 30,
   "id": "5d3b8e8f-bfc4-44f6-8372-b97e873fcd2c",
   "metadata": {},
   "outputs": [],
   "source": [
    "import pandas as pd\n",
    "df = pd.read_csv(\"type1_data1.csv\")"
   ]
  },
  {
   "cell_type": "code",
   "execution_count": 32,
   "id": "c5f12ab9-3d56-484c-8cf6-f85be247b7e9",
   "metadata": {},
   "outputs": [],
   "source": [
    "# 결측치가 있는 행 삭제\n",
    "df.dropna(inplace=True)"
   ]
  },
  {
   "cell_type": "code",
   "execution_count": 34,
   "id": "5b31611b-1bb8-4193-9da8-d7a6b8a92890",
   "metadata": {},
   "outputs": [],
   "source": [
    "# 지역별 평균 계산\n",
    "df = df.groupby(['city']).mean(numeric_only=True)"
   ]
  },
  {
   "cell_type": "code",
   "execution_count": 36,
   "id": "15e88fb3-d990-459d-9b23-98facd8ed877",
   "metadata": {},
   "outputs": [
    {
     "name": "stdout",
     "output_type": "stream",
     "text": [
      "서울\n"
     ]
    }
   ],
   "source": [
    "# f2 컬럼이 가장 큰 지역 출력\n",
    "print(df.sort_values(\"f2\", ascending=False).index[0])"
   ]
  },
  {
   "cell_type": "code",
   "execution_count": 38,
   "id": "3c581ed6-f269-40f5-8dec-7283834f843d",
   "metadata": {},
   "outputs": [],
   "source": [
    "# 풀이 2\n",
    "import pandas as pd\n",
    "df = pd.read_csv(\"type1_data1.csv\")"
   ]
  },
  {
   "cell_type": "code",
   "execution_count": 40,
   "id": "bd8caba9-f94b-4978-a5e1-3bcd139ca8d8",
   "metadata": {},
   "outputs": [],
   "source": [
    "# 결측치가 있는 행 삭제\n",
    "df.dropna(inplace=True)"
   ]
  },
  {
   "cell_type": "code",
   "execution_count": 42,
   "id": "7d4cdd5f-a4fc-425e-a9fd-b87c8611cd7e",
   "metadata": {},
   "outputs": [],
   "source": [
    "# 지역별 평균 계산\n",
    "df = df.groupby(['city']).mean(numeric_only=True)"
   ]
  },
  {
   "cell_type": "code",
   "execution_count": 44,
   "id": "98d37862-d155-4ce5-8bca-bed5d903f4b6",
   "metadata": {},
   "outputs": [
    {
     "name": "stdout",
     "output_type": "stream",
     "text": [
      "서울\n"
     ]
    }
   ],
   "source": [
    "# f2 컬럼이 가장 큰 지역 출력\n",
    "print(df['f2'].idxmax())"
   ]
  },
  {
   "cell_type": "markdown",
   "id": "8568c8b6-274a-4a46-8c05-fa7fffaaeee2",
   "metadata": {},
   "source": [
    "### Q11) 슬라이싱, 사분위수, 결측치 제거"
   ]
  },
  {
   "cell_type": "code",
   "execution_count": 47,
   "id": "1dc618c0-f3bd-4242-a90c-3729063e1fd7",
   "metadata": {},
   "outputs": [],
   "source": [
    "import pandas as pd\n",
    "df = pd.read_csv(\"type1_data1.csv\")"
   ]
  },
  {
   "cell_type": "code",
   "execution_count": 49,
   "id": "e86421f2-8bc9-400a-baf3-b3cfe3934f48",
   "metadata": {},
   "outputs": [],
   "source": [
    "# 결측치가 있는 행 제거\n",
    "df.dropna(inplace=True)"
   ]
  },
  {
   "cell_type": "code",
   "execution_count": 51,
   "id": "ae07d03b-a49f-423d-8820-4392a2c755e8",
   "metadata": {},
   "outputs": [],
   "source": [
    "# 70% 지점\n",
    "end = int(len(df)*0.7)"
   ]
  },
  {
   "cell_type": "code",
   "execution_count": 53,
   "id": "09fc5a4e-0e84-45d5-90f7-ed0291ea397f",
   "metadata": {},
   "outputs": [],
   "source": [
    "# 70% 데이터 슬라이싱\n",
    "df = df.iloc[:end]"
   ]
  },
  {
   "cell_type": "code",
   "execution_count": 55,
   "id": "63fbb87e-e0df-4701-a4ef-3fb996448346",
   "metadata": {},
   "outputs": [],
   "source": [
    "# 3사분위수, 1사분위수\n",
    "q3 = df['views'].quantile(.75)\n",
    "q1 = df['views'].quantile(.25)"
   ]
  },
  {
   "cell_type": "code",
   "execution_count": 57,
   "id": "cd478ecb-558f-4b6f-ab7f-ed81c7af3ae8",
   "metadata": {},
   "outputs": [
    {
     "name": "stdout",
     "output_type": "stream",
     "text": [
      "2771\n"
     ]
    }
   ],
   "source": [
    "# 결과 출력\n",
    "print(int(q3 - q1))"
   ]
  }
 ],
 "metadata": {
  "kernelspec": {
   "display_name": "Python 3 (ipykernel)",
   "language": "python",
   "name": "python3"
  },
  "language_info": {
   "codemirror_mode": {
    "name": "ipython",
    "version": 3
   },
   "file_extension": ".py",
   "mimetype": "text/x-python",
   "name": "python",
   "nbconvert_exporter": "python",
   "pygments_lexer": "ipython3",
   "version": "3.12.3"
  }
 },
 "nbformat": 4,
 "nbformat_minor": 5
}
