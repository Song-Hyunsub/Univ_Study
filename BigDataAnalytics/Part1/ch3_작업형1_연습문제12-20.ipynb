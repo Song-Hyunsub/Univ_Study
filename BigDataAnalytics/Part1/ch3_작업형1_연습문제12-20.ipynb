{
 "cells": [
  {
   "cell_type": "markdown",
   "id": "b9ddc954-f521-4f35-ba61-a9ecaf07c7dc",
   "metadata": {},
   "source": [
    "### Q12) 결측치 처리, 최빈값, 데이터 개수"
   ]
  },
  {
   "cell_type": "code",
   "execution_count": 2,
   "id": "efd38311-4c4d-4b20-961e-276de7ad9775",
   "metadata": {},
   "outputs": [],
   "source": [
    "import pandas as pd\n",
    "df = pd.read_csv(\"type1_data1.csv\")"
   ]
  },
  {
   "cell_type": "code",
   "execution_count": 4,
   "id": "e708a293-4e0d-4780-b413-7427025890f3",
   "metadata": {},
   "outputs": [
    {
     "name": "stdout",
     "output_type": "stream",
     "text": [
      "id             0\n",
      "age            0\n",
      "city           0\n",
      "f1            31\n",
      "f2             0\n",
      "f3            29\n",
      "f4             0\n",
      "f5             0\n",
      "subscribed     0\n",
      "views          4\n",
      "dtype: int64\n"
     ]
    }
   ],
   "source": [
    "# 결측치가 가장 많은 컬럼, 출력 결과로 확인\n",
    "print(df.isnull().sum())"
   ]
  },
  {
   "cell_type": "code",
   "execution_count": 6,
   "id": "d41ecad4-ce4a-46a1-b9f5-6fbc9828617f",
   "metadata": {},
   "outputs": [],
   "source": [
    "# 특정 컬럼에 결측치가 있을 경우 해당 행 제거\n",
    "df = df.dropna(subset=['f1'])"
   ]
  },
  {
   "cell_type": "code",
   "execution_count": 8,
   "id": "74f9fac7-7598-4b3c-81c8-0343aaf79ccc",
   "metadata": {},
   "outputs": [
    {
     "name": "stderr",
     "output_type": "stream",
     "text": [
      "C:\\Users\\shs21\\AppData\\Local\\Temp\\ipykernel_31736\\2093225061.py:3: FutureWarning: A value is trying to be set on a copy of a DataFrame or Series through chained assignment using an inplace method.\n",
      "The behavior will change in pandas 3.0. This inplace method will never work because the intermediate object on which we are setting values always behaves as a copy.\n",
      "\n",
      "For example, when doing 'df[col].method(value, inplace=True)', try using 'df.method({col: value}, inplace=True)' or df[col] = df[col].method(value) instead, to perform the operation inplace on the original object.\n",
      "\n",
      "\n",
      "  df['f3'].fillna(freq, inplace=True)\n"
     ]
    }
   ],
   "source": [
    "# 두 번째로 결측치가 많은 컬럼 최빈값 대체\n",
    "freq = df['f3'].mode()[0]\n",
    "df['f3'].fillna(freq, inplace=True)"
   ]
  },
  {
   "cell_type": "code",
   "execution_count": 10,
   "id": "332c7231-dac1-4819-838c-eb3516b25a80",
   "metadata": {},
   "outputs": [
    {
     "name": "stdout",
     "output_type": "stream",
     "text": [
      "63\n"
     ]
    }
   ],
   "source": [
    "# f3 컬럼이 gold인 데이터의 수\n",
    "print(sum(df['f3']=='gold'))"
   ]
  },
  {
   "cell_type": "code",
   "execution_count": 14,
   "id": "cb154425-315c-4dc1-9524-c39289428bee",
   "metadata": {},
   "outputs": [
    {
     "name": "stdout",
     "output_type": "stream",
     "text": [
      "63\n"
     ]
    }
   ],
   "source": [
    "# 풀이 2)\n",
    "import pandas as pd\n",
    "df = pd.read_csv(\"type1_data1.csv\")\n",
    "\n",
    "# 결측치가 가장 많은 컬럼\n",
    "col = df.isnull().sum().idxmax()\n",
    "\n",
    "# 특정 컬럼에 결측치가 있을 경우 해당 행 제거\n",
    "df = df.dropna(subset=[col])\n",
    "\n",
    "# 두 번째로 결측치가 많은 컬럼 최빈값 대체\n",
    "freq = df['f3'].mode()[0]\n",
    "df['f3'] = df['f3'].fillna(freq)\n",
    "\n",
    "# f3 컬럼이 gold인 데이터의 수\n",
    "print(len(df[df['f3']=='gold']))"
   ]
  },
  {
   "cell_type": "markdown",
   "id": "8c1642f1-b75a-47b0-a07a-3af30e45bb2b",
   "metadata": {},
   "source": [
    "### Q13) 결측 데이터 찾기, 필터링, 평균값"
   ]
  },
  {
   "cell_type": "code",
   "execution_count": 17,
   "id": "18f3daec-7d45-45cb-8529-e171fbb2ea9b",
   "metadata": {},
   "outputs": [],
   "source": [
    "import pandas as pd\n",
    "df = pd.read_csv(\"type1_data1.csv\")"
   ]
  },
  {
   "cell_type": "code",
   "execution_count": 19,
   "id": "3ead8bc5-42e7-4b6d-9579-464cc79cd845",
   "metadata": {},
   "outputs": [],
   "source": [
    "# 결측치가 있는 데이터 True/False\n",
    "cond = df['f1'].isnull()"
   ]
  },
  {
   "cell_type": "code",
   "execution_count": 21,
   "id": "552c9f77-84a2-48d1-b3a7-f03c06a5f516",
   "metadata": {},
   "outputs": [],
   "source": [
    "# 결측치가 있는 데이터 선택\n",
    "df = df[cond]"
   ]
  },
  {
   "cell_type": "code",
   "execution_count": 23,
   "id": "69a85c9d-50bc-4612-89cf-2fcc957f9f91",
   "metadata": {},
   "outputs": [],
   "source": [
    "# age의 평균값\n",
    "result = df['age'].mean()"
   ]
  },
  {
   "cell_type": "code",
   "execution_count": 25,
   "id": "0cc5402b-603d-482e-9fb8-1789aeb506fc",
   "metadata": {},
   "outputs": [
    {
     "name": "stdout",
     "output_type": "stream",
     "text": [
      "53.6\n"
     ]
    }
   ],
   "source": [
    "# 소수 첫째 자리까지 출력\n",
    "print(round(result, 1))"
   ]
  },
  {
   "cell_type": "markdown",
   "id": "225c0921-e382-4edc-960f-4548aa1f37ae",
   "metadata": {},
   "source": [
    "### Q14) 중복 데이터 제거, 값 변경, 데이터개수"
   ]
  },
  {
   "cell_type": "code",
   "execution_count": 28,
   "id": "2d602b34-cd3d-465d-9b33-1936263861db",
   "metadata": {},
   "outputs": [],
   "source": [
    "import pandas as pd\n",
    "df = pd.read_csv(\"type1_data1.csv\")"
   ]
  },
  {
   "cell_type": "code",
   "execution_count": 30,
   "id": "9cfdfad5-e4ce-4b3e-845e-7a3032d7afaf",
   "metadata": {},
   "outputs": [],
   "source": [
    "# 중복 데이터 제거\n",
    "df.drop_duplicates(inplace=True)"
   ]
  },
  {
   "cell_type": "code",
   "execution_count": 32,
   "id": "017f8fed-604d-4ae2-89c0-8e37021af78f",
   "metadata": {},
   "outputs": [
    {
     "name": "stderr",
     "output_type": "stream",
     "text": [
      "C:\\Users\\shs21\\AppData\\Local\\Temp\\ipykernel_31736\\2705564861.py:3: FutureWarning: Downcasting behavior in `replace` is deprecated and will be removed in a future version. To retain the old behavior, explicitly call `result.infer_objects(copy=False)`. To opt-in to the future behavior, set `pd.set_option('future.no_silent_downcasting', True)`\n",
      "  df['f3']=df['f3'].replace(np.nan, 0).replace('silver', 1).replace('gold', 2).replace('vip', 3)\n"
     ]
    }
   ],
   "source": [
    "# 값 대체\n",
    "import numpy as np\n",
    "df['f3']=df['f3'].replace(np.nan, 0).replace('silver', 1).replace('gold', 2).replace('vip', 3)"
   ]
  },
  {
   "cell_type": "code",
   "execution_count": 34,
   "id": "f3ffee8c-7e21-46fa-bfad-2738a3beb354",
   "metadata": {},
   "outputs": [
    {
     "name": "stdout",
     "output_type": "stream",
     "text": [
      "167\n"
     ]
    }
   ],
   "source": [
    "# f3 컬럼의 총합(정수형으로 출력)\n",
    "print(int(df['f3'].sum()))"
   ]
  },
  {
   "cell_type": "code",
   "execution_count": 36,
   "id": "4d68eb7e-c1f1-47b0-849b-91823830560f",
   "metadata": {},
   "outputs": [
    {
     "name": "stdout",
     "output_type": "stream",
     "text": [
      "167\n"
     ]
    }
   ],
   "source": [
    "# 풀이 2)\n",
    "import pandas as pd\n",
    "df = pd.read_csv(\"type1_data1.csv\")\n",
    "\n",
    "# 중복 데이터 제거\n",
    "df.drop_duplicates(inplace=True)\n",
    "\n",
    "# 계산\n",
    "r1 = sum(df['f3']=='silver') * 1\n",
    "r2 = sum(df['f3']=='gold') * 2\n",
    "r3 = sum(df['f3']=='vip') * 3\n",
    "print(r1 + r2 + r3)"
   ]
  },
  {
   "cell_type": "markdown",
   "id": "0794d981-a7c8-43b6-92b8-c601efc226cf",
   "metadata": {},
   "source": [
    "### Q15) 컬럼 삭제, 행 단위 합계, 필터링"
   ]
  },
  {
   "cell_type": "code",
   "execution_count": 39,
   "id": "7c41930d-2233-4292-91ff-af8fc3bfa44b",
   "metadata": {},
   "outputs": [],
   "source": [
    "import pandas as pd\n",
    "df = pd.read_csv(\"type1_data1.csv\")"
   ]
  },
  {
   "cell_type": "code",
   "execution_count": 41,
   "id": "e0a3136d-3513-46ca-b888-deac6ecc8c40",
   "metadata": {},
   "outputs": [],
   "source": [
    "# 자료형이 object가 아닌 컬럼 선택\n",
    "cols = df.select_dtypes(exclude='object').columns\n",
    "df = df[cols]"
   ]
  },
  {
   "cell_type": "code",
   "execution_count": 43,
   "id": "2825fec2-5ffb-48c5-b328-7184934f3513",
   "metadata": {},
   "outputs": [],
   "source": [
    "# 결측치 0으로 대체\n",
    "df = df.fillna(0)\n",
    "\n",
    "# 행과 열 변경\n",
    "df = df.T"
   ]
  },
  {
   "cell_type": "code",
   "execution_count": 45,
   "id": "61a4aa11-f8ac-43ae-95a3-ae92b2c2a94d",
   "metadata": {},
   "outputs": [
    {
     "name": "stdout",
     "output_type": "stream",
     "text": [
      "88\n"
     ]
    }
   ],
   "source": [
    "# 행별 합이 3000보다 큰 데이터 수\n",
    "print(sum(df.sum()>3000))"
   ]
  },
  {
   "cell_type": "markdown",
   "id": "ad50b8e9-770b-4b1e-b94a-e23a9467a07e",
   "metadata": {},
   "source": [
    "### Q16) 이상치, IQR"
   ]
  },
  {
   "cell_type": "code",
   "execution_count": 66,
   "id": "08ef1a20-761b-4698-89eb-349765a6b8b4",
   "metadata": {},
   "outputs": [],
   "source": [
    "import pandas as pd\n",
    "df = pd.read_csv(\"type1_data1.csv\")"
   ]
  },
  {
   "cell_type": "code",
   "execution_count": 68,
   "id": "c623cc4a-ad9e-4b7d-8fb8-c7af764c491c",
   "metadata": {},
   "outputs": [],
   "source": [
    "# 3사분위/1사분위\n",
    "q3 = df['views'].quantile(.75)\n",
    "q1 = df['views'].quantile(.25)"
   ]
  },
  {
   "cell_type": "code",
   "execution_count": 70,
   "id": "71b761cc-898d-4218-bf07-a74fd090c468",
   "metadata": {},
   "outputs": [],
   "source": [
    "# IQR 계산\n",
    "IQR = q3 - q1"
   ]
  },
  {
   "cell_type": "code",
   "execution_count": 72,
   "id": "cd6e4961-0673-47dd-8d14-dbc4feb6ed05",
   "metadata": {},
   "outputs": [],
   "source": [
    "# 이상치 기준 찾기\n",
    "line1 = q1 - 1.5*IQR\n",
    "line2 = q3 + 1.5*IQR"
   ]
  },
  {
   "cell_type": "code",
   "execution_count": 74,
   "id": "85b5b14e-f8a2-4cbe-87cf-73278025c487",
   "metadata": {},
   "outputs": [],
   "source": [
    "# 이상치 조건에 만족하는 데이터 찾기\n",
    "cond1 = df['views']<line1\n",
    "cond2 = df['views']>line2\n",
    "df = df[cond1|cond2]"
   ]
  },
  {
   "cell_type": "code",
   "execution_count": 76,
   "id": "e1e5856c-7c3d-4da3-b36f-2c3e6a45713c",
   "metadata": {},
   "outputs": [
    {
     "name": "stdout",
     "output_type": "stream",
     "text": [
      "77699\n"
     ]
    }
   ],
   "source": [
    "# views 컬럼 합\n",
    "print(int(df['views'].sum()))"
   ]
  },
  {
   "cell_type": "markdown",
   "id": "80a141f3-fd3c-478e-8f87-1a2e78cf1c17",
   "metadata": {},
   "source": [
    "### Q17) 이상치, 소수점 있는 데이터 찾기, 표준편차"
   ]
  },
  {
   "cell_type": "code",
   "execution_count": 79,
   "id": "7d38cc9e-5606-47c8-8015-62076e1d0725",
   "metadata": {},
   "outputs": [],
   "source": [
    "import pandas as pd\n",
    "df=pd.read_csv(\"type1_data1.csv\")"
   ]
  },
  {
   "cell_type": "code",
   "execution_count": 81,
   "id": "b7c28377-9b38-442d-ae5f-d0fac8eaae40",
   "metadata": {},
   "outputs": [],
   "source": [
    "# 표준편차\n",
    "r1 = df['views'].std()"
   ]
  },
  {
   "cell_type": "code",
   "execution_count": 83,
   "id": "5a8ff19a-9256-452a-9c40-0a5aa9bead6b",
   "metadata": {},
   "outputs": [],
   "source": [
    "# 음수이거나 0 데이터 제외\n",
    "cond = df['age']<=0\n",
    "df = df[~cond]"
   ]
  },
  {
   "cell_type": "code",
   "execution_count": 85,
   "id": "50971fce-8860-4681-8704-810cfad770c2",
   "metadata": {},
   "outputs": [],
   "source": [
    "# 소수점이 없는 값만 선택\n",
    "cond = df['age']==round(df['age'], 0)\n",
    "df = df[cond]"
   ]
  },
  {
   "cell_type": "code",
   "execution_count": 87,
   "id": "2879d7d9-9333-4d58-a199-d7f907f6f161",
   "metadata": {},
   "outputs": [
    {
     "name": "stdout",
     "output_type": "stream",
     "text": [
      "8297.31\n"
     ]
    }
   ],
   "source": [
    "# 표준편차\n",
    "r2 = df['views'].std()\n",
    "\n",
    "print(round(r1+r2, 2))"
   ]
  },
  {
   "cell_type": "markdown",
   "id": "a57a3bb9-ee6c-4c64-813e-3ebda67f7925",
   "metadata": {},
   "source": [
    "### Q18) 데이터(행) 기준 평균값, 인덱싱"
   ]
  },
  {
   "cell_type": "code",
   "execution_count": 90,
   "id": "1c242c1f-6d52-40e8-bf84-2434964dccca",
   "metadata": {},
   "outputs": [],
   "source": [
    "import pandas as pd\n",
    "df = pd.read_csv(\"type1_data2.csv\", index_col=\"year\")"
   ]
  },
  {
   "cell_type": "code",
   "execution_count": 92,
   "id": "0b42d341-f50d-4e53-aa26-408ed180fe2a",
   "metadata": {},
   "outputs": [],
   "source": [
    "# 2001, 평균보다 큰 값 개수 합계\n",
    "m1 = df.loc[2001].mean()\n",
    "cond1 = df.loc[2001]>m1\n",
    "r1 = sum(cond1)"
   ]
  },
  {
   "cell_type": "code",
   "execution_count": 96,
   "id": "65d0c448-7641-4ccd-8b6f-8ea44358ebb7",
   "metadata": {},
   "outputs": [
    {
     "name": "stdout",
     "output_type": "stream",
     "text": [
      "202\n"
     ]
    }
   ],
   "source": [
    "# 2003, 평균보다 작은 값 개수 합계\n",
    "m2 = df.loc[2003].mean()\n",
    "cond2 = df.loc[2003]<m2\n",
    "r2 = sum(cond2)\n",
    "\n",
    "print(r1+r2)"
   ]
  },
  {
   "cell_type": "code",
   "execution_count": 98,
   "id": "6df25765-6433-480d-8f1c-89a42105003d",
   "metadata": {},
   "outputs": [],
   "source": [
    "# 풀이 2)\n",
    "import pandas as pd\n",
    "df = pd.read_csv(\"type1_data2.csv\", index_col=\"year\")\n",
    "df = df.T # 행과 열 변경"
   ]
  },
  {
   "cell_type": "code",
   "execution_count": 100,
   "id": "da865bc2-155a-4f35-944b-af03ac6f2a62",
   "metadata": {},
   "outputs": [],
   "source": [
    "# 평균보다 큰 값 합계\n",
    "m1 = df[2001].mean()\n",
    "cond1 = df[2001]>m1\n",
    "r1 = sum(cond1)"
   ]
  },
  {
   "cell_type": "code",
   "execution_count": 102,
   "id": "52003507-52f9-4445-825e-61ba595bac95",
   "metadata": {},
   "outputs": [
    {
     "name": "stdout",
     "output_type": "stream",
     "text": [
      "202\n"
     ]
    }
   ],
   "source": [
    "# 평균보다 작은 값 합계\n",
    "m2 = df[2003].mean()\n",
    "cond2 = df[2003]<m2\n",
    "r2 = sum(cond2)\n",
    "\n",
    "print(r1+r2)"
   ]
  },
  {
   "cell_type": "markdown",
   "id": "9466f698-b59e-43e3-8eb1-1ce037c7b638",
   "metadata": {},
   "source": [
    "### Q19) 결측치(뒤의 값으로 대체), 그룹합"
   ]
  },
  {
   "cell_type": "code",
   "execution_count": 117,
   "id": "f94cab05-0a23-458a-b68d-29f2b6791b46",
   "metadata": {},
   "outputs": [],
   "source": [
    "import pandas as pd\n",
    "df = pd.read_csv(\"type1_data1.csv\")"
   ]
  },
  {
   "cell_type": "code",
   "execution_count": 119,
   "id": "50f79d2a-f6d1-48cc-b338-15a20bbd42eb",
   "metadata": {},
   "outputs": [
    {
     "name": "stderr",
     "output_type": "stream",
     "text": [
      "C:\\Users\\shs21\\AppData\\Local\\Temp\\ipykernel_31736\\2276214415.py:2: FutureWarning: DataFrame.fillna with 'method' is deprecated and will raise in a future version. Use obj.ffill() or obj.bfill() instead.\n",
      "  df = df.fillna(method='bfill')\n"
     ]
    }
   ],
   "source": [
    "# 결측치 채우기\n",
    "df = df.fillna(method='bfill')"
   ]
  },
  {
   "cell_type": "code",
   "execution_count": 121,
   "id": "0f976166-ef96-48d1-bf19-7f7d8490cee4",
   "metadata": {},
   "outputs": [],
   "source": [
    "# city와 f2 기준 그룹합 계산\n",
    "df = df.groupby(['city', 'f2']).sum(numeric_only=True).reset_index()"
   ]
  },
  {
   "cell_type": "code",
   "execution_count": 123,
   "id": "12681b57-08b9-4cb5-89e4-c758f273d06c",
   "metadata": {},
   "outputs": [],
   "source": [
    "# 내림차순 정렬\n",
    "df = df.sort_values('views', ascending=False)"
   ]
  },
  {
   "cell_type": "code",
   "execution_count": 125,
   "id": "997d1aa9-5241-477a-8025-a24f741eb9b2",
   "metadata": {},
   "outputs": [
    {
     "name": "stdout",
     "output_type": "stream",
     "text": [
      "경기\n"
     ]
    }
   ],
   "source": [
    "# 3번째로 큰 값 출력\n",
    "print(df.iloc[2, 0])"
   ]
  },
  {
   "cell_type": "markdown",
   "id": "c5d33989-9cf8-4c03-8300-668455a382f9",
   "metadata": {},
   "source": [
    "### Q20) 시계열 데이터, 월별 집계, 인덱스"
   ]
  },
  {
   "cell_type": "code",
   "execution_count": 128,
   "id": "69b79d48-1ea9-4d6d-a088-fc1acc0fa99b",
   "metadata": {},
   "outputs": [],
   "source": [
    "import pandas as pd\n",
    "df = pd.read_csv(\"type1_data1.csv\")"
   ]
  },
  {
   "cell_type": "code",
   "execution_count": 130,
   "id": "41815aa6-d0e0-4bc9-909e-e199be50310a",
   "metadata": {},
   "outputs": [],
   "source": [
    "# 자료형 변환\n",
    "df['subscribed']=pd.to_datetime(df['subscribed'])"
   ]
  },
  {
   "cell_type": "code",
   "execution_count": 132,
   "id": "4207a275-7489-4084-a059-e279a109d8c0",
   "metadata": {},
   "outputs": [],
   "source": [
    "# 파생변수 생성\n",
    "df['month']=df['subscribed'].dt.month"
   ]
  },
  {
   "cell_type": "code",
   "execution_count": 134,
   "id": "7a2ced51-3d1e-4fe9-b4b7-ef7d233686d9",
   "metadata": {},
   "outputs": [],
   "source": [
    "# 월별로 데이터 합 집계\n",
    "df = df.groupby('month').sum(numeric_only=True)"
   ]
  },
  {
   "cell_type": "code",
   "execution_count": 136,
   "id": "ab22090b-4df6-4682-b095-edec4716166a",
   "metadata": {},
   "outputs": [
    {
     "name": "stdout",
     "output_type": "stream",
     "text": [
      "11\n"
     ]
    }
   ],
   "source": [
    "# 오름차순 정렬 및 가장 작은 값 출력\n",
    "print(df.sort_values('views').index[0])"
   ]
  }
 ],
 "metadata": {
  "kernelspec": {
   "display_name": "Python 3 (ipykernel)",
   "language": "python",
   "name": "python3"
  },
  "language_info": {
   "codemirror_mode": {
    "name": "ipython",
    "version": 3
   },
   "file_extension": ".py",
   "mimetype": "text/x-python",
   "name": "python",
   "nbconvert_exporter": "python",
   "pygments_lexer": "ipython3",
   "version": "3.12.3"
  }
 },
 "nbformat": 4,
 "nbformat_minor": 5
}
