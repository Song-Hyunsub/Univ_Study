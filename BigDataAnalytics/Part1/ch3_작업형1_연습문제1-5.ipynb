{
 "cells": [
  {
   "cell_type": "markdown",
   "id": "0c0a413a-8e57-4557-9d32-ec4058d085f2",
   "metadata": {},
   "source": [
    "### Q1) 필터링, 최솟값, 중앙값"
   ]
  },
  {
   "cell_type": "code",
   "execution_count": 15,
   "id": "00fc3111-3b1b-4909-a79f-6457de4e02f0",
   "metadata": {},
   "outputs": [],
   "source": [
    "import pandas as pd\n",
    "df = pd.read_csv(\"type1_data1.csv\")"
   ]
  },
  {
   "cell_type": "code",
   "execution_count": 17,
   "id": "c5507dc9-bdf1-492c-9f28-85c7b771fdf2",
   "metadata": {},
   "outputs": [],
   "source": [
    "# 0 제외\n",
    "cond = df['f5']!=0\n",
    "df = df[cond]"
   ]
  },
  {
   "cell_type": "code",
   "execution_count": 19,
   "id": "0e36f9b3-26bc-4f7a-b9aa-bfe94c642196",
   "metadata": {},
   "outputs": [
    {
     "name": "stderr",
     "output_type": "stream",
     "text": [
      "C:\\Users\\shs21\\AppData\\Local\\Temp\\ipykernel_20376\\465834200.py:3: FutureWarning: A value is trying to be set on a copy of a DataFrame or Series through chained assignment using an inplace method.\n",
      "The behavior will change in pandas 3.0. This inplace method will never work because the intermediate object on which we are setting values always behaves as a copy.\n",
      "\n",
      "For example, when doing 'df[col].method(value, inplace=True)', try using 'df.method({col: value}, inplace=True)' or df[col] = df[col].method(value) instead, to perform the operation inplace on the original object.\n",
      "\n",
      "\n",
      "  df['views'].fillna(min, inplace=True)\n"
     ]
    }
   ],
   "source": [
    "# 'views' 컬럼 결측치 최솟값으로 채우기\n",
    "min = df['views'].min()\n",
    "df['views'].fillna(min, inplace=True)"
   ]
  },
  {
   "cell_type": "code",
   "execution_count": 21,
   "id": "979ab5fd-be73-414b-b487-6a36888da660",
   "metadata": {},
   "outputs": [
    {
     "name": "stdout",
     "output_type": "stream",
     "text": [
      "5924\n"
     ]
    }
   ],
   "source": [
    "# 'views' 컬럼 중앙값 계산\n",
    "print(int(df['views'].median()))"
   ]
  },
  {
   "cell_type": "markdown",
   "id": "e5aa78a1-6dd1-409d-8472-5ddc7b0780e5",
   "metadata": {},
   "source": [
    "### Q2) 카테고리, 인덱스, 문자열 슬라이싱"
   ]
  },
  {
   "cell_type": "code",
   "execution_count": 31,
   "id": "79abfbff-c0a9-4b07-9516-241bcb202919",
   "metadata": {},
   "outputs": [],
   "source": [
    "import pandas as pd\n",
    "df = pd.read_csv(\"type1_data1.csv\")"
   ]
  },
  {
   "cell_type": "code",
   "execution_count": 33,
   "id": "3ec1358e-3b87-4290-b927-5c857a3b6340",
   "metadata": {},
   "outputs": [],
   "source": [
    "# subscribed 종류 중 가장 많은 날짜 구하기\n",
    "df = df['subscribed'].value_counts()"
   ]
  },
  {
   "cell_type": "code",
   "execution_count": 35,
   "id": "f0135018-ef44-400a-a780-bff2c79eff48",
   "metadata": {},
   "outputs": [
    {
     "data": {
      "text/plain": [
       "17"
      ]
     },
     "execution_count": 35,
     "metadata": {},
     "output_type": "execute_result"
    }
   ],
   "source": [
    "# 일(day) 값을 찾고, 정수형으로 변경\n",
    "int(df.index[0][-2:])"
   ]
  },
  {
   "cell_type": "markdown",
   "id": "3a6b66ca-d4c1-47ce-ac86-7b5b8a2eb25f",
   "metadata": {},
   "source": [
    "### Q3) 파생변수, 정렬, 인덱싱"
   ]
  },
  {
   "cell_type": "code",
   "execution_count": 38,
   "id": "fda46e5f-4674-41bc-a5e0-297995416185",
   "metadata": {},
   "outputs": [],
   "source": [
    "import pandas as pd\n",
    "df = pd.read_csv(\"type1_data1.csv\")"
   ]
  },
  {
   "cell_type": "code",
   "execution_count": 40,
   "id": "46cd8a49-481f-4d06-a75c-4576d9911257",
   "metadata": {},
   "outputs": [],
   "source": [
    "# 결측치 제거\n",
    "df = df.dropna()"
   ]
  },
  {
   "cell_type": "code",
   "execution_count": 42,
   "id": "9d5e1688-b885-4118-a846-19376ee24952",
   "metadata": {},
   "outputs": [],
   "source": [
    "# 새로운 컬럼 계산\n",
    "df['new']=df['views']/df['f1']"
   ]
  },
  {
   "cell_type": "code",
   "execution_count": 44,
   "id": "d73333d3-0807-40ad-af14-2eb7a8687446",
   "metadata": {},
   "outputs": [],
   "source": [
    "# 내림차순 정렬\n",
    "df = df.sort_values('new', ascending=False)"
   ]
  },
  {
   "cell_type": "code",
   "execution_count": 46,
   "id": "637c559d-f7be-4962-ba7b-3cbdfe6b162a",
   "metadata": {},
   "outputs": [
    {
     "data": {
      "text/plain": [
       "22"
      ]
     },
     "execution_count": 46,
     "metadata": {},
     "output_type": "execute_result"
    }
   ],
   "source": [
    "# age값 찾아서 출력\n",
    "int(df.iloc[0, 1])"
   ]
  },
  {
   "cell_type": "markdown",
   "id": "b79954bd-9886-4aa8-890a-75400a4b9a9b",
   "metadata": {},
   "source": [
    "### Q4) 값 변경, 정렬, 합계"
   ]
  },
  {
   "cell_type": "code",
   "execution_count": 49,
   "id": "0a5e9351-2634-406d-825e-6aff01e538f0",
   "metadata": {},
   "outputs": [],
   "source": [
    "import pandas as pd\n",
    "df = pd.read_csv(\"type1_data1.csv\")"
   ]
  },
  {
   "cell_type": "code",
   "execution_count": 51,
   "id": "f8bf604c-0762-4771-8033-1119f0e84819",
   "metadata": {},
   "outputs": [
    {
     "name": "stderr",
     "output_type": "stream",
     "text": [
      "C:\\Users\\shs21\\AppData\\Local\\Temp\\ipykernel_20376\\1283344671.py:2: FutureWarning: A value is trying to be set on a copy of a DataFrame or Series through chained assignment using an inplace method.\n",
      "The behavior will change in pandas 3.0. This inplace method will never work because the intermediate object on which we are setting values always behaves as a copy.\n",
      "\n",
      "For example, when doing 'df[col].method(value, inplace=True)', try using 'df.method({col: value}, inplace=True)' or df[col] = df[col].method(value) instead, to perform the operation inplace on the original object.\n",
      "\n",
      "\n",
      "  df['views'].fillna(0, inplace=True)\n"
     ]
    }
   ],
   "source": [
    "# 결측 데이터 0으로 대체\n",
    "df['views'].fillna(0, inplace=True)"
   ]
  },
  {
   "cell_type": "code",
   "execution_count": 53,
   "id": "bcce6ede-45d6-4e34-a22c-f32f00e5e63c",
   "metadata": {},
   "outputs": [],
   "source": [
    "# 내림차순 정렬\n",
    "df = df.sort_values('views', ascending=False)"
   ]
  },
  {
   "cell_type": "code",
   "execution_count": 55,
   "id": "185d37f8-54d6-4114-8bd5-7c883071aea0",
   "metadata": {},
   "outputs": [],
   "source": [
    "# views 상위 10개 데이터에 상위 10번째 값 대입\n",
    "views_min = df.iloc[:10]['views'].min()\n",
    "df.iloc[:10, -1]=views_min"
   ]
  },
  {
   "cell_type": "code",
   "execution_count": 57,
   "id": "040039c7-a933-4fc0-9a62-32611079911b",
   "metadata": {},
   "outputs": [
    {
     "name": "stdout",
     "output_type": "stream",
     "text": [
      "652812\n"
     ]
    }
   ],
   "source": [
    "# views 컬럼의 합\n",
    "print(int(df['views'].sum()))"
   ]
  },
  {
   "cell_type": "code",
   "execution_count": 63,
   "id": "0c6b5da5-e32b-45a9-ae68-f88857096313",
   "metadata": {},
   "outputs": [
    {
     "name": "stdout",
     "output_type": "stream",
     "text": [
      "652812\n"
     ]
    },
    {
     "name": "stderr",
     "output_type": "stream",
     "text": [
      "C:\\Users\\shs21\\AppData\\Local\\Temp\\ipykernel_20376\\2372757675.py:7: FutureWarning: A value is trying to be set on a copy of a DataFrame or Series through chained assignment using an inplace method.\n",
      "The behavior will change in pandas 3.0. This inplace method will never work because the intermediate object on which we are setting values always behaves as a copy.\n",
      "\n",
      "For example, when doing 'df[col].method(value, inplace=True)', try using 'df.method({col: value}, inplace=True)' or df[col] = df[col].method(value) instead, to perform the operation inplace on the original object.\n",
      "\n",
      "\n",
      "  df['views'].fillna(0, inplace=True)\n"
     ]
    }
   ],
   "source": [
    "#풀이2\n",
    "\n",
    "import pandas as pd\n",
    "df = pd.read_csv(\"type1_data1.csv\")\n",
    "\n",
    "# 결측 데이터 0으로 대체\n",
    "df['views'].fillna(0, inplace=True)\n",
    "\n",
    "# views 컬럼에서 10번째로 큰 값을 구함\n",
    "value = df['views'].nlargest(10).iloc[-1]\n",
    "\n",
    "# views 컬럼에서 가장 큰 9개의 값을 10번째로 큰 값으로 대체\n",
    "df.loc[df['views']>value, 'views'] = value\n",
    "\n",
    "# views 컬럼의 합\n",
    "print(int(df['views'].sum()))"
   ]
  },
  {
   "cell_type": "markdown",
   "id": "9d3c566c-0e7f-4823-ab88-f6648f56d7b4",
   "metadata": {},
   "source": [
    "### Q5) 문자열 슬라이싱, 파생변수, 평균값"
   ]
  },
  {
   "cell_type": "code",
   "execution_count": 66,
   "id": "830ee354-0e52-41e0-8638-accc0a8be453",
   "metadata": {},
   "outputs": [],
   "source": [
    "import pandas as pd\n",
    "df = pd.read_csv(\"type1_data1.csv\")"
   ]
  },
  {
   "cell_type": "code",
   "execution_count": 68,
   "id": "b1360cd6-f723-4094-8791-f6a01e9d1b83",
   "metadata": {},
   "outputs": [],
   "source": [
    "# f4 컬럼에서 뒤에 2개 값 슬라이싱\n",
    "df['new'] = df['f4'].str[2:4]"
   ]
  },
  {
   "cell_type": "code",
   "execution_count": 70,
   "id": "519e0af9-93a7-46b8-99d1-7d4e7cfbb279",
   "metadata": {},
   "outputs": [],
   "source": [
    "# FJ인 데이터 찾기\n",
    "cond = df['new']=='FJ'\n",
    "df = df[cond]"
   ]
  },
  {
   "cell_type": "code",
   "execution_count": 72,
   "id": "dfb3d8a3-06c9-48f7-aa66-6749fb09a9dc",
   "metadata": {},
   "outputs": [
    {
     "name": "stdout",
     "output_type": "stream",
     "text": [
      "0.61\n"
     ]
    }
   ],
   "source": [
    "# f2 평균 구하기\n",
    "print(round(df['f2'].mean(), 2))"
   ]
  },
  {
   "cell_type": "code",
   "execution_count": 74,
   "id": "137936ef-0ab7-4436-ad9b-af7966a20c4d",
   "metadata": {},
   "outputs": [
    {
     "name": "stdout",
     "output_type": "stream",
     "text": [
      "0.61\n"
     ]
    }
   ],
   "source": [
    "# 풀이 2\n",
    "import pandas as pd\n",
    "df = pd.read_csv(\"type1_data1.csv\")\n",
    "\n",
    "# FJ인 데이터 찾기\n",
    "cond = df['f4'].str.contains('FJ')\n",
    "df = df[cond]\n",
    "\n",
    "# f2 평균 구하기\n",
    "print(round(df['f2'].mean(), 2))"
   ]
  }
 ],
 "metadata": {
  "kernelspec": {
   "display_name": "Python 3 (ipykernel)",
   "language": "python",
   "name": "python3"
  },
  "language_info": {
   "codemirror_mode": {
    "name": "ipython",
    "version": 3
   },
   "file_extension": ".py",
   "mimetype": "text/x-python",
   "name": "python",
   "nbconvert_exporter": "python",
   "pygments_lexer": "ipython3",
   "version": "3.12.3"
  }
 },
 "nbformat": 4,
 "nbformat_minor": 5
}
