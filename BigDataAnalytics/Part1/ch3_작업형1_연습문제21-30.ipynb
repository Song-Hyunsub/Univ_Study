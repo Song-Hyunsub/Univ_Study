{
 "cells": [
  {
   "cell_type": "markdown",
   "id": "fa307ceb-2fb6-4cdb-a92e-0855745c05f3",
   "metadata": {},
   "source": [
    "Q21) 시간 간의 차이 계산(분), 필터링"
   ]
  },
  {
   "cell_type": "code",
   "execution_count": 4,
   "id": "dc84866a-5640-4aad-bb94-2c78ab728b96",
   "metadata": {},
   "outputs": [],
   "source": [
    "import pandas as pd\n",
    "df = pd.read_csv(\"delivery_time.csv\")"
   ]
  },
  {
   "cell_type": "code",
   "execution_count": 6,
   "id": "c202576e-e008-4f3f-98c2-95d79a66f8b7",
   "metadata": {},
   "outputs": [],
   "source": [
    "# datetime으로 자료형 변경\n",
    "df['실제도착시간']=pd.to_datetime(df['실제도착시간'])\n",
    "df['예상도착시간']=pd.to_datetime(df['예상도착시간'])"
   ]
  },
  {
   "cell_type": "code",
   "execution_count": 8,
   "id": "9907dcc5-2a84-489c-93f3-f5eeda99b954",
   "metadata": {},
   "outputs": [],
   "source": [
    "# 지연 시간 계산(분)\n",
    "df['지연시간']=(df['실제도착시간']-df['예상도착시간']).dt.total_seconds()/60"
   ]
  },
  {
   "cell_type": "code",
   "execution_count": 10,
   "id": "2fa448a4-bd2b-4890-9d24-a8296e5709d7",
   "metadata": {},
   "outputs": [],
   "source": [
    "# 조건1 - 예상 도착 시간보다 늦게 도착한 건\n",
    "cond1 = df['지연시간']>0\n",
    "\n",
    "# 조건2 - 거리가 7 이상인 건\n",
    "cond2 = df['거리']>=7"
   ]
  },
  {
   "cell_type": "code",
   "execution_count": 14,
   "id": "9a7901c7-0f22-4324-8b4c-606bbc8c003a",
   "metadata": {},
   "outputs": [
    {
     "name": "stdout",
     "output_type": "stream",
     "text": [
      "311\n"
     ]
    }
   ],
   "source": [
    "# 조건에 맞는 데이터(행) 수 출력\n",
    "print(len(df[cond1 & cond2]))"
   ]
  },
  {
   "cell_type": "markdown",
   "id": "c3ec2483-c12b-4f42-ba46-6ed6be3dfb95",
   "metadata": {},
   "source": [
    "Q22) 시간 간의 차이 계산(분), 그룹핑"
   ]
  },
  {
   "cell_type": "code",
   "execution_count": 17,
   "id": "58500a7c-30dd-4672-9d42-c621ef4d9c31",
   "metadata": {},
   "outputs": [],
   "source": [
    "import pandas as pd\n",
    "df = pd.read_csv(\"delivery_time.csv\")"
   ]
  },
  {
   "cell_type": "code",
   "execution_count": 21,
   "id": "a5e27d55-4995-4833-950e-2f5d531a707e",
   "metadata": {},
   "outputs": [],
   "source": [
    "# datetime으로 자료형 변경\n",
    "df['실제도착시간']=pd.to_datetime(df['실제도착시간'])\n",
    "df['주문시간']=pd.to_datetime(df['주문시간'])"
   ]
  },
  {
   "cell_type": "code",
   "execution_count": 23,
   "id": "c7b0c9e1-7bac-4cf3-968a-9f4e417f18d5",
   "metadata": {},
   "outputs": [],
   "source": [
    "# 실제 도착 시간과 주문 시간 차이 계산(분)\n",
    "df['diff'] = (df['실제도착시간'] - df['주문시간']).dt.total_seconds()/60"
   ]
  },
  {
   "cell_type": "code",
   "execution_count": 25,
   "id": "a41f2e30-a961-41a8-8413-89898c984d25",
   "metadata": {},
   "outputs": [],
   "source": [
    "# 앱 종류별 도착 시간과 주문 시간 차이의 평균 계산\n",
    "df = df.groupby('앱종류')['diff'].mean()"
   ]
  },
  {
   "cell_type": "code",
   "execution_count": 27,
   "id": "7ae3492a-5219-4c83-b569-590bf42a3622",
   "metadata": {},
   "outputs": [
    {
     "name": "stdout",
     "output_type": "stream",
     "text": [
      "62\n"
     ]
    }
   ],
   "source": [
    "# 가장 적은 시간(분) 반올림 후 출력\n",
    "print(round(df.min()))"
   ]
  },
  {
   "cell_type": "markdown",
   "id": "cb32c2b0-2f24-466c-8237-14a0cf47f986",
   "metadata": {},
   "source": [
    "Q23) 시간 간의 차이 계산(분), 비율"
   ]
  },
  {
   "cell_type": "code",
   "execution_count": 30,
   "id": "eb468fd2-1bf2-4f43-a632-aa36fbc16e9a",
   "metadata": {},
   "outputs": [],
   "source": [
    "import pandas as pd\n",
    "df = pd.read_csv(\"delivery_time.csv\")"
   ]
  },
  {
   "cell_type": "code",
   "execution_count": 32,
   "id": "cdea78e8-f291-4073-8d68-d05fc218d06c",
   "metadata": {},
   "outputs": [],
   "source": [
    "# datetime 자료형으로 변경\n",
    "df['실제도착시간']=pd.to_datetime(df['실제도착시간'])\n",
    "df['예상도착시간']=pd.to_datetime(df['예상도착시간'])"
   ]
  },
  {
   "cell_type": "code",
   "execution_count": 38,
   "id": "634b56f7-f48e-4672-9182-9de301fd80ef",
   "metadata": {},
   "outputs": [],
   "source": [
    "# 지연 시간 계산(분)\n",
    "df['지연시간'] = (df['실제도착시간'] - df['예상도착시간']).dt.total_seconds() / 60  # 분 단위로 계산"
   ]
  },
  {
   "cell_type": "code",
   "execution_count": 40,
   "id": "145ae31f-bd78-448e-95f1-db1d95bf496f",
   "metadata": {},
   "outputs": [],
   "source": [
    "# 실제 도착 시간이 예상 도착 시간보다 늦은 경우를 체크하는 컬럼 생성\n",
    "df['지연여부'] = df['지연시간'] > 0"
   ]
  },
  {
   "cell_type": "code",
   "execution_count": 42,
   "id": "82680e6b-b7fa-40d6-b546-a8067b2b6f3f",
   "metadata": {},
   "outputs": [],
   "source": [
    "# 결제 종류별 지연된 주문 수의 비율 계산\n",
    "result = df.groupby('결제종류')['지연여부'].mean()"
   ]
  },
  {
   "cell_type": "code",
   "execution_count": 46,
   "id": "baa71229-a4f8-4750-9f8d-1ef9c74fd049",
   "metadata": {},
   "outputs": [
    {
     "data": {
      "text/plain": [
       "결제종류\n",
       "앱결제    0.556634\n",
       "카드     0.489971\n",
       "현금     0.488304\n",
       "Name: 지연여부, dtype: float64"
      ]
     },
     "execution_count": 46,
     "metadata": {},
     "output_type": "execute_result"
    }
   ],
   "source": [
    "result"
   ]
  },
  {
   "cell_type": "code",
   "execution_count": 44,
   "id": "68226809-5d21-4bdd-9e33-18864681db18",
   "metadata": {},
   "outputs": [
    {
     "name": "stdout",
     "output_type": "stream",
     "text": [
      "0.56\n"
     ]
    }
   ],
   "source": [
    "# 가장 비율이 높은 값\n",
    "print(round(result.max(), 2))"
   ]
  },
  {
   "cell_type": "markdown",
   "id": "71e9878c-4106-486c-9cc9-84c4267d1a69",
   "metadata": {},
   "source": [
    "Q24) 그룹핑, 값 찾기, 필터링"
   ]
  },
  {
   "cell_type": "code",
   "execution_count": 49,
   "id": "858a5e55-0e3c-4afa-bf14-8796c517416c",
   "metadata": {},
   "outputs": [],
   "source": [
    "import pandas as pd\n",
    "df = pd.read_csv(\"delivery_time.csv\")"
   ]
  },
  {
   "cell_type": "code",
   "execution_count": 51,
   "id": "31792866-0a92-48d5-aaaa-8826fa56ad19",
   "metadata": {},
   "outputs": [],
   "source": [
    "# 사용자별로 주문 거리의 합계와 평균 계산\n",
    "df_distance = df.groupby('user')['거리'].sum()"
   ]
  },
  {
   "cell_type": "code",
   "execution_count": 53,
   "id": "006c2796-c818-4c44-b737-86e19ccd69e1",
   "metadata": {},
   "outputs": [],
   "source": [
    "# 주문 거리의 합계가 50km 이상인 사용자만 필터링\n",
    "cond = df_distance >= 50\n",
    "df_distance = df_distance[cond]"
   ]
  },
  {
   "cell_type": "code",
   "execution_count": 55,
   "id": "84436385-0734-4cc9-9083-b0f8c6d865da",
   "metadata": {},
   "outputs": [
    {
     "data": {
      "text/html": [
       "<div>\n",
       "<style scoped>\n",
       "    .dataframe tbody tr th:only-of-type {\n",
       "        vertical-align: middle;\n",
       "    }\n",
       "\n",
       "    .dataframe tbody tr th {\n",
       "        vertical-align: top;\n",
       "    }\n",
       "\n",
       "    .dataframe thead th {\n",
       "        text-align: right;\n",
       "    }\n",
       "</style>\n",
       "<table border=\"1\" class=\"dataframe\">\n",
       "  <thead>\n",
       "    <tr style=\"text-align: right;\">\n",
       "      <th></th>\n",
       "      <th>주문시간</th>\n",
       "      <th>실제도착시간</th>\n",
       "      <th>예상도착시간</th>\n",
       "      <th>앱종류</th>\n",
       "      <th>거리</th>\n",
       "      <th>결제종류</th>\n",
       "      <th>user</th>\n",
       "    </tr>\n",
       "  </thead>\n",
       "  <tbody>\n",
       "    <tr>\n",
       "      <th>1</th>\n",
       "      <td>2022-11-07 10:21:54</td>\n",
       "      <td>2022-11-07 10:44:04</td>\n",
       "      <td>2022-11-07 10:50:15</td>\n",
       "      <td>배고팡</td>\n",
       "      <td>5.19</td>\n",
       "      <td>카드</td>\n",
       "      <td>user_360</td>\n",
       "    </tr>\n",
       "    <tr>\n",
       "      <th>4</th>\n",
       "      <td>2023-08-11 09:58:27</td>\n",
       "      <td>2023-08-11 11:27:57</td>\n",
       "      <td>2023-08-11 10:51:57</td>\n",
       "      <td>여기여</td>\n",
       "      <td>14.96</td>\n",
       "      <td>카드</td>\n",
       "      <td>user_176</td>\n",
       "    </tr>\n",
       "    <tr>\n",
       "      <th>5</th>\n",
       "      <td>2022-11-27 15:13:52</td>\n",
       "      <td>2022-11-27 16:47:32</td>\n",
       "      <td>2022-11-27 16:41:28</td>\n",
       "      <td>배달왕</td>\n",
       "      <td>14.85</td>\n",
       "      <td>앱결제</td>\n",
       "      <td>user_204</td>\n",
       "    </tr>\n",
       "    <tr>\n",
       "      <th>15</th>\n",
       "      <td>2022-12-23 01:48:35</td>\n",
       "      <td>2022-12-23 02:47:01</td>\n",
       "      <td>2022-12-23 02:52:36</td>\n",
       "      <td>배고팡</td>\n",
       "      <td>5.35</td>\n",
       "      <td>현금</td>\n",
       "      <td>user_497</td>\n",
       "    </tr>\n",
       "    <tr>\n",
       "      <th>17</th>\n",
       "      <td>2022-10-04 01:48:33</td>\n",
       "      <td>2022-10-04 02:54:07</td>\n",
       "      <td>2022-10-04 02:47:42</td>\n",
       "      <td>배고팡</td>\n",
       "      <td>8.99</td>\n",
       "      <td>카드</td>\n",
       "      <td>user_398</td>\n",
       "    </tr>\n",
       "    <tr>\n",
       "      <th>...</th>\n",
       "      <td>...</td>\n",
       "      <td>...</td>\n",
       "      <td>...</td>\n",
       "      <td>...</td>\n",
       "      <td>...</td>\n",
       "      <td>...</td>\n",
       "      <td>...</td>\n",
       "    </tr>\n",
       "    <tr>\n",
       "      <th>959</th>\n",
       "      <td>2023-01-25 02:39:41</td>\n",
       "      <td>2023-01-25 04:10:54</td>\n",
       "      <td>2023-01-25 03:27:17</td>\n",
       "      <td>배달왕</td>\n",
       "      <td>10.29</td>\n",
       "      <td>앱결제</td>\n",
       "      <td>user_157</td>\n",
       "    </tr>\n",
       "    <tr>\n",
       "      <th>974</th>\n",
       "      <td>2022-12-17 15:29:28</td>\n",
       "      <td>2022-12-17 16:21:01</td>\n",
       "      <td>2022-12-17 16:31:10</td>\n",
       "      <td>배달왕</td>\n",
       "      <td>15.52</td>\n",
       "      <td>현금</td>\n",
       "      <td>user_383</td>\n",
       "    </tr>\n",
       "    <tr>\n",
       "      <th>981</th>\n",
       "      <td>2023-03-08 10:51:00</td>\n",
       "      <td>2023-03-08 12:29:03</td>\n",
       "      <td>2023-03-08 11:54:56</td>\n",
       "      <td>배고팡</td>\n",
       "      <td>17.21</td>\n",
       "      <td>현금</td>\n",
       "      <td>user_311</td>\n",
       "    </tr>\n",
       "    <tr>\n",
       "      <th>984</th>\n",
       "      <td>2023-06-23 21:07:25</td>\n",
       "      <td>2023-06-23 22:21:26</td>\n",
       "      <td>2023-06-23 22:44:11</td>\n",
       "      <td>배달왕</td>\n",
       "      <td>10.30</td>\n",
       "      <td>카드</td>\n",
       "      <td>user_369</td>\n",
       "    </tr>\n",
       "    <tr>\n",
       "      <th>986</th>\n",
       "      <td>2023-03-15 20:57:13</td>\n",
       "      <td>2023-03-15 21:39:48</td>\n",
       "      <td>2023-03-15 21:24:23</td>\n",
       "      <td>배고팡</td>\n",
       "      <td>12.52</td>\n",
       "      <td>카드</td>\n",
       "      <td>user_85</td>\n",
       "    </tr>\n",
       "  </tbody>\n",
       "</table>\n",
       "<p>129 rows × 7 columns</p>\n",
       "</div>"
      ],
      "text/plain": [
       "                    주문시간               실제도착시간               예상도착시간  앱종류  \\\n",
       "1    2022-11-07 10:21:54  2022-11-07 10:44:04  2022-11-07 10:50:15  배고팡   \n",
       "4    2023-08-11 09:58:27  2023-08-11 11:27:57  2023-08-11 10:51:57  여기여   \n",
       "5    2022-11-27 15:13:52  2022-11-27 16:47:32  2022-11-27 16:41:28  배달왕   \n",
       "15   2022-12-23 01:48:35  2022-12-23 02:47:01  2022-12-23 02:52:36  배고팡   \n",
       "17   2022-10-04 01:48:33  2022-10-04 02:54:07  2022-10-04 02:47:42  배고팡   \n",
       "..                   ...                  ...                  ...  ...   \n",
       "959  2023-01-25 02:39:41  2023-01-25 04:10:54  2023-01-25 03:27:17  배달왕   \n",
       "974  2022-12-17 15:29:28  2022-12-17 16:21:01  2022-12-17 16:31:10  배달왕   \n",
       "981  2023-03-08 10:51:00  2023-03-08 12:29:03  2023-03-08 11:54:56  배고팡   \n",
       "984  2023-06-23 21:07:25  2023-06-23 22:21:26  2023-06-23 22:44:11  배달왕   \n",
       "986  2023-03-15 20:57:13  2023-03-15 21:39:48  2023-03-15 21:24:23  배고팡   \n",
       "\n",
       "        거리 결제종류      user  \n",
       "1     5.19   카드  user_360  \n",
       "4    14.96   카드  user_176  \n",
       "5    14.85  앱결제  user_204  \n",
       "15    5.35   현금  user_497  \n",
       "17    8.99   카드  user_398  \n",
       "..     ...  ...       ...  \n",
       "959  10.29  앱결제  user_157  \n",
       "974  15.52   현금  user_383  \n",
       "981  17.21   현금  user_311  \n",
       "984  10.30   카드  user_369  \n",
       "986  12.52   카드   user_85  \n",
       "\n",
       "[129 rows x 7 columns]"
      ]
     },
     "execution_count": 55,
     "metadata": {},
     "output_type": "execute_result"
    }
   ],
   "source": [
    "# 주문 거리의 합계가 50km 이상인 사용자들의 데이터 필터링\n",
    "filtered_data = df[df['user'].isin(df_distance.index)]\n",
    "filtered_data"
   ]
  },
  {
   "cell_type": "code",
   "execution_count": 59,
   "id": "a067b6da-c47c-4e69-bf52-5b8d16bdfe75",
   "metadata": {},
   "outputs": [
    {
     "name": "stdout",
     "output_type": "stream",
     "text": [
      "48\n"
     ]
    }
   ],
   "source": [
    "# 해당 사용자들의 선호 결제 방식 중 큰 값\n",
    "payment_method = filtered_data['결제종류'].value_counts()\n",
    "print(payment_method.iloc[0])"
   ]
  },
  {
   "cell_type": "markdown",
   "id": "01e9221f-c99e-436e-82e1-17ff6bbccdd0",
   "metadata": {},
   "source": [
    "Q25) 시간 간의 차이 계산(일)"
   ]
  },
  {
   "cell_type": "code",
   "execution_count": 62,
   "id": "a2aa209d-5a33-4abd-ae06-baf1d49a97cc",
   "metadata": {},
   "outputs": [],
   "source": [
    "import pandas as pd\n",
    "df = pd.read_csv(\"delivery_time.csv\")"
   ]
  },
  {
   "cell_type": "code",
   "execution_count": 64,
   "id": "22e27132-9ce4-48c4-805e-91e8c7b4f289",
   "metadata": {},
   "outputs": [],
   "source": [
    "# 각 사용자별로 첫 주문과 마지막 주문 사이의 시간 간격(일 단위)을 계산\n",
    "df['주문시간']=pd.to_datetime(df['주문시간'])\n",
    "min_order_time = df.groupby('user')['주문시간'].min()\n",
    "max_order_time = df.groupby('user')['주문시간'].max()\n",
    "time_interval = (max_order_time - min_order_time).dt.days"
   ]
  },
  {
   "cell_type": "code",
   "execution_count": 70,
   "id": "f3d6500d-0de9-4dfc-a09e-8fc8c852260b",
   "metadata": {},
   "outputs": [],
   "source": [
    "# 1일 미만 주문 제외\n",
    "cond1 = time_interval > 0\n",
    "m = time_interval[cond1].mean()"
   ]
  },
  {
   "cell_type": "code",
   "execution_count": 72,
   "id": "d1d0e115-aed5-4cd3-8dda-2b9796f77b80",
   "metadata": {},
   "outputs": [
    {
     "name": "stdout",
     "output_type": "stream",
     "text": [
      "146\n"
     ]
    }
   ],
   "source": [
    "# 평균보다 기간이 긴 유저 수\n",
    "cond2 = time_interval > m\n",
    "print(len(time_interval[cond2]))"
   ]
  },
  {
   "cell_type": "markdown",
   "id": "429a7433-996a-44c9-923f-57f69bdd9f5f",
   "metadata": {},
   "source": [
    "Q26) 날짜와 시간 정보 변환, 비율"
   ]
  },
  {
   "cell_type": "code",
   "execution_count": 75,
   "id": "5842c878-f971-4f8c-8179-3da250cc33a9",
   "metadata": {},
   "outputs": [],
   "source": [
    "import pandas as pd\n",
    "df = pd.read_csv(\"delivery_time.csv\")"
   ]
  },
  {
   "cell_type": "code",
   "execution_count": 79,
   "id": "145cb57d-3090-423f-89a2-862d7f616e6a",
   "metadata": {},
   "outputs": [
    {
     "data": {
      "text/plain": [
       "Period('2022-09', 'M')"
      ]
     },
     "execution_count": 79,
     "metadata": {},
     "output_type": "execute_result"
    }
   ],
   "source": [
    "# 주문이 가장 많이 발생한 연-월 찾기\n",
    "df['주문시간'] = pd.to_datetime(df['주문시간'])\n",
    "df['주문월'] = df['주문시간'].dt.to_period('M')\n",
    "year_month = df['주문월'].value_counts().idxmax()\n",
    "year_month"
   ]
  },
  {
   "cell_type": "code",
   "execution_count": 81,
   "id": "39c5080c-f2da-456c-b8a5-6823fa38a716",
   "metadata": {},
   "outputs": [
    {
     "name": "stdout",
     "output_type": "stream",
     "text": [
      "0.31\n"
     ]
    }
   ],
   "source": [
    "# 해당 연-월에 배고팡 앱을 통한 주문 중 '앱 결제'로 결제된 주문의 비율 계산\n",
    "cond1 = df['주문월']==year_month\n",
    "cond2 = df['앱종류']=='배고팡'\n",
    "filtered_df = df[cond1 & cond2]\n",
    "cond3 = filtered_df['결제종류']=='앱결제'\n",
    "result = len(filtered_df[cond3])/len(filtered_df)\n",
    "print(round(result, 2))"
   ]
  },
  {
   "cell_type": "markdown",
   "id": "c276e7b8-1040-4798-a19b-27db5fb68d36",
   "metadata": {},
   "source": [
    "Q27) 시간 범위, 속도(km/h)"
   ]
  },
  {
   "cell_type": "code",
   "execution_count": 84,
   "id": "c52c22f1-bd4a-47d4-b306-24d3272a5098",
   "metadata": {},
   "outputs": [],
   "source": [
    "import pandas as pd\n",
    "df = pd.read_csv(\"delivery_time.csv\")\n",
    "\n",
    "# datetime 자료형으로 변경\n",
    "df['주문시간'] = pd.to_datetime(df['주문시간'])\n",
    "df['실제도착시간'] = pd.to_datetime(df['실제도착시간'])"
   ]
  },
  {
   "cell_type": "code",
   "execution_count": 86,
   "id": "4162c2e4-d844-46d5-8484-5ce64410e168",
   "metadata": {},
   "outputs": [
    {
     "data": {
      "text/plain": [
       "1"
      ]
     },
     "execution_count": 86,
     "metadata": {},
     "output_type": "execute_result"
    }
   ],
   "source": [
    "# 점심시간 주문 선택\n",
    "df['시간']=df['주문시간'].dt.hour\n",
    "cond1 = df['시간']>=10\n",
    "cond2 = df['시간']<13\n",
    "df = df[cond1 & cond2]\n",
    "\n",
    "# 속도 (km/h) = 거리(km) / 시간(h)\n",
    "df['배달시간'] = df['실제도착시간'] - df['주문시간']\n",
    "df['배달시간'] = df['배달시간'].dt.total_seconds()/60/60  # 시간 단위로 변경\n",
    "df['속도'] = df['거리'] / df['배달시간']\n",
    "sum(df['속도']>=50)"
   ]
  },
  {
   "cell_type": "markdown",
   "id": "9af44c95-b1a4-412b-9b44-922e15c16325",
   "metadata": {},
   "source": [
    "Q28) 날짜와 시간, 문자열"
   ]
  },
  {
   "cell_type": "code",
   "execution_count": 89,
   "id": "0fda8a40-0f09-49ab-bf29-0d0f4ed4e50b",
   "metadata": {},
   "outputs": [],
   "source": [
    "import pandas as pd\n",
    "df = pd.read_csv(\"delivery_time.csv\")"
   ]
  },
  {
   "cell_type": "code",
   "execution_count": 91,
   "id": "339b1bb7-42d3-4630-bb23-dee017e28637",
   "metadata": {},
   "outputs": [],
   "source": [
    "# 주문 연월 추출(연도-월)\n",
    "df['주문시간']=pd.to_datetime(df['주문시간'])\n",
    "df['주문월']=df['주문시간'].dt.to_period('M')"
   ]
  },
  {
   "cell_type": "code",
   "execution_count": 93,
   "id": "d2638a33-e087-4996-bc0d-5be779774765",
   "metadata": {},
   "outputs": [],
   "source": [
    "# 주문 월을 기준으로 빈도 수(주문 횟수) 계산\n",
    "count_month = df.groupby('주문월').size()"
   ]
  },
  {
   "cell_type": "code",
   "execution_count": 95,
   "id": "23da26b6-ecf3-4922-8257-bea39d5a3ddd",
   "metadata": {},
   "outputs": [],
   "source": [
    "# 주문 횟수가 가장 많은 월의 인덱스 추출\n",
    "year_month = count_month.idxmax()"
   ]
  },
  {
   "cell_type": "code",
   "execution_count": 97,
   "id": "3a9a51c9-270d-482b-bfab-23c0bdf383ff",
   "metadata": {},
   "outputs": [
    {
     "name": "stdout",
     "output_type": "stream",
     "text": [
      "202209\n"
     ]
    }
   ],
   "source": [
    "# 문자열로 변경 및 하이픈(-) 제거\n",
    "year_month = str(year_month)\n",
    "result = year_month.replace(\"-\", \"\")\n",
    "print(result)"
   ]
  },
  {
   "cell_type": "markdown",
   "id": "bdddeb82-356d-4af9-91cf-6cde826e19b5",
   "metadata": {},
   "source": [
    "Q29) 함수, 월별 집계"
   ]
  },
  {
   "cell_type": "code",
   "execution_count": 108,
   "id": "a58a921e-ea32-43fc-b4f5-e1533373b7f4",
   "metadata": {},
   "outputs": [],
   "source": [
    "import pandas as pd\n",
    "df = pd.read_csv(\"delivery_time.csv\")"
   ]
  },
  {
   "cell_type": "code",
   "execution_count": 110,
   "id": "a7ba9cb8-287d-43eb-8b46-9a8663996669",
   "metadata": {},
   "outputs": [],
   "source": [
    "# 배달료 계산 함수 정의\n",
    "def delivery_fee(distance):\n",
    "    if distance<5:\n",
    "        return 2000\n",
    "    elif distance<10:\n",
    "        return 4000\n",
    "    elif distance<15:\n",
    "        return 6000\n",
    "    elif distance<20:\n",
    "        return 8000"
   ]
  },
  {
   "cell_type": "code",
   "execution_count": 112,
   "id": "58d4b876-63be-4a65-af4f-342ac2bd825b",
   "metadata": {},
   "outputs": [],
   "source": [
    "# 각 주문에 대한 배달료 계산\n",
    "df['배달료']=df['거리'].apply(delivery_fee)"
   ]
  },
  {
   "cell_type": "code",
   "execution_count": 118,
   "id": "3db9110c-9a35-49a0-b9e3-a6a0d6f33c03",
   "metadata": {},
   "outputs": [],
   "source": [
    "# 월별로 배달료의 총집합 집계\n",
    "df['주문시간']=pd.to_datetime(df['주문시간'])\n",
    "period_M = df['주문시간'].dt.to_period('M')\n",
    "monthly = df.groupby(period_M)['배달료'].sum()"
   ]
  },
  {
   "cell_type": "code",
   "execution_count": 120,
   "id": "79ef3148-9bd9-4eba-bbd8-486997c740ae",
   "metadata": {},
   "outputs": [
    {
     "data": {
      "text/plain": [
       "448000"
      ]
     },
     "execution_count": 120,
     "metadata": {},
     "output_type": "execute_result"
    }
   ],
   "source": [
    "# 가장 많은 배달료가 발생한 월과 그 월의 총 배달료 찾기\n",
    "max_fee_month = monthly.idxmax()\n",
    "max_fee_value = monthly[max_fee_month]\n",
    "max_fee_value"
   ]
  },
  {
   "cell_type": "markdown",
   "id": "5be3cae2-81b9-4f38-9fb6-72fb63354a81",
   "metadata": {},
   "source": [
    "Q30) 주말, 평일 구분"
   ]
  },
  {
   "cell_type": "code",
   "execution_count": 123,
   "id": "73c22a52-60b4-4328-83e4-1db16f607560",
   "metadata": {},
   "outputs": [],
   "source": [
    "import pandas as pd\n",
    "df = pd.read_csv(\"delivery_time.csv\")\n",
    "df['주문시간']=pd.to_datetime(df['주문시간'])"
   ]
  },
  {
   "cell_type": "code",
   "execution_count": 125,
   "id": "f652f453-89c7-4ef8-b3a2-9cc417e6ac1d",
   "metadata": {},
   "outputs": [],
   "source": [
    "# 주말/평일 구분 0:월, 1:화 ~ 5:토, 6:일\n",
    "df['dayofweek'] = df['주문시간'].dt.dayofweek\n",
    "df['주말']=df['dayofweek']>=5"
   ]
  },
  {
   "cell_type": "code",
   "execution_count": 127,
   "id": "82b5a12c-e5a6-4364-b176-a36d8716fa4e",
   "metadata": {},
   "outputs": [],
   "source": [
    "# 주말 개수, 평일 개수 계산\n",
    "weekend = sum(df['주말'])\n",
    "weekday = sum(~df['주말'])"
   ]
  },
  {
   "cell_type": "code",
   "execution_count": 129,
   "id": "1e279f01-00df-443e-812e-552d06412fd8",
   "metadata": {},
   "outputs": [
    {
     "name": "stdout",
     "output_type": "stream",
     "text": [
      "412\n"
     ]
    }
   ],
   "source": [
    "# 차이 절댓값 출력\n",
    "print(abs(weekend - weekday))"
   ]
  }
 ],
 "metadata": {
  "kernelspec": {
   "display_name": "Python 3 (ipykernel)",
   "language": "python",
   "name": "python3"
  },
  "language_info": {
   "codemirror_mode": {
    "name": "ipython",
    "version": 3
   },
   "file_extension": ".py",
   "mimetype": "text/x-python",
   "name": "python",
   "nbconvert_exporter": "python",
   "pygments_lexer": "ipython3",
   "version": "3.12.3"
  }
 },
 "nbformat": 4,
 "nbformat_minor": 5
}
