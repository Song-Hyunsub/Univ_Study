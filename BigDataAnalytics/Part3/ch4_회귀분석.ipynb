{
 "cells": [
  {
   "cell_type": "markdown",
   "metadata": {
    "id": "ySO86EjchHr9"
   },
   "source": [
    "[구글 코랩(Colab)에서 실행하기](https://colab.research.google.com/github/lovedlim/bigdata_analyst_cert_v2/blob/main/part3/ch4/ch4_linear_regression.ipynb)"
   ]
  },
  {
   "cell_type": "markdown",
   "metadata": {
    "id": "b-ktASucvEBr"
   },
   "source": [
    "# 1. 상관관계"
   ]
  },
  {
   "cell_type": "code",
   "execution_count": 2,
   "metadata": {
    "colab": {
     "base_uri": "https://localhost:8080/"
    },
    "executionInfo": {
     "elapsed": 1298,
     "status": "ok",
     "timestamp": 1742181333516,
     "user": {
      "displayName": "Tae Heon Kim",
      "userId": "07653788752262629837"
     },
     "user_tz": -540
    },
    "id": "A2BwZi-1wE8v",
    "outputId": "88be98a9-a895-4e95-b7a4-3e347fd7f290"
   },
   "outputs": [
    {
     "name": "stdout",
     "output_type": "stream",
     "text": [
      "            키       몸무게\n",
      "키    1.000000  0.919509\n",
      "몸무게  0.919509  1.000000\n"
     ]
    }
   ],
   "source": [
    "import pandas as pd\n",
    "\n",
    "# 주어진 데이터\n",
    "data = {\n",
    "    '키': [150, 160, 170, 175, 165],\n",
    "    '몸무게': [42, 50, 70, 64, 56]\n",
    "}\n",
    "df = pd.DataFrame(data)\n",
    "\n",
    "# 상관계수 계산\n",
    "correlation = df.corr()\n",
    "print(correlation)"
   ]
  },
  {
   "cell_type": "code",
   "execution_count": 4,
   "metadata": {
    "colab": {
     "base_uri": "https://localhost:8080/"
    },
    "executionInfo": {
     "elapsed": 5,
     "status": "ok",
     "timestamp": 1742181333518,
     "user": {
      "displayName": "Tae Heon Kim",
      "userId": "07653788752262629837"
     },
     "user_tz": -540
    },
    "id": "rluun_6CwE_D",
    "outputId": "d8488c41-c85d-43ee-ba7e-8ebf571f2144"
   },
   "outputs": [
    {
     "name": "stdout",
     "output_type": "stream",
     "text": [
      "0.9195090879163764\n"
     ]
    }
   ],
   "source": [
    "print(correlation.iloc[0, 1])"
   ]
  },
  {
   "cell_type": "code",
   "execution_count": 6,
   "metadata": {
    "colab": {
     "base_uri": "https://localhost:8080/"
    },
    "executionInfo": {
     "elapsed": 6,
     "status": "ok",
     "timestamp": 1742181333521,
     "user": {
      "displayName": "Tae Heon Kim",
      "userId": "07653788752262629837"
     },
     "user_tz": -540
    },
    "id": "cp-8KeGYUIfi",
    "outputId": "1749c0f1-8cf8-4c60-b80d-55e8cdb5718a"
   },
   "outputs": [
    {
     "name": "stdout",
     "output_type": "stream",
     "text": [
      "0.9195090879163765\n",
      "0.9195090879163765\n"
     ]
    }
   ],
   "source": [
    "print(df['키'].corr(df['몸무게']))\n",
    "print(df['몸무게'].corr(df['키']))"
   ]
  },
  {
   "cell_type": "code",
   "execution_count": 10,
   "metadata": {
    "colab": {
     "base_uri": "https://localhost:8080/"
    },
    "executionInfo": {
     "elapsed": 1084,
     "status": "ok",
     "timestamp": 1742181334613,
     "user": {
      "displayName": "Tae Heon Kim",
      "userId": "07653788752262629837"
     },
     "user_tz": -540
    },
    "id": "g6XkOiC9JP4y",
    "outputId": "1ec7de06-4946-424d-eeab-b42c1e043c3f"
   },
   "outputs": [
    {
     "name": "stdout",
     "output_type": "stream",
     "text": [
      "            키       몸무게\n",
      "키    1.000000  0.919509\n",
      "몸무게  0.919509  1.000000\n",
      "       키  몸무게\n",
      "키    1.0  0.9\n",
      "몸무게  0.9  1.0\n",
      "       키  몸무게\n",
      "키    1.0  0.8\n",
      "몸무게  0.8  1.0\n"
     ]
    }
   ],
   "source": [
    "# 피어슨 상관계수 (기본값)\n",
    "print(df.corr())\n",
    "\n",
    "# 스피어맨 상관계수\n",
    "print(df.corr(method='spearman'))\n",
    "\n",
    "# 켄달타우 상관계수\n",
    "print(df.corr(method='kendall'))"
   ]
  },
  {
   "cell_type": "code",
   "execution_count": 12,
   "metadata": {
    "colab": {
     "base_uri": "https://localhost:8080/"
    },
    "executionInfo": {
     "elapsed": 20,
     "status": "ok",
     "timestamp": 1742181334634,
     "user": {
      "displayName": "Tae Heon Kim",
      "userId": "07653788752262629837"
     },
     "user_tz": -540
    },
    "id": "XD3M2RxF8a7G",
    "outputId": "e7c58577-066b-4f82-aa47-e0b14d3cd347"
   },
   "outputs": [
    {
     "name": "stdout",
     "output_type": "stream",
     "text": [
      "PearsonRResult(statistic=0.9195090879163765, pvalue=0.027079456895589476)\n",
      "SignificanceResult(statistic=0.8999999999999998, pvalue=0.03738607346849874)\n",
      "SignificanceResult(statistic=0.7999999999999999, pvalue=0.08333333333333333)\n"
     ]
    }
   ],
   "source": [
    "from scipy import stats\n",
    "# 피어슨 상관계수와 p-value 계산\n",
    "print(stats.pearsonr(df['몸무게'], df['키']))\n",
    "\n",
    "# 스피어맨 상관계수와 p-value 계산\n",
    "print(stats.spearmanr(df['몸무게'], df['키']))\n",
    "\n",
    "# 켄달타우 상관계수와 p-value 계산\n",
    "print(stats.kendalltau(df['몸무게'], df['키']))"
   ]
  },
  {
   "cell_type": "markdown",
   "metadata": {
    "id": "k5_PWyS-jgW4"
   },
   "source": [
    "# 단순 선형 회귀 분석"
   ]
  },
  {
   "cell_type": "code",
   "execution_count": 14,
   "metadata": {
    "executionInfo": {
     "elapsed": 16,
     "status": "ok",
     "timestamp": 1742181334654,
     "user": {
      "displayName": "Tae Heon Kim",
      "userId": "07653788752262629837"
     },
     "user_tz": -540
    },
    "id": "TL3Jvn8zjjPB"
   },
   "outputs": [],
   "source": [
    "import pandas as pd\n",
    "\n",
    "data = {\n",
    "    '키': [150, 160, 170, 175, 165, 155, 172, 168, 174, 158,\n",
    "          162, 173, 156, 159, 167, 163, 171, 169, 176, 161],\n",
    "    '몸무게': [42, 50, 70, 64, 56, 48, 68, 60, 65, 52,\n",
    "            54, 67, 49, 51, 58, 55, 69, 61, 66, 53]\n",
    "}\n",
    "df = pd.DataFrame(data)"
   ]
  },
  {
   "cell_type": "code",
   "execution_count": 16,
   "metadata": {
    "colab": {
     "base_uri": "https://localhost:8080/"
    },
    "executionInfo": {
     "elapsed": 2279,
     "status": "ok",
     "timestamp": 1742181336934,
     "user": {
      "displayName": "Tae Heon Kim",
      "userId": "07653788752262629837"
     },
     "user_tz": -540
    },
    "id": "-o6tyqiOUmPM",
    "outputId": "5ffea31f-b976-46f0-ecab-a2ec4997c909"
   },
   "outputs": [
    {
     "name": "stdout",
     "output_type": "stream",
     "text": [
      "                            OLS Regression Results                            \n",
      "==============================================================================\n",
      "Dep. Variable:                      키   R-squared:                       0.892\n",
      "Model:                            OLS   Adj. R-squared:                  0.886\n",
      "Method:                 Least Squares   F-statistic:                     148.0\n",
      "Date:                Mon, 05 May 2025   Prob (F-statistic):           4.04e-10\n",
      "Time:                        17:40:32   Log-Likelihood:                -45.761\n",
      "No. Observations:                  20   AIC:                             95.52\n",
      "Df Residuals:                      18   BIC:                             97.51\n",
      "Df Model:                           1                                         \n",
      "Covariance Type:            nonrobust                                         \n",
      "==============================================================================\n",
      "                 coef    std err          t      P>|t|      [0.025      0.975]\n",
      "------------------------------------------------------------------------------\n",
      "Intercept    115.0676      4.158     27.671      0.000     106.331     123.804\n",
      "몸무게            0.8658      0.071     12.167      0.000       0.716       1.015\n",
      "==============================================================================\n",
      "Omnibus:                        0.985   Durbin-Watson:                   2.609\n",
      "Prob(Omnibus):                  0.611   Jarque-Bera (JB):                0.336\n",
      "Skew:                          -0.315   Prob(JB):                        0.845\n",
      "Kurtosis:                       3.082   Cond. No.                         432.\n",
      "==============================================================================\n",
      "\n",
      "Notes:\n",
      "[1] Standard Errors assume that the covariance matrix of the errors is correctly specified.\n"
     ]
    }
   ],
   "source": [
    "from statsmodels.formula.api import ols\n",
    "model = ols('키 ~ 몸무게', data=df).fit()\n",
    "print(model.summary())"
   ]
  },
  {
   "cell_type": "code",
   "execution_count": 18,
   "metadata": {
    "colab": {
     "base_uri": "https://localhost:8080/"
    },
    "executionInfo": {
     "elapsed": 12,
     "status": "ok",
     "timestamp": 1742181336960,
     "user": {
      "displayName": "Tae Heon Kim",
      "userId": "07653788752262629837"
     },
     "user_tz": -540
    },
    "id": "q1rvrq7EVO4i",
    "outputId": "7593c4ed-ad14-424e-912d-d98d991baa1f"
   },
   "outputs": [
    {
     "name": "stdout",
     "output_type": "stream",
     "text": [
      "결정 계수: 0.8915914350087262\n"
     ]
    }
   ],
   "source": [
    "print(\"결정 계수:\", model.rsquared)"
   ]
  },
  {
   "cell_type": "code",
   "execution_count": 20,
   "metadata": {
    "colab": {
     "base_uri": "https://localhost:8080/"
    },
    "executionInfo": {
     "elapsed": 53,
     "status": "ok",
     "timestamp": 1742181337014,
     "user": {
      "displayName": "Tae Heon Kim",
      "userId": "07653788752262629837"
     },
     "user_tz": -540
    },
    "id": "DPykNZMVUmWH",
    "outputId": "faa0df00-f4ea-46d8-9e7d-abe91d8897b3"
   },
   "outputs": [
    {
     "name": "stdout",
     "output_type": "stream",
     "text": [
      "기울기: 0.8658438852380215\n",
      "절편: 115.0676390447185\n"
     ]
    }
   ],
   "source": [
    "print(\"기울기:\", model.params['몸무게'])\n",
    "print(\"절편:\", model.params['Intercept'])"
   ]
  },
  {
   "cell_type": "code",
   "execution_count": 22,
   "metadata": {
    "colab": {
     "base_uri": "https://localhost:8080/"
    },
    "executionInfo": {
     "elapsed": 46,
     "status": "ok",
     "timestamp": 1742181337060,
     "user": {
      "displayName": "Tae Heon Kim",
      "userId": "07653788752262629837"
     },
     "user_tz": -540
    },
    "id": "pCjMi3ACxHNJ",
    "outputId": "b3170328-b062-4598-9766-b933320a5ddd"
   },
   "outputs": [
    {
     "name": "stdout",
     "output_type": "stream",
     "text": [
      "pvalue: 4.0379325599303475e-10\n",
      "pvalue: 0.0000000004\n"
     ]
    }
   ],
   "source": [
    "print(\"pvalue:\", model.pvalues['몸무게'])\n",
    "print(\"pvalue:\", \"{:.10f}\".format(model.pvalues['몸무게']))"
   ]
  },
  {
   "cell_type": "code",
   "execution_count": 26,
   "metadata": {
    "colab": {
     "base_uri": "https://localhost:8080/"
    },
    "executionInfo": {
     "elapsed": 50,
     "status": "ok",
     "timestamp": 1742181337110,
     "user": {
      "displayName": "Tae Heon Kim",
      "userId": "07653788752262629837"
     },
     "user_tz": -540
    },
    "id": "xlGIWvksXgEs",
    "outputId": "23032977-bcf8-4558-f3e9-10a32d310d03"
   },
   "outputs": [
    {
     "name": "stdout",
     "output_type": "stream",
     "text": [
      "몸무게가 67일 때의 예측 키: 173.07917935566593\n"
     ]
    }
   ],
   "source": [
    "new_data = pd.DataFrame({'몸무게': [67]})\n",
    "result = model.predict(new_data)\n",
    "print(\"몸무게가 67일 때의 예측 키:\", result[0])"
   ]
  },
  {
   "cell_type": "code",
   "execution_count": 28,
   "metadata": {
    "colab": {
     "base_uri": "https://localhost:8080/"
    },
    "executionInfo": {
     "elapsed": 91,
     "status": "ok",
     "timestamp": 1742181337201,
     "user": {
      "displayName": "Tae Heon Kim",
      "userId": "07653788752262629837"
     },
     "user_tz": -540
    },
    "id": "St2U_vg_VO9a",
    "outputId": "41d9edf1-bf61-49f6-f8bb-e0e46d8600d7"
   },
   "outputs": [
    {
     "name": "stdout",
     "output_type": "stream",
     "text": [
      "잔차 제곱합: 113.74226638884441\n"
     ]
    }
   ],
   "source": [
    "df['잔차'] = df['키'] - model.predict(df)\n",
    "print(\"잔차 제곱합:\", sum(df['잔차']**2))"
   ]
  },
  {
   "cell_type": "code",
   "execution_count": 30,
   "metadata": {
    "colab": {
     "base_uri": "https://localhost:8080/"
    },
    "executionInfo": {
     "elapsed": 5,
     "status": "ok",
     "timestamp": 1742181337202,
     "user": {
      "displayName": "Tae Heon Kim",
      "userId": "07653788752262629837"
     },
     "user_tz": -540
    },
    "id": "aljdCDPxVO_x",
    "outputId": "c90eed40-6799-4273-d298-c2352cd2e708"
   },
   "outputs": [
    {
     "name": "stdout",
     "output_type": "stream",
     "text": [
      "MSE: 5.68711331944222\n"
     ]
    }
   ],
   "source": [
    "df['잔차'] = df['키'] - model.predict(df)\n",
    "MSE = (df['잔차']**2).mean()\n",
    "print('MSE:', MSE)"
   ]
  },
  {
   "cell_type": "code",
   "execution_count": 36,
   "metadata": {
    "colab": {
     "base_uri": "https://localhost:8080/"
    },
    "executionInfo": {
     "elapsed": 1033,
     "status": "ok",
     "timestamp": 1742181338234,
     "user": {
      "displayName": "Tae Heon Kim",
      "userId": "07653788752262629837"
     },
     "user_tz": -540
    },
    "id": "WzbPKkh0Etko",
    "outputId": "f179bbb7-697b-48de-efa0-8df77ff3ce24"
   },
   "outputs": [
    {
     "name": "stdout",
     "output_type": "stream",
     "text": [
      "MSE: 5.68711331944222\n"
     ]
    }
   ],
   "source": [
    "from sklearn.metrics import mean_squared_error\n",
    "pred = model.predict(df['몸무게'])\n",
    "mse = mean_squared_error(df['키'], pred)\n",
    "print('MSE:', mse)"
   ]
  },
  {
   "cell_type": "code",
   "execution_count": 38,
   "metadata": {
    "colab": {
     "base_uri": "https://localhost:8080/"
    },
    "executionInfo": {
     "elapsed": 10,
     "status": "ok",
     "timestamp": 1742181338245,
     "user": {
      "displayName": "Tae Heon Kim",
      "userId": "07653788752262629837"
     },
     "user_tz": -540
    },
    "id": "8XFLLhePyE3e",
    "outputId": "6c305b1f-e797-46d9-b8ac-62d796e17160"
   },
   "outputs": [
    {
     "name": "stdout",
     "output_type": "stream",
     "text": [
      "신뢰구간:\n",
      " 0    0.716337\n",
      "1    1.015351\n",
      "Name: 몸무게, dtype: float64\n"
     ]
    }
   ],
   "source": [
    "print(\"신뢰구간:\\n\", model.conf_int(alpha=0.05).loc['몸무게'])"
   ]
  },
  {
   "cell_type": "code",
   "execution_count": 40,
   "metadata": {
    "colab": {
     "base_uri": "https://localhost:8080/"
    },
    "executionInfo": {
     "elapsed": 47,
     "status": "ok",
     "timestamp": 1742181338293,
     "user": {
      "displayName": "Tae Heon Kim",
      "userId": "07653788752262629837"
     },
     "user_tz": -540
    },
    "id": "wPCZ8ZRIyI3q",
    "outputId": "a14f12b1-2936-436c-d13b-450100b19b9b"
   },
   "outputs": [
    {
     "name": "stdout",
     "output_type": "stream",
     "text": [
      "예측값의 신뢰구간과 예측구간:\n",
      "          mean   mean_se  mean_ci_lower  mean_ci_upper  obs_ci_lower  \\\n",
      "0  158.359833  0.794986      156.68963     160.030037    152.820798   \n",
      "\n",
      "   obs_ci_upper  \n",
      "0    163.898869  \n"
     ]
    }
   ],
   "source": [
    "new_data = pd.DataFrame({\"몸무게\": [50]})\n",
    "pred = model.get_prediction(new_data)\n",
    "result = pred.summary_frame(alpha=0.05)\n",
    "print(\"예측값의 신뢰구간과 예측구간:\\n\", result)"
   ]
  },
  {
   "cell_type": "markdown",
   "metadata": {
    "id": "dqSaex9uMcUv"
   },
   "source": [
    "# 다중 선형 회귀 분석"
   ]
  },
  {
   "cell_type": "code",
   "execution_count": 10,
   "metadata": {
    "colab": {
     "base_uri": "https://localhost:8080/"
    },
    "executionInfo": {
     "elapsed": 25,
     "status": "ok",
     "timestamp": 1742181338319,
     "user": {
      "displayName": "Tae Heon Kim",
      "userId": "07653788752262629837"
     },
     "user_tz": -540
    },
    "id": "_sAhxQM1QBXB",
    "outputId": "d7b7da0a-cb17-4118-a7ec-afb5c4c063a6"
   },
   "outputs": [
    {
     "name": "stdout",
     "output_type": "stream",
     "text": [
      "   매출액  광고비  직원수\n",
      "0  300   70   15\n",
      "1  320   75   16\n",
      "2  250   30   14\n"
     ]
    }
   ],
   "source": [
    "import pandas as pd\n",
    "data = {\n",
    "    '매출액': [300, 320, 250, 360, 315, 328, 310, 335, 326, 280,\n",
    "            290, 300, 315, 328, 310, 335, 300, 400, 500, 600],\n",
    "    '광고비': [70, 75, 30, 80, 72, 77, 70, 82, 70, 80,\n",
    "            68, 90, 72, 77, 70, 82, 40, 20, 75, 80],\n",
    "    '직원수': [15, 16, 14, 20, 19, 17, 16, 19, 15, 20,\n",
    "            14, 5, 16, 17, 16, 14, 30, 40, 10, 50]\n",
    "    }\n",
    "df = pd.DataFrame(data)\n",
    "print(df.head(3))"
   ]
  },
  {
   "cell_type": "code",
   "execution_count": 16,
   "metadata": {
    "colab": {
     "base_uri": "https://localhost:8080/"
    },
    "executionInfo": {
     "elapsed": 58,
     "status": "ok",
     "timestamp": 1742181338383,
     "user": {
      "displayName": "Tae Heon Kim",
      "userId": "07653788752262629837"
     },
     "user_tz": -540
    },
    "id": "4qvzdtm7XnNq",
    "outputId": "6433f50e-bb6b-4108-ac2a-b428106ceec9"
   },
   "outputs": [
    {
     "name": "stdout",
     "output_type": "stream",
     "text": [
      "                            OLS Regression Results                            \n",
      "==============================================================================\n",
      "Dep. Variable:                    매출액   R-squared:                       0.512\n",
      "Model:                            OLS   Adj. R-squared:                  0.454\n",
      "Method:                 Least Squares   F-statistic:                     8.907\n",
      "Date:                Tue, 06 May 2025   Prob (F-statistic):            0.00226\n",
      "Time:                        08:54:23   Log-Likelihood:                -108.22\n",
      "No. Observations:                  20   AIC:                             222.4\n",
      "Df Residuals:                      17   BIC:                             225.4\n",
      "Df Model:                           2                                         \n",
      "Covariance Type:            nonrobust                                         \n",
      "==============================================================================\n",
      "                 coef    std err          t      P>|t|      [0.025      0.975]\n",
      "------------------------------------------------------------------------------\n",
      "Intercept    101.0239     71.716      1.409      0.177     -50.284     252.331\n",
      "광고비            1.8194      0.807      2.255      0.038       0.117       3.522\n",
      "직원수            5.9288      1.430      4.147      0.001       2.912       8.945\n",
      "==============================================================================\n",
      "Omnibus:                       30.534   Durbin-Watson:                   1.354\n",
      "Prob(Omnibus):                  0.000   Jarque-Bera (JB):               64.655\n",
      "Skew:                           2.444   Prob(JB):                     9.13e-15\n",
      "Kurtosis:                      10.327   Cond. No.                         401.\n",
      "==============================================================================\n",
      "\n",
      "Notes:\n",
      "[1] Standard Errors assume that the covariance matrix of the errors is correctly specified.\n"
     ]
    }
   ],
   "source": [
    "from statsmodels.formula.api import ols\n",
    "model = ols('매출액~광고비+직원수', data=df).fit()\n",
    "print(model.summary())"
   ]
  },
  {
   "cell_type": "code",
   "execution_count": 18,
   "metadata": {
    "colab": {
     "base_uri": "https://localhost:8080/"
    },
    "executionInfo": {
     "elapsed": 11,
     "status": "ok",
     "timestamp": 1742181338394,
     "user": {
      "displayName": "Tae Heon Kim",
      "userId": "07653788752262629837"
     },
     "user_tz": -540
    },
    "id": "_iz68TrbXnQX",
    "outputId": "d1020747-9510-4180-df3b-2ab9992ef746"
   },
   "outputs": [
    {
     "name": "stdout",
     "output_type": "stream",
     "text": [
      "상관계수: 0.13316981737040343\n"
     ]
    }
   ],
   "source": [
    "print(\"상관계수:\", df['광고비'].corr(df['매출액']))"
   ]
  },
  {
   "cell_type": "code",
   "execution_count": 20,
   "metadata": {
    "colab": {
     "base_uri": "https://localhost:8080/"
    },
    "executionInfo": {
     "elapsed": 10,
     "status": "ok",
     "timestamp": 1742181338417,
     "user": {
      "displayName": "Tae Heon Kim",
      "userId": "07653788752262629837"
     },
     "user_tz": -540
    },
    "id": "WyPddsr9pvD7",
    "outputId": "792106a9-472d-4709-8e9e-d90b23a284f4"
   },
   "outputs": [
    {
     "name": "stdout",
     "output_type": "stream",
     "text": [
      "PearsonRResult(statistic=0.13316981737040343, pvalue=0.5756778801904272)\n"
     ]
    }
   ],
   "source": [
    "from scipy import stats\n",
    "print(stats.pearsonr(df['광고비'], df['매출액']))"
   ]
  },
  {
   "cell_type": "code",
   "execution_count": 22,
   "metadata": {
    "colab": {
     "base_uri": "https://localhost:8080/"
    },
    "executionInfo": {
     "elapsed": 56,
     "status": "ok",
     "timestamp": 1742181338494,
     "user": {
      "displayName": "Tae Heon Kim",
      "userId": "07653788752262629837"
     },
     "user_tz": -540
    },
    "id": "ZO7qPNFNXnSw",
    "outputId": "bc556510-0cdf-4e37-cd8d-43c45b0bbe58"
   },
   "outputs": [
    {
     "name": "stdout",
     "output_type": "stream",
     "text": [
      "결정계수(R-squared): 0.5116964327009044\n"
     ]
    }
   ],
   "source": [
    "print(\"결정계수(R-squared):\", model.rsquared)"
   ]
  },
  {
   "cell_type": "code",
   "execution_count": 24,
   "metadata": {
    "colab": {
     "base_uri": "https://localhost:8080/"
    },
    "executionInfo": {
     "elapsed": 2,
     "status": "ok",
     "timestamp": 1742181338525,
     "user": {
      "displayName": "Tae Heon Kim",
      "userId": "07653788752262629837"
     },
     "user_tz": -540
    },
    "id": "nTqvZEoXXnVO",
    "outputId": "92b37e94-2ab6-4311-b505-5f284e21c467"
   },
   "outputs": [
    {
     "name": "stdout",
     "output_type": "stream",
     "text": [
      "회귀계수:\n",
      " Intercept    101.0\n",
      "광고비            2.0\n",
      "직원수            6.0\n",
      "dtype: float64\n"
     ]
    }
   ],
   "source": [
    "print(\"회귀계수:\\n\", round(model.params))"
   ]
  },
  {
   "cell_type": "code",
   "execution_count": 26,
   "metadata": {
    "colab": {
     "base_uri": "https://localhost:8080/"
    },
    "executionInfo": {
     "elapsed": 41,
     "status": "ok",
     "timestamp": 1742181338567,
     "user": {
      "displayName": "Tae Heon Kim",
      "userId": "07653788752262629837"
     },
     "user_tz": -540
    },
    "id": "osBBRSp3XnaV",
    "outputId": "153d8e33-1cc8-42fc-e497-0c6e7513555b"
   },
   "outputs": [
    {
     "name": "stdout",
     "output_type": "stream",
     "text": [
      "pvalue: 0.037643506476960256\n"
     ]
    }
   ],
   "source": [
    "print(\"pvalue:\", model.pvalues['광고비'])"
   ]
  },
  {
   "cell_type": "code",
   "execution_count": 28,
   "metadata": {
    "colab": {
     "base_uri": "https://localhost:8080/"
    },
    "executionInfo": {
     "elapsed": 1,
     "status": "ok",
     "timestamp": 1742181338568,
     "user": {
      "displayName": "Tae Heon Kim",
      "userId": "07653788752262629837"
     },
     "user_tz": -540
    },
    "id": "Hq-MaGTaXncx",
    "outputId": "a3fb7df0-10f1-442a-9905-dcf017439277"
   },
   "outputs": [
    {
     "name": "stdout",
     "output_type": "stream",
     "text": [
      "새로운 데이터의 매출액 0    310.57033\n",
      "dtype: float64\n"
     ]
    }
   ],
   "source": [
    "new_data = pd.DataFrame({'광고비':[50], '직원수':[20]})\n",
    "result = model.predict(new_data)\n",
    "print(\"새로운 데이터의 매출액\", result)"
   ]
  },
  {
   "cell_type": "code",
   "execution_count": 30,
   "metadata": {
    "colab": {
     "base_uri": "https://localhost:8080/"
    },
    "executionInfo": {
     "elapsed": 15,
     "status": "ok",
     "timestamp": 1742181338584,
     "user": {
      "displayName": "Tae Heon Kim",
      "userId": "07653788752262629837"
     },
     "user_tz": -540
    },
    "id": "pHru5osbXnff",
    "outputId": "d5103bd7-893d-4b42-dcf3-3499d5311a80"
   },
   "outputs": [
    {
     "name": "stdout",
     "output_type": "stream",
     "text": [
      "잔차 제곱합: 58686.17827156106\n"
     ]
    }
   ],
   "source": [
    "df['잔차'] = df['매출액'] - model.predict(df)\n",
    "print(\"잔차 제곱합:\", sum(df['잔차']**2))"
   ]
  },
  {
   "cell_type": "code",
   "execution_count": 34,
   "metadata": {
    "colab": {
     "base_uri": "https://localhost:8080/"
    },
    "executionInfo": {
     "elapsed": 48,
     "status": "ok",
     "timestamp": 1742181338647,
     "user": {
      "displayName": "Tae Heon Kim",
      "userId": "07653788752262629837"
     },
     "user_tz": -540
    },
    "id": "Qf-ue-3gbpkk",
    "outputId": "26235e08-4568-4f68-f49e-9c608d86e120"
   },
   "outputs": [
    {
     "name": "stdout",
     "output_type": "stream",
     "text": [
      "58686.17827156106\n"
     ]
    }
   ],
   "source": [
    "print(sum(model.resid**2))"
   ]
  },
  {
   "cell_type": "code",
   "execution_count": 36,
   "metadata": {
    "colab": {
     "base_uri": "https://localhost:8080/"
    },
    "executionInfo": {
     "elapsed": 1,
     "status": "ok",
     "timestamp": 1742181338648,
     "user": {
      "displayName": "Tae Heon Kim",
      "userId": "07653788752262629837"
     },
     "user_tz": -540
    },
    "id": "jSQPl2dsbIlj",
    "outputId": "3d64b369-0a20-4e37-ac0f-3ac7e207abf2"
   },
   "outputs": [
    {
     "name": "stdout",
     "output_type": "stream",
     "text": [
      "MSE: 2934.308913578053\n"
     ]
    }
   ],
   "source": [
    "MSE = (df['잔차']**2).mean()\n",
    "print('MSE:', MSE)"
   ]
  },
  {
   "cell_type": "code",
   "execution_count": 38,
   "metadata": {
    "colab": {
     "base_uri": "https://localhost:8080/"
    },
    "executionInfo": {
     "elapsed": 11,
     "status": "ok",
     "timestamp": 1742181338670,
     "user": {
      "displayName": "Tae Heon Kim",
      "userId": "07653788752262629837"
     },
     "user_tz": -540
    },
    "id": "p-t9JgfScNa9",
    "outputId": "58918ef5-a9b6-45fb-83f6-8238a3521f2c"
   },
   "outputs": [
    {
     "name": "stdout",
     "output_type": "stream",
     "text": [
      "95% 신뢰구간:\n",
      "                    0           1\n",
      "Intercept -50.283684  252.331429\n",
      "광고비         0.116785    3.522069\n",
      "직원수         2.912406    8.945105\n"
     ]
    }
   ],
   "source": [
    "print(\"95% 신뢰구간:\\n\", model.conf_int(alpha=0.05))"
   ]
  },
  {
   "cell_type": "code",
   "execution_count": 40,
   "metadata": {
    "colab": {
     "base_uri": "https://localhost:8080/"
    },
    "executionInfo": {
     "elapsed": 49,
     "status": "ok",
     "timestamp": 1742181338719,
     "user": {
      "displayName": "Tae Heon Kim",
      "userId": "07653788752262629837"
     },
     "user_tz": -540
    },
    "id": "6LIpOIQ7cYUE",
    "outputId": "5ce5410f-7acc-4751-9e7b-d34e9542712e"
   },
   "outputs": [
    {
     "name": "stdout",
     "output_type": "stream",
     "text": [
      "예측값의 신뢰구간과 예측구간:\n",
      "          mean    mean_se  mean_ci_lower  mean_ci_upper  obs_ci_lower  \\\n",
      "0  313.330707  22.502058     265.855514       360.8059     180.58875   \n",
      "\n",
      "   obs_ci_upper  \n",
      "0    446.072663  \n"
     ]
    }
   ],
   "source": [
    "new_data = pd.DataFrame({\"광고비\":[45], \"직원수\":[22]})\n",
    "pred = model.get_prediction(new_data)\n",
    "result = pred.summary_frame(alpha=0.05)\n",
    "print(\"예측값의 신뢰구간과 예측구간:\\n\", result)"
   ]
  },
  {
   "cell_type": "markdown",
   "metadata": {
    "id": "NCb_A5Pao748"
   },
   "source": [
    "### 범주형 변수"
   ]
  },
  {
   "cell_type": "code",
   "execution_count": 44,
   "metadata": {
    "colab": {
     "base_uri": "https://localhost:8080/",
     "height": 206
    },
    "executionInfo": {
     "elapsed": 5180,
     "status": "ok",
     "timestamp": 1742181343900,
     "user": {
      "displayName": "Tae Heon Kim",
      "userId": "07653788752262629837"
     },
     "user_tz": -540
    },
    "id": "HxavjVvOQLkp",
    "outputId": "c914da5f-aa06-483d-e7c3-b00bac41e27f"
   },
   "outputs": [
    {
     "data": {
      "text/html": [
       "<div>\n",
       "<style scoped>\n",
       "    .dataframe tbody tr th:only-of-type {\n",
       "        vertical-align: middle;\n",
       "    }\n",
       "\n",
       "    .dataframe tbody tr th {\n",
       "        vertical-align: top;\n",
       "    }\n",
       "\n",
       "    .dataframe thead th {\n",
       "        text-align: right;\n",
       "    }\n",
       "</style>\n",
       "<table border=\"1\" class=\"dataframe\">\n",
       "  <thead>\n",
       "    <tr style=\"text-align: right;\">\n",
       "      <th></th>\n",
       "      <th>study_hours</th>\n",
       "      <th>material_type</th>\n",
       "      <th>score</th>\n",
       "    </tr>\n",
       "  </thead>\n",
       "  <tbody>\n",
       "    <tr>\n",
       "      <th>0</th>\n",
       "      <td>71</td>\n",
       "      <td>강의</td>\n",
       "      <td>95</td>\n",
       "    </tr>\n",
       "    <tr>\n",
       "      <th>1</th>\n",
       "      <td>34</td>\n",
       "      <td>독학</td>\n",
       "      <td>63</td>\n",
       "    </tr>\n",
       "    <tr>\n",
       "      <th>2</th>\n",
       "      <td>91</td>\n",
       "      <td>도서</td>\n",
       "      <td>95</td>\n",
       "    </tr>\n",
       "    <tr>\n",
       "      <th>3</th>\n",
       "      <td>80</td>\n",
       "      <td>독학</td>\n",
       "      <td>80</td>\n",
       "    </tr>\n",
       "    <tr>\n",
       "      <th>4</th>\n",
       "      <td>40</td>\n",
       "      <td>강의</td>\n",
       "      <td>79</td>\n",
       "    </tr>\n",
       "  </tbody>\n",
       "</table>\n",
       "</div>"
      ],
      "text/plain": [
       "   study_hours material_type  score\n",
       "0           71            강의     95\n",
       "1           34            독학     63\n",
       "2           91            도서     95\n",
       "3           80            독학     80\n",
       "4           40            강의     79"
      ]
     },
     "execution_count": 44,
     "metadata": {},
     "output_type": "execute_result"
    }
   ],
   "source": [
    "import pandas as pd\n",
    "import statsmodels.api as sm\n",
    "# df = pd.read_csv(\"study.csv\")\n",
    "df = pd.read_csv(\"https://raw.githubusercontent.com/lovedlim/bigdata_analyst_cert/main/part3/ch4/study.csv\")\n",
    "df.head()"
   ]
  },
  {
   "cell_type": "code",
   "execution_count": 45,
   "metadata": {
    "colab": {
     "base_uri": "https://localhost:8080/"
    },
    "executionInfo": {
     "elapsed": 54,
     "status": "ok",
     "timestamp": 1742181343953,
     "user": {
      "displayName": "Tae Heon Kim",
      "userId": "07653788752262629837"
     },
     "user_tz": -540
    },
    "id": "pWoiBuF9XOVA",
    "outputId": "fff6f52f-a1ba-4f12-acd1-1d4446de3d2e"
   },
   "outputs": [
    {
     "name": "stdout",
     "output_type": "stream",
     "text": [
      "                            OLS Regression Results                            \n",
      "==============================================================================\n",
      "Dep. Variable:                  score   R-squared:                       0.969\n",
      "Model:                            OLS   Adj. R-squared:                  0.968\n",
      "Method:                 Least Squares   F-statistic:                     991.9\n",
      "Date:                Tue, 06 May 2025   Prob (F-statistic):           4.42e-72\n",
      "Time:                        09:18:48   Log-Likelihood:                -238.89\n",
      "No. Observations:                 100   AIC:                             485.8\n",
      "Df Residuals:                      96   BIC:                             496.2\n",
      "Df Model:                           3                                         \n",
      "Covariance Type:            nonrobust                                         \n",
      "=======================================================================================\n",
      "                          coef    std err          t      P>|t|      [0.025      0.975]\n",
      "---------------------------------------------------------------------------------------\n",
      "Intercept              59.2111      0.799     74.147      0.000      57.626      60.796\n",
      "material_type[T.도서]    -8.6696      0.678    -12.778      0.000     -10.016      -7.323\n",
      "material_type[T.독학]   -17.6129      0.634    -27.790      0.000     -18.871     -16.355\n",
      "study_hours             0.4839      0.011     43.810      0.000       0.462       0.506\n",
      "==============================================================================\n",
      "Omnibus:                        1.754   Durbin-Watson:                   2.173\n",
      "Prob(Omnibus):                  0.416   Jarque-Bera (JB):                1.216\n",
      "Skew:                           0.231   Prob(JB):                        0.544\n",
      "Kurtosis:                       3.280   Cond. No.                         228.\n",
      "==============================================================================\n",
      "\n",
      "Notes:\n",
      "[1] Standard Errors assume that the covariance matrix of the errors is correctly specified.\n"
     ]
    }
   ],
   "source": [
    "# 회귀 모델 생성\n",
    "from statsmodels.formula.api import ols\n",
    "model = ols('score ~ study_hours + material_type', data=df).fit()\n",
    "print(model.summary())"
   ]
  },
  {
   "cell_type": "markdown",
   "metadata": {
    "id": "BWB5BpbsZdtD"
   },
   "source": [
    "### 참고 자료"
   ]
  },
  {
   "cell_type": "code",
   "execution_count": 48,
   "metadata": {
    "colab": {
     "base_uri": "https://localhost:8080/",
     "height": 206
    },
    "executionInfo": {
     "elapsed": 74,
     "status": "ok",
     "timestamp": 1742181344041,
     "user": {
      "displayName": "Tae Heon Kim",
      "userId": "07653788752262629837"
     },
     "user_tz": -540
    },
    "id": "wkb-KLOTyBTZ",
    "outputId": "bfabda21-c111-436b-cd51-856a341a949f"
   },
   "outputs": [
    {
     "data": {
      "text/html": [
       "<div>\n",
       "<style scoped>\n",
       "    .dataframe tbody tr th:only-of-type {\n",
       "        vertical-align: middle;\n",
       "    }\n",
       "\n",
       "    .dataframe tbody tr th {\n",
       "        vertical-align: top;\n",
       "    }\n",
       "\n",
       "    .dataframe thead th {\n",
       "        text-align: right;\n",
       "    }\n",
       "</style>\n",
       "<table border=\"1\" class=\"dataframe\">\n",
       "  <thead>\n",
       "    <tr style=\"text-align: right;\">\n",
       "      <th></th>\n",
       "      <th>study_hours</th>\n",
       "      <th>score</th>\n",
       "      <th>material_type_강의</th>\n",
       "      <th>material_type_도서</th>\n",
       "      <th>material_type_독학</th>\n",
       "    </tr>\n",
       "  </thead>\n",
       "  <tbody>\n",
       "    <tr>\n",
       "      <th>0</th>\n",
       "      <td>71</td>\n",
       "      <td>95</td>\n",
       "      <td>True</td>\n",
       "      <td>False</td>\n",
       "      <td>False</td>\n",
       "    </tr>\n",
       "    <tr>\n",
       "      <th>1</th>\n",
       "      <td>34</td>\n",
       "      <td>63</td>\n",
       "      <td>False</td>\n",
       "      <td>False</td>\n",
       "      <td>True</td>\n",
       "    </tr>\n",
       "    <tr>\n",
       "      <th>2</th>\n",
       "      <td>91</td>\n",
       "      <td>95</td>\n",
       "      <td>False</td>\n",
       "      <td>True</td>\n",
       "      <td>False</td>\n",
       "    </tr>\n",
       "    <tr>\n",
       "      <th>3</th>\n",
       "      <td>80</td>\n",
       "      <td>80</td>\n",
       "      <td>False</td>\n",
       "      <td>False</td>\n",
       "      <td>True</td>\n",
       "    </tr>\n",
       "    <tr>\n",
       "      <th>4</th>\n",
       "      <td>40</td>\n",
       "      <td>79</td>\n",
       "      <td>True</td>\n",
       "      <td>False</td>\n",
       "      <td>False</td>\n",
       "    </tr>\n",
       "  </tbody>\n",
       "</table>\n",
       "</div>"
      ],
      "text/plain": [
       "   study_hours  score  material_type_강의  material_type_도서  material_type_독학\n",
       "0           71     95              True             False             False\n",
       "1           34     63             False             False              True\n",
       "2           91     95             False              True             False\n",
       "3           80     80             False             False              True\n",
       "4           40     79              True             False             False"
      ]
     },
     "execution_count": 48,
     "metadata": {},
     "output_type": "execute_result"
    }
   ],
   "source": [
    "# 참고1 원핫인코딩\n",
    "pd.get_dummies(df).head()"
   ]
  },
  {
   "cell_type": "code",
   "execution_count": 52,
   "metadata": {
    "colab": {
     "base_uri": "https://localhost:8080/",
     "height": 206
    },
    "executionInfo": {
     "elapsed": 88,
     "status": "ok",
     "timestamp": 1742181344137,
     "user": {
      "displayName": "Tae Heon Kim",
      "userId": "07653788752262629837"
     },
     "user_tz": -540
    },
    "id": "djG6dpzUx9vQ",
    "outputId": "2e73e260-81e2-481b-89d1-e5a2fce781a3"
   },
   "outputs": [
    {
     "data": {
      "text/html": [
       "<div>\n",
       "<style scoped>\n",
       "    .dataframe tbody tr th:only-of-type {\n",
       "        vertical-align: middle;\n",
       "    }\n",
       "\n",
       "    .dataframe tbody tr th {\n",
       "        vertical-align: top;\n",
       "    }\n",
       "\n",
       "    .dataframe thead th {\n",
       "        text-align: right;\n",
       "    }\n",
       "</style>\n",
       "<table border=\"1\" class=\"dataframe\">\n",
       "  <thead>\n",
       "    <tr style=\"text-align: right;\">\n",
       "      <th></th>\n",
       "      <th>study_hours</th>\n",
       "      <th>score</th>\n",
       "      <th>material_type_도서</th>\n",
       "      <th>material_type_독학</th>\n",
       "    </tr>\n",
       "  </thead>\n",
       "  <tbody>\n",
       "    <tr>\n",
       "      <th>0</th>\n",
       "      <td>71</td>\n",
       "      <td>95</td>\n",
       "      <td>False</td>\n",
       "      <td>False</td>\n",
       "    </tr>\n",
       "    <tr>\n",
       "      <th>1</th>\n",
       "      <td>34</td>\n",
       "      <td>63</td>\n",
       "      <td>False</td>\n",
       "      <td>True</td>\n",
       "    </tr>\n",
       "    <tr>\n",
       "      <th>2</th>\n",
       "      <td>91</td>\n",
       "      <td>95</td>\n",
       "      <td>True</td>\n",
       "      <td>False</td>\n",
       "    </tr>\n",
       "    <tr>\n",
       "      <th>3</th>\n",
       "      <td>80</td>\n",
       "      <td>80</td>\n",
       "      <td>False</td>\n",
       "      <td>True</td>\n",
       "    </tr>\n",
       "    <tr>\n",
       "      <th>4</th>\n",
       "      <td>40</td>\n",
       "      <td>79</td>\n",
       "      <td>False</td>\n",
       "      <td>False</td>\n",
       "    </tr>\n",
       "  </tbody>\n",
       "</table>\n",
       "</div>"
      ],
      "text/plain": [
       "   study_hours  score  material_type_도서  material_type_독학\n",
       "0           71     95             False             False\n",
       "1           34     63             False              True\n",
       "2           91     95              True             False\n",
       "3           80     80             False              True\n",
       "4           40     79             False             False"
      ]
     },
     "execution_count": 52,
     "metadata": {},
     "output_type": "execute_result"
    }
   ],
   "source": [
    "# 참고2 원핫인코딩 drop_first\n",
    "df = pd.get_dummies(df, drop_first=True) # 다중공신성 문제를 방지하기 위해 첫 번째 카테고리 제외\n",
    "df.head()"
   ]
  }
 ],
 "metadata": {
  "colab": {
   "authorship_tag": "ABX9TyPBH4WBjdcMEpomXNOonelJ",
   "provenance": [
    {
     "file_id": "1cK_l7rTHqA9ckKCyA7V3f2xw-QR0btlP",
     "timestamp": 1708247685411
    }
   ],
   "toc_visible": true
  },
  "kernelspec": {
   "display_name": "Python 3 (ipykernel)",
   "language": "python",
   "name": "python3"
  },
  "language_info": {
   "codemirror_mode": {
    "name": "ipython",
    "version": 3
   },
   "file_extension": ".py",
   "mimetype": "text/x-python",
   "name": "python",
   "nbconvert_exporter": "python",
   "pygments_lexer": "ipython3",
   "version": "3.12.3"
  }
 },
 "nbformat": 4,
 "nbformat_minor": 4
}
