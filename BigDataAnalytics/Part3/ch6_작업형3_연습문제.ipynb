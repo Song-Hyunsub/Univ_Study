{
 "cells": [
  {
   "cell_type": "markdown",
   "metadata": {
    "id": "nlRMN52jh6dF"
   },
   "source": [
    "[구글 코랩(Colab)에서 실행하기](https://colab.research.google.com/github/lovedlim/bigdata_analyst_cert_v2/blob/main/part3/ch6/ch6_ex_type3.ipynb)"
   ]
  },
  {
   "cell_type": "markdown",
   "metadata": {
    "id": "rIah9uDls8Y4"
   },
   "source": [
    "### Section1."
   ]
  },
  {
   "cell_type": "code",
   "execution_count": 4,
   "metadata": {
    "executionInfo": {
     "elapsed": 1990,
     "status": "ok",
     "timestamp": 1742217829117,
     "user": {
      "displayName": "Tae Heon Kim",
      "userId": "07653788752262629837"
     },
     "user_tz": -540
    },
    "id": "YdGBSoK7ss18"
   },
   "outputs": [],
   "source": [
    "# 데이터\n",
    "import pandas as pd\n",
    "df = pd.DataFrame({\n",
    "    'Caffeine(mg)': [\n",
    "        94.2, 93.7, 95.5, 93.9, 94.0, 95.2, 94.7, 93.5, 92.8, 94.4,\n",
    "        93.8, 94.6, 93.3, 95.1, 94.3, 94.9, 93.9, 94.8, 95.0, 94.2,\n",
    "        93.7, 94.4, 95.1, 94.0, 93.6\n",
    "    ]\n",
    "})"
   ]
  },
  {
   "cell_type": "code",
   "execution_count": 8,
   "metadata": {
    "colab": {
     "base_uri": "https://localhost:8080/"
    },
    "executionInfo": {
     "elapsed": 5310,
     "status": "ok",
     "timestamp": 1742217834430,
     "user": {
      "displayName": "Tae Heon Kim",
      "userId": "07653788752262629837"
     },
     "user_tz": -540
    },
    "id": "eznrJoqNu2Y-",
    "outputId": "3b6af4d6-0082-4ac8-cede-d9f3946234a7"
   },
   "outputs": [
    {
     "name": "stdout",
     "output_type": "stream",
     "text": [
      "Caffeine(mg)    94.264\n",
      "dtype: float64\n",
      "ShapiroResult(statistic=0.9826578166170536, pvalue=0.9322031137746971)\n",
      "TtestResult(statistic=-5.501737036221897, pvalue=5.8686553916715e-06, df=24)\n"
     ]
    }
   ],
   "source": [
    "# 1. 표본 평균\n",
    "print(df.mean())\n",
    "\n",
    "# 2. 정규성 검정\n",
    "from scipy import stats\n",
    "print(stats.shapiro(df['Caffeine(mg)']))\n",
    "\n",
    "# 3~5.단일 표본 t-검정\n",
    "print(stats.ttest_1samp(df['Caffeine(mg)'], 95, alternative='less'))"
   ]
  },
  {
   "cell_type": "code",
   "execution_count": 10,
   "metadata": {
    "colab": {
     "base_uri": "https://localhost:8080/"
    },
    "executionInfo": {
     "elapsed": 72,
     "status": "ok",
     "timestamp": 1742217834493,
     "user": {
      "displayName": "Tae Heon Kim",
      "userId": "07653788752262629837"
     },
     "user_tz": -540
    },
    "id": "YautJB8WtPId",
    "outputId": "31bfc4a1-3b62-487d-e46c-e1642d5330cd"
   },
   "outputs": [
    {
     "name": "stdout",
     "output_type": "stream",
     "text": [
      "0.0000058687\n"
     ]
    }
   ],
   "source": [
    "statistic, pvalue = stats.ttest_1samp(df['Caffeine(mg)'], 95, alternative='less')\n",
    "print(\"{:.10f}\".format(pvalue))"
   ]
  },
  {
   "cell_type": "markdown",
   "metadata": {
    "id": "4jmb8WXluI9Z"
   },
   "source": [
    "### Section2."
   ]
  },
  {
   "cell_type": "code",
   "execution_count": 16,
   "metadata": {
    "colab": {
     "base_uri": "https://localhost:8080/"
    },
    "executionInfo": {
     "elapsed": 80,
     "status": "ok",
     "timestamp": 1742217834591,
     "user": {
      "displayName": "Tae Heon Kim",
      "userId": "07653788752262629837"
     },
     "user_tz": -540
    },
    "id": "TGuEitO6uDRd",
    "outputId": "2fbdf40a-eb35-4666-d64e-2ec9a13ee257"
   },
   "outputs": [],
   "source": [
    "# 데이터\n",
    "import pandas as pd\n",
    "df = pd.DataFrame({\n",
    "    '충전기': ['New'] * 10 + ['Old'] * 10,\n",
    "    '충전시간': [\n",
    "        1.5, 1.6, 1.4, 1.7, 1.5, 1.6, 1.7, 1.4, 1.6, 1.5,\n",
    "        1.7, 1.8, 1.7, 1.9, 1.8, 1.7, 1.8, 1.9, 1.7, 1.6\n",
    "    ]\n",
    "})\n"
   ]
  },
  {
   "cell_type": "code",
   "execution_count": 18,
   "metadata": {
    "colab": {
     "base_uri": "https://localhost:8080/"
    },
    "executionInfo": {
     "elapsed": 20,
     "status": "ok",
     "timestamp": 1742217834731,
     "user": {
      "displayName": "Tae Heon Kim",
      "userId": "07653788752262629837"
     },
     "user_tz": -540
    },
    "id": "kRpNDnEBz-PJ",
    "outputId": "08d768a1-530e-4ca0-bcc7-d28eb43f4ace"
   },
   "outputs": [
    {
     "name": "stdout",
     "output_type": "stream",
     "text": [
      "TtestResult(statistic=-4.582575694955849, pvalue=0.00011546547787696304, df=18.0)\n"
     ]
    }
   ],
   "source": [
    "# 1~3. 독립 표본 t-검정\n",
    "new_cond = df['충전기']=='New'\n",
    "old_cond = df['충전기']=='Old'\n",
    "print(stats.ttest_ind(df[new_cond]['충전시간'], df[old_cond]['충전시간'], \n",
    "                      alternative='less', equal_var=True))"
   ]
  },
  {
   "cell_type": "markdown",
   "metadata": {
    "id": "ei2s5M8I73GN"
   },
   "source": [
    "### Section3."
   ]
  },
  {
   "cell_type": "code",
   "execution_count": 22,
   "metadata": {
    "colab": {
     "base_uri": "https://localhost:8080/"
    },
    "executionInfo": {
     "elapsed": 32,
     "status": "ok",
     "timestamp": 1742217834764,
     "user": {
      "displayName": "Tae Heon Kim",
      "userId": "07653788752262629837"
     },
     "user_tz": -540
    },
    "id": "o45YbWXS74OE",
    "outputId": "023be7c4-2607-4ae2-80fd-a38ca0fc25de"
   },
   "outputs": [],
   "source": [
    "# 데이터\n",
    "import pandas as pd\n",
    "df = pd.DataFrame({\n",
    "    'User': list(range(1, 11)),\n",
    "    '기존방법': [60.4, 60.7, 60.5, 60.3, 60.8, 60.6, 60.2, 60.5, 60.7, 60.4],\n",
    "    '새로운방법': [59.8, 60.2, 60.1, 59.9, 59.7, 58.4, 57.0, 60.3, 59.6, 59.8]\n",
    "})\n"
   ]
  },
  {
   "cell_type": "code",
   "execution_count": 24,
   "metadata": {
    "colab": {
     "base_uri": "https://localhost:8080/"
    },
    "executionInfo": {
     "elapsed": 115,
     "status": "ok",
     "timestamp": 1742217834886,
     "user": {
      "displayName": "Tae Heon Kim",
      "userId": "07653788752262629837"
     },
     "user_tz": -540
    },
    "id": "cgV_7XCj78y9",
    "outputId": "051507e9-4b0f-4c25-b12d-c3edf5378b42"
   },
   "outputs": [
    {
     "name": "stdout",
     "output_type": "stream",
     "text": [
      "-1.0300000000000005\n",
      "TtestResult(statistic=-3.407973078114844, pvalue=0.0038872633380070652, df=9)\n"
     ]
    }
   ],
   "source": [
    "# 1. 표본 평균\n",
    "df['diff'] = df['새로운방법'] - df['기존방법']\n",
    "print(df['diff'].mean())\n",
    "\n",
    "# 2~4. 대응 표본 t-검정\n",
    "print(stats.ttest_rel(df['새로운방법'], df['기존방법'], alternative='less'))"
   ]
  },
  {
   "cell_type": "markdown",
   "metadata": {
    "id": "MU5342Fp74lz"
   },
   "source": [
    "### Section4."
   ]
  },
  {
   "cell_type": "code",
   "execution_count": 28,
   "metadata": {
    "colab": {
     "base_uri": "https://localhost:8080/"
    },
    "executionInfo": {
     "elapsed": 24,
     "status": "ok",
     "timestamp": 1742217834911,
     "user": {
      "displayName": "Tae Heon Kim",
      "userId": "07653788752262629837"
     },
     "user_tz": -540
    },
    "id": "8j386IAO1M5I",
    "outputId": "cfabb178-ab6e-4d71-819e-f1f07e88742b"
   },
   "outputs": [],
   "source": [
    "import pandas as pd\n",
    "# df = pd.read_csv(\"math.csv\")\n",
    "df = pd.read_csv(\"https://raw.githubusercontent.com/lovedlim/bigdata_analyst_cert/main/part3/ch6/math.csv\")\n"
   ]
  },
  {
   "cell_type": "code",
   "execution_count": 30,
   "metadata": {
    "colab": {
     "base_uri": "https://localhost:8080/"
    },
    "executionInfo": {
     "elapsed": 77,
     "status": "ok",
     "timestamp": 1742217834992,
     "user": {
      "displayName": "Tae Heon Kim",
      "userId": "07653788752262629837"
     },
     "user_tz": -540
    },
    "id": "JeIkwEkY1wFY",
    "outputId": "ef1bea19-932c-4916-d333-bd225d5b586d"
   },
   "outputs": [
    {
     "name": "stdout",
     "output_type": "stream",
     "text": [
      "ShapiroResult(statistic=0.9715896670696531, pvalue=0.9051800443853569)\n",
      "ShapiroResult(statistic=0.9499422438060351, pvalue=0.6678172590861611)\n",
      "ShapiroResult(statistic=0.9299424104842702, pvalue=0.44732595113862045)\n",
      "ShapiroResult(statistic=0.9065684572704982, pvalue=0.25824165549017347)\n",
      "LeveneResult(statistic=1.757685352622062, pvalue=0.17270284963232108)\n"
     ]
    }
   ],
   "source": [
    "from scipy import stats\n",
    "\n",
    "# 1. Shapiro-Wilk 검정 (정규성)\n",
    "condA = df['groups']=='group_A'\n",
    "print(stats.shapiro(df[condA]['scores']))\n",
    "\n",
    "condB = df['groups']=='group_B'\n",
    "print(stats.shapiro(df[condB]['scores']))\n",
    "\n",
    "condC = df['groups']=='group_C'\n",
    "print(stats.shapiro(df[condC]['scores']))\n",
    "\n",
    "condD = df['groups']=='group_D'\n",
    "print(stats.shapiro(df[condD]['scores']))\n",
    "\n",
    "# 2. Levene 검정 (등분산성)\n",
    "print(stats.levene(df[condA]['scores'], df[condB]['scores'], df[condC]['scores'], df[condD]['scores']))"
   ]
  },
  {
   "cell_type": "code",
   "execution_count": 32,
   "metadata": {
    "colab": {
     "base_uri": "https://localhost:8080/"
    },
    "executionInfo": {
     "elapsed": 2344,
     "status": "ok",
     "timestamp": 1742217837337,
     "user": {
      "displayName": "Tae Heon Kim",
      "userId": "07653788752262629837"
     },
     "user_tz": -540
    },
    "id": "qVILWYjPt6ly",
    "outputId": "e4930fae-2b44-410a-f0f8-5a7b15759bf1"
   },
   "outputs": [
    {
     "name": "stdout",
     "output_type": "stream",
     "text": [
      "            df  sum_sq     mean_sq          F        PR(>F)\n",
      "groups     3.0   411.8  137.266667  34.174274  1.240642e-10\n",
      "Residual  36.0   144.6    4.016667        NaN           NaN\n"
     ]
    }
   ],
   "source": [
    "# 일원분산분석을 위한 모델 학습\n",
    "from statsmodels.formula.api import ols\n",
    "model = ols('scores ~ groups', df).fit()\n",
    "\n",
    "# 3~9. ANOVA 테이블\n",
    "from statsmodels.stats.anova import anova_lm\n",
    "print(anova_lm(model))"
   ]
  },
  {
   "cell_type": "markdown",
   "metadata": {
    "id": "Zmtdhqk-2_XA"
   },
   "source": [
    "### Section5."
   ]
  },
  {
   "cell_type": "code",
   "execution_count": 36,
   "metadata": {
    "colab": {
     "base_uri": "https://localhost:8080/"
    },
    "executionInfo": {
     "elapsed": 170,
     "status": "ok",
     "timestamp": 1742217837509,
     "user": {
      "displayName": "Tae Heon Kim",
      "userId": "07653788752262629837"
     },
     "user_tz": -540
    },
    "id": "DU30cD1I2-5F",
    "outputId": "06cc0d41-58d1-4eb9-e5b1-b5977fa5fc36"
   },
   "outputs": [],
   "source": [
    "# 데이터\n",
    "import pandas as pd\n",
    "# df = pd.read_csv(\"tomato2.csv\")\n",
    "df = pd.read_csv(\"https://raw.githubusercontent.com/lovedlim/bigdata_analyst_cert/main/part3/ch6/tomato2.csv\")\n"
   ]
  },
  {
   "cell_type": "code",
   "execution_count": 37,
   "metadata": {
    "colab": {
     "base_uri": "https://localhost:8080/"
    },
    "executionInfo": {
     "elapsed": 7163,
     "status": "ok",
     "timestamp": 1742217844684,
     "user": {
      "displayName": "Tae Heon Kim",
      "userId": "07653788752262629837"
     },
     "user_tz": -540
    },
    "id": "1J0N5JajP93i",
    "outputId": "86b8a38a-5677-4ef2-ae33-f54daa35910d"
   },
   "outputs": [
    {
     "name": "stdout",
     "output_type": "stream",
     "text": [
      "                  df        sum_sq      mean_sq         F    PR(>F)\n",
      "C(비료유형)          2.0   5251.722222  2625.861111  3.184685  0.059334\n",
      "C(물주기)           3.0   9057.000000  3019.000000  3.661490  0.026460\n",
      "C(비료유형):C(물주기)   6.0   4271.833333   711.972222  0.863491  0.535426\n",
      "Residual        24.0  19788.666667   824.527778       NaN       NaN\n"
     ]
    }
   ],
   "source": [
    "import statsmodels.api as sm\n",
    "from statsmodels.formula.api import ols\n",
    "\n",
    "# 1~9 이원 분산 분석\n",
    "model = ols('수확량 ~ C(비료유형) * C(물주기)', data=df).fit()\n",
    "anova_table = sm.stats.anova_lm(model)\n",
    "print(anova_table)"
   ]
  },
  {
   "cell_type": "markdown",
   "metadata": {
    "id": "MPnLvlVkTKR-"
   },
   "source": [
    "### Section6."
   ]
  },
  {
   "cell_type": "code",
   "execution_count": 42,
   "metadata": {
    "colab": {
     "base_uri": "https://localhost:8080/"
    },
    "executionInfo": {
     "elapsed": 48,
     "status": "ok",
     "timestamp": 1742217844737,
     "user": {
      "displayName": "Tae Heon Kim",
      "userId": "07653788752262629837"
     },
     "user_tz": -540
    },
    "id": "eXPWPwWuTDql",
    "outputId": "17b2b9bf-b071-4cff-95b4-7e8ff5089749"
   },
   "outputs": [
    {
     "name": "stdout",
     "output_type": "stream",
     "text": [
      "0.03\n",
      "Power_divergenceResult(statistic=22.166666666666668, pvalue=0.00018567620386641427)\n"
     ]
    }
   ],
   "source": [
    "# 1. 교통사고 5회 이상 경험 비율\n",
    "print(30/1000)\n",
    "\n",
    "# 2~4. 적합도 검정\n",
    "from scipy.stats import chisquare\n",
    "observed = [550, 250, 100, 70, 30]\n",
    "expected = [1000*0.60, 1000*0.25, 1000*0.08, 1000*0.05, 1000*0.02]\n",
    "print(chisquare(observed, expected))"
   ]
  },
  {
   "cell_type": "markdown",
   "metadata": {
    "id": "0zBxYKgtTLyd"
   },
   "source": [
    "### Section7."
   ]
  },
  {
   "cell_type": "code",
   "execution_count": 56,
   "metadata": {
    "colab": {
     "base_uri": "https://localhost:8080/"
    },
    "executionInfo": {
     "elapsed": 83,
     "status": "ok",
     "timestamp": 1742217845014,
     "user": {
      "displayName": "Tae Heon Kim",
      "userId": "07653788752262629837"
     },
     "user_tz": -540
    },
    "id": "hiW56w1DTD1L",
    "outputId": "b9f86faf-7b72-498d-d130-e4d6c535a84b"
   },
   "outputs": [
    {
     "data": {
      "text/html": [
       "<div>\n",
       "<style scoped>\n",
       "    .dataframe tbody tr th:only-of-type {\n",
       "        vertical-align: middle;\n",
       "    }\n",
       "\n",
       "    .dataframe tbody tr th {\n",
       "        vertical-align: top;\n",
       "    }\n",
       "\n",
       "    .dataframe thead th {\n",
       "        text-align: right;\n",
       "    }\n",
       "</style>\n",
       "<table border=\"1\" class=\"dataframe\">\n",
       "  <thead>\n",
       "    <tr style=\"text-align: right;\">\n",
       "      <th></th>\n",
       "      <th>캠프</th>\n",
       "      <th>등록여부</th>\n",
       "    </tr>\n",
       "  </thead>\n",
       "  <tbody>\n",
       "    <tr>\n",
       "      <th>0</th>\n",
       "      <td>빅분기</td>\n",
       "      <td>등록</td>\n",
       "    </tr>\n",
       "    <tr>\n",
       "      <th>1</th>\n",
       "      <td>빅분기</td>\n",
       "      <td>등록</td>\n",
       "    </tr>\n",
       "    <tr>\n",
       "      <th>2</th>\n",
       "      <td>빅분기</td>\n",
       "      <td>등록</td>\n",
       "    </tr>\n",
       "    <tr>\n",
       "      <th>3</th>\n",
       "      <td>빅분기</td>\n",
       "      <td>등록</td>\n",
       "    </tr>\n",
       "    <tr>\n",
       "      <th>4</th>\n",
       "      <td>빅분기</td>\n",
       "      <td>등록</td>\n",
       "    </tr>\n",
       "  </tbody>\n",
       "</table>\n",
       "</div>"
      ],
      "text/plain": [
       "    캠프 등록여부\n",
       "0  빅분기   등록\n",
       "1  빅분기   등록\n",
       "2  빅분기   등록\n",
       "3  빅분기   등록\n",
       "4  빅분기   등록"
      ]
     },
     "execution_count": 56,
     "metadata": {},
     "output_type": "execute_result"
    }
   ],
   "source": [
    "# 데이터\n",
    "import pandas as pd\n",
    "df = pd.DataFrame({\n",
    "    '캠프' : ['빅분기']*80 + ['정처기']*100,\n",
    "    '등록여부' : ['등록']*50 + ['등록안함']*30 + ['등록']*60 + ['등록안함']*40\n",
    "})\n",
    "df.head()"
   ]
  },
  {
   "cell_type": "code",
   "execution_count": 60,
   "metadata": {
    "colab": {
     "base_uri": "https://localhost:8080/"
    },
    "executionInfo": {
     "elapsed": 84,
     "status": "ok",
     "timestamp": 1742217844840,
     "user": {
      "displayName": "Tae Heon Kim",
      "userId": "07653788752262629837"
     },
     "user_tz": -540
    },
    "id": "7-6Xuq7HTDyy",
    "outputId": "8daac10f-87f9-46be-fd01-88ffc08049a0"
   },
   "outputs": [
    {
     "name": "stdout",
     "output_type": "stream",
     "text": [
      "Chi2ContingencyResult(statistic=0.03535714285714309, pvalue=0.8508492527705047, dof=1, expected_freq=array([[48.88888889, 31.11111111],\n",
      "       [61.11111111, 38.88888889]]))\n"
     ]
    }
   ],
   "source": [
    "import pandas as pd\n",
    "from scipy.stats import chi2_contingency\n",
    "\n",
    "# 1~3. 독립성 검정\n",
    "observed = pd.DataFrame([[50, 30], [60, 40]])\n",
    "print(chi2_contingency(observed))"
   ]
  },
  {
   "cell_type": "code",
   "execution_count": 62,
   "metadata": {
    "colab": {
     "base_uri": "https://localhost:8080/"
    },
    "executionInfo": {
     "elapsed": 4,
     "status": "ok",
     "timestamp": 1742217845020,
     "user": {
      "displayName": "Tae Heon Kim",
      "userId": "07653788752262629837"
     },
     "user_tz": -540
    },
    "id": "sYn61RTV7egq",
    "outputId": "ffc67bf5-6dcb-4fc5-b4f5-8f76ace3770b"
   },
   "outputs": [
    {
     "name": "stdout",
     "output_type": "stream",
     "text": [
      "등록여부  등록  등록안함\n",
      "캠프            \n",
      "빅분기   50    30\n",
      "정처기   60    40\n",
      "Chi2ContingencyResult(statistic=0.03535714285714309, pvalue=0.8508492527705047, dof=1, expected_freq=array([[48.88888889, 31.11111111],\n",
      "       [61.11111111, 38.88888889]]))\n"
     ]
    }
   ],
   "source": [
    "# 교차표로 변경\n",
    "df = pd.crosstab(df['캠프'], df['등록여부'])\n",
    "print(df)\n",
    "\n",
    "# 4~6. 독립성 검정\n",
    "print(chi2_contingency(df))"
   ]
  },
  {
   "cell_type": "markdown",
   "metadata": {
    "id": "BTpNhSDU751h"
   },
   "source": [
    "### Section8."
   ]
  },
  {
   "cell_type": "code",
   "execution_count": 66,
   "metadata": {
    "colab": {
     "base_uri": "https://localhost:8080/"
    },
    "executionInfo": {
     "elapsed": 2,
     "status": "ok",
     "timestamp": 1742217845023,
     "user": {
      "displayName": "Tae Heon Kim",
      "userId": "07653788752262629837"
     },
     "user_tz": -540
    },
    "id": "krDzI0y-rXNr",
    "outputId": "a5a39dac-8e72-44e4-8b85-3b2e1e040fe5"
   },
   "outputs": [
    {
     "name": "stdout",
     "output_type": "stream",
     "text": [
      "   할인율  온도  광고비  주문량\n",
      "0   28  15  342  635\n",
      "1   24  34  666  958\n",
      "2   13  15  224  525\n"
     ]
    }
   ],
   "source": [
    "# 데이터\n",
    "import pandas as pd\n",
    "df = pd.DataFrame({\n",
    "    '할인율': [28, 24, 13, 0, 27, 30, 10, 16, 6, 5, 7, 11, 11, 30, 25,\n",
    "            4, 7, 24, 19, 21, 6, 10, 26, 13, 15, 6, 12, 6, 20, 2],\n",
    "    '온도': [15, 34, 15, 22, 29, 30, 14, 17, 28, 29, 19, 19, 34, 10,\n",
    "           29, 28, 12, 25, 32, 28, 22, 16, 30, 11, 16, 18, 16, 33, 12, 22],\n",
    "    '광고비': [342, 666, 224, 764, 148, 499, 711, 596, 797, 484, 986, 347, 146, 362, 642,\n",
    "            591, 846, 260, 560, 941, 469, 309, 730, 305, 892, 147, 887, 526, 525, 884],\n",
    "    '주문량': [635, 958, 525, 25, 607, 872, 858, 732, 1082, 863, 904, 686, 699, 615, 893,\n",
    "            830, 856, 679, 918, 951, 789, 583, 988, 631, 866, 549, 910, 946, 647, 943]\n",
    "})\n",
    "print(df.head(3))"
   ]
  },
  {
   "cell_type": "code",
   "execution_count": 68,
   "metadata": {
    "colab": {
     "base_uri": "https://localhost:8080/"
    },
    "executionInfo": {
     "elapsed": 88,
     "status": "ok",
     "timestamp": 1742217845112,
     "user": {
      "displayName": "Tae Heon Kim",
      "userId": "07653788752262629837"
     },
     "user_tz": -540
    },
    "id": "4QqMcXwgTPcT",
    "outputId": "f06e7397-87ef-4b24-e61d-c3b4b6f72a3d"
   },
   "outputs": [
    {
     "name": "stdout",
     "output_type": "stream",
     "text": [
      "1. 상관 계수: 0.09\n",
      "2. 결정 계수(R-squared): 0.4\n",
      "3. 회귀 계수: Intercept    267.6609\n",
      "할인율            4.2068\n",
      "온도             9.4798\n",
      "광고비            0.4148\n",
      "dtype: float64\n",
      "4. 절편: 267.6609\n",
      "5. pvalue: 0.0289\n",
      "6. 새로운 데이터: 706\n",
      "7. 잔차 제곱합: 732197.9\n",
      "8. MSE: 24406.5966\n",
      "9. 신뢰구간:\n",
      "                    0           1\n",
      "Intercept  45.955720  489.366084\n",
      "할인율        -1.847229   10.260887\n",
      "온도          2.490702   16.468984\n",
      "광고비         0.201064    0.628589\n",
      "10. 예측값의 신뢰 구간과 예측 구간:\n",
      "          mean    mean_se  mean_ci_lower  mean_ci_upper  obs_ci_lower  \\\n",
      "0  692.207386  45.555397     614.507283     769.907488    395.622293   \n",
      "\n",
      "   obs_ci_upper  \n",
      "0    988.792478  \n",
      "11. 귀무가설 기각\n",
      "                            OLS Regression Results                            \n",
      "==============================================================================\n",
      "Dep. Variable:                    주문량   R-squared:                       0.400\n",
      "Model:                            OLS   Adj. R-squared:                  0.330\n",
      "Method:                 Least Squares   F-statistic:                     5.770\n",
      "Date:                Tue, 06 May 2025   Prob (F-statistic):            0.00366\n",
      "Time:                        10:31:17   Log-Likelihood:                -194.11\n",
      "No. Observations:                  30   AIC:                             396.2\n",
      "Df Residuals:                      26   BIC:                             401.8\n",
      "Df Model:                           3                                         \n",
      "Covariance Type:            nonrobust                                         \n",
      "==============================================================================\n",
      "                 coef    std err          t      P>|t|      [0.025      0.975]\n",
      "------------------------------------------------------------------------------\n",
      "Intercept    267.6609    129.985      2.059      0.050       0.472     534.849\n",
      "할인율            4.2068      3.549      1.185      0.247      -3.089      11.503\n",
      "온도             9.4798      4.098      2.313      0.029       1.057      17.903\n",
      "광고비            0.4148      0.125      3.310      0.003       0.157       0.672\n",
      "==============================================================================\n",
      "Omnibus:                       56.788   Durbin-Watson:                   1.647\n",
      "Prob(Omnibus):                  0.000   Jarque-Bera (JB):              419.005\n",
      "Skew:                          -3.845   Prob(JB):                     1.03e-91\n",
      "Kurtosis:                      19.616   Cond. No.                     2.58e+03\n",
      "==============================================================================\n",
      "\n",
      "Notes:\n",
      "[1] Standard Errors assume that the covariance matrix of the errors is correctly specified.\n",
      "[2] The condition number is large, 2.58e+03. This might indicate that there are\n",
      "strong multicollinearity or other numerical problems.\n"
     ]
    }
   ],
   "source": [
    "# 다중 선형 회귀 모델 적합\n",
    "from statsmodels.formula.api import ols\n",
    "model = ols('주문량 ~ 할인율 + 온도 + 광고비', data=df).fit()\n",
    "\n",
    "# 1. 상관계수\n",
    "print(\"1. 상관 계수:\", round(df['할인율'].corr(df['온도']), 2))\n",
    "\n",
    "# 2. 결정계수\n",
    "print(\"2. 결정 계수(R-squared):\", round(model.rsquared, 2))\n",
    "\n",
    "# 3. 회귀계수(기울기)\n",
    "print(\"3. 회귀 계수:\", round(model.params, 4))\n",
    "\n",
    "# 4. 절편\n",
    "print(\"4. 절편:\", round(model.params['Intercept'], 4))\n",
    "\n",
    "# 5. 회귀계수 검정\n",
    "print(\"5. pvalue:\", round(model.pvalues['온도'], 4))\n",
    "\n",
    "# 6. 예측 판매량\n",
    "new_data = pd.DataFrame({\"할인율\":[10], \"온도\":[20], \"광고비\":[500]})\n",
    "result = model.predict(new_data)\n",
    "print(\"6. 새로운 데이터:\", int(result[0]))\n",
    "\n",
    "# 7. 잔차 제곱합\n",
    "df['잔차'] = df['주문량'] - model.predict(df)\n",
    "print(\"7. 잔차 제곱합:\", round(sum(df['잔차']**2), 2))\n",
    "\n",
    "# 8. MSE(Mean Squared Error)\n",
    "MSE = (df['잔차']**2).mean()\n",
    "print(\"8. MSE:\", round(MSE, 4))\n",
    "\n",
    "# 9. 각 변수에 대한 90% 신뢰구간\n",
    "print(\"9. 신뢰구간:\\n\", model.conf_int(alpha=0.1))\n",
    "\n",
    "# 10. 새로운 데이터의 예측값의 90% 신뢰구간과 예측구간\n",
    "new_data = pd.DataFrame({\"할인율\":[15], \"온도\":[25], \"광고비\":[300]})\n",
    "pred = model.get_prediction(new_data)\n",
    "result = pred.summary_frame(alpha=0.1)\n",
    "print(\"10. 예측값의 신뢰 구간과 예측 구간:\\n\", result)\n",
    "\n",
    "# 11. 광고비는 배달 주문량에 영향을 주는지 가설 검정\n",
    "cond = model.pvalues['광고비'] < 0.05\n",
    "if cond:\n",
    "    result = \"기각\"\n",
    "else:\n",
    "    result = \"채택\"\n",
    "print(\"11. 귀무가설\", result)\n",
    "\n",
    "# 선형 회귀 모델의 요약 결과\n",
    "print(model.summary())"
   ]
  },
  {
   "cell_type": "markdown",
   "metadata": {
    "id": "qn6BR7CQrUVt"
   },
   "source": [
    "### Section9."
   ]
  },
  {
   "cell_type": "code",
   "execution_count": 72,
   "metadata": {
    "colab": {
     "base_uri": "https://localhost:8080/",
     "height": 206
    },
    "executionInfo": {
     "elapsed": 233,
     "status": "ok",
     "timestamp": 1742217845344,
     "user": {
      "displayName": "Tae Heon Kim",
      "userId": "07653788752262629837"
     },
     "user_tz": -540
    },
    "id": "k1Czox3XGc2_",
    "outputId": "48003ca9-e33d-4a6c-9fda-3ecf3d9d8a57"
   },
   "outputs": [],
   "source": [
    "import pandas as pd\n",
    "# df = pd.read_csv(\"customer_travel.csv\")\n",
    "df = pd.read_csv(\"https://raw.githubusercontent.com/lovedlim/bigdata_analyst_cert/refs/heads/main/part3/ch6/customer_travel.csv\")"
   ]
  },
  {
   "cell_type": "code",
   "execution_count": 74,
   "metadata": {
    "colab": {
     "base_uri": "https://localhost:8080/"
    },
    "executionInfo": {
     "elapsed": 4,
     "status": "ok",
     "timestamp": 1742217845397,
     "user": {
      "displayName": "Tae Heon Kim",
      "userId": "07653788752262629837"
     },
     "user_tz": -540
    },
    "id": "sD8jhX-UUeSx",
    "outputId": "3ea39b6c-d371-4c17-b093-2c5ce77ccfdb"
   },
   "outputs": [
    {
     "data": {
      "text/plain": [
       "((400, 5), (400, 5))"
      ]
     },
     "execution_count": 74,
     "metadata": {},
     "output_type": "execute_result"
    }
   ],
   "source": [
    "# 데이터 분할\n",
    "midpoint = len(df) // 2\n",
    "a = df.iloc[:midpoint]\n",
    "b = df.iloc[midpoint:]\n",
    "\n",
    "# 데이터 확인\n",
    "a.shape, b.shape"
   ]
  },
  {
   "cell_type": "code",
   "execution_count": 78,
   "metadata": {
    "colab": {
     "base_uri": "https://localhost:8080/"
    },
    "executionInfo": {
     "elapsed": 764,
     "status": "ok",
     "timestamp": 1742217846162,
     "user": {
      "displayName": "Tae Heon Kim",
      "userId": "07653788752262629837"
     },
     "user_tz": -540
    },
    "id": "vh_eEb_MGky6",
    "outputId": "1ad7ad9b-035f-40c0-c6a3-9a0904a2e0b8"
   },
   "outputs": [
    {
     "name": "stdout",
     "output_type": "stream",
     "text": [
      "Optimization terminated successfully.\n",
      "         Current function value: 0.527521\n",
      "         Iterations 6\n",
      "1. 2\n",
      "Optimization terminated successfully.\n",
      "         Current function value: 0.528581\n",
      "         Iterations 6\n",
      "2. age\n",
      "3. booked\n",
      "4. -211.4323825144558\n",
      "5. 422.8647650289116\n",
      "6. 0.05853312291771145\n",
      "7. 1.4094682705862016\n",
      "8. 0.765\n",
      "9. 0.235\n"
     ]
    }
   ],
   "source": [
    "# 1) 유의하지 않은 독립변수의 개수\n",
    "from statsmodels.formula.api import logit\n",
    "formula = \"target ~ age + service + social + booked\"\n",
    "model = logit(formula, data=a).fit()\n",
    "print(\"1.\", sum(model.pvalues[1:]>=0.05))\n",
    "\n",
    "# 2. 수정된 모델에서 가장 큰 p-value를 가진 변수의 이름\n",
    "formula = 'target ~ age + booked'\n",
    "model = logit(formula, data=a).fit()\n",
    "print(\"2.\", model.pvalues[1:].idxmax()) # 상수항 제외\n",
    "\n",
    "# 3. 수정된 모델에서 독립변수 중 절댓값이 가장 큰 회귀계수를 가진 변수의 이름\n",
    "print(\"3.\", model.params[1:].abs().idxmax())\n",
    "\n",
    "# 4. 로그 우도\n",
    "print(\"4.\", model.llf)\n",
    "\n",
    "# 5. 잔차이탈도\n",
    "print(\"5.\", -2 * model.llf)\n",
    "\n",
    "# 6. 'booked' 변수가 3 증가할 때 오즈비\n",
    "import numpy as np\n",
    "print(\"6.\", np.exp(model.params['booked'] * 3))\n",
    "\n",
    "# 7. p-value가 0.05보다 작은 회귀계수의 총합\n",
    "print(\"7.\", model.params[model.pvalues<0.05].sum()) # 상수항(절편)도 포함\n",
    "\n",
    "# 8. 정확도\n",
    "pred = model.predict(b)\n",
    "pred = (pred>0.5).astype(int)\n",
    "from sklearn.metrics import accuracy_score\n",
    "accuracy = accuracy_score(b['target'], pred)\n",
    "print(\"8.\", accuracy)\n",
    "\n",
    "# 9. 오류율\n",
    "error_rate = 1 - accuracy\n",
    "error_rate\n",
    "print(\"9.\", error_rate)"
   ]
  },
  {
   "cell_type": "code",
   "execution_count": 21,
   "metadata": {
    "executionInfo": {
     "elapsed": 5,
     "status": "ok",
     "timestamp": 1742217846170,
     "user": {
      "displayName": "Tae Heon Kim",
      "userId": "07653788752262629837"
     },
     "user_tz": -540
    },
    "id": "m2OmKnfoImIf"
   },
   "outputs": [],
   "source": []
  }
 ],
 "metadata": {
  "colab": {
   "provenance": []
  },
  "kernelspec": {
   "display_name": "Python 3 (ipykernel)",
   "language": "python",
   "name": "python3"
  },
  "language_info": {
   "codemirror_mode": {
    "name": "ipython",
    "version": 3
   },
   "file_extension": ".py",
   "mimetype": "text/x-python",
   "name": "python",
   "nbconvert_exporter": "python",
   "pygments_lexer": "ipython3",
   "version": "3.12.3"
  }
 },
 "nbformat": 4,
 "nbformat_minor": 4
}
