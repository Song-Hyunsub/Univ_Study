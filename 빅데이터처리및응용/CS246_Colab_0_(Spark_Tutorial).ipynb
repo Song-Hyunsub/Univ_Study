{
  "cells": [
    {
      "cell_type": "markdown",
      "metadata": {
        "id": "GTwDFnjHMk25"
      },
      "source": [
        "# CS246 - Colab 0\n",
        "## Spark Tutorial\n",
        "\n",
        "In this tutorial, you will learn how to use [Apache Spark](https://spark.apache.org) in local mode on a Colab enviroment.\n",
        "\n",
        "Credits to [Tiziano Piccardi](http://piccardi.me/) for his Spark Tutorial used in the Applied Data Analysis class at EPFL.\n",
        "\n",
        "We have a corresponding [recitation session](https://stanford-pilot.hosted.panopto.com/Panopto/Pages/Viewer.aspx?id=463177ba-82be-451c-97ff-ae130189eb2a) for this colab, with credits to [Michele Catasta](https://www.linkedin.com/in/pirroh/)."
      ]
    },
    {
      "cell_type": "markdown",
      "metadata": {
        "id": "eXQzA01OS_yQ"
      },
      "source": [
        "### Setup"
      ]
    },
    {
      "cell_type": "markdown",
      "metadata": {
        "id": "AbYZoVVWOZA5"
      },
      "source": [
        "Let's set up Spark on your Colab environment.  Run the cell below!"
      ]
    },
    {
      "cell_type": "code",
      "source": [
        "!cat /etc/issue"
      ],
      "metadata": {
        "colab": {
          "base_uri": "https://localhost:8080/"
        },
        "id": "0B-hJjKZqxVS",
        "outputId": "dbdf296c-333a-4004-a2f3-4f1c5f615400"
      },
      "execution_count": null,
      "outputs": [
        {
          "output_type": "stream",
          "name": "stdout",
          "text": [
            "Ubuntu 22.04.3 LTS \\n \\l\n",
            "\n"
          ]
        }
      ]
    },
    {
      "cell_type": "code",
      "execution_count": null,
      "metadata": {
        "colab": {
          "base_uri": "https://localhost:8080/"
        },
        "id": "dhzk3GE6S9RC",
        "outputId": "83825824-e7b7-4369-f6c7-23ae34b915d4"
      },
      "outputs": [
        {
          "output_type": "stream",
          "name": "stdout",
          "text": [
            "Collecting pyspark\n",
            "  Downloading pyspark-3.5.2.tar.gz (317.3 MB)\n",
            "\u001b[2K     \u001b[90m━━━━━━━━━━━━━━━━━━━━━━━━━━━━━━━━━━━━━━━━\u001b[0m \u001b[32m317.3/317.3 MB\u001b[0m \u001b[31m3.0 MB/s\u001b[0m eta \u001b[36m0:00:00\u001b[0m\n",
            "\u001b[?25h  Preparing metadata (setup.py) ... \u001b[?25l\u001b[?25hdone\n",
            "Requirement already satisfied: py4j==0.10.9.7 in /usr/local/lib/python3.10/dist-packages (from pyspark) (0.10.9.7)\n",
            "Building wheels for collected packages: pyspark\n",
            "  Building wheel for pyspark (setup.py) ... \u001b[?25l\u001b[?25hdone\n",
            "  Created wheel for pyspark: filename=pyspark-3.5.2-py2.py3-none-any.whl size=317812365 sha256=eece38b69e04615c7397bc69002032f9da2dec6c9af4b0df1890a48f639e8d3c\n",
            "  Stored in directory: /root/.cache/pip/wheels/34/34/bd/03944534c44b677cd5859f248090daa9fb27b3c8f8e5f49574\n",
            "Successfully built pyspark\n",
            "Installing collected packages: pyspark\n",
            "Successfully installed pyspark-3.5.2\n",
            "The following additional packages will be installed:\n",
            "  libxtst6 openjdk-8-jre-headless\n",
            "Suggested packages:\n",
            "  openjdk-8-demo openjdk-8-source libnss-mdns fonts-dejavu-extra fonts-nanum fonts-ipafont-gothic\n",
            "  fonts-ipafont-mincho fonts-wqy-microhei fonts-wqy-zenhei fonts-indic\n",
            "The following NEW packages will be installed:\n",
            "  libxtst6 openjdk-8-jdk-headless openjdk-8-jre-headless\n",
            "0 upgraded, 3 newly installed, 0 to remove and 49 not upgraded.\n",
            "Need to get 39.6 MB of archives.\n",
            "After this operation, 144 MB of additional disk space will be used.\n",
            "Selecting previously unselected package libxtst6:amd64.\n",
            "(Reading database ... 123597 files and directories currently installed.)\n",
            "Preparing to unpack .../libxtst6_2%3a1.2.3-1build4_amd64.deb ...\n",
            "Unpacking libxtst6:amd64 (2:1.2.3-1build4) ...\n",
            "Selecting previously unselected package openjdk-8-jre-headless:amd64.\n",
            "Preparing to unpack .../openjdk-8-jre-headless_8u422-b05-1~22.04_amd64.deb ...\n",
            "Unpacking openjdk-8-jre-headless:amd64 (8u422-b05-1~22.04) ...\n",
            "Selecting previously unselected package openjdk-8-jdk-headless:amd64.\n",
            "Preparing to unpack .../openjdk-8-jdk-headless_8u422-b05-1~22.04_amd64.deb ...\n",
            "Unpacking openjdk-8-jdk-headless:amd64 (8u422-b05-1~22.04) ...\n",
            "Setting up libxtst6:amd64 (2:1.2.3-1build4) ...\n",
            "Setting up openjdk-8-jre-headless:amd64 (8u422-b05-1~22.04) ...\n",
            "update-alternatives: using /usr/lib/jvm/java-8-openjdk-amd64/jre/bin/orbd to provide /usr/bin/orbd (orbd) in auto mode\n",
            "update-alternatives: using /usr/lib/jvm/java-8-openjdk-amd64/jre/bin/servertool to provide /usr/bin/servertool (servertool) in auto mode\n",
            "update-alternatives: using /usr/lib/jvm/java-8-openjdk-amd64/jre/bin/tnameserv to provide /usr/bin/tnameserv (tnameserv) in auto mode\n",
            "Setting up openjdk-8-jdk-headless:amd64 (8u422-b05-1~22.04) ...\n",
            "update-alternatives: using /usr/lib/jvm/java-8-openjdk-amd64/bin/clhsdb to provide /usr/bin/clhsdb (clhsdb) in auto mode\n",
            "update-alternatives: using /usr/lib/jvm/java-8-openjdk-amd64/bin/extcheck to provide /usr/bin/extcheck (extcheck) in auto mode\n",
            "update-alternatives: using /usr/lib/jvm/java-8-openjdk-amd64/bin/hsdb to provide /usr/bin/hsdb (hsdb) in auto mode\n",
            "update-alternatives: using /usr/lib/jvm/java-8-openjdk-amd64/bin/idlj to provide /usr/bin/idlj (idlj) in auto mode\n",
            "update-alternatives: using /usr/lib/jvm/java-8-openjdk-amd64/bin/javah to provide /usr/bin/javah (javah) in auto mode\n",
            "update-alternatives: using /usr/lib/jvm/java-8-openjdk-amd64/bin/jhat to provide /usr/bin/jhat (jhat) in auto mode\n",
            "update-alternatives: using /usr/lib/jvm/java-8-openjdk-amd64/bin/jsadebugd to provide /usr/bin/jsadebugd (jsadebugd) in auto mode\n",
            "update-alternatives: using /usr/lib/jvm/java-8-openjdk-amd64/bin/native2ascii to provide /usr/bin/native2ascii (native2ascii) in auto mode\n",
            "update-alternatives: using /usr/lib/jvm/java-8-openjdk-amd64/bin/schemagen to provide /usr/bin/schemagen (schemagen) in auto mode\n",
            "update-alternatives: using /usr/lib/jvm/java-8-openjdk-amd64/bin/wsgen to provide /usr/bin/wsgen (wsgen) in auto mode\n",
            "update-alternatives: using /usr/lib/jvm/java-8-openjdk-amd64/bin/wsimport to provide /usr/bin/wsimport (wsimport) in auto mode\n",
            "update-alternatives: using /usr/lib/jvm/java-8-openjdk-amd64/bin/xjc to provide /usr/bin/xjc (xjc) in auto mode\n",
            "Processing triggers for libc-bin (2.35-0ubuntu3.4) ...\n",
            "/sbin/ldconfig.real: /usr/local/lib/libur_adapter_level_zero.so.0 is not a symbolic link\n",
            "\n",
            "/sbin/ldconfig.real: /usr/local/lib/libtbbbind.so.3 is not a symbolic link\n",
            "\n",
            "/sbin/ldconfig.real: /usr/local/lib/libtbb.so.12 is not a symbolic link\n",
            "\n",
            "/sbin/ldconfig.real: /usr/local/lib/libtbbmalloc.so.2 is not a symbolic link\n",
            "\n",
            "/sbin/ldconfig.real: /usr/local/lib/libtbbbind_2_0.so.3 is not a symbolic link\n",
            "\n",
            "/sbin/ldconfig.real: /usr/local/lib/libtbbmalloc_proxy.so.2 is not a symbolic link\n",
            "\n",
            "/sbin/ldconfig.real: /usr/local/lib/libur_adapter_opencl.so.0 is not a symbolic link\n",
            "\n",
            "/sbin/ldconfig.real: /usr/local/lib/libur_loader.so.0 is not a symbolic link\n",
            "\n",
            "/sbin/ldconfig.real: /usr/local/lib/libtbbbind_2_5.so.3 is not a symbolic link\n",
            "\n"
          ]
        }
      ],
      "source": [
        "!pip install pyspark\n",
        "!pip install -U -q PyDrive\n",
        "!apt install openjdk-8-jdk-headless -qq"
      ]
    },
    {
      "cell_type": "code",
      "execution_count": null,
      "metadata": {
        "id": "XtJVQkDhZEi9"
      },
      "outputs": [],
      "source": [
        "import os\n",
        "os.environ[\"JAVA_HOME\"] = \"/usr/lib/jvm/java-8-openjdk-amd64\""
      ]
    },
    {
      "cell_type": "markdown",
      "metadata": {
        "id": "ctU1dYjfOif7"
      },
      "source": [
        "Now, we authenticate a Google Drive client to download the file we will be processing in our Spark job.\n",
        "\n",
        "**Make sure to follow the interactive instructions.**"
      ]
    },
    {
      "cell_type": "code",
      "execution_count": null,
      "metadata": {
        "id": "1dfnX7IAOkvH",
        "colab": {
          "base_uri": "https://localhost:8080/"
        },
        "outputId": "f6ffd0b7-a996-4556-db6e-9917d27a1ca8"
      },
      "outputs": [
        {
          "output_type": "stream",
          "name": "stderr",
          "text": [
            "WARNING:root:pydrive is deprecated and no longer maintained. We recommend that you migrate your projects to pydrive2, the maintained fork of pydrive\n"
          ]
        }
      ],
      "source": [
        "from pydrive.auth import GoogleAuth\n",
        "from pydrive.drive import GoogleDrive\n",
        "from google.colab import auth\n",
        "from oauth2client.client import GoogleCredentials\n",
        "\n",
        "# Authenticate and create the PyDrive client\n",
        "auth.authenticate_user()\n",
        "gauth = GoogleAuth()\n",
        "gauth.credentials = GoogleCredentials.get_application_default()\n",
        "drive = GoogleDrive(gauth)"
      ]
    },
    {
      "cell_type": "code",
      "execution_count": null,
      "metadata": {
        "id": "UF5nuSdyTJpc"
      },
      "outputs": [],
      "source": [
        "id='1L6pCQkldvdBoaEhRFzL0VnrggEFvqON4'\n",
        "downloaded = drive.CreateFile({'id': id})\n",
        "downloaded.GetContentFile('Bombing_Operations.json.gz')\n",
        "\n",
        "id='14dyBmcTBA32uXPxDbqr0bFDIzGxMTWwl'\n",
        "downloaded = drive.CreateFile({'id': id})\n",
        "downloaded.GetContentFile('Aircraft_Glossary.json.gz')"
      ]
    },
    {
      "cell_type": "code",
      "source": [
        "!ls -l --block-size=M"
      ],
      "metadata": {
        "colab": {
          "base_uri": "https://localhost:8080/"
        },
        "id": "zcJVpdeerd_p",
        "outputId": "23d8bdb6-bf72-4c9e-d09a-6ad492d24851"
      },
      "execution_count": null,
      "outputs": [
        {
          "output_type": "stream",
          "name": "stdout",
          "text": [
            "total 64M\n",
            "-rw-r--r-- 1 root root  1M Sep 14 03:55 Aircraft_Glossary.json.gz\n",
            "-rw-r--r-- 1 root root 64M Sep 14 03:55 Bombing_Operations.json.gz\n",
            "drwxr-xr-x 1 root root  1M Sep 12 13:22 sample_data\n"
          ]
        }
      ]
    },
    {
      "cell_type": "markdown",
      "metadata": {
        "id": "wA49WWqmO5rR"
      },
      "source": [
        "If you executed the cells above, you should be able to see the files *Bombing_Operations.json.gz* and *Aircraft_Glossary.json.gz* under the \"Files\" tab on the left panel."
      ]
    },
    {
      "cell_type": "code",
      "execution_count": null,
      "metadata": {
        "id": "xgQaRx6rSaf9"
      },
      "outputs": [],
      "source": [
        "# Let's import the libraries we will need (라이브러리 불러오기)\n",
        "import pandas as pd\n",
        "import numpy as np\n",
        "import matplotlib.pyplot as plt\n",
        "%matplotlib inline\n",
        "\n",
        "import pyspark\n",
        "from pyspark.sql import *\n",
        "from pyspark.sql.functions import *\n",
        "from pyspark import SparkContext, SparkConf"
      ]
    },
    {
      "cell_type": "markdown",
      "metadata": {
        "id": "uUD5XpD_SagA"
      },
      "source": [
        "Let's initialize the Spark context.\n",
        "(Spark 초기화)\n",
        "\n",
        "\n"
      ]
    },
    {
      "cell_type": "code",
      "execution_count": null,
      "metadata": {
        "id": "7ft3VivrSagB"
      },
      "outputs": [],
      "source": [
        "# create the session\n",
        "conf = SparkConf().set(\"spark.ui.port\", \"4050\")\n",
        "\n",
        "# create the context\n",
        "sc = pyspark.SparkContext(conf=conf)\n",
        "spark = SparkSession.builder.getOrCreate()"
      ]
    },
    {
      "cell_type": "code",
      "source": [
        "Bombing_Operations = spark.read.json(\"Bombing_Operations.json.gz\")\n",
        "Aircraft_Glossary = spark.read.json(\"Aircraft_Glossary.json.gz\")"
      ],
      "metadata": {
        "id": "uIPW6LQur_po"
      },
      "execution_count": null,
      "outputs": []
    },
    {
      "cell_type": "code",
      "source": [
        "Bombing_Operations.printSchema()"
      ],
      "metadata": {
        "colab": {
          "base_uri": "https://localhost:8080/"
        },
        "id": "S9HZr4nXsWcx",
        "outputId": "7989de6e-7051-4b78-a0ce-0055ae370d4e"
      },
      "execution_count": null,
      "outputs": [
        {
          "output_type": "stream",
          "name": "stdout",
          "text": [
            "root\n",
            " |-- AirCraft: string (nullable = true)\n",
            " |-- ContryFlyingMission: string (nullable = true)\n",
            " |-- MissionDate: string (nullable = true)\n",
            " |-- OperationSupported: string (nullable = true)\n",
            " |-- PeriodOfDay: string (nullable = true)\n",
            " |-- TakeoffLocation: string (nullable = true)\n",
            " |-- TargetCountry: string (nullable = true)\n",
            " |-- TimeOnTarget: double (nullable = true)\n",
            " |-- WeaponType: string (nullable = true)\n",
            " |-- WeaponsLoadedWeight: long (nullable = true)\n",
            "\n"
          ]
        }
      ]
    },
    {
      "cell_type": "code",
      "source": [
        "Aircraft_Glossary.printSchema()"
      ],
      "metadata": {
        "colab": {
          "base_uri": "https://localhost:8080/"
        },
        "id": "YnLxy4L7scCL",
        "outputId": "4576c764-8e5c-4e33-c3a6-d1797e2eea0d"
      },
      "execution_count": null,
      "outputs": [
        {
          "output_type": "stream",
          "name": "stdout",
          "text": [
            "root\n",
            " |-- AirCraft: string (nullable = true)\n",
            " |-- AirCraftName: string (nullable = true)\n",
            " |-- AirCraftType: string (nullable = true)\n",
            "\n"
          ]
        }
      ]
    },
    {
      "cell_type": "markdown",
      "metadata": {
        "id": "-n20ixkgSagD"
      },
      "source": [
        "You can easily check the current version and get the link of the web interface. In the Spark UI, you can monitor the progress of your job and debug the performance bottlenecks (if your Colab is running with a **local runtime**)."
      ]
    },
    {
      "cell_type": "code",
      "execution_count": null,
      "metadata": {
        "id": "Fl4RHbqFSagE",
        "colab": {
          "base_uri": "https://localhost:8080/",
          "height": 221
        },
        "outputId": "11d0f1fc-261d-44e6-f7f7-52290c33bf11"
      },
      "outputs": [
        {
          "output_type": "execute_result",
          "data": {
            "text/plain": [
              "<pyspark.sql.session.SparkSession at 0x7a1044a25870>"
            ],
            "text/html": [
              "\n",
              "            <div>\n",
              "                <p><b>SparkSession - in-memory</b></p>\n",
              "                \n",
              "        <div>\n",
              "            <p><b>SparkContext</b></p>\n",
              "\n",
              "            <p><a href=\"http://3a556ef7f2e6:4050\">Spark UI</a></p>\n",
              "\n",
              "            <dl>\n",
              "              <dt>Version</dt>\n",
              "                <dd><code>v3.5.0</code></dd>\n",
              "              <dt>Master</dt>\n",
              "                <dd><code>local[*]</code></dd>\n",
              "              <dt>AppName</dt>\n",
              "                <dd><code>pyspark-shell</code></dd>\n",
              "            </dl>\n",
              "        </div>\n",
              "        \n",
              "            </div>\n",
              "        "
            ]
          },
          "metadata": {},
          "execution_count": 7
        }
      ],
      "source": [
        "spark"
      ]
    },
    {
      "cell_type": "markdown",
      "metadata": {
        "id": "xlw1Mgx0T9-l"
      },
      "source": [
        "If you are running this Colab on the Google hosted runtime, the cell below will create a *ngrok* tunnel which will allow you to check the Spark UI.\n",
        "\n",
        "**To facilitate setting up the ngrok tunnel, please do the following steps:**\n",
        "1. First, navigate to the ngrok website and create your account: https://dashboard.ngrok.com/login\n",
        "2. Then, obtain your authentication token from https://dashboard.ngrok.com/get-started/your-authtoken\n",
        "3. Replace \\<YOUR_AUTH_TOKEN_HERE\\> in the following cell with your auth token.\n",
        "\n",
        "You can then proceed to run the following cells, and you should be able to see the Spark UI as a separate web page.\n",
        "\n",
        "(If you see a security warning, \"Deceptive site ahead\", please click \"Details -> visit this unsafe site\" to view the Spark UI.)"
      ]
    },
    {
      "cell_type": "code",
      "execution_count": null,
      "metadata": {
        "id": "E0BY3Z6sZPHq",
        "colab": {
          "base_uri": "https://localhost:8080/"
        },
        "outputId": "d30ecc1f-fc4b-447f-db00-a5ac05ea15f3"
      },
      "outputs": [
        {
          "output_type": "stream",
          "name": "stdout",
          "text": [
            "Authtoken saved to configuration file: /root/.ngrok2/ngrok.yml\n",
            "authtoken: 23Jcuulpv3Whq9moPVNUbFMA4Yq_jRMNMXXQTYPjdcAax5Gd\n"
          ]
        }
      ],
      "source": [
        "# !wget https://bin.equinox.io/c/4VmDzA7iaHb/ngrok-stable-linux-amd64.zip\n",
        "# !unzip ngrok-stable-linux-amd64.zip\n",
        "!./ngrok authtoken 23Jcuulpv3Whq9moPVNUbFMA4Yq_jRMNMXXQTYPjdcAax5Gd\n",
        "!cat ~/.ngrok2/ngrok.yml\n",
        "get_ipython().system_raw('./ngrok http 4050 &')"
      ]
    },
    {
      "cell_type": "code",
      "execution_count": null,
      "metadata": {
        "id": "cYYlUTWYQMjb",
        "colab": {
          "base_uri": "https://localhost:8080/"
        },
        "outputId": "0b3cd24c-d9c6-4b3e-ba2b-1156969ad51a"
      },
      "outputs": [
        {
          "output_type": "stream",
          "name": "stdout",
          "text": [
            "Traceback (most recent call last):\n",
            "  File \"<string>\", line 1, in <module>\n",
            "  File \"/usr/lib/python3.10/json/__init__.py\", line 293, in load\n",
            "    return loads(fp.read(),\n",
            "  File \"/usr/lib/python3.10/json/__init__.py\", line 346, in loads\n",
            "    return _default_decoder.decode(s)\n",
            "  File \"/usr/lib/python3.10/json/decoder.py\", line 337, in decode\n",
            "    obj, end = self.raw_decode(s, idx=_w(s, 0).end())\n",
            "  File \"/usr/lib/python3.10/json/decoder.py\", line 355, in raw_decode\n",
            "    raise JSONDecodeError(\"Expecting value\", s, err.value) from None\n",
            "json.decoder.JSONDecodeError: Expecting value: line 1 column 1 (char 0)\n"
          ]
        }
      ],
      "source": [
        "!curl -s http://localhost:4040/api/tunnels | python3 -c \\\n",
        "    \"import sys, json; print(json.load(sys.stdin)['tunnels'][0]['public_url'])\""
      ]
    },
    {
      "cell_type": "markdown",
      "metadata": {
        "id": "gewv-lKMSagI"
      },
      "source": [
        "# Vietnam War\n",
        "\n",
        "**Pres. Johnson**: _What do you think about this Vietnam thing? I’d like to hear you talk a little bit._\n",
        "\n",
        "**Sen. Russell**: _Well, frankly, Mr. President, it’s the damn worse mess that I ever saw, and I don’t like to brag and I never have been right many times in my life, but I knew that we were going to get into this sort of mess when we went in there._\n",
        "\n",
        "May 27, 1964\n",
        "\n",
        "![banner](https://raw.githubusercontent.com/epfl-ada/2019/c17af0d3c73f11cb083717b7408fedd86245dc4d/Tutorials/04%20-%20Scaling%20Up/img/banner.jpg)"
      ]
    },
    {
      "cell_type": "markdown",
      "metadata": {
        "id": "skjUv84VSagJ"
      },
      "source": [
        "----\n",
        "\n",
        "The Vietnam War, also known as the Second Indochina War, and in Vietnam as the Resistance War Against America or simply the American War, was a conflict that occurred in Vietnam, Laos, and Cambodia from 1 November 1955 to the fall of Saigon on 30 April 1975. It was the second of the Indochina Wars and was officially fought between North Vietnam and the government of South Vietnam.\n",
        "\n",
        "**The dataset describes all the air force operation in during the Vietnam War.**\n",
        "\n",
        "**Bombing_Operations** [Get the dataset here](https://drive.google.com/a/epfl.ch/file/d/1L6pCQkldvdBoaEhRFzL0VnrggEFvqON4/view?usp=sharing)\n",
        "\n",
        "- AirCraft: _Aircraft model (example: EC-47)_\n",
        "- ContryFlyingMission: _Country_\n",
        "- MissionDate: _Date of the mission_\n",
        "- OperationSupported: _Supported War operation_ (example: [Operation Rolling Thunder](https://en.wikipedia.org/wiki/Operation_Rolling_Thunder))\n",
        "- PeriodOfDay: _Day or night_\n",
        "- TakeoffLocation: _Take off airport_\n",
        "- TimeOnTarget\n",
        "- WeaponType\n",
        "- WeaponsLoadedWeight\n",
        "\n",
        "**Aircraft_Glossary** [Get the dataset here](https://drive.google.com/a/epfl.ch/file/d/14dyBmcTBA32uXPxDbqr0bFDIzGxMTWwl/view?usp=sharing)\n",
        "\n",
        "- AirCraft: _Aircraft model (example: EC-47)_\n",
        "- AirCraftName\n",
        "- AirCraftType\n",
        "\n",
        "**Dataset Information:**\n",
        "\n",
        "THOR is a painstakingly cultivated database of historic aerial bombings from World War I through Vietnam. THOR has already proven useful in finding unexploded ordnance in Southeast Asia and improving Air Force combat tactics:\n",
        "https://www.kaggle.com/usaf/vietnam-war-bombing-operations"
      ]
    },
    {
      "cell_type": "markdown",
      "metadata": {
        "id": "VSWoULeWSagJ"
      },
      "source": [
        "Load the datasets:"
      ]
    },
    {
      "cell_type": "code",
      "execution_count": null,
      "metadata": {
        "id": "XLyVPuLXSagK"
      },
      "outputs": [],
      "source": [
        "Bombing_Operations = spark.read.json(\"Bombing_Operations.json.gz\")\n",
        "Aircraft_Glossary = spark.read.json(\"Aircraft_Glossary.json.gz\")"
      ]
    },
    {
      "cell_type": "markdown",
      "metadata": {
        "id": "MP2JmCeoSagM"
      },
      "source": [
        "Check the schema:"
      ]
    },
    {
      "cell_type": "code",
      "execution_count": null,
      "metadata": {
        "id": "KpUT8viNSagM",
        "colab": {
          "base_uri": "https://localhost:8080/"
        },
        "outputId": "c539a3c6-c4fc-4ff4-c0d2-8d7a3b387d4d"
      },
      "outputs": [
        {
          "output_type": "stream",
          "name": "stdout",
          "text": [
            "root\n",
            " |-- AirCraft: string (nullable = true)\n",
            " |-- ContryFlyingMission: string (nullable = true)\n",
            " |-- MissionDate: string (nullable = true)\n",
            " |-- OperationSupported: string (nullable = true)\n",
            " |-- PeriodOfDay: string (nullable = true)\n",
            " |-- TakeoffLocation: string (nullable = true)\n",
            " |-- TargetCountry: string (nullable = true)\n",
            " |-- TimeOnTarget: double (nullable = true)\n",
            " |-- WeaponType: string (nullable = true)\n",
            " |-- WeaponsLoadedWeight: long (nullable = true)\n",
            "\n"
          ]
        }
      ],
      "source": [
        "Bombing_Operations.printSchema()"
      ]
    },
    {
      "cell_type": "code",
      "execution_count": null,
      "metadata": {
        "id": "6LJsbmlxSagO",
        "colab": {
          "base_uri": "https://localhost:8080/"
        },
        "outputId": "fe14fee7-8d85-4f01-eb7c-b1ebcc398d94"
      },
      "outputs": [
        {
          "output_type": "stream",
          "name": "stdout",
          "text": [
            "root\n",
            " |-- AirCraft: string (nullable = true)\n",
            " |-- AirCraftName: string (nullable = true)\n",
            " |-- AirCraftType: string (nullable = true)\n",
            "\n"
          ]
        }
      ],
      "source": [
        "Aircraft_Glossary.printSchema()"
      ]
    },
    {
      "cell_type": "markdown",
      "metadata": {
        "id": "1jP5IBezSagQ"
      },
      "source": [
        "Get a sample with `take()`:"
      ]
    },
    {
      "cell_type": "code",
      "execution_count": null,
      "metadata": {
        "id": "jrJpiG5ISagQ",
        "colab": {
          "base_uri": "https://localhost:8080/"
        },
        "outputId": "d770a900-a8bb-44d2-b6bb-74a26ef59695"
      },
      "outputs": [
        {
          "output_type": "execute_result",
          "data": {
            "text/plain": [
              "[Row(AirCraft='EC-47', ContryFlyingMission='UNITED STATES OF AMERICA', MissionDate='1971-06-05', OperationSupported=None, PeriodOfDay='D', TakeoffLocation='TAN SON NHUT', TargetCountry='CAMBODIA', TimeOnTarget=1005.0, WeaponType=None, WeaponsLoadedWeight=0),\n",
              " Row(AirCraft='EC-47', ContryFlyingMission='UNITED STATES OF AMERICA', MissionDate='1972-12-26', OperationSupported=None, PeriodOfDay='D', TakeoffLocation='NAKHON PHANOM', TargetCountry='SOUTH VIETNAM', TimeOnTarget=530.0, WeaponType=None, WeaponsLoadedWeight=0),\n",
              " Row(AirCraft='RF-4', ContryFlyingMission='UNITED STATES OF AMERICA', MissionDate='1973-07-28', OperationSupported=None, PeriodOfDay='D', TakeoffLocation='UDORN AB', TargetCountry='LAOS', TimeOnTarget=730.0, WeaponType=None, WeaponsLoadedWeight=0),\n",
              " Row(AirCraft='A-1', ContryFlyingMission='UNITED STATES OF AMERICA', MissionDate='1970-02-02', OperationSupported=None, PeriodOfDay='N', TakeoffLocation='NAKHON PHANOM', TargetCountry='LAOS', TimeOnTarget=1415.0, WeaponType='BLU27 FIRE BOMB (750)', WeaponsLoadedWeight=17400),\n",
              " Row(AirCraft='A-37', ContryFlyingMission='VIETNAM (SOUTH)', MissionDate='1970-10-08', OperationSupported=None, PeriodOfDay='D', TakeoffLocation='DANANG', TargetCountry='SOUTH VIETNAM', TimeOnTarget=1240.0, WeaponType=None, WeaponsLoadedWeight=0),\n",
              " Row(AirCraft='F-4', ContryFlyingMission='UNITED STATES OF AMERICA', MissionDate='1970-11-25', OperationSupported=None, PeriodOfDay='D', TakeoffLocation='UBON AB', TargetCountry='LAOS', TimeOnTarget=650.0, WeaponType='MK 82 GP BOMB (500) LD', WeaponsLoadedWeight=31860),\n",
              " Row(AirCraft='A-4', ContryFlyingMission='UNITED STATES OF AMERICA', MissionDate='1972-03-08', OperationSupported=None, PeriodOfDay='D', TakeoffLocation='TONKIN GULF', TargetCountry='LAOS', TimeOnTarget=1005.0, WeaponType=None, WeaponsLoadedWeight=0),\n",
              " Row(AirCraft='F-4', ContryFlyingMission='UNITED STATES OF AMERICA', MissionDate='1971-12-27', OperationSupported=None, PeriodOfDay=None, TakeoffLocation='UDORN AB', TargetCountry='LAOS', TimeOnTarget=0.0, WeaponType=None, WeaponsLoadedWeight=0),\n",
              " Row(AirCraft='A-7', ContryFlyingMission='UNITED STATES OF AMERICA', MissionDate='1972-05-24', OperationSupported=None, PeriodOfDay=None, TakeoffLocation='TONKIN GULF', TargetCountry='NORTH VIETNAM', TimeOnTarget=0.0, WeaponType=None, WeaponsLoadedWeight=0),\n",
              " Row(AirCraft='EC-47', ContryFlyingMission='UNITED STATES OF AMERICA', MissionDate='1972-09-12', OperationSupported=None, PeriodOfDay='D', TakeoffLocation='TAN SON NHUT', TargetCountry='SOUTH VIETNAM', TimeOnTarget=710.0, WeaponType=None, WeaponsLoadedWeight=0)]"
            ]
          },
          "metadata": {},
          "execution_count": 12
        }
      ],
      "source": [
        "Bombing_Operations.take(10)"
      ]
    },
    {
      "cell_type": "markdown",
      "metadata": {
        "id": "iu7n8KKjSagS"
      },
      "source": [
        "Get a formatted sample with `show()`:"
      ]
    },
    {
      "cell_type": "code",
      "execution_count": null,
      "metadata": {
        "id": "nwYZrwanSagT",
        "colab": {
          "base_uri": "https://localhost:8080/"
        },
        "outputId": "a4102e41-4d3a-43a8-9998-535a74248c9c"
      },
      "outputs": [
        {
          "output_type": "stream",
          "name": "stdout",
          "text": [
            "+--------+--------------------+--------------------+\n",
            "|AirCraft|        AirCraftName|        AirCraftType|\n",
            "+--------+--------------------+--------------------+\n",
            "|     A-1|Douglas A-1 Skyra...|         Fighter Jet|\n",
            "|    A-26|Douglas A-26 Invader|        Light Bomber|\n",
            "|    A-37|Cessna A-37 Drago...|Light ground-atta...|\n",
            "|     A-4|McDonnell Douglas...|         Fighter Jet|\n",
            "|     A-5|North American A-...|          Bomber Jet|\n",
            "|     A-6|Grumman A-6 Intruder|     Attack Aircraft|\n",
            "|     A-7|  LTV A-7 Corsair II|     Attack Aircraft|\n",
            "|  AC-119|Fairchild AC-119 ...|Military Transpor...|\n",
            "|  AC-123|Fairchild C-123 P...|Military Transpor...|\n",
            "|  AC-130|Lockheed AC-130 S...|Fixed wing ground...|\n",
            "|   AC-47|Douglas AC-47 Spooky|Ground attack air...|\n",
            "|    AH-1| Bell AH-1 HueyCobra|          Helicopter|\n",
            "|     B-1| Rockwell B-1 Lancer|Heavy strategic b...|\n",
            "|    B-52| B-52 Stratofortress|    Strategic bomber|\n",
            "|    B-57|Martin B-57 Canberra|     Tactical Bomber|\n",
            "|    B-66|Douglas B-66 Dest...|        Light Bomber|\n",
            "|     C-1| Grumman C-1A Trader|           Transport|\n",
            "|   C-117|     C-117D Skytrain|           Transport|\n",
            "|   C-119|Fairchild C-119 F...|Military Transpor...|\n",
            "|   C-123|Fairchild C-123 P...|Military Transpor...|\n",
            "+--------+--------------------+--------------------+\n",
            "only showing top 20 rows\n",
            "\n"
          ]
        }
      ],
      "source": [
        "Aircraft_Glossary.show()"
      ]
    },
    {
      "cell_type": "code",
      "execution_count": null,
      "metadata": {
        "id": "hMAab2rJSagU",
        "colab": {
          "base_uri": "https://localhost:8080/"
        },
        "outputId": "11188daa-3b99-45d1-b2ae-a5ce270d9d82"
      },
      "outputs": [
        {
          "output_type": "stream",
          "name": "stdout",
          "text": [
            "In total there are 4400775 operations\n"
          ]
        }
      ],
      "source": [
        "print(\"In total there are {0} operations\".format(Bombing_Operations.count()))"
      ]
    },
    {
      "cell_type": "code",
      "source": [
        "# format 예제\n",
        "my_string = \"{0}, {1}!\".format(\"Hello\", \"World\")\n",
        "print(my_string)\n",
        "my_string = \"{0}\".format(1+2)\n",
        "my_string  # my_string 만 쓰면 print가 되지 않음!!!\n",
        "print(my_string)"
      ],
      "metadata": {
        "colab": {
          "base_uri": "https://localhost:8080/"
        },
        "id": "tOWxFYkztvEv",
        "outputId": "3040ed6d-4a0a-4888-8753-e7fbd3ad0bfa"
      },
      "execution_count": null,
      "outputs": [
        {
          "output_type": "stream",
          "name": "stdout",
          "text": [
            "Hello, World!\n",
            "3\n"
          ]
        }
      ]
    },
    {
      "cell_type": "markdown",
      "metadata": {
        "id": "hkKWEEcLSagW"
      },
      "source": [
        "## Question 1: Which countries are involved and in how many missions?\n",
        "\n",
        "## 각 국가가 참가한 전체 임무의 수를 구하라\n",
        "\n",
        "Keywords: `Dataframe API`, `SQL`, `group by`, `sort`"
      ]
    },
    {
      "cell_type": "markdown",
      "metadata": {
        "id": "MwPL1-P5SagW"
      },
      "source": [
        "Let's group the missions by `ContryFlyingMission` and count how many records exist:"
      ]
    },
    {
      "cell_type": "code",
      "source": [
        "grouped = Bombing_Operations.groupBy(\"ContryFlyingMission\")"
      ],
      "metadata": {
        "id": "vVvTdPJivdpg"
      },
      "execution_count": null,
      "outputs": []
    },
    {
      "cell_type": "code",
      "source": [
        "counts = grouped.count()\n",
        "counts.show()"
      ],
      "metadata": {
        "colab": {
          "base_uri": "https://localhost:8080/"
        },
        "id": "CPgbzerxvsEh",
        "outputId": "c2d950fa-507d-493d-8f96-a3f8fe9781f9"
      },
      "execution_count": null,
      "outputs": [
        {
          "output_type": "stream",
          "name": "stdout",
          "text": [
            "+--------------------+-------+\n",
            "| ContryFlyingMission|  count|\n",
            "+--------------------+-------+\n",
            "|     VIETNAM (SOUTH)| 622013|\n",
            "|       KOREA (SOUTH)|  24469|\n",
            "|UNITED STATES OF ...|3708997|\n",
            "|           AUSTRALIA|  12519|\n",
            "|                LAOS|  32777|\n",
            "+--------------------+-------+\n",
            "\n"
          ]
        }
      ]
    },
    {
      "cell_type": "code",
      "source": [
        "counts = counts.sort(\"count\", ascending=False)\n",
        "counts.show(truncate=False)"
      ],
      "metadata": {
        "colab": {
          "base_uri": "https://localhost:8080/"
        },
        "id": "8SJ7eBnbvyV6",
        "outputId": "e5248957-00b5-41a5-d1f2-95af86620466"
      },
      "execution_count": null,
      "outputs": [
        {
          "output_type": "stream",
          "name": "stdout",
          "text": [
            "+------------------------+-------+\n",
            "|ContryFlyingMission     |count  |\n",
            "+------------------------+-------+\n",
            "|UNITED STATES OF AMERICA|3708997|\n",
            "|VIETNAM (SOUTH)         |622013 |\n",
            "|LAOS                    |32777  |\n",
            "|KOREA (SOUTH)           |24469  |\n",
            "|AUSTRALIA               |12519  |\n",
            "+------------------------+-------+\n",
            "\n"
          ]
        }
      ]
    },
    {
      "cell_type": "code",
      "source": [
        "Bombing_Operations.show()"
      ],
      "metadata": {
        "colab": {
          "base_uri": "https://localhost:8080/"
        },
        "id": "NZR5_BYhNrbF",
        "outputId": "c0f1f7ac-5865-47be-ecd9-82dfd123a477"
      },
      "execution_count": null,
      "outputs": [
        {
          "output_type": "stream",
          "name": "stdout",
          "text": [
            "+--------+--------------------+-----------+------------------+-----------+---------------+-------------+------------+--------------------+-------------------+\n",
            "|AirCraft| ContryFlyingMission|MissionDate|OperationSupported|PeriodOfDay|TakeoffLocation|TargetCountry|TimeOnTarget|          WeaponType|WeaponsLoadedWeight|\n",
            "+--------+--------------------+-----------+------------------+-----------+---------------+-------------+------------+--------------------+-------------------+\n",
            "|   EC-47|UNITED STATES OF ...| 1971-06-05|              NULL|          D|   TAN SON NHUT|     CAMBODIA|      1005.0|                NULL|                  0|\n",
            "|   EC-47|UNITED STATES OF ...| 1972-12-26|              NULL|          D|  NAKHON PHANOM|SOUTH VIETNAM|       530.0|                NULL|                  0|\n",
            "|    RF-4|UNITED STATES OF ...| 1973-07-28|              NULL|          D|       UDORN AB|         LAOS|       730.0|                NULL|                  0|\n",
            "|     A-1|UNITED STATES OF ...| 1970-02-02|              NULL|          N|  NAKHON PHANOM|         LAOS|      1415.0|BLU27 FIRE BOMB (...|              17400|\n",
            "|    A-37|     VIETNAM (SOUTH)| 1970-10-08|              NULL|          D|         DANANG|SOUTH VIETNAM|      1240.0|                NULL|                  0|\n",
            "|     F-4|UNITED STATES OF ...| 1970-11-25|              NULL|          D|        UBON AB|         LAOS|       650.0|MK 82 GP BOMB (50...|              31860|\n",
            "|     A-4|UNITED STATES OF ...| 1972-03-08|              NULL|          D|    TONKIN GULF|         LAOS|      1005.0|                NULL|                  0|\n",
            "|     F-4|UNITED STATES OF ...| 1971-12-27|              NULL|       NULL|       UDORN AB|         LAOS|         0.0|                NULL|                  0|\n",
            "|     A-7|UNITED STATES OF ...| 1972-05-24|              NULL|       NULL|    TONKIN GULF|NORTH VIETNAM|         0.0|                NULL|                  0|\n",
            "|   EC-47|UNITED STATES OF ...| 1972-09-12|              NULL|          D|   TAN SON NHUT|SOUTH VIETNAM|       710.0|                NULL|                  0|\n",
            "|   CH-53|UNITED STATES OF ...| 1974-06-13|              NULL|          N|  NAKHON PHANOM|     THAILAND|      1800.0|                NULL|                  0|\n",
            "|   CH-53|UNITED STATES OF ...| 1974-12-19|              NULL|          D|  NAKHON PHANOM|     THAILAND|       800.0|                NULL|                  0|\n",
            "|     O-1|     VIETNAM (SOUTH)| 1973-10-24|              NULL|          D|      NHA TRANG|SOUTH VIETNAM|       800.0|                NULL|                  0|\n",
            "|    UH-1|     VIETNAM (SOUTH)| 1974-03-19|              NULL|          D|        PHU CAT|SOUTH VIETNAM|       800.0|        CARGO (TONS)|                  0|\n",
            "|     C-7|UNITED STATES OF ...| 1970-05-08|              NULL|          D|   TAN SON NHUT|SOUTH VIETNAM|       800.0|                NULL|                  0|\n",
            "|     A-6|UNITED STATES OF ...| 1971-05-12|              NULL|          N|    TONKIN GULF|         LAOS|      1304.0|CBU24 AN PR/MT (B...|              33200|\n",
            "|   EB-66|UNITED STATES OF ...| 1971-12-03|              NULL|          N|          KORAT|         LAOS|      1445.0|                NULL|                  0|\n",
            "|    T-28|                LAOS| 1971-12-19|              NULL|          D|     SAVANAKHET|         LAOS|       230.0|                NULL|                  0|\n",
            "|     A-6|UNITED STATES OF ...| 1972-08-18|              NULL|       NULL|    TONKIN GULF|NORTH VIETNAM|         0.0|                NULL|                  0|\n",
            "|     A-7|UNITED STATES OF ...| 1972-10-15|              NULL|          D|    TONKIN GULF|NORTH VIETNAM|       110.0|                NULL|                  0|\n",
            "+--------+--------------------+-----------+------------------+-----------+---------------+-------------+------------+--------------------+-------------------+\n",
            "only showing top 20 rows\n",
            "\n"
          ]
        }
      ]
    },
    {
      "cell_type": "code",
      "source": [
        "tmp1 = Bombing_Operations.groupBy(\"ContryFlyingMission\").count().sort(desc(\"count\"))\n",
        "tmp1.show()"
      ],
      "metadata": {
        "colab": {
          "base_uri": "https://localhost:8080/"
        },
        "id": "q11fNlQgN7T8",
        "outputId": "773b6b98-dd37-4206-f332-faeecf283ce3"
      },
      "execution_count": null,
      "outputs": [
        {
          "output_type": "stream",
          "name": "stdout",
          "text": [
            "+--------------------+-------+\n",
            "| ContryFlyingMission|  count|\n",
            "+--------------------+-------+\n",
            "|UNITED STATES OF ...|3708997|\n",
            "|     VIETNAM (SOUTH)| 622013|\n",
            "|                LAOS|  32777|\n",
            "|       KOREA (SOUTH)|  24469|\n",
            "|           AUSTRALIA|  12519|\n",
            "+--------------------+-------+\n",
            "\n"
          ]
        }
      ]
    },
    {
      "cell_type": "code",
      "execution_count": null,
      "metadata": {
        "id": "BWcMVcgwSagX",
        "scrolled": true,
        "colab": {
          "base_uri": "https://localhost:8080/"
        },
        "outputId": "c2fd67ab-2cc9-4610-a4da-8a929a757cbc"
      },
      "outputs": [
        {
          "output_type": "stream",
          "name": "stdout",
          "text": [
            "+--------------------+-------------+\n",
            "| ContryFlyingMission|MissionsCount|\n",
            "+--------------------+-------------+\n",
            "|UNITED STATES OF ...|      3708997|\n",
            "|     VIETNAM (SOUTH)|       622013|\n",
            "|                LAOS|        32777|\n",
            "|       KOREA (SOUTH)|        24469|\n",
            "|           AUSTRALIA|        12519|\n",
            "+--------------------+-------------+\n",
            "\n"
          ]
        }
      ],
      "source": [
        "missions_counts = Bombing_Operations.groupBy(\"ContryFlyingMission\")\\\n",
        "                                    .agg(count(\"*\").alias(\"MissionsCount\"))\\\n",
        "                                    .sort(desc(\"MissionsCount\"))\n",
        "missions_counts.show()"
      ]
    },
    {
      "cell_type": "markdown",
      "metadata": {
        "id": "t5trEAkzSagY"
      },
      "source": [
        "In this case we used the DataFrame API, but we could rewite the `groupBy` using pure SQL:"
      ]
    },
    {
      "cell_type": "code",
      "execution_count": null,
      "metadata": {
        "id": "3slo-sXOSagZ",
        "colab": {
          "base_uri": "https://localhost:8080/"
        },
        "outputId": "0363b080-5d1d-4e9f-b949-b9085dd8ebeb"
      },
      "outputs": [
        {
          "output_type": "stream",
          "name": "stderr",
          "text": [
            "/usr/local/lib/python3.10/dist-packages/pyspark/sql/dataframe.py:329: FutureWarning: Deprecated in 2.0, use createOrReplaceTempView instead.\n",
            "  warnings.warn(\"Deprecated in 2.0, use createOrReplaceTempView instead.\", FutureWarning)\n"
          ]
        },
        {
          "output_type": "stream",
          "name": "stdout",
          "text": [
            "+--------------------+-------------+\n",
            "| ContryFlyingMission|MissionsCount|\n",
            "+--------------------+-------------+\n",
            "|UNITED STATES OF ...|      3708997|\n",
            "|     VIETNAM (SOUTH)|       622013|\n",
            "|                LAOS|        32777|\n",
            "|       KOREA (SOUTH)|        24469|\n",
            "|           AUSTRALIA|        12519|\n",
            "+--------------------+-------------+\n",
            "\n"
          ]
        }
      ],
      "source": [
        "Bombing_Operations.registerTempTable(\"Bombing_Operations\")\n",
        "\n",
        "query = \"\"\"\n",
        "SELECT ContryFlyingMission, count(*) as MissionsCount\n",
        "FROM Bombing_Operations\n",
        "GROUP BY ContryFlyingMission\n",
        "ORDER BY MissionsCount DESC\n",
        "\"\"\"\n",
        "\n",
        "missions_counts = spark.sql(query)\n",
        "missions_counts.show()"
      ]
    },
    {
      "cell_type": "markdown",
      "metadata": {
        "id": "5wQNXQnOSaga"
      },
      "source": [
        "The Dataframe is small enough to be moved to Pandas:"
      ]
    },
    {
      "cell_type": "code",
      "execution_count": null,
      "metadata": {
        "id": "4nVJdPLDSagb",
        "colab": {
          "base_uri": "https://localhost:8080/",
          "height": 206
        },
        "outputId": "6a818b9d-332d-4514-ef1b-6a8447ed3d7a"
      },
      "outputs": [
        {
          "output_type": "execute_result",
          "data": {
            "text/plain": [
              "        ContryFlyingMission    count\n",
              "0  UNITED STATES OF AMERICA  3708997\n",
              "1           VIETNAM (SOUTH)   622013\n",
              "2                      LAOS    32777\n",
              "3             KOREA (SOUTH)    24469\n",
              "4                 AUSTRALIA    12519"
            ],
            "text/html": [
              "\n",
              "  <div id=\"df-594d626f-d7fe-4b7b-b828-e7d1c828c39d\" class=\"colab-df-container\">\n",
              "    <div>\n",
              "<style scoped>\n",
              "    .dataframe tbody tr th:only-of-type {\n",
              "        vertical-align: middle;\n",
              "    }\n",
              "\n",
              "    .dataframe tbody tr th {\n",
              "        vertical-align: top;\n",
              "    }\n",
              "\n",
              "    .dataframe thead th {\n",
              "        text-align: right;\n",
              "    }\n",
              "</style>\n",
              "<table border=\"1\" class=\"dataframe\">\n",
              "  <thead>\n",
              "    <tr style=\"text-align: right;\">\n",
              "      <th></th>\n",
              "      <th>ContryFlyingMission</th>\n",
              "      <th>count</th>\n",
              "    </tr>\n",
              "  </thead>\n",
              "  <tbody>\n",
              "    <tr>\n",
              "      <th>0</th>\n",
              "      <td>UNITED STATES OF AMERICA</td>\n",
              "      <td>3708997</td>\n",
              "    </tr>\n",
              "    <tr>\n",
              "      <th>1</th>\n",
              "      <td>VIETNAM (SOUTH)</td>\n",
              "      <td>622013</td>\n",
              "    </tr>\n",
              "    <tr>\n",
              "      <th>2</th>\n",
              "      <td>LAOS</td>\n",
              "      <td>32777</td>\n",
              "    </tr>\n",
              "    <tr>\n",
              "      <th>3</th>\n",
              "      <td>KOREA (SOUTH)</td>\n",
              "      <td>24469</td>\n",
              "    </tr>\n",
              "    <tr>\n",
              "      <th>4</th>\n",
              "      <td>AUSTRALIA</td>\n",
              "      <td>12519</td>\n",
              "    </tr>\n",
              "  </tbody>\n",
              "</table>\n",
              "</div>\n",
              "    <div class=\"colab-df-buttons\">\n",
              "\n",
              "  <div class=\"colab-df-container\">\n",
              "    <button class=\"colab-df-convert\" onclick=\"convertToInteractive('df-594d626f-d7fe-4b7b-b828-e7d1c828c39d')\"\n",
              "            title=\"Convert this dataframe to an interactive table.\"\n",
              "            style=\"display:none;\">\n",
              "\n",
              "  <svg xmlns=\"http://www.w3.org/2000/svg\" height=\"24px\" viewBox=\"0 -960 960 960\">\n",
              "    <path d=\"M120-120v-720h720v720H120Zm60-500h600v-160H180v160Zm220 220h160v-160H400v160Zm0 220h160v-160H400v160ZM180-400h160v-160H180v160Zm440 0h160v-160H620v160ZM180-180h160v-160H180v160Zm440 0h160v-160H620v160Z\"/>\n",
              "  </svg>\n",
              "    </button>\n",
              "\n",
              "  <style>\n",
              "    .colab-df-container {\n",
              "      display:flex;\n",
              "      gap: 12px;\n",
              "    }\n",
              "\n",
              "    .colab-df-convert {\n",
              "      background-color: #E8F0FE;\n",
              "      border: none;\n",
              "      border-radius: 50%;\n",
              "      cursor: pointer;\n",
              "      display: none;\n",
              "      fill: #1967D2;\n",
              "      height: 32px;\n",
              "      padding: 0 0 0 0;\n",
              "      width: 32px;\n",
              "    }\n",
              "\n",
              "    .colab-df-convert:hover {\n",
              "      background-color: #E2EBFA;\n",
              "      box-shadow: 0px 1px 2px rgba(60, 64, 67, 0.3), 0px 1px 3px 1px rgba(60, 64, 67, 0.15);\n",
              "      fill: #174EA6;\n",
              "    }\n",
              "\n",
              "    .colab-df-buttons div {\n",
              "      margin-bottom: 4px;\n",
              "    }\n",
              "\n",
              "    [theme=dark] .colab-df-convert {\n",
              "      background-color: #3B4455;\n",
              "      fill: #D2E3FC;\n",
              "    }\n",
              "\n",
              "    [theme=dark] .colab-df-convert:hover {\n",
              "      background-color: #434B5C;\n",
              "      box-shadow: 0px 1px 3px 1px rgba(0, 0, 0, 0.15);\n",
              "      filter: drop-shadow(0px 1px 2px rgba(0, 0, 0, 0.3));\n",
              "      fill: #FFFFFF;\n",
              "    }\n",
              "  </style>\n",
              "\n",
              "    <script>\n",
              "      const buttonEl =\n",
              "        document.querySelector('#df-594d626f-d7fe-4b7b-b828-e7d1c828c39d button.colab-df-convert');\n",
              "      buttonEl.style.display =\n",
              "        google.colab.kernel.accessAllowed ? 'block' : 'none';\n",
              "\n",
              "      async function convertToInteractive(key) {\n",
              "        const element = document.querySelector('#df-594d626f-d7fe-4b7b-b828-e7d1c828c39d');\n",
              "        const dataTable =\n",
              "          await google.colab.kernel.invokeFunction('convertToInteractive',\n",
              "                                                    [key], {});\n",
              "        if (!dataTable) return;\n",
              "\n",
              "        const docLinkHtml = 'Like what you see? Visit the ' +\n",
              "          '<a target=\"_blank\" href=https://colab.research.google.com/notebooks/data_table.ipynb>data table notebook</a>'\n",
              "          + ' to learn more about interactive tables.';\n",
              "        element.innerHTML = '';\n",
              "        dataTable['output_type'] = 'display_data';\n",
              "        await google.colab.output.renderOutput(dataTable, element);\n",
              "        const docLink = document.createElement('div');\n",
              "        docLink.innerHTML = docLinkHtml;\n",
              "        element.appendChild(docLink);\n",
              "      }\n",
              "    </script>\n",
              "  </div>\n",
              "\n",
              "\n",
              "<div id=\"df-1c3f832b-4ed2-464b-ae8f-9141ecaf83e1\">\n",
              "  <button class=\"colab-df-quickchart\" onclick=\"quickchart('df-1c3f832b-4ed2-464b-ae8f-9141ecaf83e1')\"\n",
              "            title=\"Suggest charts\"\n",
              "            style=\"display:none;\">\n",
              "\n",
              "<svg xmlns=\"http://www.w3.org/2000/svg\" height=\"24px\"viewBox=\"0 0 24 24\"\n",
              "     width=\"24px\">\n",
              "    <g>\n",
              "        <path d=\"M19 3H5c-1.1 0-2 .9-2 2v14c0 1.1.9 2 2 2h14c1.1 0 2-.9 2-2V5c0-1.1-.9-2-2-2zM9 17H7v-7h2v7zm4 0h-2V7h2v10zm4 0h-2v-4h2v4z\"/>\n",
              "    </g>\n",
              "</svg>\n",
              "  </button>\n",
              "\n",
              "<style>\n",
              "  .colab-df-quickchart {\n",
              "      --bg-color: #E8F0FE;\n",
              "      --fill-color: #1967D2;\n",
              "      --hover-bg-color: #E2EBFA;\n",
              "      --hover-fill-color: #174EA6;\n",
              "      --disabled-fill-color: #AAA;\n",
              "      --disabled-bg-color: #DDD;\n",
              "  }\n",
              "\n",
              "  [theme=dark] .colab-df-quickchart {\n",
              "      --bg-color: #3B4455;\n",
              "      --fill-color: #D2E3FC;\n",
              "      --hover-bg-color: #434B5C;\n",
              "      --hover-fill-color: #FFFFFF;\n",
              "      --disabled-bg-color: #3B4455;\n",
              "      --disabled-fill-color: #666;\n",
              "  }\n",
              "\n",
              "  .colab-df-quickchart {\n",
              "    background-color: var(--bg-color);\n",
              "    border: none;\n",
              "    border-radius: 50%;\n",
              "    cursor: pointer;\n",
              "    display: none;\n",
              "    fill: var(--fill-color);\n",
              "    height: 32px;\n",
              "    padding: 0;\n",
              "    width: 32px;\n",
              "  }\n",
              "\n",
              "  .colab-df-quickchart:hover {\n",
              "    background-color: var(--hover-bg-color);\n",
              "    box-shadow: 0 1px 2px rgba(60, 64, 67, 0.3), 0 1px 3px 1px rgba(60, 64, 67, 0.15);\n",
              "    fill: var(--button-hover-fill-color);\n",
              "  }\n",
              "\n",
              "  .colab-df-quickchart-complete:disabled,\n",
              "  .colab-df-quickchart-complete:disabled:hover {\n",
              "    background-color: var(--disabled-bg-color);\n",
              "    fill: var(--disabled-fill-color);\n",
              "    box-shadow: none;\n",
              "  }\n",
              "\n",
              "  .colab-df-spinner {\n",
              "    border: 2px solid var(--fill-color);\n",
              "    border-color: transparent;\n",
              "    border-bottom-color: var(--fill-color);\n",
              "    animation:\n",
              "      spin 1s steps(1) infinite;\n",
              "  }\n",
              "\n",
              "  @keyframes spin {\n",
              "    0% {\n",
              "      border-color: transparent;\n",
              "      border-bottom-color: var(--fill-color);\n",
              "      border-left-color: var(--fill-color);\n",
              "    }\n",
              "    20% {\n",
              "      border-color: transparent;\n",
              "      border-left-color: var(--fill-color);\n",
              "      border-top-color: var(--fill-color);\n",
              "    }\n",
              "    30% {\n",
              "      border-color: transparent;\n",
              "      border-left-color: var(--fill-color);\n",
              "      border-top-color: var(--fill-color);\n",
              "      border-right-color: var(--fill-color);\n",
              "    }\n",
              "    40% {\n",
              "      border-color: transparent;\n",
              "      border-right-color: var(--fill-color);\n",
              "      border-top-color: var(--fill-color);\n",
              "    }\n",
              "    60% {\n",
              "      border-color: transparent;\n",
              "      border-right-color: var(--fill-color);\n",
              "    }\n",
              "    80% {\n",
              "      border-color: transparent;\n",
              "      border-right-color: var(--fill-color);\n",
              "      border-bottom-color: var(--fill-color);\n",
              "    }\n",
              "    90% {\n",
              "      border-color: transparent;\n",
              "      border-bottom-color: var(--fill-color);\n",
              "    }\n",
              "  }\n",
              "</style>\n",
              "\n",
              "  <script>\n",
              "    async function quickchart(key) {\n",
              "      const quickchartButtonEl =\n",
              "        document.querySelector('#' + key + ' button');\n",
              "      quickchartButtonEl.disabled = true;  // To prevent multiple clicks.\n",
              "      quickchartButtonEl.classList.add('colab-df-spinner');\n",
              "      try {\n",
              "        const charts = await google.colab.kernel.invokeFunction(\n",
              "            'suggestCharts', [key], {});\n",
              "      } catch (error) {\n",
              "        console.error('Error during call to suggestCharts:', error);\n",
              "      }\n",
              "      quickchartButtonEl.classList.remove('colab-df-spinner');\n",
              "      quickchartButtonEl.classList.add('colab-df-quickchart-complete');\n",
              "    }\n",
              "    (() => {\n",
              "      let quickchartButtonEl =\n",
              "        document.querySelector('#df-1c3f832b-4ed2-464b-ae8f-9141ecaf83e1 button');\n",
              "      quickchartButtonEl.style.display =\n",
              "        google.colab.kernel.accessAllowed ? 'block' : 'none';\n",
              "    })();\n",
              "  </script>\n",
              "</div>\n",
              "\n",
              "    </div>\n",
              "  </div>\n"
            ],
            "application/vnd.google.colaboratory.intrinsic+json": {
              "type": "dataframe",
              "variable_name": "missions_count_pd",
              "summary": "{\n  \"name\": \"missions_count_pd\",\n  \"rows\": 5,\n  \"fields\": [\n    {\n      \"column\": \"ContryFlyingMission\",\n      \"properties\": {\n        \"dtype\": \"string\",\n        \"num_unique_values\": 5,\n        \"samples\": [\n          \"VIETNAM (SOUTH)\",\n          \"AUSTRALIA\",\n          \"LAOS\"\n        ],\n        \"semantic_type\": \"\",\n        \"description\": \"\"\n      }\n    },\n    {\n      \"column\": \"count\",\n      \"properties\": {\n        \"dtype\": \"number\",\n        \"std\": 1602499,\n        \"min\": 12519,\n        \"max\": 3708997,\n        \"num_unique_values\": 5,\n        \"samples\": [\n          622013,\n          12519,\n          32777\n        ],\n        \"semantic_type\": \"\",\n        \"description\": \"\"\n      }\n    }\n  ]\n}"
            }
          },
          "metadata": {},
          "execution_count": 22
        }
      ],
      "source": [
        "missions_count_pd = counts.toPandas()\n",
        "missions_count_pd.head()"
      ]
    },
    {
      "cell_type": "markdown",
      "metadata": {
        "id": "VQedtuQZSagc"
      },
      "source": [
        "Let's plot a barchart with the number of missions by country:"
      ]
    },
    {
      "cell_type": "code",
      "execution_count": null,
      "metadata": {
        "id": "tgbceprDSagd",
        "colab": {
          "base_uri": "https://localhost:8080/",
          "height": 774
        },
        "outputId": "f94ecf77-ff7a-478c-da73-3e1b856d184d"
      },
      "outputs": [
        {
          "output_type": "execute_result",
          "data": {
            "text/plain": [
              "Text(0.5, 1.0, 'Number of missions by Country')"
            ]
          },
          "metadata": {},
          "execution_count": 24
        },
        {
          "output_type": "display_data",
          "data": {
            "text/plain": [
              "<Figure size 1000x700 with 1 Axes>"
            ],
            "image/png": "[encoded data removed]"
          },
          "metadata": {}
        }
      ],
      "source": [
        "pl = missions_count_pd.plot(kind=\"bar\",\n",
        "                            x=\"ContryFlyingMission\", y=\"count\",\n",
        "                            figsize=(10, 7), log=True, alpha=0.5, color=\"olive\")\n",
        "pl.set_xlabel(\"Country\")\n",
        "pl.set_ylabel(\"Number of Missions (Log scale)\")\n",
        "pl.set_title(\"Number of missions by Country\")"
      ]
    },
    {
      "cell_type": "markdown",
      "metadata": {
        "id": "1jCZfwK2Sage"
      },
      "source": [
        "----"
      ]
    },
    {
      "cell_type": "markdown",
      "metadata": {
        "id": "LLan66cXSagf"
      },
      "source": [
        "## Questions 2: Show the number of missions in time for each of the countries involved.\n",
        "## 매일 얼마나 많은 임무에 참가했는지 나라별로 구하시오.\n",
        "Keywords: `group by`, `parse date`, `plot`\n",
        "\n",
        "Let's select the relevant columns:"
      ]
    },
    {
      "cell_type": "code",
      "source": [
        "# 그림 그리기 실패하는 코드\n",
        "grouped = Bombing_Operations.groupBy([\"MissionDate\", \"ContryFlyingMission\"])\n",
        "counts = grouped.count()\n",
        "counts = counts.sort(\"MissionDate\")\n",
        "counts.show()"
      ],
      "metadata": {
        "colab": {
          "base_uri": "https://localhost:8080/"
        },
        "id": "oIlj7igpxg9R",
        "outputId": "7b884a36-a0ce-42a8-d9f7-0ca434a4e7a2"
      },
      "execution_count": null,
      "outputs": [
        {
          "output_type": "stream",
          "name": "stdout",
          "text": [
            "+-----------+--------------------+-----+\n",
            "|MissionDate| ContryFlyingMission|count|\n",
            "+-----------+--------------------+-----+\n",
            "| 1965-10-01|UNITED STATES OF ...|  447|\n",
            "| 1965-10-02|UNITED STATES OF ...|  652|\n",
            "| 1965-10-03|UNITED STATES OF ...|  608|\n",
            "| 1965-10-04|UNITED STATES OF ...|  532|\n",
            "| 1965-10-05|     VIETNAM (SOUTH)|   72|\n",
            "| 1965-10-05|UNITED STATES OF ...|  697|\n",
            "| 1965-10-06|     VIETNAM (SOUTH)|   49|\n",
            "| 1965-10-06|UNITED STATES OF ...|  689|\n",
            "| 1965-10-07|UNITED STATES OF ...|  605|\n",
            "| 1965-10-07|     VIETNAM (SOUTH)|   50|\n",
            "| 1965-10-08|     VIETNAM (SOUTH)|   64|\n",
            "| 1965-10-08|UNITED STATES OF ...|  700|\n",
            "| 1965-10-09|UNITED STATES OF ...|  677|\n",
            "| 1965-10-09|     VIETNAM (SOUTH)|   69|\n",
            "| 1965-10-10|UNITED STATES OF ...|  789|\n",
            "| 1965-10-10|     VIETNAM (SOUTH)|   59|\n",
            "| 1965-10-11|     VIETNAM (SOUTH)|   48|\n",
            "| 1965-10-11|UNITED STATES OF ...|  455|\n",
            "| 1965-10-12|     VIETNAM (SOUTH)|   62|\n",
            "| 1965-10-12|UNITED STATES OF ...|  449|\n",
            "+-----------+--------------------+-----+\n",
            "only showing top 20 rows\n",
            "\n"
          ]
        }
      ]
    },
    {
      "cell_type": "code",
      "source": [
        "# Pandas로 변환\n",
        "counts_pd = counts.toPandas()"
      ],
      "metadata": {
        "id": "Gr11pcJJyohI"
      },
      "execution_count": null,
      "outputs": []
    },
    {
      "cell_type": "code",
      "source": [
        "counts_pd.head()"
      ],
      "metadata": {
        "colab": {
          "base_uri": "https://localhost:8080/",
          "height": 206
        },
        "id": "ahGmTWK3yvPD",
        "outputId": "8e1cf5fe-ef5f-4e7b-d725-61e52e34f1cb"
      },
      "execution_count": null,
      "outputs": [
        {
          "output_type": "execute_result",
          "data": {
            "text/plain": [
              "  MissionDate       ContryFlyingMission  count\n",
              "0  1965-10-01  UNITED STATES OF AMERICA    447\n",
              "1  1965-10-02  UNITED STATES OF AMERICA    652\n",
              "2  1965-10-03  UNITED STATES OF AMERICA    608\n",
              "3  1965-10-04  UNITED STATES OF AMERICA    532\n",
              "4  1965-10-05           VIETNAM (SOUTH)     72"
            ],
            "text/html": [
              "\n",
              "  <div id=\"df-8117a67d-cb6a-4ced-95d4-ea582919286c\" class=\"colab-df-container\">\n",
              "    <div>\n",
              "<style scoped>\n",
              "    .dataframe tbody tr th:only-of-type {\n",
              "        vertical-align: middle;\n",
              "    }\n",
              "\n",
              "    .dataframe tbody tr th {\n",
              "        vertical-align: top;\n",
              "    }\n",
              "\n",
              "    .dataframe thead th {\n",
              "        text-align: right;\n",
              "    }\n",
              "</style>\n",
              "<table border=\"1\" class=\"dataframe\">\n",
              "  <thead>\n",
              "    <tr style=\"text-align: right;\">\n",
              "      <th></th>\n",
              "      <th>MissionDate</th>\n",
              "      <th>ContryFlyingMission</th>\n",
              "      <th>count</th>\n",
              "    </tr>\n",
              "  </thead>\n",
              "  <tbody>\n",
              "    <tr>\n",
              "      <th>0</th>\n",
              "      <td>1965-10-01</td>\n",
              "      <td>UNITED STATES OF AMERICA</td>\n",
              "      <td>447</td>\n",
              "    </tr>\n",
              "    <tr>\n",
              "      <th>1</th>\n",
              "      <td>1965-10-02</td>\n",
              "      <td>UNITED STATES OF AMERICA</td>\n",
              "      <td>652</td>\n",
              "    </tr>\n",
              "    <tr>\n",
              "      <th>2</th>\n",
              "      <td>1965-10-03</td>\n",
              "      <td>UNITED STATES OF AMERICA</td>\n",
              "      <td>608</td>\n",
              "    </tr>\n",
              "    <tr>\n",
              "      <th>3</th>\n",
              "      <td>1965-10-04</td>\n",
              "      <td>UNITED STATES OF AMERICA</td>\n",
              "      <td>532</td>\n",
              "    </tr>\n",
              "    <tr>\n",
              "      <th>4</th>\n",
              "      <td>1965-10-05</td>\n",
              "      <td>VIETNAM (SOUTH)</td>\n",
              "      <td>72</td>\n",
              "    </tr>\n",
              "  </tbody>\n",
              "</table>\n",
              "</div>\n",
              "    <div class=\"colab-df-buttons\">\n",
              "\n",
              "  <div class=\"colab-df-container\">\n",
              "    <button class=\"colab-df-convert\" onclick=\"convertToInteractive('df-8117a67d-cb6a-4ced-95d4-ea582919286c')\"\n",
              "            title=\"Convert this dataframe to an interactive table.\"\n",
              "            style=\"display:none;\">\n",
              "\n",
              "  <svg xmlns=\"http://www.w3.org/2000/svg\" height=\"24px\" viewBox=\"0 -960 960 960\">\n",
              "    <path d=\"M120-120v-720h720v720H120Zm60-500h600v-160H180v160Zm220 220h160v-160H400v160Zm0 220h160v-160H400v160ZM180-400h160v-160H180v160Zm440 0h160v-160H620v160ZM180-180h160v-160H180v160Zm440 0h160v-160H620v160Z\"/>\n",
              "  </svg>\n",
              "    </button>\n",
              "\n",
              "  <style>\n",
              "    .colab-df-container {\n",
              "      display:flex;\n",
              "      gap: 12px;\n",
              "    }\n",
              "\n",
              "    .colab-df-convert {\n",
              "      background-color: #E8F0FE;\n",
              "      border: none;\n",
              "      border-radius: 50%;\n",
              "      cursor: pointer;\n",
              "      display: none;\n",
              "      fill: #1967D2;\n",
              "      height: 32px;\n",
              "      padding: 0 0 0 0;\n",
              "      width: 32px;\n",
              "    }\n",
              "\n",
              "    .colab-df-convert:hover {\n",
              "      background-color: #E2EBFA;\n",
              "      box-shadow: 0px 1px 2px rgba(60, 64, 67, 0.3), 0px 1px 3px 1px rgba(60, 64, 67, 0.15);\n",
              "      fill: #174EA6;\n",
              "    }\n",
              "\n",
              "    .colab-df-buttons div {\n",
              "      margin-bottom: 4px;\n",
              "    }\n",
              "\n",
              "    [theme=dark] .colab-df-convert {\n",
              "      background-color: #3B4455;\n",
              "      fill: #D2E3FC;\n",
              "    }\n",
              "\n",
              "    [theme=dark] .colab-df-convert:hover {\n",
              "      background-color: #434B5C;\n",
              "      box-shadow: 0px 1px 3px 1px rgba(0, 0, 0, 0.15);\n",
              "      filter: drop-shadow(0px 1px 2px rgba(0, 0, 0, 0.3));\n",
              "      fill: #FFFFFF;\n",
              "    }\n",
              "  </style>\n",
              "\n",
              "    <script>\n",
              "      const buttonEl =\n",
              "        document.querySelector('#df-8117a67d-cb6a-4ced-95d4-ea582919286c button.colab-df-convert');\n",
              "      buttonEl.style.display =\n",
              "        google.colab.kernel.accessAllowed ? 'block' : 'none';\n",
              "\n",
              "      async function convertToInteractive(key) {\n",
              "        const element = document.querySelector('#df-8117a67d-cb6a-4ced-95d4-ea582919286c');\n",
              "        const dataTable =\n",
              "          await google.colab.kernel.invokeFunction('convertToInteractive',\n",
              "                                                    [key], {});\n",
              "        if (!dataTable) return;\n",
              "\n",
              "        const docLinkHtml = 'Like what you see? Visit the ' +\n",
              "          '<a target=\"_blank\" href=https://colab.research.google.com/notebooks/data_table.ipynb>data table notebook</a>'\n",
              "          + ' to learn more about interactive tables.';\n",
              "        element.innerHTML = '';\n",
              "        dataTable['output_type'] = 'display_data';\n",
              "        await google.colab.output.renderOutput(dataTable, element);\n",
              "        const docLink = document.createElement('div');\n",
              "        docLink.innerHTML = docLinkHtml;\n",
              "        element.appendChild(docLink);\n",
              "      }\n",
              "    </script>\n",
              "  </div>\n",
              "\n",
              "\n",
              "<div id=\"df-52eaf4f0-3340-42d6-bd86-5c29ef4fd382\">\n",
              "  <button class=\"colab-df-quickchart\" onclick=\"quickchart('df-52eaf4f0-3340-42d6-bd86-5c29ef4fd382')\"\n",
              "            title=\"Suggest charts\"\n",
              "            style=\"display:none;\">\n",
              "\n",
              "<svg xmlns=\"http://www.w3.org/2000/svg\" height=\"24px\"viewBox=\"0 0 24 24\"\n",
              "     width=\"24px\">\n",
              "    <g>\n",
              "        <path d=\"M19 3H5c-1.1 0-2 .9-2 2v14c0 1.1.9 2 2 2h14c1.1 0 2-.9 2-2V5c0-1.1-.9-2-2-2zM9 17H7v-7h2v7zm4 0h-2V7h2v10zm4 0h-2v-4h2v4z\"/>\n",
              "    </g>\n",
              "</svg>\n",
              "  </button>\n",
              "\n",
              "<style>\n",
              "  .colab-df-quickchart {\n",
              "      --bg-color: #E8F0FE;\n",
              "      --fill-color: #1967D2;\n",
              "      --hover-bg-color: #E2EBFA;\n",
              "      --hover-fill-color: #174EA6;\n",
              "      --disabled-fill-color: #AAA;\n",
              "      --disabled-bg-color: #DDD;\n",
              "  }\n",
              "\n",
              "  [theme=dark] .colab-df-quickchart {\n",
              "      --bg-color: #3B4455;\n",
              "      --fill-color: #D2E3FC;\n",
              "      --hover-bg-color: #434B5C;\n",
              "      --hover-fill-color: #FFFFFF;\n",
              "      --disabled-bg-color: #3B4455;\n",
              "      --disabled-fill-color: #666;\n",
              "  }\n",
              "\n",
              "  .colab-df-quickchart {\n",
              "    background-color: var(--bg-color);\n",
              "    border: none;\n",
              "    border-radius: 50%;\n",
              "    cursor: pointer;\n",
              "    display: none;\n",
              "    fill: var(--fill-color);\n",
              "    height: 32px;\n",
              "    padding: 0;\n",
              "    width: 32px;\n",
              "  }\n",
              "\n",
              "  .colab-df-quickchart:hover {\n",
              "    background-color: var(--hover-bg-color);\n",
              "    box-shadow: 0 1px 2px rgba(60, 64, 67, 0.3), 0 1px 3px 1px rgba(60, 64, 67, 0.15);\n",
              "    fill: var(--button-hover-fill-color);\n",
              "  }\n",
              "\n",
              "  .colab-df-quickchart-complete:disabled,\n",
              "  .colab-df-quickchart-complete:disabled:hover {\n",
              "    background-color: var(--disabled-bg-color);\n",
              "    fill: var(--disabled-fill-color);\n",
              "    box-shadow: none;\n",
              "  }\n",
              "\n",
              "  .colab-df-spinner {\n",
              "    border: 2px solid var(--fill-color);\n",
              "    border-color: transparent;\n",
              "    border-bottom-color: var(--fill-color);\n",
              "    animation:\n",
              "      spin 1s steps(1) infinite;\n",
              "  }\n",
              "\n",
              "  @keyframes spin {\n",
              "    0% {\n",
              "      border-color: transparent;\n",
              "      border-bottom-color: var(--fill-color);\n",
              "      border-left-color: var(--fill-color);\n",
              "    }\n",
              "    20% {\n",
              "      border-color: transparent;\n",
              "      border-left-color: var(--fill-color);\n",
              "      border-top-color: var(--fill-color);\n",
              "    }\n",
              "    30% {\n",
              "      border-color: transparent;\n",
              "      border-left-color: var(--fill-color);\n",
              "      border-top-color: var(--fill-color);\n",
              "      border-right-color: var(--fill-color);\n",
              "    }\n",
              "    40% {\n",
              "      border-color: transparent;\n",
              "      border-right-color: var(--fill-color);\n",
              "      border-top-color: var(--fill-color);\n",
              "    }\n",
              "    60% {\n",
              "      border-color: transparent;\n",
              "      border-right-color: var(--fill-color);\n",
              "    }\n",
              "    80% {\n",
              "      border-color: transparent;\n",
              "      border-right-color: var(--fill-color);\n",
              "      border-bottom-color: var(--fill-color);\n",
              "    }\n",
              "    90% {\n",
              "      border-color: transparent;\n",
              "      border-bottom-color: var(--fill-color);\n",
              "    }\n",
              "  }\n",
              "</style>\n",
              "\n",
              "  <script>\n",
              "    async function quickchart(key) {\n",
              "      const quickchartButtonEl =\n",
              "        document.querySelector('#' + key + ' button');\n",
              "      quickchartButtonEl.disabled = true;  // To prevent multiple clicks.\n",
              "      quickchartButtonEl.classList.add('colab-df-spinner');\n",
              "      try {\n",
              "        const charts = await google.colab.kernel.invokeFunction(\n",
              "            'suggestCharts', [key], {});\n",
              "      } catch (error) {\n",
              "        console.error('Error during call to suggestCharts:', error);\n",
              "      }\n",
              "      quickchartButtonEl.classList.remove('colab-df-spinner');\n",
              "      quickchartButtonEl.classList.add('colab-df-quickchart-complete');\n",
              "    }\n",
              "    (() => {\n",
              "      let quickchartButtonEl =\n",
              "        document.querySelector('#df-52eaf4f0-3340-42d6-bd86-5c29ef4fd382 button');\n",
              "      quickchartButtonEl.style.display =\n",
              "        google.colab.kernel.accessAllowed ? 'block' : 'none';\n",
              "    })();\n",
              "  </script>\n",
              "</div>\n",
              "\n",
              "    </div>\n",
              "  </div>\n"
            ],
            "application/vnd.google.colaboratory.intrinsic+json": {
              "type": "dataframe",
              "variable_name": "counts_pd",
              "summary": "{\n  \"name\": \"counts_pd\",\n  \"rows\": 9703,\n  \"fields\": [\n    {\n      \"column\": \"MissionDate\",\n      \"properties\": {\n        \"dtype\": \"object\",\n        \"num_unique_values\": 3560,\n        \"samples\": [\n          \"1975-06-15\",\n          \"1966-04-03\",\n          \"1975-03-02\"\n        ],\n        \"semantic_type\": \"\",\n        \"description\": \"\"\n      }\n    },\n    {\n      \"column\": \"ContryFlyingMission\",\n      \"properties\": {\n        \"dtype\": \"category\",\n        \"num_unique_values\": 5,\n        \"samples\": [\n          \"VIETNAM (SOUTH)\",\n          \"KOREA (SOUTH)\",\n          \"AUSTRALIA\"\n        ],\n        \"semantic_type\": \"\",\n        \"description\": \"\"\n      }\n    },\n    {\n      \"column\": \"count\",\n      \"properties\": {\n        \"dtype\": \"number\",\n        \"std\": 639,\n        \"min\": 1,\n        \"max\": 3832,\n        \"num_unique_values\": 1881,\n        \"samples\": [\n          1376,\n          2848,\n          1986\n        ],\n        \"semantic_type\": \"\",\n        \"description\": \"\"\n      }\n    }\n  ]\n}"
            }
          },
          "metadata": {},
          "execution_count": 30
        }
      ]
    },
    {
      "cell_type": "code",
      "source": [
        "for country, missions in counts_pd.groupby(\"ContryFlyingMission\"):\n",
        "  print(country)\n",
        "  print(missions.head())"
      ],
      "metadata": {
        "colab": {
          "base_uri": "https://localhost:8080/"
        },
        "id": "FfY45jJ_z06y",
        "outputId": "c6bc0526-2900-4d5e-dd23-cd3bcedaa921"
      },
      "execution_count": null,
      "outputs": [
        {
          "output_type": "stream",
          "name": "stdout",
          "text": [
            "AUSTRALIA\n",
            "     MissionDate ContryFlyingMission  count\n",
            "2977  1970-01-02           AUSTRALIA     22\n",
            "2981  1970-01-03           AUSTRALIA     24\n",
            "2982  1970-01-04           AUSTRALIA     23\n",
            "2985  1970-01-05           AUSTRALIA     22\n",
            "2988  1970-01-06           AUSTRALIA     22\n",
            "KOREA (SOUTH)\n",
            "     MissionDate ContryFlyingMission  count\n",
            "6692  1972-10-15       KOREA (SOUTH)     16\n",
            "6695  1972-10-16       KOREA (SOUTH)     11\n",
            "6701  1972-10-17       KOREA (SOUTH)     12\n",
            "6706  1972-10-18       KOREA (SOUTH)     17\n",
            "6707  1972-10-19       KOREA (SOUTH)     19\n",
            "LAOS\n",
            "     MissionDate ContryFlyingMission  count\n",
            "3124  1970-02-20                LAOS     51\n",
            "3126  1970-02-21                LAOS     55\n",
            "3130  1970-02-22                LAOS     21\n",
            "3135  1970-02-23                LAOS     49\n",
            "3138  1970-02-24                LAOS     40\n",
            "UNITED STATES OF AMERICA\n",
            "  MissionDate       ContryFlyingMission  count\n",
            "0  1965-10-01  UNITED STATES OF AMERICA    447\n",
            "1  1965-10-02  UNITED STATES OF AMERICA    652\n",
            "2  1965-10-03  UNITED STATES OF AMERICA    608\n",
            "3  1965-10-04  UNITED STATES OF AMERICA    532\n",
            "5  1965-10-05  UNITED STATES OF AMERICA    697\n",
            "VIETNAM (SOUTH)\n",
            "   MissionDate ContryFlyingMission  count\n",
            "4   1965-10-05     VIETNAM (SOUTH)     72\n",
            "7   1965-10-06     VIETNAM (SOUTH)     49\n",
            "9   1965-10-07     VIETNAM (SOUTH)     50\n",
            "10  1965-10-08     VIETNAM (SOUTH)     64\n",
            "13  1965-10-09     VIETNAM (SOUTH)     69\n"
          ]
        }
      ]
    },
    {
      "cell_type": "code",
      "source": [
        "fig = plt.figure(figsize=(10, 6))\n",
        "\n",
        "# iterate the different groups to create a different series\n",
        "for country, missions in counts_pd.groupby(\"ContryFlyingMission\"):\n",
        "    plt.plot(missions[\"MissionDate\"], missions[\"count\"], label=country)\n",
        "\n",
        "plt.legend(loc='best')"
      ],
      "metadata": {
        "colab": {
          "base_uri": "https://localhost:8080/",
          "height": 563
        },
        "id": "Mx041FVZzXFB",
        "outputId": "9f6613fb-a2e9-446d-f2a3-d0ad5cb9bfc3"
      },
      "execution_count": null,
      "outputs": [
        {
          "output_type": "execute_result",
          "data": {
            "text/plain": [
              "<matplotlib.legend.Legend at 0x7b23696acb50>"
            ]
          },
          "metadata": {},
          "execution_count": 36
        },
        {
          "output_type": "display_data",
          "data": {
            "text/plain": [
              "<Figure size 1000x600 with 1 Axes>"
            ],
            "image/png": "[encoded data removed]"
          },
          "metadata": {}
        }
      ]
    },
    {
      "cell_type": "markdown",
      "source": [
        "그래프가 다소 이상한 이유 => x좌표로 삼은 MissionDate가 String형이기 때문"
      ],
      "metadata": {
        "id": "ZqR_V_zj0kG-"
      }
    },
    {
      "cell_type": "code",
      "execution_count": null,
      "metadata": {
        "id": "BXNKt5PHSagf",
        "colab": {
          "base_uri": "https://localhost:8080/"
        },
        "outputId": "498e7a2b-09f3-45ba-b53d-74eb8aba182f"
      },
      "outputs": [
        {
          "output_type": "stream",
          "name": "stdout",
          "text": [
            "root\n",
            " |-- MissionDate: date (nullable = true)\n",
            " |-- ContryFlyingMission: string (nullable = true)\n",
            "\n"
          ]
        }
      ],
      "source": [
        "# 문자열을 date로 변환하면서 일자와 국가 두 개의 열만 가져오는 코드\n",
        "missions_countries = Bombing_Operations.selectExpr([\"to_date(MissionDate) as MissionDate\", \"ContryFlyingMission\"])\n",
        "missions_countries.printSchema()"
      ]
    },
    {
      "cell_type": "markdown",
      "metadata": {
        "id": "da9IeKntSagh"
      },
      "source": [
        "The filed MissionDate is converted to a Python `date` object.\n",
        "\n",
        "Now we can group by `MissionDate` and `ContryFlyingMission` to get the count:"
      ]
    },
    {
      "cell_type": "code",
      "source": [
        "# 일자와 국가가 같은 데이터 모으기\n",
        "grouped = missions_countries.groupBy([\"MissionDate\", \"ContryFlyingMission\"])"
      ],
      "metadata": {
        "id": "vZp90k9-2HpL"
      },
      "execution_count": null,
      "outputs": []
    },
    {
      "cell_type": "code",
      "source": [
        "# 데이터의 개수 세기\n",
        "counts = grouped.count()\n",
        "counts.show()"
      ],
      "metadata": {
        "colab": {
          "base_uri": "https://localhost:8080/"
        },
        "id": "hZJPpB_Q2P0-",
        "outputId": "67a62887-8684-4e7b-8499-ef675ae4ada7"
      },
      "execution_count": null,
      "outputs": [
        {
          "output_type": "stream",
          "name": "stdout",
          "text": [
            "+-----------+--------------------+-----+\n",
            "|MissionDate| ContryFlyingMission|count|\n",
            "+-----------+--------------------+-----+\n",
            "| 1971-10-05|UNITED STATES OF ...|  650|\n",
            "| 1972-10-26|UNITED STATES OF ...|  921|\n",
            "| 1972-03-04|UNITED STATES OF ...| 1084|\n",
            "| 1973-11-03|     VIETNAM (SOUTH)|  192|\n",
            "| 1970-03-27|UNITED STATES OF ...| 2466|\n",
            "| 1970-12-28|     VIETNAM (SOUTH)|  291|\n",
            "| 1971-10-14|     VIETNAM (SOUTH)|  386|\n",
            "| 1973-10-05|UNITED STATES OF ...|  105|\n",
            "| 1973-12-05|     VIETNAM (SOUTH)|  197|\n",
            "| 1971-07-15|     VIETNAM (SOUTH)|  336|\n",
            "| 1973-10-29|     VIETNAM (SOUTH)|  207|\n",
            "| 1972-05-01|UNITED STATES OF ...| 1537|\n",
            "| 1974-02-13|     VIETNAM (SOUTH)|  250|\n",
            "| 1971-09-25|     VIETNAM (SOUTH)|  354|\n",
            "| 1972-03-07|UNITED STATES OF ...| 1034|\n",
            "| 1974-03-26|UNITED STATES OF ...|   79|\n",
            "| 1971-07-31|     VIETNAM (SOUTH)|  347|\n",
            "| 1970-08-10|UNITED STATES OF ...| 1268|\n",
            "| 1970-03-06|     VIETNAM (SOUTH)|  259|\n",
            "| 1970-11-03|           AUSTRALIA|   21|\n",
            "+-----------+--------------------+-----+\n",
            "only showing top 20 rows\n",
            "\n"
          ]
        }
      ]
    },
    {
      "cell_type": "code",
      "source": [
        "# 정렬하기\n",
        "counts = counts.sort(\"MissionDate\")\n",
        "counts.show()"
      ],
      "metadata": {
        "colab": {
          "base_uri": "https://localhost:8080/"
        },
        "id": "cPHIYYBq2UGi",
        "outputId": "fd2a87be-6282-42d1-d3bb-d0c7455064ae"
      },
      "execution_count": null,
      "outputs": [
        {
          "output_type": "stream",
          "name": "stdout",
          "text": [
            "+-----------+--------------------+-----+\n",
            "|MissionDate| ContryFlyingMission|count|\n",
            "+-----------+--------------------+-----+\n",
            "| 1965-10-01|UNITED STATES OF ...|  447|\n",
            "| 1965-10-02|UNITED STATES OF ...|  652|\n",
            "| 1965-10-03|UNITED STATES OF ...|  608|\n",
            "| 1965-10-04|UNITED STATES OF ...|  532|\n",
            "| 1965-10-05|UNITED STATES OF ...|  697|\n",
            "| 1965-10-05|     VIETNAM (SOUTH)|   72|\n",
            "| 1965-10-06|     VIETNAM (SOUTH)|   49|\n",
            "| 1965-10-06|UNITED STATES OF ...|  689|\n",
            "| 1965-10-07|UNITED STATES OF ...|  605|\n",
            "| 1965-10-07|     VIETNAM (SOUTH)|   50|\n",
            "| 1965-10-08|UNITED STATES OF ...|  700|\n",
            "| 1965-10-08|     VIETNAM (SOUTH)|   64|\n",
            "| 1965-10-09|     VIETNAM (SOUTH)|   69|\n",
            "| 1965-10-09|UNITED STATES OF ...|  677|\n",
            "| 1965-10-10|     VIETNAM (SOUTH)|   59|\n",
            "| 1965-10-10|UNITED STATES OF ...|  789|\n",
            "| 1965-10-11|     VIETNAM (SOUTH)|   48|\n",
            "| 1965-10-11|UNITED STATES OF ...|  455|\n",
            "| 1965-10-12|UNITED STATES OF ...|  449|\n",
            "| 1965-10-12|     VIETNAM (SOUTH)|   62|\n",
            "+-----------+--------------------+-----+\n",
            "only showing top 20 rows\n",
            "\n"
          ]
        }
      ]
    },
    {
      "cell_type": "code",
      "execution_count": null,
      "metadata": {
        "id": "TLza0bF9Sagh",
        "colab": {
          "base_uri": "https://localhost:8080/"
        },
        "outputId": "1a6f7a6d-2f5d-4cfb-805c-6093ee7a812f"
      },
      "outputs": [
        {
          "output_type": "stream",
          "name": "stdout",
          "text": [
            "+-----------+--------------------+-------------+\n",
            "|MissionDate| ContryFlyingMission|MissionsCount|\n",
            "+-----------+--------------------+-------------+\n",
            "| 1965-10-01|UNITED STATES OF ...|          447|\n",
            "| 1965-10-02|UNITED STATES OF ...|          652|\n",
            "| 1965-10-03|UNITED STATES OF ...|          608|\n",
            "| 1965-10-04|UNITED STATES OF ...|          532|\n",
            "| 1965-10-05|UNITED STATES OF ...|          697|\n",
            "| 1965-10-05|     VIETNAM (SOUTH)|           72|\n",
            "| 1965-10-06|     VIETNAM (SOUTH)|           49|\n",
            "| 1965-10-06|UNITED STATES OF ...|          689|\n",
            "| 1965-10-07|UNITED STATES OF ...|          605|\n",
            "| 1965-10-07|     VIETNAM (SOUTH)|           50|\n",
            "| 1965-10-08|UNITED STATES OF ...|          700|\n",
            "| 1965-10-08|     VIETNAM (SOUTH)|           64|\n",
            "| 1965-10-09|     VIETNAM (SOUTH)|           69|\n",
            "| 1965-10-09|UNITED STATES OF ...|          677|\n",
            "| 1965-10-10|     VIETNAM (SOUTH)|           59|\n",
            "| 1965-10-10|UNITED STATES OF ...|          789|\n",
            "| 1965-10-11|     VIETNAM (SOUTH)|           48|\n",
            "| 1965-10-11|UNITED STATES OF ...|          455|\n",
            "| 1965-10-12|UNITED STATES OF ...|          449|\n",
            "| 1965-10-12|     VIETNAM (SOUTH)|           62|\n",
            "+-----------+--------------------+-------------+\n",
            "only showing top 20 rows\n",
            "\n"
          ]
        }
      ],
      "source": [
        "missions_by_date = missions_countries\\\n",
        "                    .groupBy([\"MissionDate\", \"ContryFlyingMission\"])\\\n",
        "                    .agg(count(\"*\").alias(\"MissionsCount\"))\\\n",
        "                    .sort(asc(\"MissionDate\"))\n",
        "missions_by_date.show()"
      ]
    },
    {
      "cell_type": "markdown",
      "metadata": {
        "id": "IAhOE55wSagj"
      },
      "source": [
        "Now we can plot the content with a different series for each country:"
      ]
    },
    {
      "cell_type": "code",
      "source": [
        "# Pandas로 변환\n",
        "counts_pd = counts.toPandas()"
      ],
      "metadata": {
        "id": "lur1WTTy2326"
      },
      "execution_count": null,
      "outputs": []
    },
    {
      "cell_type": "code",
      "source": [
        "counts_pd.head(10)"
      ],
      "metadata": {
        "colab": {
          "base_uri": "https://localhost:8080/",
          "height": 363
        },
        "id": "9qoAgwEf3D1N",
        "outputId": "9e0fae88-29fe-4e35-cde8-fbaa79456050"
      },
      "execution_count": null,
      "outputs": [
        {
          "output_type": "execute_result",
          "data": {
            "text/plain": [
              "  MissionDate       ContryFlyingMission  count\n",
              "0  1965-10-01  UNITED STATES OF AMERICA    447\n",
              "1  1965-10-02  UNITED STATES OF AMERICA    652\n",
              "2  1965-10-03  UNITED STATES OF AMERICA    608\n",
              "3  1965-10-04  UNITED STATES OF AMERICA    532\n",
              "4  1965-10-05  UNITED STATES OF AMERICA    697\n",
              "5  1965-10-05           VIETNAM (SOUTH)     72\n",
              "6  1965-10-06  UNITED STATES OF AMERICA    689\n",
              "7  1965-10-06           VIETNAM (SOUTH)     49\n",
              "8  1965-10-07           VIETNAM (SOUTH)     50\n",
              "9  1965-10-07  UNITED STATES OF AMERICA    605"
            ],
            "text/html": [
              "\n",
              "  <div id=\"df-46bd2ad3-8670-4aaf-a0aa-987583905379\" class=\"colab-df-container\">\n",
              "    <div>\n",
              "<style scoped>\n",
              "    .dataframe tbody tr th:only-of-type {\n",
              "        vertical-align: middle;\n",
              "    }\n",
              "\n",
              "    .dataframe tbody tr th {\n",
              "        vertical-align: top;\n",
              "    }\n",
              "\n",
              "    .dataframe thead th {\n",
              "        text-align: right;\n",
              "    }\n",
              "</style>\n",
              "<table border=\"1\" class=\"dataframe\">\n",
              "  <thead>\n",
              "    <tr style=\"text-align: right;\">\n",
              "      <th></th>\n",
              "      <th>MissionDate</th>\n",
              "      <th>ContryFlyingMission</th>\n",
              "      <th>count</th>\n",
              "    </tr>\n",
              "  </thead>\n",
              "  <tbody>\n",
              "    <tr>\n",
              "      <th>0</th>\n",
              "      <td>1965-10-01</td>\n",
              "      <td>UNITED STATES OF AMERICA</td>\n",
              "      <td>447</td>\n",
              "    </tr>\n",
              "    <tr>\n",
              "      <th>1</th>\n",
              "      <td>1965-10-02</td>\n",
              "      <td>UNITED STATES OF AMERICA</td>\n",
              "      <td>652</td>\n",
              "    </tr>\n",
              "    <tr>\n",
              "      <th>2</th>\n",
              "      <td>1965-10-03</td>\n",
              "      <td>UNITED STATES OF AMERICA</td>\n",
              "      <td>608</td>\n",
              "    </tr>\n",
              "    <tr>\n",
              "      <th>3</th>\n",
              "      <td>1965-10-04</td>\n",
              "      <td>UNITED STATES OF AMERICA</td>\n",
              "      <td>532</td>\n",
              "    </tr>\n",
              "    <tr>\n",
              "      <th>4</th>\n",
              "      <td>1965-10-05</td>\n",
              "      <td>UNITED STATES OF AMERICA</td>\n",
              "      <td>697</td>\n",
              "    </tr>\n",
              "    <tr>\n",
              "      <th>5</th>\n",
              "      <td>1965-10-05</td>\n",
              "      <td>VIETNAM (SOUTH)</td>\n",
              "      <td>72</td>\n",
              "    </tr>\n",
              "    <tr>\n",
              "      <th>6</th>\n",
              "      <td>1965-10-06</td>\n",
              "      <td>UNITED STATES OF AMERICA</td>\n",
              "      <td>689</td>\n",
              "    </tr>\n",
              "    <tr>\n",
              "      <th>7</th>\n",
              "      <td>1965-10-06</td>\n",
              "      <td>VIETNAM (SOUTH)</td>\n",
              "      <td>49</td>\n",
              "    </tr>\n",
              "    <tr>\n",
              "      <th>8</th>\n",
              "      <td>1965-10-07</td>\n",
              "      <td>VIETNAM (SOUTH)</td>\n",
              "      <td>50</td>\n",
              "    </tr>\n",
              "    <tr>\n",
              "      <th>9</th>\n",
              "      <td>1965-10-07</td>\n",
              "      <td>UNITED STATES OF AMERICA</td>\n",
              "      <td>605</td>\n",
              "    </tr>\n",
              "  </tbody>\n",
              "</table>\n",
              "</div>\n",
              "    <div class=\"colab-df-buttons\">\n",
              "\n",
              "  <div class=\"colab-df-container\">\n",
              "    <button class=\"colab-df-convert\" onclick=\"convertToInteractive('df-46bd2ad3-8670-4aaf-a0aa-987583905379')\"\n",
              "            title=\"Convert this dataframe to an interactive table.\"\n",
              "            style=\"display:none;\">\n",
              "\n",
              "  <svg xmlns=\"http://www.w3.org/2000/svg\" height=\"24px\" viewBox=\"0 -960 960 960\">\n",
              "    <path d=\"M120-120v-720h720v720H120Zm60-500h600v-160H180v160Zm220 220h160v-160H400v160Zm0 220h160v-160H400v160ZM180-400h160v-160H180v160Zm440 0h160v-160H620v160ZM180-180h160v-160H180v160Zm440 0h160v-160H620v160Z\"/>\n",
              "  </svg>\n",
              "    </button>\n",
              "\n",
              "  <style>\n",
              "    .colab-df-container {\n",
              "      display:flex;\n",
              "      gap: 12px;\n",
              "    }\n",
              "\n",
              "    .colab-df-convert {\n",
              "      background-color: #E8F0FE;\n",
              "      border: none;\n",
              "      border-radius: 50%;\n",
              "      cursor: pointer;\n",
              "      display: none;\n",
              "      fill: #1967D2;\n",
              "      height: 32px;\n",
              "      padding: 0 0 0 0;\n",
              "      width: 32px;\n",
              "    }\n",
              "\n",
              "    .colab-df-convert:hover {\n",
              "      background-color: #E2EBFA;\n",
              "      box-shadow: 0px 1px 2px rgba(60, 64, 67, 0.3), 0px 1px 3px 1px rgba(60, 64, 67, 0.15);\n",
              "      fill: #174EA6;\n",
              "    }\n",
              "\n",
              "    .colab-df-buttons div {\n",
              "      margin-bottom: 4px;\n",
              "    }\n",
              "\n",
              "    [theme=dark] .colab-df-convert {\n",
              "      background-color: #3B4455;\n",
              "      fill: #D2E3FC;\n",
              "    }\n",
              "\n",
              "    [theme=dark] .colab-df-convert:hover {\n",
              "      background-color: #434B5C;\n",
              "      box-shadow: 0px 1px 3px 1px rgba(0, 0, 0, 0.15);\n",
              "      filter: drop-shadow(0px 1px 2px rgba(0, 0, 0, 0.3));\n",
              "      fill: #FFFFFF;\n",
              "    }\n",
              "  </style>\n",
              "\n",
              "    <script>\n",
              "      const buttonEl =\n",
              "        document.querySelector('#df-46bd2ad3-8670-4aaf-a0aa-987583905379 button.colab-df-convert');\n",
              "      buttonEl.style.display =\n",
              "        google.colab.kernel.accessAllowed ? 'block' : 'none';\n",
              "\n",
              "      async function convertToInteractive(key) {\n",
              "        const element = document.querySelector('#df-46bd2ad3-8670-4aaf-a0aa-987583905379');\n",
              "        const dataTable =\n",
              "          await google.colab.kernel.invokeFunction('convertToInteractive',\n",
              "                                                    [key], {});\n",
              "        if (!dataTable) return;\n",
              "\n",
              "        const docLinkHtml = 'Like what you see? Visit the ' +\n",
              "          '<a target=\"_blank\" href=https://colab.research.google.com/notebooks/data_table.ipynb>data table notebook</a>'\n",
              "          + ' to learn more about interactive tables.';\n",
              "        element.innerHTML = '';\n",
              "        dataTable['output_type'] = 'display_data';\n",
              "        await google.colab.output.renderOutput(dataTable, element);\n",
              "        const docLink = document.createElement('div');\n",
              "        docLink.innerHTML = docLinkHtml;\n",
              "        element.appendChild(docLink);\n",
              "      }\n",
              "    </script>\n",
              "  </div>\n",
              "\n",
              "\n",
              "<div id=\"df-c7f67540-d44f-43c3-a583-628614c4829f\">\n",
              "  <button class=\"colab-df-quickchart\" onclick=\"quickchart('df-c7f67540-d44f-43c3-a583-628614c4829f')\"\n",
              "            title=\"Suggest charts\"\n",
              "            style=\"display:none;\">\n",
              "\n",
              "<svg xmlns=\"http://www.w3.org/2000/svg\" height=\"24px\"viewBox=\"0 0 24 24\"\n",
              "     width=\"24px\">\n",
              "    <g>\n",
              "        <path d=\"M19 3H5c-1.1 0-2 .9-2 2v14c0 1.1.9 2 2 2h14c1.1 0 2-.9 2-2V5c0-1.1-.9-2-2-2zM9 17H7v-7h2v7zm4 0h-2V7h2v10zm4 0h-2v-4h2v4z\"/>\n",
              "    </g>\n",
              "</svg>\n",
              "  </button>\n",
              "\n",
              "<style>\n",
              "  .colab-df-quickchart {\n",
              "      --bg-color: #E8F0FE;\n",
              "      --fill-color: #1967D2;\n",
              "      --hover-bg-color: #E2EBFA;\n",
              "      --hover-fill-color: #174EA6;\n",
              "      --disabled-fill-color: #AAA;\n",
              "      --disabled-bg-color: #DDD;\n",
              "  }\n",
              "\n",
              "  [theme=dark] .colab-df-quickchart {\n",
              "      --bg-color: #3B4455;\n",
              "      --fill-color: #D2E3FC;\n",
              "      --hover-bg-color: #434B5C;\n",
              "      --hover-fill-color: #FFFFFF;\n",
              "      --disabled-bg-color: #3B4455;\n",
              "      --disabled-fill-color: #666;\n",
              "  }\n",
              "\n",
              "  .colab-df-quickchart {\n",
              "    background-color: var(--bg-color);\n",
              "    border: none;\n",
              "    border-radius: 50%;\n",
              "    cursor: pointer;\n",
              "    display: none;\n",
              "    fill: var(--fill-color);\n",
              "    height: 32px;\n",
              "    padding: 0;\n",
              "    width: 32px;\n",
              "  }\n",
              "\n",
              "  .colab-df-quickchart:hover {\n",
              "    background-color: var(--hover-bg-color);\n",
              "    box-shadow: 0 1px 2px rgba(60, 64, 67, 0.3), 0 1px 3px 1px rgba(60, 64, 67, 0.15);\n",
              "    fill: var(--button-hover-fill-color);\n",
              "  }\n",
              "\n",
              "  .colab-df-quickchart-complete:disabled,\n",
              "  .colab-df-quickchart-complete:disabled:hover {\n",
              "    background-color: var(--disabled-bg-color);\n",
              "    fill: var(--disabled-fill-color);\n",
              "    box-shadow: none;\n",
              "  }\n",
              "\n",
              "  .colab-df-spinner {\n",
              "    border: 2px solid var(--fill-color);\n",
              "    border-color: transparent;\n",
              "    border-bottom-color: var(--fill-color);\n",
              "    animation:\n",
              "      spin 1s steps(1) infinite;\n",
              "  }\n",
              "\n",
              "  @keyframes spin {\n",
              "    0% {\n",
              "      border-color: transparent;\n",
              "      border-bottom-color: var(--fill-color);\n",
              "      border-left-color: var(--fill-color);\n",
              "    }\n",
              "    20% {\n",
              "      border-color: transparent;\n",
              "      border-left-color: var(--fill-color);\n",
              "      border-top-color: var(--fill-color);\n",
              "    }\n",
              "    30% {\n",
              "      border-color: transparent;\n",
              "      border-left-color: var(--fill-color);\n",
              "      border-top-color: var(--fill-color);\n",
              "      border-right-color: var(--fill-color);\n",
              "    }\n",
              "    40% {\n",
              "      border-color: transparent;\n",
              "      border-right-color: var(--fill-color);\n",
              "      border-top-color: var(--fill-color);\n",
              "    }\n",
              "    60% {\n",
              "      border-color: transparent;\n",
              "      border-right-color: var(--fill-color);\n",
              "    }\n",
              "    80% {\n",
              "      border-color: transparent;\n",
              "      border-right-color: var(--fill-color);\n",
              "      border-bottom-color: var(--fill-color);\n",
              "    }\n",
              "    90% {\n",
              "      border-color: transparent;\n",
              "      border-bottom-color: var(--fill-color);\n",
              "    }\n",
              "  }\n",
              "</style>\n",
              "\n",
              "  <script>\n",
              "    async function quickchart(key) {\n",
              "      const quickchartButtonEl =\n",
              "        document.querySelector('#' + key + ' button');\n",
              "      quickchartButtonEl.disabled = true;  // To prevent multiple clicks.\n",
              "      quickchartButtonEl.classList.add('colab-df-spinner');\n",
              "      try {\n",
              "        const charts = await google.colab.kernel.invokeFunction(\n",
              "            'suggestCharts', [key], {});\n",
              "      } catch (error) {\n",
              "        console.error('Error during call to suggestCharts:', error);\n",
              "      }\n",
              "      quickchartButtonEl.classList.remove('colab-df-spinner');\n",
              "      quickchartButtonEl.classList.add('colab-df-quickchart-complete');\n",
              "    }\n",
              "    (() => {\n",
              "      let quickchartButtonEl =\n",
              "        document.querySelector('#df-c7f67540-d44f-43c3-a583-628614c4829f button');\n",
              "      quickchartButtonEl.style.display =\n",
              "        google.colab.kernel.accessAllowed ? 'block' : 'none';\n",
              "    })();\n",
              "  </script>\n",
              "</div>\n",
              "\n",
              "    </div>\n",
              "  </div>\n"
            ],
            "application/vnd.google.colaboratory.intrinsic+json": {
              "type": "dataframe",
              "variable_name": "counts_pd",
              "summary": "{\n  \"name\": \"counts_pd\",\n  \"rows\": 9703,\n  \"fields\": [\n    {\n      \"column\": \"MissionDate\",\n      \"properties\": {\n        \"dtype\": \"date\",\n        \"min\": \"1965-10-01\",\n        \"max\": \"1975-06-30\",\n        \"num_unique_values\": 3560,\n        \"samples\": [\n          \"1975-06-15\",\n          \"1966-04-03\",\n          \"1975-03-02\"\n        ],\n        \"semantic_type\": \"\",\n        \"description\": \"\"\n      }\n    },\n    {\n      \"column\": \"ContryFlyingMission\",\n      \"properties\": {\n        \"dtype\": \"category\",\n        \"num_unique_values\": 5,\n        \"samples\": [\n          \"VIETNAM (SOUTH)\",\n          \"KOREA (SOUTH)\",\n          \"AUSTRALIA\"\n        ],\n        \"semantic_type\": \"\",\n        \"description\": \"\"\n      }\n    },\n    {\n      \"column\": \"count\",\n      \"properties\": {\n        \"dtype\": \"number\",\n        \"std\": 639,\n        \"min\": 1,\n        \"max\": 3832,\n        \"num_unique_values\": 1881,\n        \"samples\": [\n          1376,\n          2848,\n          1986\n        ],\n        \"semantic_type\": \"\",\n        \"description\": \"\"\n      }\n    }\n  ]\n}"
            }
          },
          "metadata": {},
          "execution_count": 44
        }
      ]
    },
    {
      "cell_type": "code",
      "execution_count": null,
      "metadata": {
        "id": "wLq6ulAySagl",
        "colab": {
          "base_uri": "https://localhost:8080/",
          "height": 505
        },
        "outputId": "ed201724-e136-4f47-ce38-e620af24689f"
      },
      "outputs": [
        {
          "output_type": "execute_result",
          "data": {
            "text/plain": [
              "<matplotlib.legend.Legend at 0x7b2365ee1ab0>"
            ]
          },
          "metadata": {},
          "execution_count": 46
        },
        {
          "output_type": "display_data",
          "data": {
            "text/plain": [
              "<Figure size 1000x600 with 1 Axes>"
            ],
            "image/png": "[encoded data removed]"
          },
          "metadata": {}
        }
      ],
      "source": [
        "fig = plt.figure(figsize=(10, 6))\n",
        "\n",
        "# iterate the different groups to create a different series\n",
        "for country, missions in counts_pd.groupby(\"ContryFlyingMission\"):\n",
        "    plt.plot(missions[\"MissionDate\"], missions[\"count\"], label=country)\n",
        "\n",
        "plt.legend(loc='best')"
      ]
    },
    {
      "cell_type": "markdown",
      "metadata": {
        "id": "GEMzTwxGSagp"
      },
      "source": [
        "We can observe how South Vietnam increased its missions starting from 1970. The drop in 1973 is motivated by the [Paris Peace Accords](https://en.wikipedia.org/wiki/Paris_Peace_Accords) that took place on January 27th, 1973, to establish peace in Vietnam and end the war."
      ]
    },
    {
      "cell_type": "markdown",
      "metadata": {
        "id": "dl6m0B6iSagp"
      },
      "source": [
        "----"
      ]
    },
    {
      "cell_type": "markdown",
      "metadata": {
        "id": "uEwBspLySagp"
      },
      "source": [
        "## Question 3: Who bombed this location?\n",
        "## 폭격을 주도한 비행기들이 어느 위치에서 이륙했는가?\n",
        "Keywords: `RDD map reduce` `cache` `save results`\n",
        "\n",
        "<img style=\"float: right;\" src=\"https://raw.githubusercontent.com/epfl-ada/2019/c17af0d3c73f11cb083717b7408fedd86245dc4d/Tutorials/04%20-%20Scaling%20Up/img/Hanoi_POL1966.jpg\">\n",
        "\n",
        "This picture is the Hanoi POL facility (North Vietnam) burning after it was attacked by the U.S. Air Force on 29 June 1966 in the context of the Rolling Thunder operation.\n",
        "\n",
        "We are interested in discovering what was the most common take-off location during that day."
      ]
    },
    {
      "cell_type": "code",
      "source": [
        "Bombing_Operations.show()"
      ],
      "metadata": {
        "colab": {
          "base_uri": "https://localhost:8080/"
        },
        "id": "LQXcZ87w48xi",
        "outputId": "37f03306-e84a-4134-9a8a-b7c2e12cffa6"
      },
      "execution_count": null,
      "outputs": [
        {
          "output_type": "stream",
          "name": "stdout",
          "text": [
            "+--------+--------------------+-----------+------------------+-----------+---------------+-------------+------------+--------------------+-------------------+\n",
            "|AirCraft| ContryFlyingMission|MissionDate|OperationSupported|PeriodOfDay|TakeoffLocation|TargetCountry|TimeOnTarget|          WeaponType|WeaponsLoadedWeight|\n",
            "+--------+--------------------+-----------+------------------+-----------+---------------+-------------+------------+--------------------+-------------------+\n",
            "|   EC-47|UNITED STATES OF ...| 1971-06-05|              NULL|          D|   TAN SON NHUT|     CAMBODIA|      1005.0|                NULL|                  0|\n",
            "|   EC-47|UNITED STATES OF ...| 1972-12-26|              NULL|          D|  NAKHON PHANOM|SOUTH VIETNAM|       530.0|                NULL|                  0|\n",
            "|    RF-4|UNITED STATES OF ...| 1973-07-28|              NULL|          D|       UDORN AB|         LAOS|       730.0|                NULL|                  0|\n",
            "|     A-1|UNITED STATES OF ...| 1970-02-02|              NULL|          N|  NAKHON PHANOM|         LAOS|      1415.0|BLU27 FIRE BOMB (...|              17400|\n",
            "|    A-37|     VIETNAM (SOUTH)| 1970-10-08|              NULL|          D|         DANANG|SOUTH VIETNAM|      1240.0|                NULL|                  0|\n",
            "|     F-4|UNITED STATES OF ...| 1970-11-25|              NULL|          D|        UBON AB|         LAOS|       650.0|MK 82 GP BOMB (50...|              31860|\n",
            "|     A-4|UNITED STATES OF ...| 1972-03-08|              NULL|          D|    TONKIN GULF|         LAOS|      1005.0|                NULL|                  0|\n",
            "|     F-4|UNITED STATES OF ...| 1971-12-27|              NULL|       NULL|       UDORN AB|         LAOS|         0.0|                NULL|                  0|\n",
            "|     A-7|UNITED STATES OF ...| 1972-05-24|              NULL|       NULL|    TONKIN GULF|NORTH VIETNAM|         0.0|                NULL|                  0|\n",
            "|   EC-47|UNITED STATES OF ...| 1972-09-12|              NULL|          D|   TAN SON NHUT|SOUTH VIETNAM|       710.0|                NULL|                  0|\n",
            "|   CH-53|UNITED STATES OF ...| 1974-06-13|              NULL|          N|  NAKHON PHANOM|     THAILAND|      1800.0|                NULL|                  0|\n",
            "|   CH-53|UNITED STATES OF ...| 1974-12-19|              NULL|          D|  NAKHON PHANOM|     THAILAND|       800.0|                NULL|                  0|\n",
            "|     O-1|     VIETNAM (SOUTH)| 1973-10-24|              NULL|          D|      NHA TRANG|SOUTH VIETNAM|       800.0|                NULL|                  0|\n",
            "|    UH-1|     VIETNAM (SOUTH)| 1974-03-19|              NULL|          D|        PHU CAT|SOUTH VIETNAM|       800.0|        CARGO (TONS)|                  0|\n",
            "|     C-7|UNITED STATES OF ...| 1970-05-08|              NULL|          D|   TAN SON NHUT|SOUTH VIETNAM|       800.0|                NULL|                  0|\n",
            "|     A-6|UNITED STATES OF ...| 1971-05-12|              NULL|          N|    TONKIN GULF|         LAOS|      1304.0|CBU24 AN PR/MT (B...|              33200|\n",
            "|   EB-66|UNITED STATES OF ...| 1971-12-03|              NULL|          N|          KORAT|         LAOS|      1445.0|                NULL|                  0|\n",
            "|    T-28|                LAOS| 1971-12-19|              NULL|          D|     SAVANAKHET|         LAOS|       230.0|                NULL|                  0|\n",
            "|     A-6|UNITED STATES OF ...| 1972-08-18|              NULL|       NULL|    TONKIN GULF|NORTH VIETNAM|         0.0|                NULL|                  0|\n",
            "|     A-7|UNITED STATES OF ...| 1972-10-15|              NULL|          D|    TONKIN GULF|NORTH VIETNAM|       110.0|                NULL|                  0|\n",
            "+--------+--------------------+-----------+------------------+-----------+---------------+-------------+------------+--------------------+-------------------+\n",
            "only showing top 20 rows\n",
            "\n"
          ]
        }
      ]
    },
    {
      "cell_type": "code",
      "execution_count": null,
      "metadata": {
        "id": "uq6jqsgBSagq",
        "colab": {
          "base_uri": "https://localhost:8080/"
        },
        "outputId": "42f6f511-e42c-45f0-92d8-57ddf4895490"
      },
      "outputs": [
        {
          "output_type": "stream",
          "name": "stdout",
          "text": [
            "+--------+--------------------+-----------+------------------+-----------+---------------+-------------+------------+--------------+-------------------+\n",
            "|AirCraft| ContryFlyingMission|MissionDate|OperationSupported|PeriodOfDay|TakeoffLocation|TargetCountry|TimeOnTarget|    WeaponType|WeaponsLoadedWeight|\n",
            "+--------+--------------------+-----------+------------------+-----------+---------------+-------------+------------+--------------+-------------------+\n",
            "|   F-105|UNITED STATES OF ...| 1966-06-29|       STEEL TIGER|          D|         TAKHLI|NORTH VIETNAM|       310.0|  1000LB MK-83|                 -1|\n",
            "|   C-130|UNITED STATES OF ...| 1966-06-29|      ROLLING THUN|          N|         DANANG|NORTH VIETNAM|      1226.0|          NULL|                 -1|\n",
            "|     F-4|UNITED STATES OF ...| 1966-06-29|      ROLLING THUN|          D|  CONSTELLATION|NORTH VIETNAM|       703.0| 2.75IN HE RKT|                 -1|\n",
            "|   C-130|UNITED STATES OF ...| 1966-06-29|      ROLLING THUN|          N|        UBON AB|NORTH VIETNAM|      1205.0|         MK-24|                 -1|\n",
            "|     A-1|UNITED STATES OF ...| 1966-06-29|      ROLLING THUN|          D|       UDORN AB|NORTH VIETNAM|       148.0|          NULL|                 -1|\n",
            "|     A-4|UNITED STATES OF ...| 1966-06-29|      ROLLING THUN|          E|  CONSTELLATION|NORTH VIETNAM|      1104.0|5.0IN HEAT RKT|                 -1|\n",
            "|   F-105|UNITED STATES OF ...| 1966-06-29|      ROLLING THUN|          E|          KORAT|NORTH VIETNAM|      1043.0|          M-61|                 -1|\n",
            "|     A-4|UNITED STATES OF ...| 1966-06-29|      ROLLING THUN|          D|  CONSTELLATION|NORTH VIETNAM|       945.0|   250LB MK-81|                 -1|\n",
            "|   F-105|UNITED STATES OF ...| 1966-06-29|      ROLLING THUN|          D|          KORAT|NORTH VIETNAM|       855.0|  1000LB MK-83|                 -1|\n",
            "|     F-4|UNITED STATES OF ...| 1966-06-29|      ROLLING THUN|          D|         RANGER|NORTH VIETNAM|         0.0|          NULL|                 -1|\n",
            "|    RA-5|UNITED STATES OF ...| 1966-06-29|              NULL|          D|  CONSTELLATION|NORTH VIETNAM|       655.0|   PHOTO EQUIP|                 -1|\n",
            "|   F-105|UNITED STATES OF ...| 1966-06-29|      ROLLING THUN|          D|         TAKHLI|NORTH VIETNAM|        15.0|          NULL|                 -1|\n",
            "|   RB-66|UNITED STATES OF ...| 1966-06-29|         FOG BOUND|          D|         TAKHLI|NORTH VIETNAM|      1815.0|          NULL|                 -1|\n",
            "|     F-4|UNITED STATES OF ...| 1966-06-29|      ROLLING THUN|          D|  CONSTELLATION|NORTH VIETNAM|       703.0| 2.75IN HE RKT|                 -1|\n",
            "|     F-4|UNITED STATES OF ...| 1966-06-29|      ROLLING THUN|          N|        UBON AB|NORTH VIETNAM|      2015.0|         MK-24|                 -1|\n",
            "|     F-4|UNITED STATES OF ...| 1966-06-29|      ROLLING THUN|          N|        UBON AB|NORTH VIETNAM|      1235.0|  LAU-3A/AERO7|                 -1|\n",
            "|     A-4|UNITED STATES OF ...| 1966-06-29|      ROLLING THUN|          D|  CONSTELLATION|NORTH VIETNAM|       756.0|          NULL|                 -1|\n",
            "|     A-4|UNITED STATES OF ...| 1966-06-29|      ROLLING THUN|          D|  CONSTELLATION|NORTH VIETNAM|         0.0| 2.75IN HE RKT|                 -1|\n",
            "|     E-2|UNITED STATES OF ...| 1966-06-29|      ROLLING THUN|          D|  CONSTELLATION|NORTH VIETNAM|         0.0|          NULL|                 -1|\n",
            "|    B-66|UNITED STATES OF ...| 1966-06-29|      ROLLING THUN|          N|         TAKHLI|NORTH VIETNAM|      1328.0|          NULL|                 -1|\n",
            "+--------+--------------------+-----------+------------------+-----------+---------------+-------------+------------+--------------+-------------------+\n",
            "only showing top 20 rows\n",
            "\n"
          ]
        }
      ],
      "source": [
        "# 북베트남을 타겟으로 한 1966년 6월 29일 임무들만 선택\n",
        "jun_29_operations = Bombing_Operations.where(\"MissionDate = '1966-06-29' AND TargetCountry='NORTH VIETNAM'\")\n",
        "jun_29_operations.show()"
      ]
    },
    {
      "cell_type": "markdown",
      "metadata": {
        "id": "Qurjwd0zSagr"
      },
      "source": [
        "Which coutries scheduled missions that day?"
      ]
    },
    {
      "cell_type": "code",
      "source": [
        "# 나라별로 묶기\n",
        "grouped = jun_29_operations.groupBy(\"ContryFlyingMission\")"
      ],
      "metadata": {
        "id": "a2832_0I64P_"
      },
      "execution_count": null,
      "outputs": []
    },
    {
      "cell_type": "code",
      "source": [
        "# 숫자 세기\n",
        "counts = grouped.count()\n",
        "counts.show()"
      ],
      "metadata": {
        "colab": {
          "base_uri": "https://localhost:8080/"
        },
        "id": "Tlool4kt69ty",
        "outputId": "cc39d5f2-0443-4257-88c7-3671b7dad641"
      },
      "execution_count": null,
      "outputs": [
        {
          "output_type": "stream",
          "name": "stdout",
          "text": [
            "+--------------------+-----+\n",
            "| ContryFlyingMission|count|\n",
            "+--------------------+-----+\n",
            "|     VIETNAM (SOUTH)|    6|\n",
            "|UNITED STATES OF ...|  389|\n",
            "+--------------------+-----+\n",
            "\n"
          ]
        }
      ]
    },
    {
      "cell_type": "code",
      "source": [
        "jun_29_operations.groupBy(\"ContryFlyingMission\").count().toPandas()"
      ],
      "metadata": {
        "colab": {
          "base_uri": "https://localhost:8080/",
          "height": 112
        },
        "id": "63WlLz7l7caW",
        "outputId": "5b3432b4-1deb-4f99-90cb-ee810a6f91eb"
      },
      "execution_count": null,
      "outputs": [
        {
          "output_type": "execute_result",
          "data": {
            "text/plain": [
              "        ContryFlyingMission  count\n",
              "0           VIETNAM (SOUTH)      6\n",
              "1  UNITED STATES OF AMERICA    389"
            ],
            "text/html": [
              "\n",
              "  <div id=\"df-3bcfb99f-e68c-4c81-9e8e-03fe2d855282\" class=\"colab-df-container\">\n",
              "    <div>\n",
              "<style scoped>\n",
              "    .dataframe tbody tr th:only-of-type {\n",
              "        vertical-align: middle;\n",
              "    }\n",
              "\n",
              "    .dataframe tbody tr th {\n",
              "        vertical-align: top;\n",
              "    }\n",
              "\n",
              "    .dataframe thead th {\n",
              "        text-align: right;\n",
              "    }\n",
              "</style>\n",
              "<table border=\"1\" class=\"dataframe\">\n",
              "  <thead>\n",
              "    <tr style=\"text-align: right;\">\n",
              "      <th></th>\n",
              "      <th>ContryFlyingMission</th>\n",
              "      <th>count</th>\n",
              "    </tr>\n",
              "  </thead>\n",
              "  <tbody>\n",
              "    <tr>\n",
              "      <th>0</th>\n",
              "      <td>VIETNAM (SOUTH)</td>\n",
              "      <td>6</td>\n",
              "    </tr>\n",
              "    <tr>\n",
              "      <th>1</th>\n",
              "      <td>UNITED STATES OF AMERICA</td>\n",
              "      <td>389</td>\n",
              "    </tr>\n",
              "  </tbody>\n",
              "</table>\n",
              "</div>\n",
              "    <div class=\"colab-df-buttons\">\n",
              "\n",
              "  <div class=\"colab-df-container\">\n",
              "    <button class=\"colab-df-convert\" onclick=\"convertToInteractive('df-3bcfb99f-e68c-4c81-9e8e-03fe2d855282')\"\n",
              "            title=\"Convert this dataframe to an interactive table.\"\n",
              "            style=\"display:none;\">\n",
              "\n",
              "  <svg xmlns=\"http://www.w3.org/2000/svg\" height=\"24px\" viewBox=\"0 -960 960 960\">\n",
              "    <path d=\"M120-120v-720h720v720H120Zm60-500h600v-160H180v160Zm220 220h160v-160H400v160Zm0 220h160v-160H400v160ZM180-400h160v-160H180v160Zm440 0h160v-160H620v160ZM180-180h160v-160H180v160Zm440 0h160v-160H620v160Z\"/>\n",
              "  </svg>\n",
              "    </button>\n",
              "\n",
              "  <style>\n",
              "    .colab-df-container {\n",
              "      display:flex;\n",
              "      gap: 12px;\n",
              "    }\n",
              "\n",
              "    .colab-df-convert {\n",
              "      background-color: #E8F0FE;\n",
              "      border: none;\n",
              "      border-radius: 50%;\n",
              "      cursor: pointer;\n",
              "      display: none;\n",
              "      fill: #1967D2;\n",
              "      height: 32px;\n",
              "      padding: 0 0 0 0;\n",
              "      width: 32px;\n",
              "    }\n",
              "\n",
              "    .colab-df-convert:hover {\n",
              "      background-color: #E2EBFA;\n",
              "      box-shadow: 0px 1px 2px rgba(60, 64, 67, 0.3), 0px 1px 3px 1px rgba(60, 64, 67, 0.15);\n",
              "      fill: #174EA6;\n",
              "    }\n",
              "\n",
              "    .colab-df-buttons div {\n",
              "      margin-bottom: 4px;\n",
              "    }\n",
              "\n",
              "    [theme=dark] .colab-df-convert {\n",
              "      background-color: #3B4455;\n",
              "      fill: #D2E3FC;\n",
              "    }\n",
              "\n",
              "    [theme=dark] .colab-df-convert:hover {\n",
              "      background-color: #434B5C;\n",
              "      box-shadow: 0px 1px 3px 1px rgba(0, 0, 0, 0.15);\n",
              "      filter: drop-shadow(0px 1px 2px rgba(0, 0, 0, 0.3));\n",
              "      fill: #FFFFFF;\n",
              "    }\n",
              "  </style>\n",
              "\n",
              "    <script>\n",
              "      const buttonEl =\n",
              "        document.querySelector('#df-3bcfb99f-e68c-4c81-9e8e-03fe2d855282 button.colab-df-convert');\n",
              "      buttonEl.style.display =\n",
              "        google.colab.kernel.accessAllowed ? 'block' : 'none';\n",
              "\n",
              "      async function convertToInteractive(key) {\n",
              "        const element = document.querySelector('#df-3bcfb99f-e68c-4c81-9e8e-03fe2d855282');\n",
              "        const dataTable =\n",
              "          await google.colab.kernel.invokeFunction('convertToInteractive',\n",
              "                                                    [key], {});\n",
              "        if (!dataTable) return;\n",
              "\n",
              "        const docLinkHtml = 'Like what you see? Visit the ' +\n",
              "          '<a target=\"_blank\" href=https://colab.research.google.com/notebooks/data_table.ipynb>data table notebook</a>'\n",
              "          + ' to learn more about interactive tables.';\n",
              "        element.innerHTML = '';\n",
              "        dataTable['output_type'] = 'display_data';\n",
              "        await google.colab.output.renderOutput(dataTable, element);\n",
              "        const docLink = document.createElement('div');\n",
              "        docLink.innerHTML = docLinkHtml;\n",
              "        element.appendChild(docLink);\n",
              "      }\n",
              "    </script>\n",
              "  </div>\n",
              "\n",
              "\n",
              "<div id=\"df-93a1a39a-a7c1-4379-a699-bc6fe38ee7c1\">\n",
              "  <button class=\"colab-df-quickchart\" onclick=\"quickchart('df-93a1a39a-a7c1-4379-a699-bc6fe38ee7c1')\"\n",
              "            title=\"Suggest charts\"\n",
              "            style=\"display:none;\">\n",
              "\n",
              "<svg xmlns=\"http://www.w3.org/2000/svg\" height=\"24px\"viewBox=\"0 0 24 24\"\n",
              "     width=\"24px\">\n",
              "    <g>\n",
              "        <path d=\"M19 3H5c-1.1 0-2 .9-2 2v14c0 1.1.9 2 2 2h14c1.1 0 2-.9 2-2V5c0-1.1-.9-2-2-2zM9 17H7v-7h2v7zm4 0h-2V7h2v10zm4 0h-2v-4h2v4z\"/>\n",
              "    </g>\n",
              "</svg>\n",
              "  </button>\n",
              "\n",
              "<style>\n",
              "  .colab-df-quickchart {\n",
              "      --bg-color: #E8F0FE;\n",
              "      --fill-color: #1967D2;\n",
              "      --hover-bg-color: #E2EBFA;\n",
              "      --hover-fill-color: #174EA6;\n",
              "      --disabled-fill-color: #AAA;\n",
              "      --disabled-bg-color: #DDD;\n",
              "  }\n",
              "\n",
              "  [theme=dark] .colab-df-quickchart {\n",
              "      --bg-color: #3B4455;\n",
              "      --fill-color: #D2E3FC;\n",
              "      --hover-bg-color: #434B5C;\n",
              "      --hover-fill-color: #FFFFFF;\n",
              "      --disabled-bg-color: #3B4455;\n",
              "      --disabled-fill-color: #666;\n",
              "  }\n",
              "\n",
              "  .colab-df-quickchart {\n",
              "    background-color: var(--bg-color);\n",
              "    border: none;\n",
              "    border-radius: 50%;\n",
              "    cursor: pointer;\n",
              "    display: none;\n",
              "    fill: var(--fill-color);\n",
              "    height: 32px;\n",
              "    padding: 0;\n",
              "    width: 32px;\n",
              "  }\n",
              "\n",
              "  .colab-df-quickchart:hover {\n",
              "    background-color: var(--hover-bg-color);\n",
              "    box-shadow: 0 1px 2px rgba(60, 64, 67, 0.3), 0 1px 3px 1px rgba(60, 64, 67, 0.15);\n",
              "    fill: var(--button-hover-fill-color);\n",
              "  }\n",
              "\n",
              "  .colab-df-quickchart-complete:disabled,\n",
              "  .colab-df-quickchart-complete:disabled:hover {\n",
              "    background-color: var(--disabled-bg-color);\n",
              "    fill: var(--disabled-fill-color);\n",
              "    box-shadow: none;\n",
              "  }\n",
              "\n",
              "  .colab-df-spinner {\n",
              "    border: 2px solid var(--fill-color);\n",
              "    border-color: transparent;\n",
              "    border-bottom-color: var(--fill-color);\n",
              "    animation:\n",
              "      spin 1s steps(1) infinite;\n",
              "  }\n",
              "\n",
              "  @keyframes spin {\n",
              "    0% {\n",
              "      border-color: transparent;\n",
              "      border-bottom-color: var(--fill-color);\n",
              "      border-left-color: var(--fill-color);\n",
              "    }\n",
              "    20% {\n",
              "      border-color: transparent;\n",
              "      border-left-color: var(--fill-color);\n",
              "      border-top-color: var(--fill-color);\n",
              "    }\n",
              "    30% {\n",
              "      border-color: transparent;\n",
              "      border-left-color: var(--fill-color);\n",
              "      border-top-color: var(--fill-color);\n",
              "      border-right-color: var(--fill-color);\n",
              "    }\n",
              "    40% {\n",
              "      border-color: transparent;\n",
              "      border-right-color: var(--fill-color);\n",
              "      border-top-color: var(--fill-color);\n",
              "    }\n",
              "    60% {\n",
              "      border-color: transparent;\n",
              "      border-right-color: var(--fill-color);\n",
              "    }\n",
              "    80% {\n",
              "      border-color: transparent;\n",
              "      border-right-color: var(--fill-color);\n",
              "      border-bottom-color: var(--fill-color);\n",
              "    }\n",
              "    90% {\n",
              "      border-color: transparent;\n",
              "      border-bottom-color: var(--fill-color);\n",
              "    }\n",
              "  }\n",
              "</style>\n",
              "\n",
              "  <script>\n",
              "    async function quickchart(key) {\n",
              "      const quickchartButtonEl =\n",
              "        document.querySelector('#' + key + ' button');\n",
              "      quickchartButtonEl.disabled = true;  // To prevent multiple clicks.\n",
              "      quickchartButtonEl.classList.add('colab-df-spinner');\n",
              "      try {\n",
              "        const charts = await google.colab.kernel.invokeFunction(\n",
              "            'suggestCharts', [key], {});\n",
              "      } catch (error) {\n",
              "        console.error('Error during call to suggestCharts:', error);\n",
              "      }\n",
              "      quickchartButtonEl.classList.remove('colab-df-spinner');\n",
              "      quickchartButtonEl.classList.add('colab-df-quickchart-complete');\n",
              "    }\n",
              "    (() => {\n",
              "      let quickchartButtonEl =\n",
              "        document.querySelector('#df-93a1a39a-a7c1-4379-a699-bc6fe38ee7c1 button');\n",
              "      quickchartButtonEl.style.display =\n",
              "        google.colab.kernel.accessAllowed ? 'block' : 'none';\n",
              "    })();\n",
              "  </script>\n",
              "</div>\n",
              "\n",
              "    </div>\n",
              "  </div>\n"
            ],
            "application/vnd.google.colaboratory.intrinsic+json": {
              "type": "dataframe",
              "summary": "{\n  \"name\": \"jun_29_operations\",\n  \"rows\": 2,\n  \"fields\": [\n    {\n      \"column\": \"ContryFlyingMission\",\n      \"properties\": {\n        \"dtype\": \"string\",\n        \"num_unique_values\": 2,\n        \"samples\": [\n          \"UNITED STATES OF AMERICA\",\n          \"VIETNAM (SOUTH)\"\n        ],\n        \"semantic_type\": \"\",\n        \"description\": \"\"\n      }\n    },\n    {\n      \"column\": \"count\",\n      \"properties\": {\n        \"dtype\": \"number\",\n        \"std\": 270,\n        \"min\": 6,\n        \"max\": 389,\n        \"num_unique_values\": 2,\n        \"samples\": [\n          389,\n          6\n        ],\n        \"semantic_type\": \"\",\n        \"description\": \"\"\n      }\n    }\n  ]\n}"
            }
          },
          "metadata": {},
          "execution_count": 53
        }
      ]
    },
    {
      "cell_type": "code",
      "execution_count": null,
      "metadata": {
        "id": "uoiVSE7NSags"
      },
      "outputs": [],
      "source": [
        "jun_29_operations.groupBy(\"ContryFlyingMission\").agg(count(\"*\").alias(\"MissionsCount\")).toPandas()"
      ]
    },
    {
      "cell_type": "markdown",
      "metadata": {
        "id": "-0Q2bS4KSagt"
      },
      "source": [
        "Most of the operation that day were performed by USA airplanes."
      ]
    },
    {
      "cell_type": "code",
      "source": [
        "# 출발 장소로 묶기\n",
        "grouped = jun_29_operations.groupBy(\"TakeoffLocation\")"
      ],
      "metadata": {
        "id": "-5QO891V8IVf"
      },
      "execution_count": null,
      "outputs": []
    },
    {
      "cell_type": "code",
      "source": [
        "# 숫자 세기\n",
        "counts = grouped.count()\n",
        "counts.show()"
      ],
      "metadata": {
        "colab": {
          "base_uri": "https://localhost:8080/"
        },
        "id": "MTxhGHCG8IUP",
        "outputId": "d8d591f1-7a65-44cd-dd13-eb035143bf9d"
      },
      "execution_count": null,
      "outputs": [
        {
          "output_type": "stream",
          "name": "stdout",
          "text": [
            "+----------------+-----+\n",
            "| TakeoffLocation|count|\n",
            "+----------------+-----+\n",
            "|    TAN SON NHUT|   26|\n",
            "|          DANANG|   35|\n",
            "|        UDORN AB|   44|\n",
            "|HANCOCK (CVA-19)|   10|\n",
            "|   CONSTELLATION|   87|\n",
            "|          TAKHLI|   56|\n",
            "|         CUBI PT|    1|\n",
            "|          RANGER|   35|\n",
            "|           KORAT|   55|\n",
            "|         UBON AB|   44|\n",
            "|    CAM RANH BAY|    2|\n",
            "+----------------+-----+\n",
            "\n"
          ]
        }
      ]
    },
    {
      "cell_type": "code",
      "source": [
        "# 정렬하기\n",
        "counts = counts.sort(desc('count'))\n",
        "counts.show()"
      ],
      "metadata": {
        "colab": {
          "base_uri": "https://localhost:8080/"
        },
        "id": "IYKFqDF98Q-e",
        "outputId": "97f14c1d-f0c6-48c2-9784-a51a7f469d97"
      },
      "execution_count": null,
      "outputs": [
        {
          "output_type": "stream",
          "name": "stdout",
          "text": [
            "+----------------+-----+\n",
            "| TakeoffLocation|count|\n",
            "+----------------+-----+\n",
            "|   CONSTELLATION|   87|\n",
            "|          TAKHLI|   56|\n",
            "|           KORAT|   55|\n",
            "|        UDORN AB|   44|\n",
            "|         UBON AB|   44|\n",
            "|          DANANG|   35|\n",
            "|          RANGER|   35|\n",
            "|    TAN SON NHUT|   26|\n",
            "|HANCOCK (CVA-19)|   10|\n",
            "|    CAM RANH BAY|    2|\n",
            "|         CUBI PT|    1|\n",
            "+----------------+-----+\n",
            "\n"
          ]
        }
      ]
    },
    {
      "cell_type": "markdown",
      "metadata": {
        "id": "cE8asfBPSahD"
      },
      "source": [
        "<img style=\"float: right;\" src=\"https://raw.githubusercontent.com/epfl-ada/2019/c17af0d3c73f11cb083717b7408fedd86245dc4d/Tutorials/04%20-%20Scaling%20Up/img/USS_Constellation.jpg\">\n",
        "\n",
        "\n",
        "That day the most common take-off location was the ship USS Constellation (CV-64). We cannot univocally identify one take off location, but we can reduce the possible candidates. Next steps: explore TimeOnTarget feature.\n",
        "\n",
        "_USS Constellation (CV-64), a Kitty Hawk-class supercarrier, was the third ship of the United States Navy to be named in honor of the \"new constellation of stars\" on the flag of the United States. One of the fastest ships in the Navy, as proven by her victory during a battlegroup race held in 1985, she was nicknamed \"Connie\" by her crew and officially as \"America's Flagship\"._"
      ]
    },
    {
      "cell_type": "markdown",
      "source": [
        "### RDD 이용하기"
      ],
      "metadata": {
        "id": "bNEsUUkF_28K"
      }
    },
    {
      "cell_type": "code",
      "source": [
        "jun_29_operations.show()"
      ],
      "metadata": {
        "id": "ceqc6xum_136",
        "outputId": "c0502c8e-ce12-41b7-86c6-b63ae8d705b8",
        "colab": {
          "base_uri": "https://localhost:8080/"
        }
      },
      "execution_count": null,
      "outputs": [
        {
          "output_type": "stream",
          "name": "stdout",
          "text": [
            "+--------+--------------------+-----------+------------------+-----------+---------------+-------------+------------+--------------+-------------------+\n",
            "|AirCraft| ContryFlyingMission|MissionDate|OperationSupported|PeriodOfDay|TakeoffLocation|TargetCountry|TimeOnTarget|    WeaponType|WeaponsLoadedWeight|\n",
            "+--------+--------------------+-----------+------------------+-----------+---------------+-------------+------------+--------------+-------------------+\n",
            "|   F-105|UNITED STATES OF ...| 1966-06-29|       STEEL TIGER|          D|         TAKHLI|NORTH VIETNAM|       310.0|  1000LB MK-83|                 -1|\n",
            "|   C-130|UNITED STATES OF ...| 1966-06-29|      ROLLING THUN|          N|         DANANG|NORTH VIETNAM|      1226.0|          NULL|                 -1|\n",
            "|     F-4|UNITED STATES OF ...| 1966-06-29|      ROLLING THUN|          D|  CONSTELLATION|NORTH VIETNAM|       703.0| 2.75IN HE RKT|                 -1|\n",
            "|   C-130|UNITED STATES OF ...| 1966-06-29|      ROLLING THUN|          N|        UBON AB|NORTH VIETNAM|      1205.0|         MK-24|                 -1|\n",
            "|     A-1|UNITED STATES OF ...| 1966-06-29|      ROLLING THUN|          D|       UDORN AB|NORTH VIETNAM|       148.0|          NULL|                 -1|\n",
            "|     A-4|UNITED STATES OF ...| 1966-06-29|      ROLLING THUN|          E|  CONSTELLATION|NORTH VIETNAM|      1104.0|5.0IN HEAT RKT|                 -1|\n",
            "|   F-105|UNITED STATES OF ...| 1966-06-29|      ROLLING THUN|          E|          KORAT|NORTH VIETNAM|      1043.0|          M-61|                 -1|\n",
            "|     A-4|UNITED STATES OF ...| 1966-06-29|      ROLLING THUN|          D|  CONSTELLATION|NORTH VIETNAM|       945.0|   250LB MK-81|                 -1|\n",
            "|   F-105|UNITED STATES OF ...| 1966-06-29|      ROLLING THUN|          D|          KORAT|NORTH VIETNAM|       855.0|  1000LB MK-83|                 -1|\n",
            "|     F-4|UNITED STATES OF ...| 1966-06-29|      ROLLING THUN|          D|         RANGER|NORTH VIETNAM|         0.0|          NULL|                 -1|\n",
            "|    RA-5|UNITED STATES OF ...| 1966-06-29|              NULL|          D|  CONSTELLATION|NORTH VIETNAM|       655.0|   PHOTO EQUIP|                 -1|\n",
            "|   F-105|UNITED STATES OF ...| 1966-06-29|      ROLLING THUN|          D|         TAKHLI|NORTH VIETNAM|        15.0|          NULL|                 -1|\n",
            "|   RB-66|UNITED STATES OF ...| 1966-06-29|         FOG BOUND|          D|         TAKHLI|NORTH VIETNAM|      1815.0|          NULL|                 -1|\n",
            "|     F-4|UNITED STATES OF ...| 1966-06-29|      ROLLING THUN|          D|  CONSTELLATION|NORTH VIETNAM|       703.0| 2.75IN HE RKT|                 -1|\n",
            "|     F-4|UNITED STATES OF ...| 1966-06-29|      ROLLING THUN|          N|        UBON AB|NORTH VIETNAM|      2015.0|         MK-24|                 -1|\n",
            "|     F-4|UNITED STATES OF ...| 1966-06-29|      ROLLING THUN|          N|        UBON AB|NORTH VIETNAM|      1235.0|  LAU-3A/AERO7|                 -1|\n",
            "|     A-4|UNITED STATES OF ...| 1966-06-29|      ROLLING THUN|          D|  CONSTELLATION|NORTH VIETNAM|       756.0|          NULL|                 -1|\n",
            "|     A-4|UNITED STATES OF ...| 1966-06-29|      ROLLING THUN|          D|  CONSTELLATION|NORTH VIETNAM|         0.0| 2.75IN HE RKT|                 -1|\n",
            "|     E-2|UNITED STATES OF ...| 1966-06-29|      ROLLING THUN|          D|  CONSTELLATION|NORTH VIETNAM|         0.0|          NULL|                 -1|\n",
            "|    B-66|UNITED STATES OF ...| 1966-06-29|      ROLLING THUN|          N|         TAKHLI|NORTH VIETNAM|      1328.0|          NULL|                 -1|\n",
            "+--------+--------------------+-----------+------------------+-----------+---------------+-------------+------------+--------------+-------------------+\n",
            "only showing top 20 rows\n",
            "\n"
          ]
        }
      ]
    },
    {
      "cell_type": "code",
      "source": [
        "type(jun_29_operations)"
      ],
      "metadata": {
        "id": "xn5ztq4R_-L0",
        "outputId": "d3e48ee4-932f-487b-8052-cd524f879a27",
        "colab": {
          "base_uri": "https://localhost:8080/",
          "height": 187
        }
      },
      "execution_count": null,
      "outputs": [
        {
          "output_type": "execute_result",
          "data": {
            "text/plain": [
              "pyspark.sql.dataframe.DataFrame"
            ],
            "text/html": [
              "<div style=\"max-width:800px; border: 1px solid var(--colab-border-color);\"><style>\n",
              "      pre.function-repr-contents {\n",
              "        overflow-x: auto;\n",
              "        padding: 8px 12px;\n",
              "        max-height: 500px;\n",
              "      }\n",
              "\n",
              "      pre.function-repr-contents.function-repr-contents-collapsed {\n",
              "        cursor: pointer;\n",
              "        max-height: 100px;\n",
              "      }\n",
              "    </style>\n",
              "    <pre style=\"white-space: initial; background:\n",
              "         var(--colab-secondary-surface-color); padding: 8px 12px;\n",
              "         border-bottom: 1px solid var(--colab-border-color);\"><b>pyspark.sql.dataframe.DataFrame</b><br/>def __init__(jdf: JavaObject, sql_ctx: Union[&#x27;SQLContext&#x27;, &#x27;SparkSession&#x27;])</pre><pre class=\"function-repr-contents function-repr-contents-collapsed\" style=\"\"><a class=\"filepath\" style=\"display:none\" href=\"#\">/usr/local/lib/python3.10/dist-packages/pyspark/sql/dataframe.py</a>A distributed collection of data grouped into named columns.\n",
              "\n",
              ".. versionadded:: 1.3.0\n",
              "\n",
              ".. versionchanged:: 3.4.0\n",
              "    Supports Spark Connect.\n",
              "\n",
              "Examples\n",
              "--------\n",
              "A :class:`DataFrame` is equivalent to a relational table in Spark SQL,\n",
              "and can be created using various functions in :class:`SparkSession`:\n",
              "\n",
              "&gt;&gt;&gt; people = spark.createDataFrame([\n",
              "...     {&quot;deptId&quot;: 1, &quot;age&quot;: 40, &quot;name&quot;: &quot;Hyukjin Kwon&quot;, &quot;gender&quot;: &quot;M&quot;, &quot;salary&quot;: 50},\n",
              "...     {&quot;deptId&quot;: 1, &quot;age&quot;: 50, &quot;name&quot;: &quot;Takuya Ueshin&quot;, &quot;gender&quot;: &quot;M&quot;, &quot;salary&quot;: 100},\n",
              "...     {&quot;deptId&quot;: 2, &quot;age&quot;: 60, &quot;name&quot;: &quot;Xinrong Meng&quot;, &quot;gender&quot;: &quot;F&quot;, &quot;salary&quot;: 150},\n",
              "...     {&quot;deptId&quot;: 3, &quot;age&quot;: 20, &quot;name&quot;: &quot;Haejoon Lee&quot;, &quot;gender&quot;: &quot;M&quot;, &quot;salary&quot;: 200}\n",
              "... ])\n",
              "\n",
              "Once created, it can be manipulated using the various domain-specific-language\n",
              "(DSL) functions defined in: :class:`DataFrame`, :class:`Column`.\n",
              "\n",
              "To select a column from the :class:`DataFrame`, use the apply method:\n",
              "\n",
              "&gt;&gt;&gt; age_col = people.age\n",
              "\n",
              "A more concrete example:\n",
              "\n",
              "&gt;&gt;&gt; # To create DataFrame using SparkSession\n",
              "... department = spark.createDataFrame([\n",
              "...     {&quot;id&quot;: 1, &quot;name&quot;: &quot;PySpark&quot;},\n",
              "...     {&quot;id&quot;: 2, &quot;name&quot;: &quot;ML&quot;},\n",
              "...     {&quot;id&quot;: 3, &quot;name&quot;: &quot;Spark SQL&quot;}\n",
              "... ])\n",
              "\n",
              "&gt;&gt;&gt; people.filter(people.age &gt; 30).join(\n",
              "...     department, people.deptId == department.id).groupBy(\n",
              "...     department.name, &quot;gender&quot;).agg({&quot;salary&quot;: &quot;avg&quot;, &quot;age&quot;: &quot;max&quot;}).show()\n",
              "+-------+------+-----------+--------+\n",
              "|   name|gender|avg(salary)|max(age)|\n",
              "+-------+------+-----------+--------+\n",
              "|     ML|     F|      150.0|      60|\n",
              "|PySpark|     M|       75.0|      50|\n",
              "+-------+------+-----------+--------+\n",
              "\n",
              "Notes\n",
              "-----\n",
              "A DataFrame should only be created as described above. It should not be directly\n",
              "created via using the constructor.</pre>\n",
              "      <script>\n",
              "      if (google.colab.kernel.accessAllowed && google.colab.files && google.colab.files.view) {\n",
              "        for (const element of document.querySelectorAll('.filepath')) {\n",
              "          element.style.display = 'block'\n",
              "          element.onclick = (event) => {\n",
              "            event.preventDefault();\n",
              "            event.stopPropagation();\n",
              "            google.colab.files.view(element.textContent, 80);\n",
              "          };\n",
              "        }\n",
              "      }\n",
              "      for (const element of document.querySelectorAll('.function-repr-contents')) {\n",
              "        element.onclick = (event) => {\n",
              "          event.preventDefault();\n",
              "          event.stopPropagation();\n",
              "          element.classList.toggle('function-repr-contents-collapsed');\n",
              "        };\n",
              "      }\n",
              "      </script>\n",
              "      </div>"
            ]
          },
          "metadata": {},
          "execution_count": 65
        }
      ]
    },
    {
      "cell_type": "code",
      "source": [
        "rdd = jun_29_operations.rdd"
      ],
      "metadata": {
        "id": "I-RQqTK_AEuA"
      },
      "execution_count": null,
      "outputs": []
    },
    {
      "cell_type": "code",
      "source": [
        "rdd.collect()"
      ],
      "metadata": {
        "id": "n6JaKx99AJtZ",
        "outputId": "677acf87-3611-4fb9-eebe-063d22c36dcb",
        "colab": {
          "base_uri": "https://localhost:8080/"
        }
      },
      "execution_count": null,
      "outputs": [
        {
          "output_type": "execute_result",
          "data": {
            "text/plain": [
              "[Row(AirCraft='F-105', ContryFlyingMission='UNITED STATES OF AMERICA', MissionDate='1966-06-29', OperationSupported='STEEL TIGER', PeriodOfDay='D', TakeoffLocation='TAKHLI', TargetCountry='NORTH VIETNAM', TimeOnTarget=310.0, WeaponType='1000LB MK-83', WeaponsLoadedWeight=-1),\n",
              " Row(AirCraft='C-130', ContryFlyingMission='UNITED STATES OF AMERICA', MissionDate='1966-06-29', OperationSupported='ROLLING THUN', PeriodOfDay='N', TakeoffLocation='DANANG', TargetCountry='NORTH VIETNAM', TimeOnTarget=1226.0, WeaponType=None, WeaponsLoadedWeight=-1),\n",
              " Row(AirCraft='F-4', ContryFlyingMission='UNITED STATES OF AMERICA', MissionDate='1966-06-29', OperationSupported='ROLLING THUN', PeriodOfDay='D', TakeoffLocation='CONSTELLATION', TargetCountry='NORTH VIETNAM', TimeOnTarget=703.0, WeaponType='2.75IN HE RKT', WeaponsLoadedWeight=-1),\n",
              " Row(AirCraft='C-130', ContryFlyingMission='UNITED STATES OF AMERICA', MissionDate='1966-06-29', OperationSupported='ROLLING THUN', PeriodOfDay='N', TakeoffLocation='UBON AB', TargetCountry='NORTH VIETNAM', TimeOnTarget=1205.0, WeaponType='MK-24', WeaponsLoadedWeight=-1),\n",
              " Row(AirCraft='A-1', ContryFlyingMission='UNITED STATES OF AMERICA', MissionDate='1966-06-29', OperationSupported='ROLLING THUN', PeriodOfDay='D', TakeoffLocation='UDORN AB', TargetCountry='NORTH VIETNAM', TimeOnTarget=148.0, WeaponType=None, WeaponsLoadedWeight=-1),\n",
              " Row(AirCraft='A-4', ContryFlyingMission='UNITED STATES OF AMERICA', MissionDate='1966-06-29', OperationSupported='ROLLING THUN', PeriodOfDay='E', TakeoffLocation='CONSTELLATION', TargetCountry='NORTH VIETNAM', TimeOnTarget=1104.0, WeaponType='5.0IN HEAT RKT', WeaponsLoadedWeight=-1),\n",
              " Row(AirCraft='F-105', ContryFlyingMission='UNITED STATES OF AMERICA', MissionDate='1966-06-29', OperationSupported='ROLLING THUN', PeriodOfDay='E', TakeoffLocation='KORAT', TargetCountry='NORTH VIETNAM', TimeOnTarget=1043.0, WeaponType='M-61', WeaponsLoadedWeight=-1),\n",
              " Row(AirCraft='A-4', ContryFlyingMission='UNITED STATES OF AMERICA', MissionDate='1966-06-29', OperationSupported='ROLLING THUN', PeriodOfDay='D', TakeoffLocation='CONSTELLATION', TargetCountry='NORTH VIETNAM', TimeOnTarget=945.0, WeaponType='250LB MK-81', WeaponsLoadedWeight=-1),\n",
              " Row(AirCraft='F-105', ContryFlyingMission='UNITED STATES OF AMERICA', MissionDate='1966-06-29', OperationSupported='ROLLING THUN', PeriodOfDay='D', TakeoffLocation='KORAT', TargetCountry='NORTH VIETNAM', TimeOnTarget=855.0, WeaponType='1000LB MK-83', WeaponsLoadedWeight=-1),\n",
              " Row(AirCraft='F-4', ContryFlyingMission='UNITED STATES OF AMERICA', MissionDate='1966-06-29', OperationSupported='ROLLING THUN', PeriodOfDay='D', TakeoffLocation='RANGER', TargetCountry='NORTH VIETNAM', TimeOnTarget=0.0, WeaponType=None, WeaponsLoadedWeight=-1),\n",
              " Row(AirCraft='RA-5', ContryFlyingMission='UNITED STATES OF AMERICA', MissionDate='1966-06-29', OperationSupported=None, PeriodOfDay='D', TakeoffLocation='CONSTELLATION', TargetCountry='NORTH VIETNAM', TimeOnTarget=655.0, WeaponType='PHOTO EQUIP', WeaponsLoadedWeight=-1),\n",
              " Row(AirCraft='F-105', ContryFlyingMission='UNITED STATES OF AMERICA', MissionDate='1966-06-29', OperationSupported='ROLLING THUN', PeriodOfDay='D', TakeoffLocation='TAKHLI', TargetCountry='NORTH VIETNAM', TimeOnTarget=15.0, WeaponType=None, WeaponsLoadedWeight=-1),\n",
              " Row(AirCraft='RB-66', ContryFlyingMission='UNITED STATES OF AMERICA', MissionDate='1966-06-29', OperationSupported='FOG BOUND', PeriodOfDay='D', TakeoffLocation='TAKHLI', TargetCountry='NORTH VIETNAM', TimeOnTarget=1815.0, WeaponType=None, WeaponsLoadedWeight=-1),\n",
              " Row(AirCraft='F-4', ContryFlyingMission='UNITED STATES OF AMERICA', MissionDate='1966-06-29', OperationSupported='ROLLING THUN', PeriodOfDay='D', TakeoffLocation='CONSTELLATION', TargetCountry='NORTH VIETNAM', TimeOnTarget=703.0, WeaponType='2.75IN HE RKT', WeaponsLoadedWeight=-1),\n",
              " Row(AirCraft='F-4', ContryFlyingMission='UNITED STATES OF AMERICA', MissionDate='1966-06-29', OperationSupported='ROLLING THUN', PeriodOfDay='N', TakeoffLocation='UBON AB', TargetCountry='NORTH VIETNAM', TimeOnTarget=2015.0, WeaponType='MK-24', WeaponsLoadedWeight=-1),\n",
              " Row(AirCraft='F-4', ContryFlyingMission='UNITED STATES OF AMERICA', MissionDate='1966-06-29', OperationSupported='ROLLING THUN', PeriodOfDay='N', TakeoffLocation='UBON AB', TargetCountry='NORTH VIETNAM', TimeOnTarget=1235.0, WeaponType='LAU-3A/AERO7', WeaponsLoadedWeight=-1),\n",
              " Row(AirCraft='A-4', ContryFlyingMission='UNITED STATES OF AMERICA', MissionDate='1966-06-29', OperationSupported='ROLLING THUN', PeriodOfDay='D', TakeoffLocation='CONSTELLATION', TargetCountry='NORTH VIETNAM', TimeOnTarget=756.0, WeaponType=None, WeaponsLoadedWeight=-1),\n",
              " Row(AirCraft='A-4', ContryFlyingMission='UNITED STATES OF AMERICA', MissionDate='1966-06-29', OperationSupported='ROLLING THUN', PeriodOfDay='D', TakeoffLocation='CONSTELLATION', TargetCountry='NORTH VIETNAM', TimeOnTarget=0.0, WeaponType='2.75IN HE RKT', WeaponsLoadedWeight=-1),\n",
              " Row(AirCraft='E-2', ContryFlyingMission='UNITED STATES OF AMERICA', MissionDate='1966-06-29', OperationSupported='ROLLING THUN', PeriodOfDay='D', TakeoffLocation='CONSTELLATION', TargetCountry='NORTH VIETNAM', TimeOnTarget=0.0, WeaponType=None, WeaponsLoadedWeight=-1),\n",
              " Row(AirCraft='B-66', ContryFlyingMission='UNITED STATES OF AMERICA', MissionDate='1966-06-29', OperationSupported='ROLLING THUN', PeriodOfDay='N', TakeoffLocation='TAKHLI', TargetCountry='NORTH VIETNAM', TimeOnTarget=1328.0, WeaponType=None, WeaponsLoadedWeight=-1),\n",
              " Row(AirCraft='F-105', ContryFlyingMission='UNITED STATES OF AMERICA', MissionDate='1966-06-29', OperationSupported='IRON HAND', PeriodOfDay='D', TakeoffLocation='KORAT', TargetCountry='NORTH VIETNAM', TimeOnTarget=515.0, WeaponType=None, WeaponsLoadedWeight=-1),\n",
              " Row(AirCraft='F-105', ContryFlyingMission='UNITED STATES OF AMERICA', MissionDate='1966-06-29', OperationSupported='ROLLING THUN', PeriodOfDay='D', TakeoffLocation='KORAT', TargetCountry='NORTH VIETNAM', TimeOnTarget=515.0, WeaponType='750LB GP M-117', WeaponsLoadedWeight=-1),\n",
              " Row(AirCraft='F-105', ContryFlyingMission='UNITED STATES OF AMERICA', MissionDate='1966-06-29', OperationSupported='ROLLING THUN', PeriodOfDay='D', TakeoffLocation='KORAT', TargetCountry='NORTH VIETNAM', TimeOnTarget=740.0, WeaponType=None, WeaponsLoadedWeight=-1),\n",
              " Row(AirCraft='F-105', ContryFlyingMission='UNITED STATES OF AMERICA', MissionDate='1966-06-29', OperationSupported='ROLLING THUN', PeriodOfDay='D', TakeoffLocation='KORAT', TargetCountry='NORTH VIETNAM', TimeOnTarget=546.0, WeaponType='3000LB M-118', WeaponsLoadedWeight=-1),\n",
              " Row(AirCraft='A-4', ContryFlyingMission='UNITED STATES OF AMERICA', MissionDate='1966-06-29', OperationSupported='ROLLING THUN', PeriodOfDay='D', TakeoffLocation='CONSTELLATION', TargetCountry='NORTH VIETNAM', TimeOnTarget=0.0, WeaponType='250LB MK-81', WeaponsLoadedWeight=-1),\n",
              " Row(AirCraft='A-4', ContryFlyingMission='UNITED STATES OF AMERICA', MissionDate='1966-06-29', OperationSupported='ROLLING THUN', PeriodOfDay='D', TakeoffLocation='CONSTELLATION', TargetCountry='NORTH VIETNAM', TimeOnTarget=800.0, WeaponType='MK-11/MK-12', WeaponsLoadedWeight=-1),\n",
              " Row(AirCraft='F-4', ContryFlyingMission='UNITED STATES OF AMERICA', MissionDate='1966-06-29', OperationSupported='ROLLING THUN', PeriodOfDay='N', TakeoffLocation='UBON AB', TargetCountry='NORTH VIETNAM', TimeOnTarget=1445.0, WeaponType='750LB GP M-117', WeaponsLoadedWeight=-1),\n",
              " Row(AirCraft='A-4', ContryFlyingMission='UNITED STATES OF AMERICA', MissionDate='1966-06-29', OperationSupported='ROLLING THUN', PeriodOfDay='D', TakeoffLocation='CONSTELLATION', TargetCountry='NORTH VIETNAM', TimeOnTarget=450.0, WeaponType='LAU-3A/AERO7', WeaponsLoadedWeight=-1),\n",
              " Row(AirCraft='F-105', ContryFlyingMission='UNITED STATES OF AMERICA', MissionDate='1966-06-29', OperationSupported='ROLLING THUN', PeriodOfDay='D', TakeoffLocation='KORAT', TargetCountry='NORTH VIETNAM', TimeOnTarget=120.0, WeaponType='1000LB GP M-65', WeaponsLoadedWeight=-1),\n",
              " Row(AirCraft='F-105', ContryFlyingMission='UNITED STATES OF AMERICA', MissionDate='1966-06-29', OperationSupported='ROLLING THUN', PeriodOfDay='D', TakeoffLocation='KORAT', TargetCountry='NORTH VIETNAM', TimeOnTarget=40.0, WeaponType='1000LB GP M-65', WeaponsLoadedWeight=-1),\n",
              " Row(AirCraft='F-4', ContryFlyingMission='UNITED STATES OF AMERICA', MissionDate='1966-06-29', OperationSupported='ROLLING THUN', PeriodOfDay='N', TakeoffLocation='UBON AB', TargetCountry='NORTH VIETNAM', TimeOnTarget=2050.0, WeaponType='750LB GP M-117', WeaponsLoadedWeight=-1),\n",
              " Row(AirCraft='A-4', ContryFlyingMission='UNITED STATES OF AMERICA', MissionDate='1966-06-29', OperationSupported='ROLLING THUN', PeriodOfDay='D', TakeoffLocation='HANCOCK (CVA-19)', TargetCountry='NORTH VIETNAM', TimeOnTarget=2255.0, WeaponType='500LB GP MK-82', WeaponsLoadedWeight=-1),\n",
              " Row(AirCraft='F-105', ContryFlyingMission='UNITED STATES OF AMERICA', MissionDate='1966-06-29', OperationSupported='ROLLING THUN', PeriodOfDay='D', TakeoffLocation='KORAT', TargetCountry='NORTH VIETNAM', TimeOnTarget=0.0, WeaponType=None, WeaponsLoadedWeight=-1),\n",
              " Row(AirCraft='B-66', ContryFlyingMission='UNITED STATES OF AMERICA', MissionDate='1966-06-29', OperationSupported='FOG BOUND', PeriodOfDay='N', TakeoffLocation='TAKHLI', TargetCountry='NORTH VIETNAM', TimeOnTarget=1927.0, WeaponType=None, WeaponsLoadedWeight=-1),\n",
              " Row(AirCraft='A-4', ContryFlyingMission='UNITED STATES OF AMERICA', MissionDate='1966-06-29', OperationSupported='ROLLING THUN', PeriodOfDay='N', TakeoffLocation='HANCOCK (CVA-19)', TargetCountry='NORTH VIETNAM', TimeOnTarget=2200.0, WeaponType='250LB MK-81', WeaponsLoadedWeight=-1),\n",
              " Row(AirCraft='F-105', ContryFlyingMission='UNITED STATES OF AMERICA', MissionDate='1966-06-29', OperationSupported='ROLLING THUN', PeriodOfDay='E', TakeoffLocation='KORAT', TargetCountry='NORTH VIETNAM', TimeOnTarget=1027.0, WeaponType='1000LB GP M-65', WeaponsLoadedWeight=-1),\n",
              " Row(AirCraft='A-6', ContryFlyingMission='UNITED STATES OF AMERICA', MissionDate='1966-06-29', OperationSupported='ROLLING THUN', PeriodOfDay='D', TakeoffLocation='CONSTELLATION', TargetCountry='NORTH VIETNAM', TimeOnTarget=925.0, WeaponType='1000LB MK-83', WeaponsLoadedWeight=-1),\n",
              " Row(AirCraft='F-4', ContryFlyingMission='UNITED STATES OF AMERICA', MissionDate='1966-06-29', OperationSupported='ROLLING THUN', PeriodOfDay='N', TakeoffLocation='UBON AB', TargetCountry='NORTH VIETNAM', TimeOnTarget=2050.0, WeaponType='MK-24', WeaponsLoadedWeight=-1),\n",
              " Row(AirCraft='F-105', ContryFlyingMission='UNITED STATES OF AMERICA', MissionDate='1966-06-29', OperationSupported='ROLLING THUN', PeriodOfDay='D', TakeoffLocation='TAKHLI', TargetCountry='NORTH VIETNAM', TimeOnTarget=315.0, WeaponType='1000LB MK-83', WeaponsLoadedWeight=-1),\n",
              " Row(AirCraft='F-105', ContryFlyingMission='UNITED STATES OF AMERICA', MissionDate='1966-06-29', OperationSupported='ROLLING THUN', PeriodOfDay='D', TakeoffLocation='TAKHLI', TargetCountry='NORTH VIETNAM', TimeOnTarget=535.0, WeaponType=None, WeaponsLoadedWeight=-1),\n",
              " Row(AirCraft='RF-4', ContryFlyingMission='UNITED STATES OF AMERICA', MissionDate='1966-06-29', OperationSupported=None, PeriodOfDay='N', TakeoffLocation='TAN SON NHUT', TargetCountry='NORTH VIETNAM', TimeOnTarget=1201.0, WeaponType='PHOTO EQUIP', WeaponsLoadedWeight=-1),\n",
              " Row(AirCraft='F-105', ContryFlyingMission='UNITED STATES OF AMERICA', MissionDate='1966-06-29', OperationSupported='IRON HAND', PeriodOfDay='D', TakeoffLocation='KORAT', TargetCountry='NORTH VIETNAM', TimeOnTarget=515.0, WeaponType='SHRIKE', WeaponsLoadedWeight=-1),\n",
              " Row(AirCraft='F-4', ContryFlyingMission='UNITED STATES OF AMERICA', MissionDate='1966-06-29', OperationSupported='ROLLING THUN', PeriodOfDay='N', TakeoffLocation='UBON AB', TargetCountry='NORTH VIETNAM', TimeOnTarget=1945.0, WeaponType='LAU-3A/AERO7', WeaponsLoadedWeight=-1),\n",
              " Row(AirCraft='F-4', ContryFlyingMission='UNITED STATES OF AMERICA', MissionDate='1966-06-29', OperationSupported='ROLLING THUN', PeriodOfDay='N', TakeoffLocation='UBON AB', TargetCountry='NORTH VIETNAM', TimeOnTarget=1315.0, WeaponType='CBU-2', WeaponsLoadedWeight=-1),\n",
              " Row(AirCraft='E-2', ContryFlyingMission='UNITED STATES OF AMERICA', MissionDate='1966-06-29', OperationSupported='ROLLING THUN', PeriodOfDay='D', TakeoffLocation='CONSTELLATION', TargetCountry='NORTH VIETNAM', TimeOnTarget=0.0, WeaponType=None, WeaponsLoadedWeight=-1),\n",
              " Row(AirCraft='A-4', ContryFlyingMission='UNITED STATES OF AMERICA', MissionDate='1966-06-29', OperationSupported='ROLLING THUN', PeriodOfDay='E', TakeoffLocation='CONSTELLATION', TargetCountry='NORTH VIETNAM', TimeOnTarget=1052.0, WeaponType=None, WeaponsLoadedWeight=-1),\n",
              " Row(AirCraft='RA-5', ContryFlyingMission='UNITED STATES OF AMERICA', MissionDate='1966-06-29', OperationSupported='ROLLING THUN', PeriodOfDay='M', TakeoffLocation='RANGER', TargetCountry='NORTH VIETNAM', TimeOnTarget=0.0, WeaponType=None, WeaponsLoadedWeight=-1),\n",
              " Row(AirCraft='F-105', ContryFlyingMission='UNITED STATES OF AMERICA', MissionDate='1966-06-29', OperationSupported='ROLLING THUN', PeriodOfDay='D', TakeoffLocation='TAKHLI', TargetCountry='NORTH VIETNAM', TimeOnTarget=945.0, WeaponType='1000LB MK-83', WeaponsLoadedWeight=-1),\n",
              " Row(AirCraft='F-4', ContryFlyingMission='UNITED STATES OF AMERICA', MissionDate='1966-06-29', OperationSupported='ROLLING THUN', PeriodOfDay='N', TakeoffLocation='CONSTELLATION', TargetCountry='NORTH VIETNAM', TimeOnTarget=0.0, WeaponType='MK-24', WeaponsLoadedWeight=-1),\n",
              " Row(AirCraft='F-4', ContryFlyingMission='UNITED STATES OF AMERICA', MissionDate='1966-06-29', OperationSupported='ROLLING THUN', PeriodOfDay='N', TakeoffLocation='CONSTELLATION', TargetCountry='NORTH VIETNAM', TimeOnTarget=0.0, WeaponType=None, WeaponsLoadedWeight=-1),\n",
              " Row(AirCraft='F-4', ContryFlyingMission='UNITED STATES OF AMERICA', MissionDate='1966-06-29', OperationSupported='ROLLING THUN', PeriodOfDay='D', TakeoffLocation='CONSTELLATION', TargetCountry='NORTH VIETNAM', TimeOnTarget=0.0, WeaponType=None, WeaponsLoadedWeight=-1),\n",
              " Row(AirCraft='A-1', ContryFlyingMission='UNITED STATES OF AMERICA', MissionDate='1966-06-29', OperationSupported='ROLLING THUN', PeriodOfDay='D', TakeoffLocation='UDORN AB', TargetCountry='NORTH VIETNAM', TimeOnTarget=330.0, WeaponType='7.62MM', WeaponsLoadedWeight=-1),\n",
              " Row(AirCraft='F-4', ContryFlyingMission='UNITED STATES OF AMERICA', MissionDate='1966-06-29', OperationSupported='ROLLING THUN', PeriodOfDay='N', TakeoffLocation='CONSTELLATION', TargetCountry='NORTH VIETNAM', TimeOnTarget=0.0, WeaponType='2.75IN HE RKT', WeaponsLoadedWeight=-1),\n",
              " Row(AirCraft='A-4', ContryFlyingMission='UNITED STATES OF AMERICA', MissionDate='1966-06-29', OperationSupported='ROLLING THUN', PeriodOfDay='D', TakeoffLocation='HANCOCK (CVA-19)', TargetCountry='NORTH VIETNAM', TimeOnTarget=2300.0, WeaponType='250LB MK-81', WeaponsLoadedWeight=-1),\n",
              " Row(AirCraft='F-105', ContryFlyingMission='UNITED STATES OF AMERICA', MissionDate='1966-06-29', OperationSupported='ROLLING THUN', PeriodOfDay='D', TakeoffLocation='KORAT', TargetCountry='NORTH VIETNAM', TimeOnTarget=225.0, WeaponType='1000LB GP M-65', WeaponsLoadedWeight=-1),\n",
              " Row(AirCraft='F-105', ContryFlyingMission='UNITED STATES OF AMERICA', MissionDate='1966-06-29', OperationSupported='IRON HAND', PeriodOfDay='D', TakeoffLocation='KORAT', TargetCountry='NORTH VIETNAM', TimeOnTarget=510.0, WeaponType='M-61', WeaponsLoadedWeight=-1),\n",
              " Row(AirCraft='F-4', ContryFlyingMission='UNITED STATES OF AMERICA', MissionDate='1966-06-29', OperationSupported='ROLLING THUN', PeriodOfDay='N', TakeoffLocation='DANANG', TargetCountry='NORTH VIETNAM', TimeOnTarget=1830.0, WeaponType='500LB GP MK-82', WeaponsLoadedWeight=-1),\n",
              " Row(AirCraft='F-105', ContryFlyingMission='UNITED STATES OF AMERICA', MissionDate='1966-06-29', OperationSupported='ROLLING THUN', PeriodOfDay='D', TakeoffLocation='KORAT', TargetCountry='NORTH VIETNAM', TimeOnTarget=520.0, WeaponType=None, WeaponsLoadedWeight=-1),\n",
              " Row(AirCraft='A-1', ContryFlyingMission='UNITED STATES OF AMERICA', MissionDate='1966-06-29', OperationSupported='ROLLING THUN', PeriodOfDay='D', TakeoffLocation='RANGER', TargetCountry='NORTH VIETNAM', TimeOnTarget=108.0, WeaponType='1000LB GP M-65', WeaponsLoadedWeight=-1),\n",
              " Row(AirCraft='F-4', ContryFlyingMission='UNITED STATES OF AMERICA', MissionDate='1966-06-29', OperationSupported='ROLLING THUN', PeriodOfDay='D', TakeoffLocation='CONSTELLATION', TargetCountry='NORTH VIETNAM', TimeOnTarget=0.0, WeaponType=None, WeaponsLoadedWeight=-1),\n",
              " Row(AirCraft='A-4', ContryFlyingMission='UNITED STATES OF AMERICA', MissionDate='1966-06-29', OperationSupported='ROLLING THUN', PeriodOfDay='D', TakeoffLocation='CONSTELLATION', TargetCountry='NORTH VIETNAM', TimeOnTarget=320.0, WeaponType='500LB GP M-64', WeaponsLoadedWeight=-1),\n",
              " Row(AirCraft='A-1', ContryFlyingMission='UNITED STATES OF AMERICA', MissionDate='1966-06-29', OperationSupported='ROLLING THUN', PeriodOfDay='D', TakeoffLocation='RANGER', TargetCountry='NORTH VIETNAM', TimeOnTarget=0.0, WeaponType=None, WeaponsLoadedWeight=-1),\n",
              " Row(AirCraft='F-4', ContryFlyingMission='UNITED STATES OF AMERICA', MissionDate='1966-06-29', OperationSupported='ROLLING THUN', PeriodOfDay='N', TakeoffLocation='UBON AB', TargetCountry='NORTH VIETNAM', TimeOnTarget=1235.0, WeaponType=None, WeaponsLoadedWeight=-1),\n",
              " Row(AirCraft='F-105', ContryFlyingMission='UNITED STATES OF AMERICA', MissionDate='1966-06-29', OperationSupported='ROLLING THUN', PeriodOfDay='E', TakeoffLocation='KORAT', TargetCountry='NORTH VIETNAM', TimeOnTarget=1030.0, WeaponType='1000LB GP M-65', WeaponsLoadedWeight=-1),\n",
              " Row(AirCraft='F-105', ContryFlyingMission='UNITED STATES OF AMERICA', MissionDate='1966-06-29', OperationSupported='ROLLING THUN', PeriodOfDay='E', TakeoffLocation='KORAT', TargetCountry='NORTH VIETNAM', TimeOnTarget=1039.0, WeaponType='M-61', WeaponsLoadedWeight=-1),\n",
              " Row(AirCraft='F-4', ContryFlyingMission='UNITED STATES OF AMERICA', MissionDate='1966-06-29', OperationSupported='ROLLING THUN', PeriodOfDay='N', TakeoffLocation='UBON AB', TargetCountry='NORTH VIETNAM', TimeOnTarget=1430.0, WeaponType=None, WeaponsLoadedWeight=-1),\n",
              " Row(AirCraft='A-1', ContryFlyingMission='UNITED STATES OF AMERICA', MissionDate='1966-06-29', OperationSupported='ROLLING THUN', PeriodOfDay='D', TakeoffLocation='RANGER', TargetCountry='NORTH VIETNAM', TimeOnTarget=0.0, WeaponType='2.75IN HE RKT', WeaponsLoadedWeight=-1),\n",
              " Row(AirCraft='A-4', ContryFlyingMission='UNITED STATES OF AMERICA', MissionDate='1966-06-29', OperationSupported='ROLLING THUN', PeriodOfDay='D', TakeoffLocation='CONSTELLATION', TargetCountry='NORTH VIETNAM', TimeOnTarget=325.0, WeaponType='250LB MK-81', WeaponsLoadedWeight=-1),\n",
              " Row(AirCraft='A-4', ContryFlyingMission='UNITED STATES OF AMERICA', MissionDate='1966-06-29', OperationSupported='ROLLING THUN', PeriodOfDay='D', TakeoffLocation='CONSTELLATION', TargetCountry='NORTH VIETNAM', TimeOnTarget=705.0, WeaponType='2.75IN HE RKT', WeaponsLoadedWeight=-1),\n",
              " Row(AirCraft='EA-1', ContryFlyingMission='UNITED STATES OF AMERICA', MissionDate='1966-06-29', OperationSupported='ROLLING THUN', PeriodOfDay='D', TakeoffLocation='RANGER', TargetCountry='NORTH VIETNAM', TimeOnTarget=0.0, WeaponType=None, WeaponsLoadedWeight=-1),\n",
              " Row(AirCraft='A-4', ContryFlyingMission='UNITED STATES OF AMERICA', MissionDate='1966-06-29', OperationSupported='ROLLING THUN', PeriodOfDay='D', TakeoffLocation='CONSTELLATION', TargetCountry='NORTH VIETNAM', TimeOnTarget=320.0, WeaponType='500LB GP MK-82', WeaponsLoadedWeight=-1),\n",
              " Row(AirCraft='F-105', ContryFlyingMission='UNITED STATES OF AMERICA', MissionDate='1966-06-29', OperationSupported='ROLLING THUN', PeriodOfDay='D', TakeoffLocation='TAKHLI', TargetCountry='NORTH VIETNAM', TimeOnTarget=5.0, WeaponType=None, WeaponsLoadedWeight=-1),\n",
              " Row(AirCraft='F-4', ContryFlyingMission='UNITED STATES OF AMERICA', MissionDate='1966-06-29', OperationSupported='ROLLING THUN', PeriodOfDay='N', TakeoffLocation='UBON AB', TargetCountry='NORTH VIETNAM', TimeOnTarget=1520.0, WeaponType='MK-24', WeaponsLoadedWeight=-1),\n",
              " Row(AirCraft='F-105', ContryFlyingMission='UNITED STATES OF AMERICA', MissionDate='1966-06-29', OperationSupported='STEEL TIGER', PeriodOfDay='D', TakeoffLocation='TAKHLI', TargetCountry='NORTH VIETNAM', TimeOnTarget=255.0, WeaponType='1000LB MK-83', WeaponsLoadedWeight=-1),\n",
              " Row(AirCraft='A-4', ContryFlyingMission='UNITED STATES OF AMERICA', MissionDate='1966-06-29', OperationSupported='ROLLING THUN', PeriodOfDay='D', TakeoffLocation='CONSTELLATION', TargetCountry='NORTH VIETNAM', TimeOnTarget=1135.0, WeaponType='LAU-3A/AERO7', WeaponsLoadedWeight=-1),\n",
              " Row(AirCraft='F-105', ContryFlyingMission='UNITED STATES OF AMERICA', MissionDate='1966-06-29', OperationSupported='ROLLING THUN', PeriodOfDay='D', TakeoffLocation='TAKHLI', TargetCountry='NORTH VIETNAM', TimeOnTarget=750.0, WeaponType='1000LB MK-83', WeaponsLoadedWeight=-1),\n",
              " Row(AirCraft='F-105', ContryFlyingMission='UNITED STATES OF AMERICA', MissionDate='1966-06-29', OperationSupported='ROLLING THUN', PeriodOfDay='D', TakeoffLocation='TAKHLI', TargetCountry='NORTH VIETNAM', TimeOnTarget=820.0, WeaponType='1000LB MK-83', WeaponsLoadedWeight=-1),\n",
              " Row(AirCraft='F-4', ContryFlyingMission='UNITED STATES OF AMERICA', MissionDate='1966-06-29', OperationSupported='BURNING SUN', PeriodOfDay=None, TakeoffLocation='DANANG', TargetCountry='NORTH VIETNAM', TimeOnTarget=740.0, WeaponType=None, WeaponsLoadedWeight=-1),\n",
              " Row(AirCraft='EF-10', ContryFlyingMission='UNITED STATES OF AMERICA', MissionDate='1966-06-29', OperationSupported='ROLLING THUN', PeriodOfDay='N', TakeoffLocation='DANANG', TargetCountry='NORTH VIETNAM', TimeOnTarget=1140.0, WeaponType=None, WeaponsLoadedWeight=-1),\n",
              " Row(AirCraft='F-105', ContryFlyingMission='UNITED STATES OF AMERICA', MissionDate='1966-06-29', OperationSupported='STEEL TIGER', PeriodOfDay=None, TakeoffLocation='TAKHLI', TargetCountry='NORTH VIETNAM', TimeOnTarget=2327.0, WeaponType=None, WeaponsLoadedWeight=-1),\n",
              " Row(AirCraft='RF-101', ContryFlyingMission='UNITED STATES OF AMERICA', MissionDate='1966-06-29', OperationSupported=None, PeriodOfDay='D', TakeoffLocation='TAN SON NHUT', TargetCountry='NORTH VIETNAM', TimeOnTarget=737.0, WeaponType='PHOTO EQUIP', WeaponsLoadedWeight=-1),\n",
              " Row(AirCraft='F-4', ContryFlyingMission='UNITED STATES OF AMERICA', MissionDate='1966-06-29', OperationSupported='ROLLING THUN', PeriodOfDay='N', TakeoffLocation='UBON AB', TargetCountry='NORTH VIETNAM', TimeOnTarget=1945.0, WeaponType='MK-24', WeaponsLoadedWeight=-1),\n",
              " Row(AirCraft='A-6', ContryFlyingMission='UNITED STATES OF AMERICA', MissionDate='1966-06-29', OperationSupported='ROLLING THUN', PeriodOfDay='D', TakeoffLocation='CONSTELLATION', TargetCountry='NORTH VIETNAM', TimeOnTarget=700.0, WeaponType='250LB MK-81', WeaponsLoadedWeight=-1),\n",
              " Row(AirCraft='F-105', ContryFlyingMission='UNITED STATES OF AMERICA', MissionDate='1966-06-29', OperationSupported='ROLLING THUN', PeriodOfDay='D', TakeoffLocation='TAKHLI', TargetCountry='NORTH VIETNAM', TimeOnTarget=541.0, WeaponType='750LB GP M-117', WeaponsLoadedWeight=-1),\n",
              " Row(AirCraft='F-105', ContryFlyingMission='UNITED STATES OF AMERICA', MissionDate='1966-06-29', OperationSupported='IRON HAND', PeriodOfDay='D', TakeoffLocation='KORAT', TargetCountry='NORTH VIETNAM', TimeOnTarget=510.0, WeaponType='2.75IN HE RKT', WeaponsLoadedWeight=-1),\n",
              " Row(AirCraft='F-4', ContryFlyingMission='UNITED STATES OF AMERICA', MissionDate='1966-06-29', OperationSupported='ROLLING THUN', PeriodOfDay='N', TakeoffLocation='DANANG', TargetCountry='NORTH VIETNAM', TimeOnTarget=1710.0, WeaponType=None, WeaponsLoadedWeight=-1),\n",
              " Row(AirCraft='F-105', ContryFlyingMission='UNITED STATES OF AMERICA', MissionDate='1966-06-29', OperationSupported='IRON HAND', PeriodOfDay='D', TakeoffLocation='KORAT', TargetCountry='NORTH VIETNAM', TimeOnTarget=510.0, WeaponType='SHRIKE', WeaponsLoadedWeight=-1),\n",
              " Row(AirCraft='F-4', ContryFlyingMission='UNITED STATES OF AMERICA', MissionDate='1966-06-29', OperationSupported='ROLLING THUN', PeriodOfDay='N', TakeoffLocation='UBON AB', TargetCountry='NORTH VIETNAM', TimeOnTarget=1150.0, WeaponType=None, WeaponsLoadedWeight=-1),\n",
              " Row(AirCraft='A-4', ContryFlyingMission='UNITED STATES OF AMERICA', MissionDate='1966-06-29', OperationSupported='ROLLING THUN', PeriodOfDay='D', TakeoffLocation='CONSTELLATION', TargetCountry='NORTH VIETNAM', TimeOnTarget=812.0, WeaponType=None, WeaponsLoadedWeight=-1),\n",
              " Row(AirCraft='A-6', ContryFlyingMission='UNITED STATES OF AMERICA', MissionDate='1966-06-29', OperationSupported='ROLLING THUN', PeriodOfDay='D', TakeoffLocation='CONSTELLATION', TargetCountry='NORTH VIETNAM', TimeOnTarget=0.0, WeaponType='500LB GP MK-82', WeaponsLoadedWeight=-1),\n",
              " Row(AirCraft='F-4', ContryFlyingMission='UNITED STATES OF AMERICA', MissionDate='1966-06-29', OperationSupported='ROLLING THUN', PeriodOfDay='N', TakeoffLocation='UBON AB', TargetCountry='NORTH VIETNAM', TimeOnTarget=2148.0, WeaponType='750LB GP M-117', WeaponsLoadedWeight=-1),\n",
              " Row(AirCraft='A-3', ContryFlyingMission='UNITED STATES OF AMERICA', MissionDate='1966-06-29', OperationSupported='ROLLING THUN', PeriodOfDay='D', TakeoffLocation='CONSTELLATION', TargetCountry='NORTH VIETNAM', TimeOnTarget=0.0, WeaponType=None, WeaponsLoadedWeight=-1),\n",
              " Row(AirCraft='F-4', ContryFlyingMission='UNITED STATES OF AMERICA', MissionDate='1966-06-29', OperationSupported='ROLLING THUN', PeriodOfDay='D', TakeoffLocation='DANANG', TargetCountry='NORTH VIETNAM', TimeOnTarget=510.0, WeaponType=None, WeaponsLoadedWeight=-1),\n",
              " Row(AirCraft='F-105', ContryFlyingMission='UNITED STATES OF AMERICA', MissionDate='1966-06-29', OperationSupported='ROLLING THUN', PeriodOfDay='D', TakeoffLocation='TAKHLI', TargetCountry='NORTH VIETNAM', TimeOnTarget=0.0, WeaponType=None, WeaponsLoadedWeight=-1),\n",
              " Row(AirCraft='F-4', ContryFlyingMission='UNITED STATES OF AMERICA', MissionDate='1966-06-29', OperationSupported='ROLLING THUN', PeriodOfDay=None, TakeoffLocation='DANANG', TargetCountry='NORTH VIETNAM', TimeOnTarget=520.0, WeaponType=None, WeaponsLoadedWeight=-1),\n",
              " Row(AirCraft='B-66', ContryFlyingMission='UNITED STATES OF AMERICA', MissionDate='1966-06-29', OperationSupported='ROLLING THUN', PeriodOfDay='N', TakeoffLocation='TAKHLI', TargetCountry='NORTH VIETNAM', TimeOnTarget=1920.0, WeaponType=None, WeaponsLoadedWeight=-1),\n",
              " Row(AirCraft='F-105', ContryFlyingMission='UNITED STATES OF AMERICA', MissionDate='1966-06-29', OperationSupported='ROLLING THUN', PeriodOfDay='D', TakeoffLocation='TAKHLI', TargetCountry='NORTH VIETNAM', TimeOnTarget=745.0, WeaponType=None, WeaponsLoadedWeight=-1),\n",
              " Row(AirCraft='A-4', ContryFlyingMission='UNITED STATES OF AMERICA', MissionDate='1966-06-29', OperationSupported='ROLLING THUN', PeriodOfDay='D', TakeoffLocation='RANGER', TargetCountry='NORTH VIETNAM', TimeOnTarget=130.0, WeaponType='5.0IN HE RKT', WeaponsLoadedWeight=-1),\n",
              " Row(AirCraft='F-4', ContryFlyingMission='UNITED STATES OF AMERICA', MissionDate='1966-06-29', OperationSupported='ROLLING THUN', PeriodOfDay='N', TakeoffLocation='UBON AB', TargetCountry='NORTH VIETNAM', TimeOnTarget=2140.0, WeaponType='750LB GP M-117', WeaponsLoadedWeight=-1),\n",
              " Row(AirCraft='A-6', ContryFlyingMission='UNITED STATES OF AMERICA', MissionDate='1966-06-29', OperationSupported='ROLLING THUN', PeriodOfDay='D', TakeoffLocation='CONSTELLATION', TargetCountry='NORTH VIETNAM', TimeOnTarget=925.0, WeaponType='500LB GP MK-82', WeaponsLoadedWeight=-1),\n",
              " Row(AirCraft='AC-47', ContryFlyingMission='UNITED STATES OF AMERICA', MissionDate='1966-06-29', OperationSupported='STEEL TIGER', PeriodOfDay='N', TakeoffLocation='DANANG', TargetCountry='NORTH VIETNAM', TimeOnTarget=1125.0, WeaponType='MK-24', WeaponsLoadedWeight=-1),\n",
              " Row(AirCraft='F-105', ContryFlyingMission='UNITED STATES OF AMERICA', MissionDate='1966-06-29', OperationSupported='IRON HAND', PeriodOfDay='D', TakeoffLocation='KORAT', TargetCountry='NORTH VIETNAM', TimeOnTarget=510.0, WeaponType='M-61', WeaponsLoadedWeight=-1),\n",
              " Row(AirCraft='F-4', ContryFlyingMission='UNITED STATES OF AMERICA', MissionDate='1966-06-29', OperationSupported='ROLLING THUN', PeriodOfDay='N', TakeoffLocation='UBON AB', TargetCountry='NORTH VIETNAM', TimeOnTarget=1315.0, WeaponType='LAU-3A/AERO7', WeaponsLoadedWeight=-1),\n",
              " Row(AirCraft='F-100', ContryFlyingMission='UNITED STATES OF AMERICA', MissionDate='1966-06-29', OperationSupported='IRON HAND', PeriodOfDay='N', TakeoffLocation='KORAT', TargetCountry='NORTH VIETNAM', TimeOnTarget=1850.0, WeaponType=None, WeaponsLoadedWeight=-1),\n",
              " Row(AirCraft='A-4', ContryFlyingMission='UNITED STATES OF AMERICA', MissionDate='1966-06-29', OperationSupported='ROLLING THUN', PeriodOfDay='D', TakeoffLocation='CONSTELLATION', TargetCountry='NORTH VIETNAM', TimeOnTarget=450.0, WeaponType='2.75IN HE RKT', WeaponsLoadedWeight=-1),\n",
              " Row(AirCraft='RA-5', ContryFlyingMission='UNITED STATES OF AMERICA', MissionDate='1966-06-29', OperationSupported='ROLLING THUN', PeriodOfDay='N', TakeoffLocation='CONSTELLATION', TargetCountry='NORTH VIETNAM', TimeOnTarget=1053.0, WeaponType=None, WeaponsLoadedWeight=-1),\n",
              " Row(AirCraft='F-4', ContryFlyingMission='UNITED STATES OF AMERICA', MissionDate='1966-06-29', OperationSupported='ROLLING THUN', PeriodOfDay='N', TakeoffLocation='UBON AB', TargetCountry='NORTH VIETNAM', TimeOnTarget=1520.0, WeaponType='750LB GP M-117', WeaponsLoadedWeight=-1),\n",
              " Row(AirCraft='RF-4', ContryFlyingMission='UNITED STATES OF AMERICA', MissionDate='1966-06-29', OperationSupported=None, PeriodOfDay='N', TakeoffLocation='TAN SON NHUT', TargetCountry='NORTH VIETNAM', TimeOnTarget=1700.0, WeaponType='PHOTO EQUIP', WeaponsLoadedWeight=-1),\n",
              " Row(AirCraft='EA-1', ContryFlyingMission='UNITED STATES OF AMERICA', MissionDate='1966-06-29', OperationSupported='ROLLING THUN', PeriodOfDay='D', TakeoffLocation='HANCOCK (CVA-19)', TargetCountry='NORTH VIETNAM', TimeOnTarget=2200.0, WeaponType=None, WeaponsLoadedWeight=-1),\n",
              " Row(AirCraft='RF-4', ContryFlyingMission='UNITED STATES OF AMERICA', MissionDate='1966-06-29', OperationSupported=None, PeriodOfDay='N', TakeoffLocation='TAN SON NHUT', TargetCountry='NORTH VIETNAM', TimeOnTarget=1155.0, WeaponType='PHOTO EQUIP', WeaponsLoadedWeight=-1),\n",
              " Row(AirCraft='C-130', ContryFlyingMission='UNITED STATES OF AMERICA', MissionDate='1966-06-29', OperationSupported='ROLLING THUN', PeriodOfDay='N', TakeoffLocation='DANANG', TargetCountry='NORTH VIETNAM', TimeOnTarget=1205.0, WeaponType=None, WeaponsLoadedWeight=-1),\n",
              " Row(AirCraft='F-4', ContryFlyingMission='UNITED STATES OF AMERICA', MissionDate='1966-06-29', OperationSupported='ROLLING THUN', PeriodOfDay=None, TakeoffLocation='DANANG', TargetCountry='NORTH VIETNAM', TimeOnTarget=515.0, WeaponType=None, WeaponsLoadedWeight=-1),\n",
              " Row(AirCraft='A-1', ContryFlyingMission='UNITED STATES OF AMERICA', MissionDate='1966-06-29', OperationSupported='ROLLING THUN', PeriodOfDay='D', TakeoffLocation='RANGER', TargetCountry='NORTH VIETNAM', TimeOnTarget=2342.0, WeaponType='500LB GP M-64', WeaponsLoadedWeight=-1),\n",
              " Row(AirCraft='A-6', ContryFlyingMission='UNITED STATES OF AMERICA', MissionDate='1966-06-29', OperationSupported='ROLLING THUN', PeriodOfDay='N', TakeoffLocation='CONSTELLATION', TargetCountry='NORTH VIETNAM', TimeOnTarget=1245.0, WeaponType='500LB GP MK-82', WeaponsLoadedWeight=-1),\n",
              " Row(AirCraft='F-4', ContryFlyingMission='UNITED STATES OF AMERICA', MissionDate='1966-06-29', OperationSupported='ROLLING THUN', PeriodOfDay='D', TakeoffLocation='CONSTELLATION', TargetCountry='NORTH VIETNAM', TimeOnTarget=0.0, WeaponType=None, WeaponsLoadedWeight=-1),\n",
              " Row(AirCraft='RF-4', ContryFlyingMission='UNITED STATES OF AMERICA', MissionDate='1966-06-29', OperationSupported=None, PeriodOfDay='N', TakeoffLocation='TAN SON NHUT', TargetCountry='NORTH VIETNAM', TimeOnTarget=1636.0, WeaponType='PHOTO EQUIP', WeaponsLoadedWeight=-1),\n",
              " Row(AirCraft='F-4', ContryFlyingMission='UNITED STATES OF AMERICA', MissionDate='1966-06-29', OperationSupported='ROLLING THUN', PeriodOfDay='N', TakeoffLocation='UBON AB', TargetCountry='NORTH VIETNAM', TimeOnTarget=1945.0, WeaponType='CBU-2', WeaponsLoadedWeight=-1),\n",
              " Row(AirCraft='B-66', ContryFlyingMission='UNITED STATES OF AMERICA', MissionDate='1966-06-29', OperationSupported='FOG BOUND', PeriodOfDay='D', TakeoffLocation='TAKHLI', TargetCountry='NORTH VIETNAM', TimeOnTarget=738.0, WeaponType=None, WeaponsLoadedWeight=-1),\n",
              " Row(AirCraft='A-4', ContryFlyingMission='UNITED STATES OF AMERICA', MissionDate='1966-06-29', OperationSupported='ROLLING THUN', PeriodOfDay='D', TakeoffLocation='CONSTELLATION', TargetCountry='NORTH VIETNAM', TimeOnTarget=800.0, WeaponType='250LB MK-81', WeaponsLoadedWeight=-1),\n",
              " Row(AirCraft='F-105', ContryFlyingMission='UNITED STATES OF AMERICA', MissionDate='1966-06-29', OperationSupported='ROLLING THUN', PeriodOfDay='D', TakeoffLocation='KORAT', TargetCountry='NORTH VIETNAM', TimeOnTarget=40.0, WeaponType='1000LB GP M-65', WeaponsLoadedWeight=-1),\n",
              " Row(AirCraft='B-66', ContryFlyingMission='UNITED STATES OF AMERICA', MissionDate='1966-06-29', OperationSupported='FOG BOUND', PeriodOfDay='D', TakeoffLocation='TAKHLI', TargetCountry='NORTH VIETNAM', TimeOnTarget=2309.0, WeaponType=None, WeaponsLoadedWeight=-1),\n",
              " Row(AirCraft='A-4', ContryFlyingMission='UNITED STATES OF AMERICA', MissionDate='1966-06-29', OperationSupported='ROLLING THUN', PeriodOfDay='D', TakeoffLocation='RANGER', TargetCountry='NORTH VIETNAM', TimeOnTarget=453.0, WeaponType='LAU-3A/AERO7', WeaponsLoadedWeight=-1),\n",
              " Row(AirCraft='F-4', ContryFlyingMission='UNITED STATES OF AMERICA', MissionDate='1966-06-29', OperationSupported='ROLLING THUN', PeriodOfDay='E', TakeoffLocation='CONSTELLATION', TargetCountry='NORTH VIETNAM', TimeOnTarget=0.0, WeaponType=None, WeaponsLoadedWeight=-1),\n",
              " Row(AirCraft='RF-101', ContryFlyingMission='UNITED STATES OF AMERICA', MissionDate='1966-06-29', OperationSupported=None, PeriodOfDay='D', TakeoffLocation='UDORN AB', TargetCountry='NORTH VIETNAM', TimeOnTarget=931.0, WeaponType='PHOTO EQUIP', WeaponsLoadedWeight=-1),\n",
              " Row(AirCraft='F-105', ContryFlyingMission='UNITED STATES OF AMERICA', MissionDate='1966-06-29', OperationSupported='ROLLING THUN', PeriodOfDay=None, TakeoffLocation='TAKHLI', TargetCountry='NORTH VIETNAM', TimeOnTarget=730.0, WeaponType=None, WeaponsLoadedWeight=-1),\n",
              " Row(AirCraft='B-66', ContryFlyingMission='UNITED STATES OF AMERICA', MissionDate='1966-06-29', OperationSupported='FOG BOUND', PeriodOfDay='D', TakeoffLocation='TAKHLI', TargetCountry='NORTH VIETNAM', TimeOnTarget=515.0, WeaponType=None, WeaponsLoadedWeight=-1),\n",
              " Row(AirCraft='B-57', ContryFlyingMission='UNITED STATES OF AMERICA', MissionDate='1966-06-29', OperationSupported='ROLLING THUN', PeriodOfDay='N', TakeoffLocation='DANANG', TargetCountry='NORTH VIETNAM', TimeOnTarget=1327.0, WeaponType=None, WeaponsLoadedWeight=-1),\n",
              " Row(AirCraft='A-4', ContryFlyingMission='UNITED STATES OF AMERICA', MissionDate='1966-06-29', OperationSupported='ROLLING THUN', PeriodOfDay='D', TakeoffLocation='RANGER', TargetCountry='NORTH VIETNAM', TimeOnTarget=453.0, WeaponType='2.75IN HE RKT', WeaponsLoadedWeight=-1),\n",
              " Row(AirCraft='F-105', ContryFlyingMission='UNITED STATES OF AMERICA', MissionDate='1966-06-29', OperationSupported='ROLLING THUN', PeriodOfDay='D', TakeoffLocation='KORAT', TargetCountry='NORTH VIETNAM', TimeOnTarget=0.0, WeaponType=None, WeaponsLoadedWeight=-1),\n",
              " Row(AirCraft='F-105', ContryFlyingMission='UNITED STATES OF AMERICA', MissionDate='1966-06-29', OperationSupported='IRON HAND', PeriodOfDay='D', TakeoffLocation='KORAT', TargetCountry='NORTH VIETNAM', TimeOnTarget=457.0, WeaponType=None, WeaponsLoadedWeight=-1),\n",
              " Row(AirCraft='RF-4', ContryFlyingMission='UNITED STATES OF AMERICA', MissionDate='1966-06-29', OperationSupported=None, PeriodOfDay='N', TakeoffLocation='TAN SON NHUT', TargetCountry='NORTH VIETNAM', TimeOnTarget=0.0, WeaponType=None, WeaponsLoadedWeight=-1),\n",
              " Row(AirCraft='A-1', ContryFlyingMission='VIETNAM (SOUTH)', MissionDate='1966-06-29', OperationSupported='ROLLING THUN', PeriodOfDay='D', TakeoffLocation='DANANG', TargetCountry='NORTH VIETNAM', TimeOnTarget=540.0, WeaponType='500LB GP M-64', WeaponsLoadedWeight=-1),\n",
              " Row(AirCraft='A-4', ContryFlyingMission='UNITED STATES OF AMERICA', MissionDate='1966-06-29', OperationSupported='ROLLING THUN', PeriodOfDay='D', TakeoffLocation='CONSTELLATION', TargetCountry='NORTH VIETNAM', TimeOnTarget=450.0, WeaponType='500LB GP MK-82', WeaponsLoadedWeight=-1),\n",
              " Row(AirCraft='F-100', ContryFlyingMission='UNITED STATES OF AMERICA', MissionDate='1966-06-29', OperationSupported='IRON HAND', PeriodOfDay='N', TakeoffLocation='KORAT', TargetCountry='NORTH VIETNAM', TimeOnTarget=1420.0, WeaponType=None, WeaponsLoadedWeight=-1),\n",
              " Row(AirCraft='A-1', ContryFlyingMission='UNITED STATES OF AMERICA', MissionDate='1966-06-29', OperationSupported='ROLLING THUN', PeriodOfDay='D', TakeoffLocation='RANGER', TargetCountry='NORTH VIETNAM', TimeOnTarget=0.0, WeaponType=None, WeaponsLoadedWeight=-1),\n",
              " Row(AirCraft='F-4', ContryFlyingMission='UNITED STATES OF AMERICA', MissionDate='1966-06-29', OperationSupported='ROLLING THUN', PeriodOfDay='D', TakeoffLocation='RANGER', TargetCountry='NORTH VIETNAM', TimeOnTarget=0.0, WeaponType=None, WeaponsLoadedWeight=-1),\n",
              " Row(AirCraft='F-105', ContryFlyingMission='UNITED STATES OF AMERICA', MissionDate='1966-06-29', OperationSupported='ROLLING THUN', PeriodOfDay='D', TakeoffLocation='TAKHLI', TargetCountry='NORTH VIETNAM', TimeOnTarget=15.0, WeaponType=None, WeaponsLoadedWeight=-1),\n",
              " Row(AirCraft='F-4', ContryFlyingMission='UNITED STATES OF AMERICA', MissionDate='1966-06-29', OperationSupported='ROLLING THUN', PeriodOfDay='N', TakeoffLocation='UBON AB', TargetCountry='NORTH VIETNAM', TimeOnTarget=1150.0, WeaponType='LAU-3A/AERO7', WeaponsLoadedWeight=-1),\n",
              " Row(AirCraft='RF-101', ContryFlyingMission='UNITED STATES OF AMERICA', MissionDate='1966-06-29', OperationSupported=None, PeriodOfDay=None, TakeoffLocation='UDORN AB', TargetCountry='NORTH VIETNAM', TimeOnTarget=0.0, WeaponType=None, WeaponsLoadedWeight=-1),\n",
              " Row(AirCraft='F-105', ContryFlyingMission='UNITED STATES OF AMERICA', MissionDate='1966-06-29', OperationSupported='IRON HAND', PeriodOfDay='D', TakeoffLocation='KORAT', TargetCountry='NORTH VIETNAM', TimeOnTarget=457.0, WeaponType=None, WeaponsLoadedWeight=-1),\n",
              " Row(AirCraft='F-105', ContryFlyingMission='UNITED STATES OF AMERICA', MissionDate='1966-06-29', OperationSupported='ROLLING THUN', PeriodOfDay=None, TakeoffLocation='TAKHLI', TargetCountry='NORTH VIETNAM', TimeOnTarget=5.0, WeaponType=None, WeaponsLoadedWeight=-1),\n",
              " Row(AirCraft='F-105', ContryFlyingMission='UNITED STATES OF AMERICA', MissionDate='1966-06-29', OperationSupported='IRON HAND', PeriodOfDay='D', TakeoffLocation='KORAT', TargetCountry='NORTH VIETNAM', TimeOnTarget=510.0, WeaponType='LAU-3A/AERO7', WeaponsLoadedWeight=-1),\n",
              " Row(AirCraft='F-4', ContryFlyingMission='UNITED STATES OF AMERICA', MissionDate='1966-06-29', OperationSupported='ROLLING THUN', PeriodOfDay='N', TakeoffLocation='UBON AB', TargetCountry='NORTH VIETNAM', TimeOnTarget=1235.0, WeaponType='2.75IN HEAT RK', WeaponsLoadedWeight=-1),\n",
              " Row(AirCraft='F-105', ContryFlyingMission='UNITED STATES OF AMERICA', MissionDate='1966-06-29', OperationSupported='ROLLING THUN', PeriodOfDay='D', TakeoffLocation='KORAT', TargetCountry='NORTH VIETNAM', TimeOnTarget=230.0, WeaponType='M-61', WeaponsLoadedWeight=-1),\n",
              " Row(AirCraft='A-1', ContryFlyingMission='UNITED STATES OF AMERICA', MissionDate='1966-06-29', OperationSupported='ROLLING THUN', PeriodOfDay='D', TakeoffLocation='RANGER', TargetCountry='NORTH VIETNAM', TimeOnTarget=2336.0, WeaponType='2000LB M-66', WeaponsLoadedWeight=-1),\n",
              " Row(AirCraft='A-1', ContryFlyingMission='UNITED STATES OF AMERICA', MissionDate='1966-06-29', OperationSupported='ROLLING THUN', PeriodOfDay='D', TakeoffLocation='UDORN AB', TargetCountry='NORTH VIETNAM', TimeOnTarget=2350.0, WeaponType=None, WeaponsLoadedWeight=-1),\n",
              " Row(AirCraft='A-4', ContryFlyingMission='UNITED STATES OF AMERICA', MissionDate='1966-06-29', OperationSupported='ROLLING THUN', PeriodOfDay='D', TakeoffLocation='CONSTELLATION', TargetCountry='NORTH VIETNAM', TimeOnTarget=321.0, WeaponType='500LB GP MK-82', WeaponsLoadedWeight=-1),\n",
              " Row(AirCraft='A-1', ContryFlyingMission='VIETNAM (SOUTH)', MissionDate='1966-06-29', OperationSupported='ROLLING THUN', PeriodOfDay='D', TakeoffLocation='DANANG', TargetCountry='NORTH VIETNAM', TimeOnTarget=0.0, WeaponType=None, WeaponsLoadedWeight=-1),\n",
              " Row(AirCraft='RB-66', ContryFlyingMission='UNITED STATES OF AMERICA', MissionDate='1966-06-29', OperationSupported='FOG BOUND', PeriodOfDay='D', TakeoffLocation='TAKHLI', TargetCountry='NORTH VIETNAM', TimeOnTarget=513.0, WeaponType=None, WeaponsLoadedWeight=-1),\n",
              " Row(AirCraft='F-105', ContryFlyingMission='UNITED STATES OF AMERICA', MissionDate='1966-06-29', OperationSupported='ROLLING THUN', PeriodOfDay='D', TakeoffLocation='KORAT', TargetCountry='NORTH VIETNAM', TimeOnTarget=0.0, WeaponType=None, WeaponsLoadedWeight=-1),\n",
              " Row(AirCraft='RA-5', ContryFlyingMission='UNITED STATES OF AMERICA', MissionDate='1966-06-29', OperationSupported=None, PeriodOfDay='D', TakeoffLocation='CONSTELLATION', TargetCountry='NORTH VIETNAM', TimeOnTarget=457.0, WeaponType='PHOTO EQUIP', WeaponsLoadedWeight=-1),\n",
              " Row(AirCraft='F-4', ContryFlyingMission='UNITED STATES OF AMERICA', MissionDate='1966-06-29', OperationSupported='ROLLING THUN', PeriodOfDay='E', TakeoffLocation='CONSTELLATION', TargetCountry='NORTH VIETNAM', TimeOnTarget=0.0, WeaponType=None, WeaponsLoadedWeight=-1),\n",
              " Row(AirCraft='RB-66', ContryFlyingMission='UNITED STATES OF AMERICA', MissionDate='1966-06-29', OperationSupported='FOG BOUND', PeriodOfDay='N', TakeoffLocation='TAKHLI', TargetCountry='NORTH VIETNAM', TimeOnTarget=1456.0, WeaponType=None, WeaponsLoadedWeight=-1),\n",
              " Row(AirCraft='B-66', ContryFlyingMission='UNITED STATES OF AMERICA', MissionDate='1966-06-29', OperationSupported='FOG BOUND', PeriodOfDay='D', TakeoffLocation='TAKHLI', TargetCountry='NORTH VIETNAM', TimeOnTarget=30.0, WeaponType=None, WeaponsLoadedWeight=-1),\n",
              " Row(AirCraft='RF-101', ContryFlyingMission='UNITED STATES OF AMERICA', MissionDate='1966-06-29', OperationSupported=None, PeriodOfDay='D', TakeoffLocation='UDORN AB', TargetCountry='NORTH VIETNAM', TimeOnTarget=323.0, WeaponType='PHOTO EQUIP', WeaponsLoadedWeight=-1),\n",
              " Row(AirCraft='A-4', ContryFlyingMission='UNITED STATES OF AMERICA', MissionDate='1966-06-29', OperationSupported='ROLLING THUN', PeriodOfDay='D', TakeoffLocation='CONSTELLATION', TargetCountry='NORTH VIETNAM', TimeOnTarget=152.0, WeaponType=None, WeaponsLoadedWeight=-1),\n",
              " Row(AirCraft='EC-121', ContryFlyingMission='UNITED STATES OF AMERICA', MissionDate='1966-06-29', OperationSupported='ROLLING THUN', PeriodOfDay='D', TakeoffLocation='DANANG', TargetCountry='NORTH VIETNAM', TimeOnTarget=2243.0, WeaponType=None, WeaponsLoadedWeight=-1),\n",
              " Row(AirCraft='A-4', ContryFlyingMission='UNITED STATES OF AMERICA', MissionDate='1966-06-29', OperationSupported='ROLLING THUN', PeriodOfDay='D', TakeoffLocation='RANGER', TargetCountry='NORTH VIETNAM', TimeOnTarget=55.0, WeaponType=None, WeaponsLoadedWeight=-1),\n",
              " Row(AirCraft='B-57', ContryFlyingMission='UNITED STATES OF AMERICA', MissionDate='1966-06-29', OperationSupported='ROLLING THUN', PeriodOfDay='N', TakeoffLocation='DANANG', TargetCountry='NORTH VIETNAM', TimeOnTarget=1918.0, WeaponType='250LB M-57', WeaponsLoadedWeight=-1),\n",
              " Row(AirCraft='RF-4', ContryFlyingMission='UNITED STATES OF AMERICA', MissionDate='1966-06-29', OperationSupported=None, PeriodOfDay='N', TakeoffLocation='TAN SON NHUT', TargetCountry='NORTH VIETNAM', TimeOnTarget=1805.0, WeaponType='PHOTO EQUIP', WeaponsLoadedWeight=-1),\n",
              " Row(AirCraft='F-4', ContryFlyingMission='UNITED STATES OF AMERICA', MissionDate='1966-06-29', OperationSupported='ROLLING THUN', PeriodOfDay='D', TakeoffLocation='RANGER', TargetCountry='NORTH VIETNAM', TimeOnTarget=0.0, WeaponType=None, WeaponsLoadedWeight=-1),\n",
              " Row(AirCraft='C-130', ContryFlyingMission='UNITED STATES OF AMERICA', MissionDate='1966-06-29', OperationSupported='ROLLING THUN', PeriodOfDay='N', TakeoffLocation='UBON AB', TargetCountry='NORTH VIETNAM', TimeOnTarget=1840.0, WeaponType=None, WeaponsLoadedWeight=-1),\n",
              " Row(AirCraft='F-4', ContryFlyingMission='UNITED STATES OF AMERICA', MissionDate='1966-06-29', OperationSupported='ROLLING THUN', PeriodOfDay='N', TakeoffLocation='UBON AB', TargetCountry='NORTH VIETNAM', TimeOnTarget=1315.0, WeaponType='MK-24', WeaponsLoadedWeight=-1),\n",
              " Row(AirCraft='F-105', ContryFlyingMission='UNITED STATES OF AMERICA', MissionDate='1966-06-29', OperationSupported='ROLLING THUN', PeriodOfDay='D', TakeoffLocation='KORAT', TargetCountry='NORTH VIETNAM', TimeOnTarget=845.0, WeaponType=None, WeaponsLoadedWeight=-1),\n",
              " Row(AirCraft='F-100', ContryFlyingMission='UNITED STATES OF AMERICA', MissionDate='1966-06-29', OperationSupported='ROLLING THUN', PeriodOfDay=None, TakeoffLocation='DANANG', TargetCountry='NORTH VIETNAM', TimeOnTarget=945.0, WeaponType=None, WeaponsLoadedWeight=-1),\n",
              " Row(AirCraft='A-6', ContryFlyingMission='UNITED STATES OF AMERICA', MissionDate='1966-06-29', OperationSupported='ROLLING THUN', PeriodOfDay='N', TakeoffLocation='CONSTELLATION', TargetCountry='NORTH VIETNAM', TimeOnTarget=1245.0, WeaponType='2000LB MK-84', WeaponsLoadedWeight=-1),\n",
              " Row(AirCraft='A-4', ContryFlyingMission='UNITED STATES OF AMERICA', MissionDate='1966-06-29', OperationSupported='ROLLING THUN', PeriodOfDay='D', TakeoffLocation='CONSTELLATION', TargetCountry='NORTH VIETNAM', TimeOnTarget=145.0, WeaponType='500LB GP MK-82', WeaponsLoadedWeight=-1),\n",
              " Row(AirCraft='RA-5', ContryFlyingMission='UNITED STATES OF AMERICA', MissionDate='1966-06-29', OperationSupported=None, PeriodOfDay='D', TakeoffLocation='CONSTELLATION', TargetCountry='NORTH VIETNAM', TimeOnTarget=457.0, WeaponType=None, WeaponsLoadedWeight=-1),\n",
              " Row(AirCraft='A-1', ContryFlyingMission='UNITED STATES OF AMERICA', MissionDate='1966-06-29', OperationSupported='ROLLING THUN', PeriodOfDay='D', TakeoffLocation='UDORN AB', TargetCountry='NORTH VIETNAM', TimeOnTarget=100.0, WeaponType=None, WeaponsLoadedWeight=-1),\n",
              " Row(AirCraft='A-4', ContryFlyingMission='UNITED STATES OF AMERICA', MissionDate='1966-06-29', OperationSupported='ROLLING THUN', PeriodOfDay='D', TakeoffLocation='CONSTELLATION', TargetCountry='NORTH VIETNAM', TimeOnTarget=750.0, WeaponType='2.75IN HE RKT', WeaponsLoadedWeight=-1),\n",
              " Row(AirCraft='A-3', ContryFlyingMission='UNITED STATES OF AMERICA', MissionDate='1966-06-29', OperationSupported='ROLLING THUN', PeriodOfDay='N', TakeoffLocation='CONSTELLATION', TargetCountry='NORTH VIETNAM', TimeOnTarget=0.0, WeaponType=None, WeaponsLoadedWeight=-1),\n",
              " Row(AirCraft='A-3', ContryFlyingMission='UNITED STATES OF AMERICA', MissionDate='1966-06-29', OperationSupported='ROLLING THUN', PeriodOfDay='D', TakeoffLocation='CONSTELLATION', TargetCountry='NORTH VIETNAM', TimeOnTarget=0.0, WeaponType=None, WeaponsLoadedWeight=-1),\n",
              " Row(AirCraft='E-2', ContryFlyingMission='UNITED STATES OF AMERICA', MissionDate='1966-06-29', OperationSupported='ROLLING THUN', PeriodOfDay='D', TakeoffLocation='CONSTELLATION', TargetCountry='NORTH VIETNAM', TimeOnTarget=0.0, WeaponType=None, WeaponsLoadedWeight=-1),\n",
              " Row(AirCraft='F-4', ContryFlyingMission='UNITED STATES OF AMERICA', MissionDate='1966-06-29', OperationSupported='ROLLING THUN', PeriodOfDay='N', TakeoffLocation='UBON AB', TargetCountry='NORTH VIETNAM', TimeOnTarget=2015.0, WeaponType='750LB GP M-117', WeaponsLoadedWeight=-1),\n",
              " Row(AirCraft='EA-1', ContryFlyingMission='UNITED STATES OF AMERICA', MissionDate='1966-06-29', OperationSupported='ROLLING THUN', PeriodOfDay='D', TakeoffLocation='RANGER', TargetCountry='NORTH VIETNAM', TimeOnTarget=0.0, WeaponType=None, WeaponsLoadedWeight=-1),\n",
              " Row(AirCraft='A-4', ContryFlyingMission='UNITED STATES OF AMERICA', MissionDate='1966-06-29', OperationSupported='ROLLING THUN', PeriodOfDay='D', TakeoffLocation='RANGER', TargetCountry='NORTH VIETNAM', TimeOnTarget=57.0, WeaponType='SHRIKE', WeaponsLoadedWeight=-1),\n",
              " Row(AirCraft='F-4', ContryFlyingMission='UNITED STATES OF AMERICA', MissionDate='1966-06-29', OperationSupported='ROLLING THUN', PeriodOfDay='D', TakeoffLocation='CONSTELLATION', TargetCountry='NORTH VIETNAM', TimeOnTarget=0.0, WeaponType=None, WeaponsLoadedWeight=-1),\n",
              " Row(AirCraft='A-4', ContryFlyingMission='UNITED STATES OF AMERICA', MissionDate='1966-06-29', OperationSupported='ROLLING THUN', PeriodOfDay='D', TakeoffLocation='CONSTELLATION', TargetCountry='NORTH VIETNAM', TimeOnTarget=330.0, WeaponType='250LB MK-81', WeaponsLoadedWeight=-1),\n",
              " Row(AirCraft='A-4', ContryFlyingMission='UNITED STATES OF AMERICA', MissionDate='1966-06-29', OperationSupported='ROLLING THUN', PeriodOfDay='D', TakeoffLocation='HANCOCK (CVA-19)', TargetCountry='NORTH VIETNAM', TimeOnTarget=2300.0, WeaponType=None, WeaponsLoadedWeight=-1),\n",
              " Row(AirCraft='A-3', ContryFlyingMission='UNITED STATES OF AMERICA', MissionDate='1966-06-29', OperationSupported='ROLLING THUN', PeriodOfDay='D', TakeoffLocation='CONSTELLATION', TargetCountry='NORTH VIETNAM', TimeOnTarget=0.0, WeaponType=None, WeaponsLoadedWeight=-1),\n",
              " Row(AirCraft='A-3', ContryFlyingMission='UNITED STATES OF AMERICA', MissionDate='1966-06-29', OperationSupported='ROLLING THUN', PeriodOfDay='D', TakeoffLocation='CONSTELLATION', TargetCountry='NORTH VIETNAM', TimeOnTarget=0.0, WeaponType=None, WeaponsLoadedWeight=-1),\n",
              " Row(AirCraft='F-105', ContryFlyingMission='UNITED STATES OF AMERICA', MissionDate='1966-06-29', OperationSupported='ROLLING THUN', PeriodOfDay='D', TakeoffLocation='TAKHLI', TargetCountry='NORTH VIETNAM', TimeOnTarget=125.0, WeaponType='M-61', WeaponsLoadedWeight=-1),\n",
              " Row(AirCraft='AC-47', ContryFlyingMission='UNITED STATES OF AMERICA', MissionDate='1966-06-29', OperationSupported='STEEL TIGER', PeriodOfDay='N', TakeoffLocation='DANANG', TargetCountry='NORTH VIETNAM', TimeOnTarget=1745.0, WeaponType='MK-24', WeaponsLoadedWeight=-1),\n",
              " Row(AirCraft='E-2', ContryFlyingMission='UNITED STATES OF AMERICA', MissionDate='1966-06-29', OperationSupported='ROLLING THUN', PeriodOfDay='D', TakeoffLocation='CONSTELLATION', TargetCountry='NORTH VIETNAM', TimeOnTarget=0.0, WeaponType=None, WeaponsLoadedWeight=-1),\n",
              " Row(AirCraft='A-4', ContryFlyingMission='UNITED STATES OF AMERICA', MissionDate='1966-06-29', OperationSupported='ROLLING THUN', PeriodOfDay='D', TakeoffLocation='CONSTELLATION', TargetCountry='NORTH VIETNAM', TimeOnTarget=1135.0, WeaponType='2.75IN HE RKT', WeaponsLoadedWeight=-1),\n",
              " Row(AirCraft='F-105', ContryFlyingMission='UNITED STATES OF AMERICA', MissionDate='1966-06-29', OperationSupported='ROLLING THUN', PeriodOfDay='D', TakeoffLocation='TAKHLI', TargetCountry='NORTH VIETNAM', TimeOnTarget=925.0, WeaponType='1000LB MK-83', WeaponsLoadedWeight=-1),\n",
              " Row(AirCraft='F-105', ContryFlyingMission='UNITED STATES OF AMERICA', MissionDate='1966-06-29', OperationSupported='ROLLING THUN', PeriodOfDay='D', TakeoffLocation='TAKHLI', TargetCountry='NORTH VIETNAM', TimeOnTarget=105.0, WeaponType='1000LB MK-83', WeaponsLoadedWeight=-1),\n",
              " Row(AirCraft='F-105', ContryFlyingMission='UNITED STATES OF AMERICA', MissionDate='1966-06-29', OperationSupported='ROLLING THUN', PeriodOfDay='D', TakeoffLocation='TAKHLI', TargetCountry='NORTH VIETNAM', TimeOnTarget=535.0, WeaponType='M-61', WeaponsLoadedWeight=-1),\n",
              " Row(AirCraft='F-4', ContryFlyingMission='UNITED STATES OF AMERICA', MissionDate='1966-06-29', OperationSupported='ROLLING THUN', PeriodOfDay='N', TakeoffLocation='UBON AB', TargetCountry='NORTH VIETNAM', TimeOnTarget=1945.0, WeaponType='CBU-2', WeaponsLoadedWeight=-1),\n",
              " Row(AirCraft='F-100', ContryFlyingMission='UNITED STATES OF AMERICA', MissionDate='1966-06-29', OperationSupported='IRON HAND', PeriodOfDay='N', TakeoffLocation='KORAT', TargetCountry='NORTH VIETNAM', TimeOnTarget=2010.0, WeaponType=None, WeaponsLoadedWeight=-1),\n",
              " Row(AirCraft='F-105', ContryFlyingMission='UNITED STATES OF AMERICA', MissionDate='1966-06-29', OperationSupported='ROLLING THUN', PeriodOfDay='D', TakeoffLocation='KORAT', TargetCountry='NORTH VIETNAM', TimeOnTarget=1045.0, WeaponType=None, WeaponsLoadedWeight=-1),\n",
              " Row(AirCraft='A-1', ContryFlyingMission='VIETNAM (SOUTH)', MissionDate='1966-06-29', OperationSupported='ROLLING THUN', PeriodOfDay='D', TakeoffLocation='DANANG', TargetCountry='NORTH VIETNAM', TimeOnTarget=540.0, WeaponType=None, WeaponsLoadedWeight=-1),\n",
              " Row(AirCraft='F-105', ContryFlyingMission='UNITED STATES OF AMERICA', MissionDate='1966-06-29', OperationSupported='IRON HAND', PeriodOfDay='D', TakeoffLocation='KORAT', TargetCountry='NORTH VIETNAM', TimeOnTarget=508.0, WeaponType='SHRIKE', WeaponsLoadedWeight=-1),\n",
              " Row(AirCraft='F-4', ContryFlyingMission='UNITED STATES OF AMERICA', MissionDate='1966-06-29', OperationSupported='ROLLING THUN', PeriodOfDay='D', TakeoffLocation='CONSTELLATION', TargetCountry='NORTH VIETNAM', TimeOnTarget=0.0, WeaponType=None, WeaponsLoadedWeight=-1),\n",
              " Row(AirCraft='F-4', ContryFlyingMission='UNITED STATES OF AMERICA', MissionDate='1966-06-29', OperationSupported='ROLLING THUN', PeriodOfDay='D', TakeoffLocation='RANGER', TargetCountry='NORTH VIETNAM', TimeOnTarget=0.0, WeaponType=None, WeaponsLoadedWeight=-1),\n",
              " Row(AirCraft='F-4', ContryFlyingMission='UNITED STATES OF AMERICA', MissionDate='1966-06-29', OperationSupported='ROLLING THUN', PeriodOfDay='N', TakeoffLocation='UBON AB', TargetCountry='NORTH VIETNAM', TimeOnTarget=1235.0, WeaponType='MK-24', WeaponsLoadedWeight=-1),\n",
              " Row(AirCraft='A-3', ContryFlyingMission='UNITED STATES OF AMERICA', MissionDate='1966-06-29', OperationSupported='ROLLING THUN', PeriodOfDay='N', TakeoffLocation='CONSTELLATION', TargetCountry='NORTH VIETNAM', TimeOnTarget=0.0, WeaponType=None, WeaponsLoadedWeight=-1),\n",
              " Row(AirCraft='F-4', ContryFlyingMission='UNITED STATES OF AMERICA', MissionDate='1966-06-29', OperationSupported='ROLLING THUN', PeriodOfDay='N', TakeoffLocation='UBON AB', TargetCountry='NORTH VIETNAM', TimeOnTarget=1315.0, WeaponType='2.75IN HEAT RK', WeaponsLoadedWeight=-1),\n",
              " Row(AirCraft='F-4', ContryFlyingMission='UNITED STATES OF AMERICA', MissionDate='1966-06-29', OperationSupported='ROLLING THUN', PeriodOfDay='N', TakeoffLocation='UBON AB', TargetCountry='NORTH VIETNAM', TimeOnTarget=1445.0, WeaponType=None, WeaponsLoadedWeight=-1),\n",
              " Row(AirCraft='F-105', ContryFlyingMission='UNITED STATES OF AMERICA', MissionDate='1966-06-29', OperationSupported='ROLLING THUN', PeriodOfDay='D', TakeoffLocation='TAKHLI', TargetCountry='NORTH VIETNAM', TimeOnTarget=541.0, WeaponType=None, WeaponsLoadedWeight=-1),\n",
              " Row(AirCraft='A-4', ContryFlyingMission='UNITED STATES OF AMERICA', MissionDate='1966-06-29', OperationSupported='ROLLING THUN', PeriodOfDay='D', TakeoffLocation='RANGER', TargetCountry='NORTH VIETNAM', TimeOnTarget=453.0, WeaponType=None, WeaponsLoadedWeight=-1),\n",
              " Row(AirCraft='A-6', ContryFlyingMission='UNITED STATES OF AMERICA', MissionDate='1966-06-29', OperationSupported='ROLLING THUN', PeriodOfDay='D', TakeoffLocation='CONSTELLATION', TargetCountry='NORTH VIETNAM', TimeOnTarget=0.0, WeaponType=None, WeaponsLoadedWeight=-1),\n",
              " Row(AirCraft='EA-3', ContryFlyingMission='UNITED STATES OF AMERICA', MissionDate='1966-06-29', OperationSupported='ROLLING THUN', PeriodOfDay='D', TakeoffLocation='CUBI PT', TargetCountry='NORTH VIETNAM', TimeOnTarget=441.0, WeaponType=None, WeaponsLoadedWeight=-1),\n",
              " Row(AirCraft='A-1', ContryFlyingMission='UNITED STATES OF AMERICA', MissionDate='1966-06-29', OperationSupported='ROLLING THUN', PeriodOfDay='D', TakeoffLocation='UDORN AB', TargetCountry='NORTH VIETNAM', TimeOnTarget=120.0, WeaponType='5.0IN HVAR RKT', WeaponsLoadedWeight=-1),\n",
              " Row(AirCraft='F-4', ContryFlyingMission='UNITED STATES OF AMERICA', MissionDate='1966-06-29', OperationSupported='ROLLING THUN', PeriodOfDay='M', TakeoffLocation='RANGER', TargetCountry='NORTH VIETNAM', TimeOnTarget=0.0, WeaponType=None, WeaponsLoadedWeight=-1),\n",
              " Row(AirCraft='F-4', ContryFlyingMission='UNITED STATES OF AMERICA', MissionDate='1966-06-29', OperationSupported=None, PeriodOfDay='D', TakeoffLocation='CONSTELLATION', TargetCountry='NORTH VIETNAM', TimeOnTarget=457.0, WeaponType=None, WeaponsLoadedWeight=-1),\n",
              " Row(AirCraft='F-4', ContryFlyingMission='UNITED STATES OF AMERICA', MissionDate='1966-06-29', OperationSupported='ROLLING THUN', PeriodOfDay='D', TakeoffLocation='RANGER', TargetCountry='NORTH VIETNAM', TimeOnTarget=0.0, WeaponType=None, WeaponsLoadedWeight=-1),\n",
              " Row(AirCraft='F-105', ContryFlyingMission='UNITED STATES OF AMERICA', MissionDate='1966-06-29', OperationSupported='ROLLING THUN', PeriodOfDay=None, TakeoffLocation='TAKHLI', TargetCountry='NORTH VIETNAM', TimeOnTarget=935.0, WeaponType=None, WeaponsLoadedWeight=-1),\n",
              " Row(AirCraft='F-105', ContryFlyingMission='UNITED STATES OF AMERICA', MissionDate='1966-06-29', OperationSupported='BARREL ROLL', PeriodOfDay='D', TakeoffLocation='KORAT', TargetCountry='NORTH VIETNAM', TimeOnTarget=315.0, WeaponType='1000LB GP M-65', WeaponsLoadedWeight=-1),\n",
              " Row(AirCraft='A-4', ContryFlyingMission='UNITED STATES OF AMERICA', MissionDate='1966-06-29', OperationSupported='ROLLING THUN', PeriodOfDay='D', TakeoffLocation='CONSTELLATION', TargetCountry='NORTH VIETNAM', TimeOnTarget=800.0, WeaponType='2.75IN HE RKT', WeaponsLoadedWeight=-1),\n",
              " Row(AirCraft='E-2', ContryFlyingMission='UNITED STATES OF AMERICA', MissionDate='1966-06-29', OperationSupported='ROLLING THUN', PeriodOfDay='D', TakeoffLocation='CONSTELLATION', TargetCountry='NORTH VIETNAM', TimeOnTarget=0.0, WeaponType=None, WeaponsLoadedWeight=-1),\n",
              " Row(AirCraft='F-4', ContryFlyingMission='UNITED STATES OF AMERICA', MissionDate='1966-06-29', OperationSupported='ROLLING THUN', PeriodOfDay='D', TakeoffLocation='CONSTELLATION', TargetCountry='NORTH VIETNAM', TimeOnTarget=0.0, WeaponType=None, WeaponsLoadedWeight=-1),\n",
              " Row(AirCraft='RF-4', ContryFlyingMission='UNITED STATES OF AMERICA', MissionDate='1966-06-29', OperationSupported=None, PeriodOfDay='N', TakeoffLocation='TAN SON NHUT', TargetCountry='NORTH VIETNAM', TimeOnTarget=1630.0, WeaponType='PHOTO EQUIP', WeaponsLoadedWeight=-1),\n",
              " Row(AirCraft='B-66', ContryFlyingMission='UNITED STATES OF AMERICA', MissionDate='1966-06-29', OperationSupported='ROLLING THUN', PeriodOfDay='D', TakeoffLocation='TAKHLI', TargetCountry='NORTH VIETNAM', TimeOnTarget=0.0, WeaponType=None, WeaponsLoadedWeight=-1),\n",
              " Row(AirCraft='F-8', ContryFlyingMission='UNITED STATES OF AMERICA', MissionDate='1966-06-29', OperationSupported='ROLLING THUN', PeriodOfDay='D', TakeoffLocation='HANCOCK (CVA-19)', TargetCountry='NORTH VIETNAM', TimeOnTarget=2245.0, WeaponType=None, WeaponsLoadedWeight=-1),\n",
              " Row(AirCraft='AC-47', ContryFlyingMission='UNITED STATES OF AMERICA', MissionDate='1966-06-29', OperationSupported='STEEL TIGER', PeriodOfDay='N', TakeoffLocation='DANANG', TargetCountry='NORTH VIETNAM', TimeOnTarget=1745.0, WeaponType='7.62MM', WeaponsLoadedWeight=-1),\n",
              " Row(AirCraft='A-4', ContryFlyingMission='UNITED STATES OF AMERICA', MissionDate='1966-06-29', OperationSupported='ROLLING THUN', PeriodOfDay='D', TakeoffLocation='CONSTELLATION', TargetCountry='NORTH VIETNAM', TimeOnTarget=223.0, WeaponType=None, WeaponsLoadedWeight=-1),\n",
              " Row(AirCraft='RF-4', ContryFlyingMission='UNITED STATES OF AMERICA', MissionDate='1966-06-29', OperationSupported=None, PeriodOfDay='N', TakeoffLocation='TAN SON NHUT', TargetCountry='NORTH VIETNAM', TimeOnTarget=2009.0, WeaponType='PHOTO EQUIP', WeaponsLoadedWeight=-1),\n",
              " Row(AirCraft='F-4', ContryFlyingMission='UNITED STATES OF AMERICA', MissionDate='1966-06-29', OperationSupported='ROLLING THUN', PeriodOfDay='N', TakeoffLocation='UBON AB', TargetCountry='NORTH VIETNAM', TimeOnTarget=2050.0, WeaponType='MK-24', WeaponsLoadedWeight=-1),\n",
              " Row(AirCraft='RF-4', ContryFlyingMission='UNITED STATES OF AMERICA', MissionDate='1966-06-29', OperationSupported=None, PeriodOfDay='N', TakeoffLocation='TAN SON NHUT', TargetCountry='NORTH VIETNAM', TimeOnTarget=1303.0, WeaponType='PHOTO EQUIP', WeaponsLoadedWeight=-1),\n",
              " Row(AirCraft='A-4', ContryFlyingMission='UNITED STATES OF AMERICA', MissionDate='1966-06-29', OperationSupported='ROLLING THUN', PeriodOfDay='D', TakeoffLocation='RANGER', TargetCountry='NORTH VIETNAM', TimeOnTarget=450.0, WeaponType='250LB MK-81', WeaponsLoadedWeight=-1),\n",
              " Row(AirCraft='A-4', ContryFlyingMission='UNITED STATES OF AMERICA', MissionDate='1966-06-29', OperationSupported='ROLLING THUN', PeriodOfDay='D', TakeoffLocation='CONSTELLATION', TargetCountry='NORTH VIETNAM', TimeOnTarget=450.0, WeaponType='5.0IN HEAT RKT', WeaponsLoadedWeight=-1),\n",
              " Row(AirCraft='F-105', ContryFlyingMission='UNITED STATES OF AMERICA', MissionDate='1966-06-29', OperationSupported='ROLLING THUN', PeriodOfDay='D', TakeoffLocation='TAKHLI', TargetCountry='NORTH VIETNAM', TimeOnTarget=0.0, WeaponType=None, WeaponsLoadedWeight=-1),\n",
              " Row(AirCraft='F-4', ContryFlyingMission='UNITED STATES OF AMERICA', MissionDate='1966-06-29', OperationSupported='ROLLING THUN', PeriodOfDay='D', TakeoffLocation='RANGER', TargetCountry='NORTH VIETNAM', TimeOnTarget=457.0, WeaponType='1000LB MK-83', WeaponsLoadedWeight=-1),\n",
              " Row(AirCraft='A-4', ContryFlyingMission='UNITED STATES OF AMERICA', MissionDate='1966-06-29', OperationSupported='ROLLING THUN', PeriodOfDay='D', TakeoffLocation='CONSTELLATION', TargetCountry='NORTH VIETNAM', TimeOnTarget=1135.0, WeaponType='250LB MK-81', WeaponsLoadedWeight=-1),\n",
              " Row(AirCraft='A-1', ContryFlyingMission='UNITED STATES OF AMERICA', MissionDate='1966-06-29', OperationSupported='ROLLING THUN', PeriodOfDay='D', TakeoffLocation='UDORN AB', TargetCountry='NORTH VIETNAM', TimeOnTarget=20.0, WeaponType='500BLU11/23/32', WeaponsLoadedWeight=-1),\n",
              " Row(AirCraft='A-4', ContryFlyingMission='UNITED STATES OF AMERICA', MissionDate='1966-06-29', OperationSupported='ROLLING THUN', PeriodOfDay='D', TakeoffLocation='CONSTELLATION', TargetCountry='NORTH VIETNAM', TimeOnTarget=450.0, WeaponType='250LB MK-81', WeaponsLoadedWeight=-1),\n",
              " Row(AirCraft='A-4', ContryFlyingMission='UNITED STATES OF AMERICA', MissionDate='1966-06-29', OperationSupported='ROLLING THUN', PeriodOfDay='N', TakeoffLocation='HANCOCK (CVA-19)', TargetCountry='NORTH VIETNAM', TimeOnTarget=2120.0, WeaponType='250LB MK-81', WeaponsLoadedWeight=-1),\n",
              " Row(AirCraft='A-4', ContryFlyingMission='UNITED STATES OF AMERICA', MissionDate='1966-06-29', OperationSupported='ROLLING THUN', PeriodOfDay='D', TakeoffLocation='CONSTELLATION', TargetCountry='NORTH VIETNAM', TimeOnTarget=335.0, WeaponType='250LB MK-81', WeaponsLoadedWeight=-1),\n",
              " Row(AirCraft='F-105', ContryFlyingMission='UNITED STATES OF AMERICA', MissionDate='1966-06-29', OperationSupported='ROLLING THUN', PeriodOfDay='D', TakeoffLocation='TAKHLI', TargetCountry='NORTH VIETNAM', TimeOnTarget=15.0, WeaponType='1000LB MK-83', WeaponsLoadedWeight=-1),\n",
              " Row(AirCraft='F-105', ContryFlyingMission='UNITED STATES OF AMERICA', MissionDate='1966-06-29', OperationSupported='IRON HAND', PeriodOfDay='D', TakeoffLocation='KORAT', TargetCountry='NORTH VIETNAM', TimeOnTarget=510.0, WeaponType='2.75IN HE RKT', WeaponsLoadedWeight=-1),\n",
              " Row(AirCraft='RF-101', ContryFlyingMission='UNITED STATES OF AMERICA', MissionDate='1966-06-29', OperationSupported=None, PeriodOfDay='D', TakeoffLocation='UDORN AB', TargetCountry='NORTH VIETNAM', TimeOnTarget=226.0, WeaponType='PHOTO EQUIP', WeaponsLoadedWeight=-1),\n",
              " Row(AirCraft='A-4', ContryFlyingMission='UNITED STATES OF AMERICA', MissionDate='1966-06-29', OperationSupported='ROLLING THUN', PeriodOfDay='N', TakeoffLocation='HANCOCK (CVA-19)', TargetCountry='NORTH VIETNAM', TimeOnTarget=0.0, WeaponType=None, WeaponsLoadedWeight=-1),\n",
              " Row(AirCraft='B-57', ContryFlyingMission='UNITED STATES OF AMERICA', MissionDate='1966-06-29', OperationSupported='ROLLING THUN', PeriodOfDay='N', TakeoffLocation='DANANG', TargetCountry='NORTH VIETNAM', TimeOnTarget=1425.0, WeaponType=None, WeaponsLoadedWeight=-1),\n",
              " Row(AirCraft='RF-101', ContryFlyingMission='UNITED STATES OF AMERICA', MissionDate='1966-06-29', OperationSupported=None, PeriodOfDay='D', TakeoffLocation='UDORN AB', TargetCountry='NORTH VIETNAM', TimeOnTarget=740.0, WeaponType='PHOTO EQUIP', WeaponsLoadedWeight=-1),\n",
              " Row(AirCraft='F-105', ContryFlyingMission='UNITED STATES OF AMERICA', MissionDate='1966-06-29', OperationSupported='ROLLING THUN', PeriodOfDay='D', TakeoffLocation='KORAT', TargetCountry='NORTH VIETNAM', TimeOnTarget=1045.0, WeaponType='3000LB M-118', WeaponsLoadedWeight=-1),\n",
              " Row(AirCraft='A-4', ContryFlyingMission='UNITED STATES OF AMERICA', MissionDate='1966-06-29', OperationSupported='ROLLING THUN', PeriodOfDay='D', TakeoffLocation='CONSTELLATION', TargetCountry='NORTH VIETNAM', TimeOnTarget=223.0, WeaponType='250LB MK-81', WeaponsLoadedWeight=-1),\n",
              " Row(AirCraft='F-105', ContryFlyingMission='UNITED STATES OF AMERICA', MissionDate='1966-06-29', OperationSupported='ROLLING THUN', PeriodOfDay=None, TakeoffLocation='TAKHLI', TargetCountry='NORTH VIETNAM', TimeOnTarget=320.0, WeaponType=None, WeaponsLoadedWeight=-1),\n",
              " Row(AirCraft='A-3', ContryFlyingMission='UNITED STATES OF AMERICA', MissionDate='1966-06-29', OperationSupported='ROLLING THUN', PeriodOfDay='N', TakeoffLocation='CONSTELLATION', TargetCountry='NORTH VIETNAM', TimeOnTarget=0.0, WeaponType=None, WeaponsLoadedWeight=-1),\n",
              " Row(AirCraft='RF-4', ContryFlyingMission='UNITED STATES OF AMERICA', MissionDate='1966-06-29', OperationSupported=None, PeriodOfDay='N', TakeoffLocation='TAN SON NHUT', TargetCountry='NORTH VIETNAM', TimeOnTarget=1453.0, WeaponType='PHOTO EQUIP', WeaponsLoadedWeight=-1),\n",
              " Row(AirCraft='F-105', ContryFlyingMission='UNITED STATES OF AMERICA', MissionDate='1966-06-29', OperationSupported='ROLLING THUN', PeriodOfDay=None, TakeoffLocation='TAKHLI', TargetCountry='NORTH VIETNAM', TimeOnTarget=821.0, WeaponType=None, WeaponsLoadedWeight=-1),\n",
              " Row(AirCraft='RF-101', ContryFlyingMission='UNITED STATES OF AMERICA', MissionDate='1966-06-29', OperationSupported=None, PeriodOfDay='D', TakeoffLocation='UDORN AB', TargetCountry='NORTH VIETNAM', TimeOnTarget=749.0, WeaponType='PHOTO EQUIP', WeaponsLoadedWeight=-1),\n",
              " Row(AirCraft='F-105', ContryFlyingMission='UNITED STATES OF AMERICA', MissionDate='1966-06-29', OperationSupported='ROLLING THUN', PeriodOfDay='D', TakeoffLocation='KORAT', TargetCountry='NORTH VIETNAM', TimeOnTarget=520.0, WeaponType='750LB GP M-117', WeaponsLoadedWeight=-1),\n",
              " Row(AirCraft='RF-101', ContryFlyingMission='UNITED STATES OF AMERICA', MissionDate='1966-06-29', OperationSupported=None, PeriodOfDay='D', TakeoffLocation='UDORN AB', TargetCountry='NORTH VIETNAM', TimeOnTarget=745.0, WeaponType='PHOTO EQUIP', WeaponsLoadedWeight=-1),\n",
              " Row(AirCraft='A-4', ContryFlyingMission='UNITED STATES OF AMERICA', MissionDate='1966-06-29', OperationSupported='ROLLING THUN', PeriodOfDay='D', TakeoffLocation='CONSTELLATION', TargetCountry='NORTH VIETNAM', TimeOnTarget=756.0, WeaponType='500LB GP MK-82', WeaponsLoadedWeight=-1),\n",
              " Row(AirCraft='B-66', ContryFlyingMission='UNITED STATES OF AMERICA', MissionDate='1966-06-29', OperationSupported='FOG BOUND', PeriodOfDay='D', TakeoffLocation='TAKHLI', TargetCountry='NORTH VIETNAM', TimeOnTarget=513.0, WeaponType=None, WeaponsLoadedWeight=-1),\n",
              " Row(AirCraft='C-130', ContryFlyingMission='UNITED STATES OF AMERICA', MissionDate='1966-06-29', OperationSupported='ROLLING THUN', PeriodOfDay='N', TakeoffLocation='DANANG', TargetCountry='NORTH VIETNAM', TimeOnTarget=1155.0, WeaponType=None, WeaponsLoadedWeight=-1),\n",
              " Row(AirCraft='F-4', ContryFlyingMission='UNITED STATES OF AMERICA', MissionDate='1966-06-29', OperationSupported='COMMAND LANCE', PeriodOfDay='D', TakeoffLocation='CAM RANH BAY', TargetCountry='NORTH VIETNAM', TimeOnTarget=440.0, WeaponType=None, WeaponsLoadedWeight=-1),\n",
              " Row(AirCraft='F-105', ContryFlyingMission='UNITED STATES OF AMERICA', MissionDate='1966-06-29', OperationSupported='ROLLING THUN', PeriodOfDay='D', TakeoffLocation='KORAT', TargetCountry='NORTH VIETNAM', TimeOnTarget=0.0, WeaponType=None, WeaponsLoadedWeight=-1),\n",
              " Row(AirCraft='A-4', ContryFlyingMission='UNITED STATES OF AMERICA', MissionDate='1966-06-29', OperationSupported='ROLLING THUN', PeriodOfDay='N', TakeoffLocation='CONSTELLATION', TargetCountry='NORTH VIETNAM', TimeOnTarget=1220.0, WeaponType='MK-24', WeaponsLoadedWeight=-1),\n",
              " Row(AirCraft='F-4', ContryFlyingMission='UNITED STATES OF AMERICA', MissionDate='1966-06-29', OperationSupported=None, PeriodOfDay='D', TakeoffLocation='RANGER', TargetCountry='NORTH VIETNAM', TimeOnTarget=0.0, WeaponType=None, WeaponsLoadedWeight=-1),\n",
              " Row(AirCraft='RF-101', ContryFlyingMission='UNITED STATES OF AMERICA', MissionDate='1966-06-29', OperationSupported=None, PeriodOfDay='D', TakeoffLocation='UDORN AB', TargetCountry='NORTH VIETNAM', TimeOnTarget=745.0, WeaponType='PHOTO EQUIP', WeaponsLoadedWeight=-1),\n",
              " Row(AirCraft='F-105', ContryFlyingMission='UNITED STATES OF AMERICA', MissionDate='1966-06-29', OperationSupported='ROLLING THUN', PeriodOfDay='D', TakeoffLocation='TAKHLI', TargetCountry='NORTH VIETNAM', TimeOnTarget=530.0, WeaponType=None, WeaponsLoadedWeight=-1),\n",
              " Row(AirCraft='F-105', ContryFlyingMission='UNITED STATES OF AMERICA', MissionDate='1966-06-29', OperationSupported='ROLLING THUN', PeriodOfDay=None, TakeoffLocation='TAKHLI', TargetCountry='NORTH VIETNAM', TimeOnTarget=16.0, WeaponType=None, WeaponsLoadedWeight=-1),\n",
              " Row(AirCraft='F-105', ContryFlyingMission='UNITED STATES OF AMERICA', MissionDate='1966-06-29', OperationSupported='IRON HAND', PeriodOfDay='D', TakeoffLocation='KORAT', TargetCountry='NORTH VIETNAM', TimeOnTarget=500.0, WeaponType=None, WeaponsLoadedWeight=-1),\n",
              " Row(AirCraft='A-4', ContryFlyingMission='UNITED STATES OF AMERICA', MissionDate='1966-06-29', OperationSupported='ROLLING THUN', PeriodOfDay='N', TakeoffLocation='HANCOCK (CVA-19)', TargetCountry='NORTH VIETNAM', TimeOnTarget=2120.0, WeaponType='MK-24', WeaponsLoadedWeight=-1),\n",
              " Row(AirCraft='RF-4', ContryFlyingMission='UNITED STATES OF AMERICA', MissionDate='1966-06-29', OperationSupported=None, PeriodOfDay='N', TakeoffLocation='TAN SON NHUT', TargetCountry='NORTH VIETNAM', TimeOnTarget=1558.0, WeaponType='PHOTO EQUIP', WeaponsLoadedWeight=-1),\n",
              " Row(AirCraft='A-4', ContryFlyingMission='UNITED STATES OF AMERICA', MissionDate='1966-06-29', OperationSupported='ROLLING THUN', PeriodOfDay='E', TakeoffLocation='CONSTELLATION', TargetCountry='NORTH VIETNAM', TimeOnTarget=1052.0, WeaponType='500LB GP MK-82', WeaponsLoadedWeight=-1),\n",
              " Row(AirCraft='A-1', ContryFlyingMission='VIETNAM (SOUTH)', MissionDate='1966-06-29', OperationSupported='ROLLING THUN', PeriodOfDay='D', TakeoffLocation='DANANG', TargetCountry='NORTH VIETNAM', TimeOnTarget=740.0, WeaponType='500LB GP M-64', WeaponsLoadedWeight=-1),\n",
              " Row(AirCraft='F-4', ContryFlyingMission='UNITED STATES OF AMERICA', MissionDate='1966-06-29', OperationSupported='ROLLING THUN', PeriodOfDay='D', TakeoffLocation='DANANG', TargetCountry='NORTH VIETNAM', TimeOnTarget=535.0, WeaponType=None, WeaponsLoadedWeight=-1),\n",
              " Row(AirCraft='F-105', ContryFlyingMission='UNITED STATES OF AMERICA', MissionDate='1966-06-29', OperationSupported='ROLLING THUN', PeriodOfDay='D', TakeoffLocation='KORAT', TargetCountry='NORTH VIETNAM', TimeOnTarget=300.0, WeaponType='3000LB M-118', WeaponsLoadedWeight=-1),\n",
              " Row(AirCraft='F-4', ContryFlyingMission='UNITED STATES OF AMERICA', MissionDate='1966-06-29', OperationSupported='ROLLING THUN', PeriodOfDay='N', TakeoffLocation='UBON AB', TargetCountry='NORTH VIETNAM', TimeOnTarget=1945.0, WeaponType='2.75IN HEAT RK', WeaponsLoadedWeight=-1),\n",
              " Row(AirCraft='F-105', ContryFlyingMission='UNITED STATES OF AMERICA', MissionDate='1966-06-29', OperationSupported='ROLLING THUN', PeriodOfDay='D', TakeoffLocation='KORAT', TargetCountry='NORTH VIETNAM', TimeOnTarget=515.0, WeaponType=None, WeaponsLoadedWeight=-1),\n",
              " Row(AirCraft='F-4', ContryFlyingMission='UNITED STATES OF AMERICA', MissionDate='1966-06-29', OperationSupported='ROLLING THUN', PeriodOfDay='N', TakeoffLocation='UBON AB', TargetCountry='NORTH VIETNAM', TimeOnTarget=1335.0, WeaponType='MK-24', WeaponsLoadedWeight=-1),\n",
              " Row(AirCraft='B-57', ContryFlyingMission='UNITED STATES OF AMERICA', MissionDate='1966-06-29', OperationSupported='ROLLING THUN', PeriodOfDay='N', TakeoffLocation='DANANG', TargetCountry='NORTH VIETNAM', TimeOnTarget=1918.0, WeaponType='250LB M-57', WeaponsLoadedWeight=-1),\n",
              " Row(AirCraft='F-105', ContryFlyingMission='UNITED STATES OF AMERICA', MissionDate='1966-06-29', OperationSupported='ROLLING THUN', PeriodOfDay='D', TakeoffLocation='KORAT', TargetCountry='NORTH VIETNAM', TimeOnTarget=215.0, WeaponType='1000LB GP M-65', WeaponsLoadedWeight=-1),\n",
              " Row(AirCraft='F-4', ContryFlyingMission='UNITED STATES OF AMERICA', MissionDate='1966-06-29', OperationSupported='BURNING SUN', PeriodOfDay='D', TakeoffLocation='DANANG', TargetCountry='NORTH VIETNAM', TimeOnTarget=535.0, WeaponType=None, WeaponsLoadedWeight=-1),\n",
              " Row(AirCraft='F-105', ContryFlyingMission='UNITED STATES OF AMERICA', MissionDate='1966-06-29', OperationSupported='ROLLING THUN', PeriodOfDay='D', TakeoffLocation='TAKHLI', TargetCountry='NORTH VIETNAM', TimeOnTarget=15.0, WeaponType='3000LB M-118', WeaponsLoadedWeight=-1),\n",
              " Row(AirCraft='A-4', ContryFlyingMission='UNITED STATES OF AMERICA', MissionDate='1966-06-29', OperationSupported='ROLLING THUN', PeriodOfDay='N', TakeoffLocation='CONSTELLATION', TargetCountry='NORTH VIETNAM', TimeOnTarget=1220.0, WeaponType='5.0IN HEAT RKT', WeaponsLoadedWeight=-1),\n",
              " Row(AirCraft='EA-1', ContryFlyingMission='UNITED STATES OF AMERICA', MissionDate='1966-06-29', OperationSupported='ROLLING THUN', PeriodOfDay='D', TakeoffLocation='RANGER', TargetCountry='NORTH VIETNAM', TimeOnTarget=0.0, WeaponType=None, WeaponsLoadedWeight=-1),\n",
              " Row(AirCraft='A-4', ContryFlyingMission='UNITED STATES OF AMERICA', MissionDate='1966-06-29', OperationSupported='ROLLING THUN', PeriodOfDay='D', TakeoffLocation='RANGER', TargetCountry='NORTH VIETNAM', TimeOnTarget=55.0, WeaponType='BULLPUP B', WeaponsLoadedWeight=-1),\n",
              " Row(AirCraft='RF-4', ContryFlyingMission='UNITED STATES OF AMERICA', MissionDate='1966-06-29', OperationSupported=None, PeriodOfDay='N', TakeoffLocation='TAN SON NHUT', TargetCountry='NORTH VIETNAM', TimeOnTarget=1708.0, WeaponType='PHOTO EQUIP', WeaponsLoadedWeight=-1),\n",
              " Row(AirCraft='RF-4', ContryFlyingMission='UNITED STATES OF AMERICA', MissionDate='1966-06-29', OperationSupported=None, PeriodOfDay='N', TakeoffLocation='TAN SON NHUT', TargetCountry='NORTH VIETNAM', TimeOnTarget=1800.0, WeaponType='PHOTO EQUIP', WeaponsLoadedWeight=-1),\n",
              " Row(AirCraft='F-4', ContryFlyingMission='UNITED STATES OF AMERICA', MissionDate='1966-06-29', OperationSupported='ROLLING THUN', PeriodOfDay='N', TakeoffLocation='UBON AB', TargetCountry='NORTH VIETNAM', TimeOnTarget=1335.0, WeaponType='LAU-3A/AERO7', WeaponsLoadedWeight=-1),\n",
              " Row(AirCraft='F-4', ContryFlyingMission='UNITED STATES OF AMERICA', MissionDate='1966-06-29', OperationSupported='ROLLING THUN', PeriodOfDay='N', TakeoffLocation='UBON AB', TargetCountry='NORTH VIETNAM', TimeOnTarget=1400.0, WeaponType=None, WeaponsLoadedWeight=-1),\n",
              " Row(AirCraft='F-4', ContryFlyingMission='UNITED STATES OF AMERICA', MissionDate='1966-06-29', OperationSupported='ROLLING THUN', PeriodOfDay='N', TakeoffLocation='UBON AB', TargetCountry='NORTH VIETNAM', TimeOnTarget=2050.0, WeaponType='750LB GP M-117', WeaponsLoadedWeight=-1),\n",
              " Row(AirCraft='F-105', ContryFlyingMission='UNITED STATES OF AMERICA', MissionDate='1966-06-29', OperationSupported='ROLLING THUN', PeriodOfDay='D', TakeoffLocation='KORAT', TargetCountry='NORTH VIETNAM', TimeOnTarget=540.0, WeaponType='3000LB M-118', WeaponsLoadedWeight=-1),\n",
              " Row(AirCraft='F-4', ContryFlyingMission='UNITED STATES OF AMERICA', MissionDate='1966-06-29', OperationSupported='ROLLING THUN', PeriodOfDay='N', TakeoffLocation='UBON AB', TargetCountry='NORTH VIETNAM', TimeOnTarget=2125.0, WeaponType='MK-24', WeaponsLoadedWeight=-1),\n",
              " Row(AirCraft='F-4', ContryFlyingMission='UNITED STATES OF AMERICA', MissionDate='1966-06-29', OperationSupported='ROLLING THUN', PeriodOfDay='N', TakeoffLocation='UBON AB', TargetCountry='NORTH VIETNAM', TimeOnTarget=1150.0, WeaponType='CBU-2', WeaponsLoadedWeight=-1),\n",
              " Row(AirCraft='F-4', ContryFlyingMission='UNITED STATES OF AMERICA', MissionDate='1966-06-29', OperationSupported='ROLLING THUN', PeriodOfDay='N', TakeoffLocation='UBON AB', TargetCountry='NORTH VIETNAM', TimeOnTarget=2140.0, WeaponType=None, WeaponsLoadedWeight=-1),\n",
              " Row(AirCraft='A-4', ContryFlyingMission='UNITED STATES OF AMERICA', MissionDate='1966-06-29', OperationSupported='ROLLING THUN', PeriodOfDay='D', TakeoffLocation='CONSTELLATION', TargetCountry='NORTH VIETNAM', TimeOnTarget=145.0, WeaponType='5.0IN HE RKT', WeaponsLoadedWeight=-1),\n",
              " Row(AirCraft='F-105', ContryFlyingMission='UNITED STATES OF AMERICA', MissionDate='1966-06-29', OperationSupported='ROLLING THUN', PeriodOfDay='D', TakeoffLocation='KORAT', TargetCountry='NORTH VIETNAM', TimeOnTarget=105.0, WeaponType='M-61', WeaponsLoadedWeight=-1),\n",
              " Row(AirCraft='F-4', ContryFlyingMission='UNITED STATES OF AMERICA', MissionDate='1966-06-29', OperationSupported='ROLLING THUN', PeriodOfDay='N', TakeoffLocation='CONSTELLATION', TargetCountry='NORTH VIETNAM', TimeOnTarget=0.0, WeaponType='LAU-3A/AERO7', WeaponsLoadedWeight=-1),\n",
              " Row(AirCraft='EF-10', ContryFlyingMission='UNITED STATES OF AMERICA', MissionDate='1966-06-29', OperationSupported='ROLLING THUN', PeriodOfDay='M', TakeoffLocation='DANANG', TargetCountry='NORTH VIETNAM', TimeOnTarget=2155.0, WeaponType=None, WeaponsLoadedWeight=-1),\n",
              " Row(AirCraft='RF-4', ContryFlyingMission='UNITED STATES OF AMERICA', MissionDate='1966-06-29', OperationSupported=None, PeriodOfDay='N', TakeoffLocation='TAN SON NHUT', TargetCountry='NORTH VIETNAM', TimeOnTarget=1457.0, WeaponType='PHOTO EQUIP', WeaponsLoadedWeight=-1),\n",
              " Row(AirCraft='A-1', ContryFlyingMission='VIETNAM (SOUTH)', MissionDate='1966-06-29', OperationSupported='ROLLING THUN', PeriodOfDay='D', TakeoffLocation='DANANG', TargetCountry='NORTH VIETNAM', TimeOnTarget=745.0, WeaponType='500LB GP M-64', WeaponsLoadedWeight=-1),\n",
              " Row(AirCraft='EF-10', ContryFlyingMission='UNITED STATES OF AMERICA', MissionDate='1966-06-29', OperationSupported='ROLLING THUN', PeriodOfDay='D', TakeoffLocation='DANANG', TargetCountry='NORTH VIETNAM', TimeOnTarget=450.0, WeaponType=None, WeaponsLoadedWeight=-1),\n",
              " Row(AirCraft='RF-101', ContryFlyingMission='UNITED STATES OF AMERICA', MissionDate='1966-06-29', OperationSupported=None, PeriodOfDay='D', TakeoffLocation='UDORN AB', TargetCountry='NORTH VIETNAM', TimeOnTarget=320.0, WeaponType='PHOTO EQUIP', WeaponsLoadedWeight=-1),\n",
              " Row(AirCraft='RF-101', ContryFlyingMission='UNITED STATES OF AMERICA', MissionDate='1966-06-29', OperationSupported=None, PeriodOfDay='D', TakeoffLocation='TAN SON NHUT', TargetCountry='NORTH VIETNAM', TimeOnTarget=733.0, WeaponType='PHOTO EQUIP', WeaponsLoadedWeight=-1),\n",
              " Row(AirCraft='RF-101', ContryFlyingMission='UNITED STATES OF AMERICA', MissionDate='1966-06-29', OperationSupported=None, PeriodOfDay='D', TakeoffLocation='UDORN AB', TargetCountry='NORTH VIETNAM', TimeOnTarget=222.0, WeaponType='PHOTO EQUIP', WeaponsLoadedWeight=-1),\n",
              " Row(AirCraft='RF-101', ContryFlyingMission='UNITED STATES OF AMERICA', MissionDate='1966-06-29', OperationSupported=None, PeriodOfDay=None, TakeoffLocation='UDORN AB', TargetCountry='NORTH VIETNAM', TimeOnTarget=0.0, WeaponType=None, WeaponsLoadedWeight=-1),\n",
              " Row(AirCraft='F-4', ContryFlyingMission='UNITED STATES OF AMERICA', MissionDate='1966-06-29', OperationSupported='ROLLING THUN', PeriodOfDay='D', TakeoffLocation='CONSTELLATION', TargetCountry='NORTH VIETNAM', TimeOnTarget=0.0, WeaponType=None, WeaponsLoadedWeight=-1),\n",
              " Row(AirCraft='A-4', ContryFlyingMission='UNITED STATES OF AMERICA', MissionDate='1966-06-29', OperationSupported='ROLLING THUN', PeriodOfDay='D', TakeoffLocation='CONSTELLATION', TargetCountry='NORTH VIETNAM', TimeOnTarget=0.0, WeaponType='5.0IN HE RKT', WeaponsLoadedWeight=-1),\n",
              " Row(AirCraft='F-105', ContryFlyingMission='UNITED STATES OF AMERICA', MissionDate='1966-06-29', OperationSupported='IRON HAND', PeriodOfDay='D', TakeoffLocation='KORAT', TargetCountry='NORTH VIETNAM', TimeOnTarget=510.0, WeaponType='SHRIKE', WeaponsLoadedWeight=-1),\n",
              " Row(AirCraft='A-4', ContryFlyingMission='UNITED STATES OF AMERICA', MissionDate='1966-06-29', OperationSupported='ROLLING THUN', PeriodOfDay='D', TakeoffLocation='HANCOCK (CVA-19)', TargetCountry='NORTH VIETNAM', TimeOnTarget=2228.0, WeaponType=None, WeaponsLoadedWeight=-1),\n",
              " Row(AirCraft='F-4', ContryFlyingMission='UNITED STATES OF AMERICA', MissionDate='1966-06-29', OperationSupported='ROLLING THUN', PeriodOfDay='N', TakeoffLocation='UBON AB', TargetCountry='NORTH VIETNAM', TimeOnTarget=1150.0, WeaponType='2.75IN HEAT RK', WeaponsLoadedWeight=-1),\n",
              " Row(AirCraft='F-105', ContryFlyingMission='UNITED STATES OF AMERICA', MissionDate='1966-06-29', OperationSupported='ROLLING THUN', PeriodOfDay='D', TakeoffLocation='TAKHLI', TargetCountry='NORTH VIETNAM', TimeOnTarget=2355.0, WeaponType='1000LB MK-83', WeaponsLoadedWeight=-1),\n",
              " Row(AirCraft='F-105', ContryFlyingMission='UNITED STATES OF AMERICA', MissionDate='1966-06-29', OperationSupported='STEEL TIGER', PeriodOfDay='D', TakeoffLocation='TAKHLI', TargetCountry='NORTH VIETNAM', TimeOnTarget=2339.0, WeaponType='1000LB MK-83', WeaponsLoadedWeight=-1),\n",
              " Row(AirCraft='A-6', ContryFlyingMission='UNITED STATES OF AMERICA', MissionDate='1966-06-29', OperationSupported='ROLLING THUN', PeriodOfDay='N', TakeoffLocation='CONSTELLATION', TargetCountry='NORTH VIETNAM', TimeOnTarget=1202.0, WeaponType='500LB GP MK-82', WeaponsLoadedWeight=-1),\n",
              " Row(AirCraft='F-4', ContryFlyingMission='UNITED STATES OF AMERICA', MissionDate='1966-06-29', OperationSupported='ROLLING THUN', PeriodOfDay='D', TakeoffLocation='RANGER', TargetCountry='NORTH VIETNAM', TimeOnTarget=457.0, WeaponType=None, WeaponsLoadedWeight=-1),\n",
              " Row(AirCraft='F-4', ContryFlyingMission='UNITED STATES OF AMERICA', MissionDate='1966-06-29', OperationSupported='COMMAND LANCE', PeriodOfDay='D', TakeoffLocation='CAM RANH BAY', TargetCountry='NORTH VIETNAM', TimeOnTarget=145.0, WeaponType=None, WeaponsLoadedWeight=-1),\n",
              " Row(AirCraft='F-105', ContryFlyingMission='UNITED STATES OF AMERICA', MissionDate='1966-06-29', OperationSupported='IRON HAND', PeriodOfDay='D', TakeoffLocation='KORAT', TargetCountry='NORTH VIETNAM', TimeOnTarget=510.0, WeaponType='M-61', WeaponsLoadedWeight=-1),\n",
              " Row(AirCraft='F-105', ContryFlyingMission='UNITED STATES OF AMERICA', MissionDate='1966-06-29', OperationSupported='IRON HAND', PeriodOfDay='D', TakeoffLocation='KORAT', TargetCountry='NORTH VIETNAM', TimeOnTarget=510.0, WeaponType='LAU-3A/AERO7', WeaponsLoadedWeight=-1),\n",
              " Row(AirCraft='RF-101', ContryFlyingMission='UNITED STATES OF AMERICA', MissionDate='1966-06-29', OperationSupported=None, PeriodOfDay='D', TakeoffLocation='UDORN AB', TargetCountry='NORTH VIETNAM', TimeOnTarget=747.0, WeaponType='PHOTO EQUIP', WeaponsLoadedWeight=-1),\n",
              " Row(AirCraft='AC-47', ContryFlyingMission='UNITED STATES OF AMERICA', MissionDate='1966-06-29', OperationSupported='STEEL TIGER', PeriodOfDay='N', TakeoffLocation='DANANG', TargetCountry='NORTH VIETNAM', TimeOnTarget=1125.0, WeaponType='7.62MM', WeaponsLoadedWeight=-1),\n",
              " Row(AirCraft='RF-4', ContryFlyingMission='UNITED STATES OF AMERICA', MissionDate='1966-06-29', OperationSupported=None, PeriodOfDay='N', TakeoffLocation='TAN SON NHUT', TargetCountry='NORTH VIETNAM', TimeOnTarget=1353.0, WeaponType='PHOTO EQUIP', WeaponsLoadedWeight=-1),\n",
              " Row(AirCraft='F-105', ContryFlyingMission='UNITED STATES OF AMERICA', MissionDate='1966-06-29', OperationSupported='ROLLING THUN', PeriodOfDay='D', TakeoffLocation='KORAT', TargetCountry='NORTH VIETNAM', TimeOnTarget=0.0, WeaponType=None, WeaponsLoadedWeight=-1),\n",
              " Row(AirCraft='A-1', ContryFlyingMission='UNITED STATES OF AMERICA', MissionDate='1966-06-29', OperationSupported='ROLLING THUN', PeriodOfDay='D', TakeoffLocation='RANGER', TargetCountry='NORTH VIETNAM', TimeOnTarget=2324.0, WeaponType='2000LB M-66', WeaponsLoadedWeight=-1),\n",
              " Row(AirCraft='RF-101', ContryFlyingMission='UNITED STATES OF AMERICA', MissionDate='1966-06-29', OperationSupported=None, PeriodOfDay='D', TakeoffLocation='UDORN AB', TargetCountry='NORTH VIETNAM', TimeOnTarget=746.0, WeaponType='PHOTO EQUIP', WeaponsLoadedWeight=-1),\n",
              " Row(AirCraft='RF-4', ContryFlyingMission='UNITED STATES OF AMERICA', MissionDate='1966-06-29', OperationSupported=None, PeriodOfDay='N', TakeoffLocation='TAN SON NHUT', TargetCountry='NORTH VIETNAM', TimeOnTarget=2100.0, WeaponType='PHOTO EQUIP', WeaponsLoadedWeight=-1),\n",
              " Row(AirCraft='RF-101', ContryFlyingMission='UNITED STATES OF AMERICA', MissionDate='1966-06-29', OperationSupported=None, PeriodOfDay='D', TakeoffLocation='UDORN AB', TargetCountry='NORTH VIETNAM', TimeOnTarget=740.0, WeaponType='PHOTO EQUIP', WeaponsLoadedWeight=-1),\n",
              " Row(AirCraft='RF-4', ContryFlyingMission='UNITED STATES OF AMERICA', MissionDate='1966-06-29', OperationSupported=None, PeriodOfDay='N', TakeoffLocation='TAN SON NHUT', TargetCountry='NORTH VIETNAM', TimeOnTarget=1257.0, WeaponType='PHOTO EQUIP', WeaponsLoadedWeight=-1),\n",
              " Row(AirCraft='F-100', ContryFlyingMission='UNITED STATES OF AMERICA', MissionDate='1966-06-29', OperationSupported='IRON HAND', PeriodOfDay='N', TakeoffLocation='KORAT', TargetCountry='NORTH VIETNAM', TimeOnTarget=1300.0, WeaponType=None, WeaponsLoadedWeight=-1),\n",
              " Row(AirCraft='A-1', ContryFlyingMission='UNITED STATES OF AMERICA', MissionDate='1966-06-29', OperationSupported='ROLLING THUN', PeriodOfDay='D', TakeoffLocation='UDORN AB', TargetCountry='NORTH VIETNAM', TimeOnTarget=20.0, WeaponType=None, WeaponsLoadedWeight=-1),\n",
              " Row(AirCraft='B-66', ContryFlyingMission='UNITED STATES OF AMERICA', MissionDate='1966-06-29', OperationSupported='FOG BOUND', PeriodOfDay='D', TakeoffLocation='TAKHLI', TargetCountry='NORTH VIETNAM', TimeOnTarget=916.0, WeaponType=None, WeaponsLoadedWeight=-1),\n",
              " Row(AirCraft='F-105', ContryFlyingMission='UNITED STATES OF AMERICA', MissionDate='1966-06-29', OperationSupported='IRON HAND', PeriodOfDay='D', TakeoffLocation='KORAT', TargetCountry='NORTH VIETNAM', TimeOnTarget=535.0, WeaponType='2.75IN HE RKT', WeaponsLoadedWeight=-1),\n",
              " Row(AirCraft='RF-101', ContryFlyingMission='UNITED STATES OF AMERICA', MissionDate='1966-06-29', OperationSupported=None, PeriodOfDay='D', TakeoffLocation='UDORN AB', TargetCountry='NORTH VIETNAM', TimeOnTarget=754.0, WeaponType='PHOTO EQUIP', WeaponsLoadedWeight=-1),\n",
              " Row(AirCraft='RF-101', ContryFlyingMission='UNITED STATES OF AMERICA', MissionDate='1966-06-29', OperationSupported=None, PeriodOfDay='D', TakeoffLocation='UDORN AB', TargetCountry='NORTH VIETNAM', TimeOnTarget=226.0, WeaponType='PHOTO EQUIP', WeaponsLoadedWeight=-1),\n",
              " Row(AirCraft='RF-101', ContryFlyingMission='UNITED STATES OF AMERICA', MissionDate='1966-06-29', OperationSupported=None, PeriodOfDay='D', TakeoffLocation='UDORN AB', TargetCountry='NORTH VIETNAM', TimeOnTarget=230.0, WeaponType='PHOTO EQUIP', WeaponsLoadedWeight=-1),\n",
              " Row(AirCraft='C-130', ContryFlyingMission='UNITED STATES OF AMERICA', MissionDate='1966-06-29', OperationSupported='ROLLING THUN', PeriodOfDay='N', TakeoffLocation='DANANG', TargetCountry='NORTH VIETNAM', TimeOnTarget=1150.0, WeaponType=None, WeaponsLoadedWeight=-1),\n",
              " Row(AirCraft='F-105', ContryFlyingMission='UNITED STATES OF AMERICA', MissionDate='1966-06-29', OperationSupported='ROLLING THUN', PeriodOfDay='D', TakeoffLocation='TAKHLI', TargetCountry='NORTH VIETNAM', TimeOnTarget=530.0, WeaponType='750LB GP M-117', WeaponsLoadedWeight=-1),\n",
              " Row(AirCraft='RF-4', ContryFlyingMission='UNITED STATES OF AMERICA', MissionDate='1966-06-29', OperationSupported=None, PeriodOfDay='N', TakeoffLocation='TAN SON NHUT', TargetCountry='NORTH VIETNAM', TimeOnTarget=1349.0, WeaponType='PHOTO EQUIP', WeaponsLoadedWeight=-1),\n",
              " Row(AirCraft='F-105', ContryFlyingMission='UNITED STATES OF AMERICA', MissionDate='1966-06-29', OperationSupported='ROLLING THUN', PeriodOfDay='D', TakeoffLocation='KORAT', TargetCountry='NORTH VIETNAM', TimeOnTarget=215.0, WeaponType='1000LB GP M-65', WeaponsLoadedWeight=-1),\n",
              " Row(AirCraft='F-4', ContryFlyingMission='UNITED STATES OF AMERICA', MissionDate='1966-06-29', OperationSupported='ROLLING THUN', PeriodOfDay='N', TakeoffLocation='UBON AB', TargetCountry='NORTH VIETNAM', TimeOnTarget=1335.0, WeaponType='2.75IN HEAT RK', WeaponsLoadedWeight=-1),\n",
              " Row(AirCraft='A-6', ContryFlyingMission='UNITED STATES OF AMERICA', MissionDate='1966-06-29', OperationSupported='ROLLING THUN', PeriodOfDay='N', TakeoffLocation='CONSTELLATION', TargetCountry='NORTH VIETNAM', TimeOnTarget=1203.0, WeaponType='500LB GP MK-82', WeaponsLoadedWeight=-1),\n",
              " Row(AirCraft='RF-101', ContryFlyingMission='UNITED STATES OF AMERICA', MissionDate='1966-06-29', OperationSupported=None, PeriodOfDay='D', TakeoffLocation='TAN SON NHUT', TargetCountry='NORTH VIETNAM', TimeOnTarget=735.0, WeaponType='PHOTO EQUIP', WeaponsLoadedWeight=-1),\n",
              " Row(AirCraft='RF-101', ContryFlyingMission='UNITED STATES OF AMERICA', MissionDate='1966-06-29', OperationSupported=None, PeriodOfDay='D', TakeoffLocation='UDORN AB', TargetCountry='NORTH VIETNAM', TimeOnTarget=332.0, WeaponType='PHOTO EQUIP', WeaponsLoadedWeight=-1),\n",
              " Row(AirCraft='F-105', ContryFlyingMission='UNITED STATES OF AMERICA', MissionDate='1966-06-29', OperationSupported='ROLLING THUN', PeriodOfDay='D', TakeoffLocation='TAKHLI', TargetCountry='NORTH VIETNAM', TimeOnTarget=2355.0, WeaponType=None, WeaponsLoadedWeight=-1),\n",
              " Row(AirCraft='RF-101', ContryFlyingMission='UNITED STATES OF AMERICA', MissionDate='1966-06-29', OperationSupported=None, PeriodOfDay='D', TakeoffLocation='UDORN AB', TargetCountry='NORTH VIETNAM', TimeOnTarget=318.0, WeaponType='PHOTO EQUIP', WeaponsLoadedWeight=-1),\n",
              " Row(AirCraft='B-66', ContryFlyingMission='UNITED STATES OF AMERICA', MissionDate='1966-06-29', OperationSupported='FOG BOUND', PeriodOfDay='D', TakeoffLocation='TAKHLI', TargetCountry='NORTH VIETNAM', TimeOnTarget=515.0, WeaponType=None, WeaponsLoadedWeight=-1),\n",
              " Row(AirCraft='RF-101', ContryFlyingMission='UNITED STATES OF AMERICA', MissionDate='1966-06-29', OperationSupported=None, PeriodOfDay='D', TakeoffLocation='UDORN AB', TargetCountry='NORTH VIETNAM', TimeOnTarget=140.0, WeaponType='PHOTO EQUIP', WeaponsLoadedWeight=-1),\n",
              " Row(AirCraft='B-66', ContryFlyingMission='UNITED STATES OF AMERICA', MissionDate='1966-06-29', OperationSupported='FOG BOUND', PeriodOfDay='D', TakeoffLocation='TAKHLI', TargetCountry='NORTH VIETNAM', TimeOnTarget=513.0, WeaponType=None, WeaponsLoadedWeight=-1),\n",
              " Row(AirCraft='A-6', ContryFlyingMission='UNITED STATES OF AMERICA', MissionDate='1966-06-29', OperationSupported='ROLLING THUN', PeriodOfDay='D', TakeoffLocation='CONSTELLATION', TargetCountry='NORTH VIETNAM', TimeOnTarget=322.0, WeaponType='500LB GP MK-82', WeaponsLoadedWeight=-1),\n",
              " Row(AirCraft='EA-3', ContryFlyingMission='UNITED STATES OF AMERICA', MissionDate='1966-06-29', OperationSupported='ROLLING THUN', PeriodOfDay='D', TakeoffLocation='RANGER', TargetCountry='NORTH VIETNAM', TimeOnTarget=0.0, WeaponType=None, WeaponsLoadedWeight=-1),\n",
              " Row(AirCraft='A-3', ContryFlyingMission='UNITED STATES OF AMERICA', MissionDate='1966-06-29', OperationSupported='ROLLING THUN', PeriodOfDay='D', TakeoffLocation='CONSTELLATION', TargetCountry='NORTH VIETNAM', TimeOnTarget=0.0, WeaponType=None, WeaponsLoadedWeight=-1),\n",
              " Row(AirCraft='F-105', ContryFlyingMission='UNITED STATES OF AMERICA', MissionDate='1966-06-29', OperationSupported='ROLLING THUN', PeriodOfDay='D', TakeoffLocation='TAKHLI', TargetCountry='NORTH VIETNAM', TimeOnTarget=115.0, WeaponType='1000LB MK-83', WeaponsLoadedWeight=-1),\n",
              " Row(AirCraft='RF-101', ContryFlyingMission='UNITED STATES OF AMERICA', MissionDate='1966-06-29', OperationSupported=None, PeriodOfDay='D', TakeoffLocation='UDORN AB', TargetCountry='NORTH VIETNAM', TimeOnTarget=150.0, WeaponType='PHOTO EQUIP', WeaponsLoadedWeight=-1),\n",
              " Row(AirCraft='RF-101', ContryFlyingMission='UNITED STATES OF AMERICA', MissionDate='1966-06-29', OperationSupported=None, PeriodOfDay='D', TakeoffLocation='UDORN AB', TargetCountry='NORTH VIETNAM', TimeOnTarget=319.0, WeaponType='PHOTO EQUIP', WeaponsLoadedWeight=-1),\n",
              " Row(AirCraft='RF-101', ContryFlyingMission='UNITED STATES OF AMERICA', MissionDate='1966-06-29', OperationSupported=None, PeriodOfDay='D', TakeoffLocation='UDORN AB', TargetCountry='NORTH VIETNAM', TimeOnTarget=745.0, WeaponType='PHOTO EQUIP', WeaponsLoadedWeight=-1),\n",
              " Row(AirCraft='A-4', ContryFlyingMission='UNITED STATES OF AMERICA', MissionDate='1966-06-29', OperationSupported='ROLLING THUN', PeriodOfDay='D', TakeoffLocation='CONSTELLATION', TargetCountry='NORTH VIETNAM', TimeOnTarget=812.0, WeaponType='5.0IN HEAT RKT', WeaponsLoadedWeight=-1),\n",
              " Row(AirCraft='F-105', ContryFlyingMission='UNITED STATES OF AMERICA', MissionDate='1966-06-29', OperationSupported='IRON HAND', PeriodOfDay='D', TakeoffLocation='KORAT', TargetCountry='NORTH VIETNAM', TimeOnTarget=510.0, WeaponType=None, WeaponsLoadedWeight=-1),\n",
              " Row(AirCraft='A-3', ContryFlyingMission='UNITED STATES OF AMERICA', MissionDate='1966-06-29', OperationSupported='ROLLING THUN', PeriodOfDay='D', TakeoffLocation='CONSTELLATION', TargetCountry='NORTH VIETNAM', TimeOnTarget=0.0, WeaponType=None, WeaponsLoadedWeight=-1),\n",
              " Row(AirCraft='RF-101', ContryFlyingMission='UNITED STATES OF AMERICA', MissionDate='1966-06-29', OperationSupported=None, PeriodOfDay='D', TakeoffLocation='UDORN AB', TargetCountry='NORTH VIETNAM', TimeOnTarget=740.0, WeaponType='PHOTO EQUIP', WeaponsLoadedWeight=-1),\n",
              " Row(AirCraft='A-4', ContryFlyingMission='UNITED STATES OF AMERICA', MissionDate='1966-06-29', OperationSupported='ROLLING THUN', PeriodOfDay='D', TakeoffLocation='CONSTELLATION', TargetCountry='NORTH VIETNAM', TimeOnTarget=321.0, WeaponType='MK-11/MK-12', WeaponsLoadedWeight=-1),\n",
              " Row(AirCraft='F-105', ContryFlyingMission='UNITED STATES OF AMERICA', MissionDate='1966-06-29', OperationSupported='ROLLING THUN', PeriodOfDay='D', TakeoffLocation='TAKHLI', TargetCountry='NORTH VIETNAM', TimeOnTarget=536.0, WeaponType='750LB GP M-117', WeaponsLoadedWeight=-1),\n",
              " Row(AirCraft='A-4', ContryFlyingMission='UNITED STATES OF AMERICA', MissionDate='1966-06-29', OperationSupported='ROLLING THUN', PeriodOfDay='D', TakeoffLocation='CONSTELLATION', TargetCountry='NORTH VIETNAM', TimeOnTarget=223.0, WeaponType='2.75IN HE RKT', WeaponsLoadedWeight=-1),\n",
              " Row(AirCraft='F-4', ContryFlyingMission='UNITED STATES OF AMERICA', MissionDate='1966-06-29', OperationSupported='ROLLING THUN', PeriodOfDay='N', TakeoffLocation='UBON AB', TargetCountry='NORTH VIETNAM', TimeOnTarget=1235.0, WeaponType='CBU-2', WeaponsLoadedWeight=-1),\n",
              " Row(AirCraft='RF-101', ContryFlyingMission='UNITED STATES OF AMERICA', MissionDate='1966-06-29', OperationSupported=None, PeriodOfDay='D', TakeoffLocation='UDORN AB', TargetCountry='NORTH VIETNAM', TimeOnTarget=555.0, WeaponType='PHOTO EQUIP', WeaponsLoadedWeight=-1),\n",
              " Row(AirCraft='B-57', ContryFlyingMission='UNITED STATES OF AMERICA', MissionDate='1966-06-29', OperationSupported='ROLLING THUN', PeriodOfDay='N', TakeoffLocation='DANANG', TargetCountry='NORTH VIETNAM', TimeOnTarget=1918.0, WeaponType='1000LB GP M-65', WeaponsLoadedWeight=-1),\n",
              " Row(AirCraft='F-105', ContryFlyingMission='UNITED STATES OF AMERICA', MissionDate='1966-06-29', OperationSupported='ROLLING THUN', PeriodOfDay='D', TakeoffLocation='TAKHLI', TargetCountry='NORTH VIETNAM', TimeOnTarget=1000.0, WeaponType='1000LB MK-83', WeaponsLoadedWeight=-1),\n",
              " Row(AirCraft='F-105', ContryFlyingMission='UNITED STATES OF AMERICA', MissionDate='1966-06-29', OperationSupported='ROLLING THUN', PeriodOfDay='D', TakeoffLocation='TAKHLI', TargetCountry='NORTH VIETNAM', TimeOnTarget=536.0, WeaponType=None, WeaponsLoadedWeight=-1),\n",
              " Row(AirCraft='F-4', ContryFlyingMission='UNITED STATES OF AMERICA', MissionDate='1966-06-29', OperationSupported='ROLLING THUN', PeriodOfDay='D', TakeoffLocation='UDORN AB', TargetCountry='NORTH VIETNAM', TimeOnTarget=440.0, WeaponType=None, WeaponsLoadedWeight=-1),\n",
              " Row(AirCraft='RF-101', ContryFlyingMission='UNITED STATES OF AMERICA', MissionDate='1966-06-29', OperationSupported=None, PeriodOfDay='D', TakeoffLocation='UDORN AB', TargetCountry='NORTH VIETNAM', TimeOnTarget=939.0, WeaponType='PHOTO EQUIP', WeaponsLoadedWeight=-1),\n",
              " Row(AirCraft='RA-5', ContryFlyingMission='UNITED STATES OF AMERICA', MissionDate='1966-06-29', OperationSupported=None, PeriodOfDay='D', TakeoffLocation='RANGER', TargetCountry='NORTH VIETNAM', TimeOnTarget=0.0, WeaponType='PHOTO EQUIP', WeaponsLoadedWeight=-1),\n",
              " Row(AirCraft='EA-3', ContryFlyingMission='UNITED STATES OF AMERICA', MissionDate='1966-06-29', OperationSupported='ROLLING THUN', PeriodOfDay='D', TakeoffLocation='RANGER', TargetCountry='NORTH VIETNAM', TimeOnTarget=0.0, WeaponType=None, WeaponsLoadedWeight=-1),\n",
              " Row(AirCraft='A-4', ContryFlyingMission='UNITED STATES OF AMERICA', MissionDate='1966-06-29', OperationSupported='ROLLING THUN', PeriodOfDay='D', TakeoffLocation='RANGER', TargetCountry='NORTH VIETNAM', TimeOnTarget=450.0, WeaponType=None, WeaponsLoadedWeight=-1),\n",
              " Row(AirCraft='A-6', ContryFlyingMission='UNITED STATES OF AMERICA', MissionDate='1966-06-29', OperationSupported='ROLLING THUN', PeriodOfDay='D', TakeoffLocation='CONSTELLATION', TargetCountry='NORTH VIETNAM', TimeOnTarget=322.0, WeaponType=None, WeaponsLoadedWeight=-1),\n",
              " Row(AirCraft='F-4', ContryFlyingMission='UNITED STATES OF AMERICA', MissionDate='1966-06-29', OperationSupported='ROLLING THUN', PeriodOfDay='N', TakeoffLocation='UBON AB', TargetCountry='NORTH VIETNAM', TimeOnTarget=1400.0, WeaponType='750LB GP M-117', WeaponsLoadedWeight=-1),\n",
              " Row(AirCraft='A-3', ContryFlyingMission='UNITED STATES OF AMERICA', MissionDate='1966-06-29', OperationSupported='ROLLING THUN', PeriodOfDay='D', TakeoffLocation='RANGER', TargetCountry='NORTH VIETNAM', TimeOnTarget=0.0, WeaponType=None, WeaponsLoadedWeight=-1),\n",
              " Row(AirCraft='RB-66', ContryFlyingMission='UNITED STATES OF AMERICA', MissionDate='1966-06-29', OperationSupported='FOG BOUND', PeriodOfDay='D', TakeoffLocation='TAKHLI', TargetCountry='NORTH VIETNAM', TimeOnTarget=515.0, WeaponType=None, WeaponsLoadedWeight=-1),\n",
              " Row(AirCraft='A-4', ContryFlyingMission='UNITED STATES OF AMERICA', MissionDate='1966-06-29', OperationSupported='ROLLING THUN', PeriodOfDay='D', TakeoffLocation='CONSTELLATION', TargetCountry='NORTH VIETNAM', TimeOnTarget=935.0, WeaponType='250LB MK-81', WeaponsLoadedWeight=-1),\n",
              " Row(AirCraft='E-2', ContryFlyingMission='UNITED STATES OF AMERICA', MissionDate='1966-06-29', OperationSupported='ROLLING THUN', PeriodOfDay='D', TakeoffLocation='RANGER', TargetCountry='NORTH VIETNAM', TimeOnTarget=0.0, WeaponType=None, WeaponsLoadedWeight=-1),\n",
              " Row(AirCraft='F-105', ContryFlyingMission='UNITED STATES OF AMERICA', MissionDate='1966-06-29', OperationSupported='ROLLING THUN', PeriodOfDay='D', TakeoffLocation='TAKHLI', TargetCountry='NORTH VIETNAM', TimeOnTarget=18.0, WeaponType='M-61', WeaponsLoadedWeight=-1),\n",
              " Row(AirCraft='F-105', ContryFlyingMission='UNITED STATES OF AMERICA', MissionDate='1966-06-29', OperationSupported='IRON HAND', PeriodOfDay='D', TakeoffLocation='KORAT', TargetCountry='NORTH VIETNAM', TimeOnTarget=521.0, WeaponType='SHRIKE', WeaponsLoadedWeight=-1),\n",
              " Row(AirCraft='F-105', ContryFlyingMission='UNITED STATES OF AMERICA', MissionDate='1966-06-29', OperationSupported='IRON HAND', PeriodOfDay='D', TakeoffLocation='KORAT', TargetCountry='NORTH VIETNAM', TimeOnTarget=535.0, WeaponType='LAU-3A/AERO7', WeaponsLoadedWeight=-1),\n",
              " Row(AirCraft='A-4', ContryFlyingMission='UNITED STATES OF AMERICA', MissionDate='1966-06-29', OperationSupported='ROLLING THUN', PeriodOfDay='D', TakeoffLocation='CONSTELLATION', TargetCountry='NORTH VIETNAM', TimeOnTarget=705.0, WeaponType='500LB GP MK-82', WeaponsLoadedWeight=-1),\n",
              " Row(AirCraft='RF-101', ContryFlyingMission='UNITED STATES OF AMERICA', MissionDate='1966-06-29', OperationSupported=None, PeriodOfDay='D', TakeoffLocation='UDORN AB', TargetCountry='NORTH VIETNAM', TimeOnTarget=321.0, WeaponType='PHOTO EQUIP', WeaponsLoadedWeight=-1),\n",
              " Row(AirCraft='F-105', ContryFlyingMission='UNITED STATES OF AMERICA', MissionDate='1966-06-29', OperationSupported='IRON HAND', PeriodOfDay='D', TakeoffLocation='KORAT', TargetCountry='NORTH VIETNAM', TimeOnTarget=500.0, WeaponType=None, WeaponsLoadedWeight=-1),\n",
              " Row(AirCraft='A-4', ContryFlyingMission='UNITED STATES OF AMERICA', MissionDate='1966-06-29', OperationSupported='ROLLING THUN', PeriodOfDay='D', TakeoffLocation='CONSTELLATION', TargetCountry='NORTH VIETNAM', TimeOnTarget=0.0, WeaponType=None, WeaponsLoadedWeight=-1),\n",
              " Row(AirCraft='RF-101', ContryFlyingMission='UNITED STATES OF AMERICA', MissionDate='1966-06-29', OperationSupported=None, PeriodOfDay='D', TakeoffLocation='UDORN AB', TargetCountry='NORTH VIETNAM', TimeOnTarget=226.0, WeaponType='PHOTO EQUIP', WeaponsLoadedWeight=-1),\n",
              " Row(AirCraft='RF-101', ContryFlyingMission='UNITED STATES OF AMERICA', MissionDate='1966-06-29', OperationSupported=None, PeriodOfDay='D', TakeoffLocation='UDORN AB', TargetCountry='NORTH VIETNAM', TimeOnTarget=937.0, WeaponType='PHOTO EQUIP', WeaponsLoadedWeight=-1),\n",
              " Row(AirCraft='EC-121', ContryFlyingMission='UNITED STATES OF AMERICA', MissionDate='1966-06-29', OperationSupported='ROLLING THUN', PeriodOfDay='D', TakeoffLocation='DANANG', TargetCountry='NORTH VIETNAM', TimeOnTarget=0.0, WeaponType=None, WeaponsLoadedWeight=-1),\n",
              " Row(AirCraft='RF-101', ContryFlyingMission='UNITED STATES OF AMERICA', MissionDate='1966-06-29', OperationSupported=None, PeriodOfDay='D', TakeoffLocation='TAN SON NHUT', TargetCountry='NORTH VIETNAM', TimeOnTarget=736.0, WeaponType='PHOTO EQUIP', WeaponsLoadedWeight=-1),\n",
              " Row(AirCraft='RF-4', ContryFlyingMission='UNITED STATES OF AMERICA', MissionDate='1966-06-29', OperationSupported=None, PeriodOfDay='N', TakeoffLocation='TAN SON NHUT', TargetCountry='NORTH VIETNAM', TimeOnTarget=1550.0, WeaponType='PHOTO EQUIP', WeaponsLoadedWeight=-1),\n",
              " Row(AirCraft='F-4', ContryFlyingMission='UNITED STATES OF AMERICA', MissionDate='1966-06-29', OperationSupported='ROLLING THUN', PeriodOfDay='D', TakeoffLocation='DANANG', TargetCountry='NORTH VIETNAM', TimeOnTarget=520.0, WeaponType=None, WeaponsLoadedWeight=-1),\n",
              " Row(AirCraft='F-4', ContryFlyingMission='UNITED STATES OF AMERICA', MissionDate='1966-06-29', OperationSupported='ROLLING THUN', PeriodOfDay='N', TakeoffLocation='UBON AB', TargetCountry='NORTH VIETNAM', TimeOnTarget=2148.0, WeaponType=None, WeaponsLoadedWeight=-1),\n",
              " Row(AirCraft='RF-4', ContryFlyingMission='UNITED STATES OF AMERICA', MissionDate='1966-06-29', OperationSupported=None, PeriodOfDay='N', TakeoffLocation='TAN SON NHUT', TargetCountry='NORTH VIETNAM', TimeOnTarget=2101.0, WeaponType='PHOTO EQUIP', WeaponsLoadedWeight=-1),\n",
              " Row(AirCraft='RF-101', ContryFlyingMission='UNITED STATES OF AMERICA', MissionDate='1966-06-29', OperationSupported=None, PeriodOfDay='D', TakeoffLocation='TAN SON NHUT', TargetCountry='NORTH VIETNAM', TimeOnTarget=734.0, WeaponType='PHOTO EQUIP', WeaponsLoadedWeight=-1),\n",
              " Row(AirCraft='F-105', ContryFlyingMission='UNITED STATES OF AMERICA', MissionDate='1966-06-29', OperationSupported='STEEL TIGER', PeriodOfDay=None, TakeoffLocation='TAKHLI', TargetCountry='NORTH VIETNAM', TimeOnTarget=255.0, WeaponType=None, WeaponsLoadedWeight=-1),\n",
              " Row(AirCraft='RF-4', ContryFlyingMission='UNITED STATES OF AMERICA', MissionDate='1966-06-29', OperationSupported=None, PeriodOfDay='N', TakeoffLocation='TAN SON NHUT', TargetCountry='NORTH VIETNAM', TimeOnTarget=2019.0, WeaponType='PHOTO EQUIP', WeaponsLoadedWeight=-1),\n",
              " Row(AirCraft='F-105', ContryFlyingMission='UNITED STATES OF AMERICA', MissionDate='1966-06-29', OperationSupported='ROLLING THUN', PeriodOfDay=None, TakeoffLocation='TAKHLI', TargetCountry='NORTH VIETNAM', TimeOnTarget=752.0, WeaponType=None, WeaponsLoadedWeight=-1),\n",
              " Row(AirCraft='F-4', ContryFlyingMission='UNITED STATES OF AMERICA', MissionDate='1966-06-29', OperationSupported='ROLLING THUN', PeriodOfDay='D', TakeoffLocation='RANGER', TargetCountry='NORTH VIETNAM', TimeOnTarget=0.0, WeaponType=None, WeaponsLoadedWeight=-1),\n",
              " Row(AirCraft='A-1', ContryFlyingMission='UNITED STATES OF AMERICA', MissionDate='1966-06-29', OperationSupported='ROLLING THUN', PeriodOfDay='D', TakeoffLocation='UDORN AB', TargetCountry='NORTH VIETNAM', TimeOnTarget=330.0, WeaponType='500LB GP M-64', WeaponsLoadedWeight=-1),\n",
              " Row(AirCraft='F-4', ContryFlyingMission='UNITED STATES OF AMERICA', MissionDate='1966-06-29', OperationSupported='ROLLING THUN', PeriodOfDay='N', TakeoffLocation='UBON AB', TargetCountry='NORTH VIETNAM', TimeOnTarget=2125.0, WeaponType='750LB GP M-117', WeaponsLoadedWeight=-1),\n",
              " Row(AirCraft='A-1', ContryFlyingMission='UNITED STATES OF AMERICA', MissionDate='1966-06-29', OperationSupported='ROLLING THUN', PeriodOfDay='D', TakeoffLocation='UDORN AB', TargetCountry='NORTH VIETNAM', TimeOnTarget=325.0, WeaponType=None, WeaponsLoadedWeight=-1),\n",
              " Row(AirCraft='RF-101', ContryFlyingMission='UNITED STATES OF AMERICA', MissionDate='1966-06-29', OperationSupported=None, PeriodOfDay='D', TakeoffLocation='UDORN AB', TargetCountry='NORTH VIETNAM', TimeOnTarget=925.0, WeaponType='PHOTO EQUIP', WeaponsLoadedWeight=-1),\n",
              " Row(AirCraft='RF-101', ContryFlyingMission='UNITED STATES OF AMERICA', MissionDate='1966-06-29', OperationSupported=None, PeriodOfDay='D', TakeoffLocation='UDORN AB', TargetCountry='NORTH VIETNAM', TimeOnTarget=940.0, WeaponType='PHOTO EQUIP', WeaponsLoadedWeight=-1),\n",
              " Row(AirCraft='RF-101', ContryFlyingMission='UNITED STATES OF AMERICA', MissionDate='1966-06-29', OperationSupported=None, PeriodOfDay='D', TakeoffLocation='UDORN AB', TargetCountry='NORTH VIETNAM', TimeOnTarget=938.0, WeaponType='PHOTO EQUIP', WeaponsLoadedWeight=-1),\n",
              " Row(AirCraft='F-4', ContryFlyingMission='UNITED STATES OF AMERICA', MissionDate='1966-06-29', OperationSupported='ROLLING THUN', PeriodOfDay='N', TakeoffLocation='UBON AB', TargetCountry='NORTH VIETNAM', TimeOnTarget=1335.0, WeaponType='CBU-2', WeaponsLoadedWeight=-1),\n",
              " Row(AirCraft='A-1', ContryFlyingMission='VIETNAM (SOUTH)', MissionDate='1966-06-29', OperationSupported='ROLLING THUN', PeriodOfDay='D', TakeoffLocation='DANANG', TargetCountry='NORTH VIETNAM', TimeOnTarget=130.0, WeaponType='500LB GP M-64', WeaponsLoadedWeight=-1),\n",
              " Row(AirCraft='F-105', ContryFlyingMission='UNITED STATES OF AMERICA', MissionDate='1966-06-29', OperationSupported='ROLLING THUN', PeriodOfDay='D', TakeoffLocation='KORAT', TargetCountry='NORTH VIETNAM', TimeOnTarget=755.0, WeaponType='1000LB GP M-65', WeaponsLoadedWeight=-1),\n",
              " Row(AirCraft='RF-101', ContryFlyingMission='UNITED STATES OF AMERICA', MissionDate='1966-06-29', OperationSupported=None, PeriodOfDay='D', TakeoffLocation='UDORN AB', TargetCountry='NORTH VIETNAM', TimeOnTarget=927.0, WeaponType='PHOTO EQUIP', WeaponsLoadedWeight=-1),\n",
              " Row(AirCraft='F-4', ContryFlyingMission='UNITED STATES OF AMERICA', MissionDate='1966-06-29', OperationSupported='ROLLING THUN', PeriodOfDay='N', TakeoffLocation='UBON AB', TargetCountry='NORTH VIETNAM', TimeOnTarget=1945.0, WeaponType='MK-24', WeaponsLoadedWeight=-1),\n",
              " Row(AirCraft='RF-101', ContryFlyingMission='UNITED STATES OF AMERICA', MissionDate='1966-06-29', OperationSupported=None, PeriodOfDay='D', TakeoffLocation='UDORN AB', TargetCountry='NORTH VIETNAM', TimeOnTarget=142.0, WeaponType='PHOTO EQUIP', WeaponsLoadedWeight=-1),\n",
              " Row(AirCraft='F-4', ContryFlyingMission='UNITED STATES OF AMERICA', MissionDate='1966-06-29', OperationSupported='ROLLING THUN', PeriodOfDay=None, TakeoffLocation='DANANG', TargetCountry='NORTH VIETNAM', TimeOnTarget=515.0, WeaponType=None, WeaponsLoadedWeight=-1)]"
            ]
          },
          "metadata": {},
          "execution_count": 67
        }
      ]
    },
    {
      "cell_type": "code",
      "source": [
        "rdd.take(10)"
      ],
      "metadata": {
        "id": "CC4UUvY5AJne",
        "outputId": "f895a11b-03a1-4760-f9ef-4c3210222090",
        "colab": {
          "base_uri": "https://localhost:8080/"
        }
      },
      "execution_count": null,
      "outputs": [
        {
          "output_type": "execute_result",
          "data": {
            "text/plain": [
              "[Row(AirCraft='F-105', ContryFlyingMission='UNITED STATES OF AMERICA', MissionDate='1966-06-29', OperationSupported='STEEL TIGER', PeriodOfDay='D', TakeoffLocation='TAKHLI', TargetCountry='NORTH VIETNAM', TimeOnTarget=310.0, WeaponType='1000LB MK-83', WeaponsLoadedWeight=-1),\n",
              " Row(AirCraft='C-130', ContryFlyingMission='UNITED STATES OF AMERICA', MissionDate='1966-06-29', OperationSupported='ROLLING THUN', PeriodOfDay='N', TakeoffLocation='DANANG', TargetCountry='NORTH VIETNAM', TimeOnTarget=1226.0, WeaponType=None, WeaponsLoadedWeight=-1),\n",
              " Row(AirCraft='F-4', ContryFlyingMission='UNITED STATES OF AMERICA', MissionDate='1966-06-29', OperationSupported='ROLLING THUN', PeriodOfDay='D', TakeoffLocation='CONSTELLATION', TargetCountry='NORTH VIETNAM', TimeOnTarget=703.0, WeaponType='2.75IN HE RKT', WeaponsLoadedWeight=-1),\n",
              " Row(AirCraft='C-130', ContryFlyingMission='UNITED STATES OF AMERICA', MissionDate='1966-06-29', OperationSupported='ROLLING THUN', PeriodOfDay='N', TakeoffLocation='UBON AB', TargetCountry='NORTH VIETNAM', TimeOnTarget=1205.0, WeaponType='MK-24', WeaponsLoadedWeight=-1),\n",
              " Row(AirCraft='A-1', ContryFlyingMission='UNITED STATES OF AMERICA', MissionDate='1966-06-29', OperationSupported='ROLLING THUN', PeriodOfDay='D', TakeoffLocation='UDORN AB', TargetCountry='NORTH VIETNAM', TimeOnTarget=148.0, WeaponType=None, WeaponsLoadedWeight=-1),\n",
              " Row(AirCraft='A-4', ContryFlyingMission='UNITED STATES OF AMERICA', MissionDate='1966-06-29', OperationSupported='ROLLING THUN', PeriodOfDay='E', TakeoffLocation='CONSTELLATION', TargetCountry='NORTH VIETNAM', TimeOnTarget=1104.0, WeaponType='5.0IN HEAT RKT', WeaponsLoadedWeight=-1),\n",
              " Row(AirCraft='F-105', ContryFlyingMission='UNITED STATES OF AMERICA', MissionDate='1966-06-29', OperationSupported='ROLLING THUN', PeriodOfDay='E', TakeoffLocation='KORAT', TargetCountry='NORTH VIETNAM', TimeOnTarget=1043.0, WeaponType='M-61', WeaponsLoadedWeight=-1),\n",
              " Row(AirCraft='A-4', ContryFlyingMission='UNITED STATES OF AMERICA', MissionDate='1966-06-29', OperationSupported='ROLLING THUN', PeriodOfDay='D', TakeoffLocation='CONSTELLATION', TargetCountry='NORTH VIETNAM', TimeOnTarget=945.0, WeaponType='250LB MK-81', WeaponsLoadedWeight=-1),\n",
              " Row(AirCraft='F-105', ContryFlyingMission='UNITED STATES OF AMERICA', MissionDate='1966-06-29', OperationSupported='ROLLING THUN', PeriodOfDay='D', TakeoffLocation='KORAT', TargetCountry='NORTH VIETNAM', TimeOnTarget=855.0, WeaponType='1000LB MK-83', WeaponsLoadedWeight=-1),\n",
              " Row(AirCraft='F-4', ContryFlyingMission='UNITED STATES OF AMERICA', MissionDate='1966-06-29', OperationSupported='ROLLING THUN', PeriodOfDay='D', TakeoffLocation='RANGER', TargetCountry='NORTH VIETNAM', TimeOnTarget=0.0, WeaponType=None, WeaponsLoadedWeight=-1)]"
            ]
          },
          "metadata": {},
          "execution_count": 68
        }
      ]
    },
    {
      "cell_type": "code",
      "source": [
        "all_locations = jun_29_operations.rdd.map(lambda row: (row.TakeoffLocation, 1))\n",
        "all_locations.take(3)"
      ],
      "metadata": {
        "id": "hkRvTm2UAJVQ",
        "outputId": "5d32316b-ef88-48a8-fd5c-90675866a0dc",
        "colab": {
          "base_uri": "https://localhost:8080/"
        }
      },
      "execution_count": null,
      "outputs": [
        {
          "output_type": "execute_result",
          "data": {
            "text/plain": [
              "[('TAKHLI', 1), ('DANANG', 1), ('CONSTELLATION', 1)]"
            ]
          },
          "metadata": {},
          "execution_count": 69
        }
      ]
    },
    {
      "cell_type": "code",
      "source": [
        "locations_counts_rdd = all_locations.reduceByKey(lambda a, b: a + b).sortBy(lambda r: -r[1]) # 음수를 붙힌 오름차순 => 내림차순\n",
        "locations_counts_rdd.take(3)"
      ],
      "metadata": {
        "id": "ItVDF4KtAqTF",
        "outputId": "158f80b5-f668-4af4-e5a0-a49b5dd7f923",
        "colab": {
          "base_uri": "https://localhost:8080/"
        }
      },
      "execution_count": null,
      "outputs": [
        {
          "output_type": "execute_result",
          "data": {
            "text/plain": [
              "[('CONSTELLATION', 87), ('TAKHLI', 56), ('KORAT', 55)]"
            ]
          },
          "metadata": {},
          "execution_count": 71
        }
      ]
    },
    {
      "cell_type": "code",
      "source": [
        "locations_counts_with_schema = locations_counts_rdd.map(lambda r: Row(TakeoffLocation=r[0], MissionsCount=r[1]))\n",
        "locations_counts = spark.createDataFrame(locations_counts_with_schema)\n",
        "locations_counts.show()"
      ],
      "metadata": {
        "id": "GFGOmheGBThR",
        "outputId": "00425bc1-37dc-4df9-e470-081f13f294e3",
        "colab": {
          "base_uri": "https://localhost:8080/"
        }
      },
      "execution_count": null,
      "outputs": [
        {
          "output_type": "stream",
          "name": "stdout",
          "text": [
            "+----------------+-------------+\n",
            "| TakeoffLocation|MissionsCount|\n",
            "+----------------+-------------+\n",
            "|   CONSTELLATION|           87|\n",
            "|          TAKHLI|           56|\n",
            "|           KORAT|           55|\n",
            "|         UBON AB|           44|\n",
            "|        UDORN AB|           44|\n",
            "|          DANANG|           35|\n",
            "|          RANGER|           35|\n",
            "|    TAN SON NHUT|           26|\n",
            "|HANCOCK (CVA-19)|           10|\n",
            "|    CAM RANH BAY|            2|\n",
            "|         CUBI PT|            1|\n",
            "+----------------+-------------+\n",
            "\n"
          ]
        }
      ]
    },
    {
      "cell_type": "markdown",
      "metadata": {
        "id": "lKKM6VS8SahD"
      },
      "source": [
        "----"
      ]
    },
    {
      "cell_type": "markdown",
      "metadata": {
        "id": "aaiVcdF8SahD"
      },
      "source": [
        "## Questions 4: What is the most used aircraft type during the Vietnam war (number of missions)?\n",
        "## 베트남 전쟁에서 가장 많이 사용된 기체타입은?\n",
        "Keywords: `join` `group by`"
      ]
    },
    {
      "cell_type": "markdown",
      "metadata": {
        "id": "xnV48FZlSahG"
      },
      "source": [
        "Let's check the content of `Aircraft_Glossary`:"
      ]
    },
    {
      "cell_type": "code",
      "execution_count": null,
      "metadata": {
        "id": "yovhBV5sSahI",
        "colab": {
          "base_uri": "https://localhost:8080/"
        },
        "outputId": "7489f600-a9b5-4437-b864-350ede01eb01"
      },
      "outputs": [
        {
          "output_type": "stream",
          "name": "stdout",
          "text": [
            "+--------+--------------------+--------------------+\n",
            "|AirCraft|        AirCraftName|        AirCraftType|\n",
            "+--------+--------------------+--------------------+\n",
            "|     A-1|Douglas A-1 Skyra...|         Fighter Jet|\n",
            "|    A-26|Douglas A-26 Invader|        Light Bomber|\n",
            "|    A-37|Cessna A-37 Drago...|Light ground-atta...|\n",
            "|     A-4|McDonnell Douglas...|         Fighter Jet|\n",
            "|     A-5|North American A-...|          Bomber Jet|\n",
            "+--------+--------------------+--------------------+\n",
            "only showing top 5 rows\n",
            "\n"
          ]
        }
      ],
      "source": [
        "Aircraft_Glossary.show(5)"
      ]
    },
    {
      "cell_type": "markdown",
      "metadata": {
        "id": "yO0ExxRoSahJ"
      },
      "source": [
        "We are interested in the filed `AirCraftType`."
      ]
    },
    {
      "cell_type": "code",
      "execution_count": null,
      "metadata": {
        "id": "Z4DnpCTmSahJ",
        "colab": {
          "base_uri": "https://localhost:8080/"
        },
        "outputId": "8b5765f2-c7de-43d8-97e6-7325a19e2db7"
      },
      "outputs": [
        {
          "output_type": "stream",
          "name": "stdout",
          "text": [
            "+--------+\n",
            "|AirCraft|\n",
            "+--------+\n",
            "|   EC-47|\n",
            "|   EC-47|\n",
            "|    RF-4|\n",
            "|     A-1|\n",
            "|    A-37|\n",
            "+--------+\n",
            "only showing top 5 rows\n",
            "\n"
          ]
        }
      ],
      "source": [
        "Bombing_Operations.select(\"AirCraft\").show(5)"
      ]
    },
    {
      "cell_type": "markdown",
      "metadata": {
        "id": "Z97Y9DuUSahK"
      },
      "source": [
        "We can join on the column `AirCraft` of both dataframes."
      ]
    },
    {
      "cell_type": "markdown",
      "metadata": {
        "id": "9txA3mx1SahL"
      },
      "source": [
        "With Dataframe API:"
      ]
    },
    {
      "cell_type": "code",
      "execution_count": null,
      "metadata": {
        "id": "s3j3Fu8kSahL",
        "colab": {
          "base_uri": "https://localhost:8080/"
        },
        "outputId": "a68d1812-e2b4-4816-df26-0f809ceabcf9"
      },
      "outputs": [
        {
          "output_type": "execute_result",
          "data": {
            "text/plain": [
              "DataFrame[AirCraft: string, ContryFlyingMission: string, MissionDate: string, OperationSupported: string, PeriodOfDay: string, TakeoffLocation: string, TargetCountry: string, TimeOnTarget: double, WeaponType: string, WeaponsLoadedWeight: bigint, AirCraft: string, AirCraftName: string, AirCraftType: string]"
            ]
          },
          "metadata": {},
          "execution_count": 59
        }
      ],
      "source": [
        "# 테이블 이어붙이기\n",
        "missions_joined = Bombing_Operations.join(Aircraft_Glossary,\n",
        "                                          Bombing_Operations.AirCraft == Aircraft_Glossary.AirCraft)\n",
        "missions_joined"
      ]
    },
    {
      "cell_type": "code",
      "source": [
        "# 합쳐진 테이블\n",
        "missions_joined.show()"
      ],
      "metadata": {
        "colab": {
          "base_uri": "https://localhost:8080/"
        },
        "id": "qKVIgHe99Y03",
        "outputId": "961c8aeb-1b9e-4edb-be86-48ae0a9866f3"
      },
      "execution_count": null,
      "outputs": [
        {
          "output_type": "stream",
          "name": "stdout",
          "text": [
            "+--------+--------------------+-----------+------------------+-----------+---------------+-------------+------------+--------------------+-------------------+--------+--------------------+--------------------+\n",
            "|AirCraft| ContryFlyingMission|MissionDate|OperationSupported|PeriodOfDay|TakeoffLocation|TargetCountry|TimeOnTarget|          WeaponType|WeaponsLoadedWeight|AirCraft|        AirCraftName|        AirCraftType|\n",
            "+--------+--------------------+-----------+------------------+-----------+---------------+-------------+------------+--------------------+-------------------+--------+--------------------+--------------------+\n",
            "|   EC-47|UNITED STATES OF ...| 1971-06-05|              NULL|          D|   TAN SON NHUT|     CAMBODIA|      1005.0|                NULL|                  0|   EC-47|Douglas C-47 Skyt...|Military Transpor...|\n",
            "|   EC-47|UNITED STATES OF ...| 1972-12-26|              NULL|          D|  NAKHON PHANOM|SOUTH VIETNAM|       530.0|                NULL|                  0|   EC-47|Douglas C-47 Skyt...|Military Transpor...|\n",
            "|    RF-4|UNITED STATES OF ...| 1973-07-28|              NULL|          D|       UDORN AB|         LAOS|       730.0|                NULL|                  0|    RF-4|McDonnell F-4 Pha...|  Fighter bomber jet|\n",
            "|     A-1|UNITED STATES OF ...| 1970-02-02|              NULL|          N|  NAKHON PHANOM|         LAOS|      1415.0|BLU27 FIRE BOMB (...|              17400|     A-1|Douglas A-1 Skyra...|         Fighter Jet|\n",
            "|    A-37|     VIETNAM (SOUTH)| 1970-10-08|              NULL|          D|         DANANG|SOUTH VIETNAM|      1240.0|                NULL|                  0|    A-37|Cessna A-37 Drago...|Light ground-atta...|\n",
            "|     F-4|UNITED STATES OF ...| 1970-11-25|              NULL|          D|        UBON AB|         LAOS|       650.0|MK 82 GP BOMB (50...|              31860|     F-4|McDonnell Douglas...|  Fighter Jet Bomber|\n",
            "|     A-4|UNITED STATES OF ...| 1972-03-08|              NULL|          D|    TONKIN GULF|         LAOS|      1005.0|                NULL|                  0|     A-4|McDonnell Douglas...|         Fighter Jet|\n",
            "|     F-4|UNITED STATES OF ...| 1971-12-27|              NULL|       NULL|       UDORN AB|         LAOS|         0.0|                NULL|                  0|     F-4|McDonnell Douglas...|  Fighter Jet Bomber|\n",
            "|     A-7|UNITED STATES OF ...| 1972-05-24|              NULL|       NULL|    TONKIN GULF|NORTH VIETNAM|         0.0|                NULL|                  0|     A-7|  LTV A-7 Corsair II|     Attack Aircraft|\n",
            "|   EC-47|UNITED STATES OF ...| 1972-09-12|              NULL|          D|   TAN SON NHUT|SOUTH VIETNAM|       710.0|                NULL|                  0|   EC-47|Douglas C-47 Skyt...|Military Transpor...|\n",
            "|   CH-53|UNITED STATES OF ...| 1974-06-13|              NULL|          N|  NAKHON PHANOM|     THAILAND|      1800.0|                NULL|                  0|   CH-53|Sikorsky CH-53 Se...|Heavy-lift cargo ...|\n",
            "|   CH-53|UNITED STATES OF ...| 1974-12-19|              NULL|          D|  NAKHON PHANOM|     THAILAND|       800.0|                NULL|                  0|   CH-53|Sikorsky CH-53 Se...|Heavy-lift cargo ...|\n",
            "|     O-1|     VIETNAM (SOUTH)| 1973-10-24|              NULL|          D|      NHA TRANG|SOUTH VIETNAM|       800.0|                NULL|                  0|     O-1| Cessna O-1 Bird Dog|Observation Aircraft|\n",
            "|    UH-1|     VIETNAM (SOUTH)| 1974-03-19|              NULL|          D|        PHU CAT|SOUTH VIETNAM|       800.0|        CARGO (TONS)|                  0|    UH-1|  Bell UH-1 Iroquois|  Utility Helicopter|\n",
            "|     C-7|UNITED STATES OF ...| 1970-05-08|              NULL|          D|   TAN SON NHUT|SOUTH VIETNAM|       800.0|                NULL|                  0|     C-7|       C-7A Caribou |Military Transpor...|\n",
            "|     A-6|UNITED STATES OF ...| 1971-05-12|              NULL|          N|    TONKIN GULF|         LAOS|      1304.0|CBU24 AN PR/MT (B...|              33200|     A-6|Grumman A-6 Intruder|     Attack Aircraft|\n",
            "|   EB-66|UNITED STATES OF ...| 1971-12-03|              NULL|          N|          KORAT|         LAOS|      1445.0|                NULL|                  0|   EB-66|Douglas B-66 Dest...|Light Tactical Bo...|\n",
            "|    T-28|                LAOS| 1971-12-19|              NULL|          D|     SAVANAKHET|         LAOS|       230.0|                NULL|                  0|    T-28| T-28 Trojan Trainer|   Training Aircraft|\n",
            "|     A-6|UNITED STATES OF ...| 1972-08-18|              NULL|       NULL|    TONKIN GULF|NORTH VIETNAM|         0.0|                NULL|                  0|     A-6|Grumman A-6 Intruder|     Attack Aircraft|\n",
            "|     A-7|UNITED STATES OF ...| 1972-10-15|              NULL|          D|    TONKIN GULF|NORTH VIETNAM|       110.0|                NULL|                  0|     A-7|  LTV A-7 Corsair II|     Attack Aircraft|\n",
            "+--------+--------------------+-----------+------------------+-----------+---------------+-------------+------------+--------------------+-------------------+--------+--------------------+--------------------+\n",
            "only showing top 20 rows\n",
            "\n"
          ]
        }
      ]
    },
    {
      "cell_type": "code",
      "source": [
        "# 기체타입으로 묶어서 세기\n",
        "grouped = missions_joined.groupBy(\"AirCraftType\")\n",
        "counts = grouped.count()\n",
        "counts.show()"
      ],
      "metadata": {
        "colab": {
          "base_uri": "https://localhost:8080/"
        },
        "id": "Zfr-O66W9ib-",
        "outputId": "2409474a-4fb0-4640-9e14-5b302dc1c419"
      },
      "execution_count": null,
      "outputs": [
        {
          "output_type": "stream",
          "name": "stdout",
          "text": [
            "+--------------------+------+\n",
            "|        AirCraftType| count|\n",
            "+--------------------+------+\n",
            "|Carrier-based Fig...| 58691|\n",
            "|  Utility Prop plane|     5|\n",
            "|Early Warning air...|  1380|\n",
            "|Military Transpor...|228426|\n",
            "|Heavy strategic b...|     2|\n",
            "|Airliner/transpor...|   397|\n",
            "|    Cargo Prop plane|   176|\n",
            "|        Light Bomber| 39262|\n",
            "|  Transport Aircraft|     7|\n",
            "| Airliner/ Transport|     1|\n",
            "|Airborne early wa...| 17226|\n",
            "|  Jet Fighter Bomber|451385|\n",
            "|Weather reconnais...|  1223|\n",
            "|Fixed wing ground...| 75058|\n",
            "|        Fighter jet | 10322|\n",
            "|Photographic reco...|  7800|\n",
            "| Light Utility Plane| 28582|\n",
            "|Close air support...|   921|\n",
            "|     Tactical Bomber| 82219|\n",
            "|          Bomber Jet|     8|\n",
            "+--------------------+------+\n",
            "only showing top 20 rows\n",
            "\n"
          ]
        }
      ]
    },
    {
      "cell_type": "code",
      "source": [
        "# 정렬하기\n",
        "counts = counts.sort(desc(\"count\"))\n",
        "counts.show()"
      ],
      "metadata": {
        "colab": {
          "base_uri": "https://localhost:8080/"
        },
        "id": "xiWBj5iQ-a9J",
        "outputId": "9a3eb69f-3322-4339-c1d6-d29683be276f"
      },
      "execution_count": null,
      "outputs": [
        {
          "output_type": "stream",
          "name": "stdout",
          "text": [
            "+--------------------+-------+\n",
            "|        AirCraftType|  count|\n",
            "+--------------------+-------+\n",
            "|  Fighter Jet Bomber|1073126|\n",
            "|         Fighter Jet| 882594|\n",
            "|  Jet Fighter Bomber| 451385|\n",
            "|     Attack Aircraft| 315246|\n",
            "|Light ground-atta...| 267457|\n",
            "|  Fighter bomber jet| 242231|\n",
            "|Military Transpor...| 228426|\n",
            "|  Utility Helicopter| 146653|\n",
            "|    Strategic bomber|  99100|\n",
            "|     Tactical Bomber|  82219|\n",
            "|Observation Aircraft|  81820|\n",
            "|Fixed wing ground...|  75058|\n",
            "|Ground attack air...|  73843|\n",
            "|Carrier-based Fig...|  58691|\n",
            "|   Training Aircraft|  48435|\n",
            "|       Light fighter|  39999|\n",
            "|        Light Bomber|  39262|\n",
            "|Light Tactical Bo...|  34738|\n",
            "| Light Utility Plane|  28582|\n",
            "|Observation/ Ligh...|  24491|\n",
            "+--------------------+-------+\n",
            "only showing top 20 rows\n",
            "\n"
          ]
        }
      ]
    },
    {
      "cell_type": "markdown",
      "metadata": {
        "id": "2Y1043GMSahV"
      },
      "source": [
        "In alternative we can rewrite this in pure SQL:"
      ]
    },
    {
      "cell_type": "code",
      "execution_count": null,
      "metadata": {
        "id": "980KMZCOSahV"
      },
      "outputs": [],
      "source": [
        "Bombing_Operations.registerTempTable(\"Bombing_Operations\")\n",
        "Aircraft_Glossary.registerTempTable(\"Aircraft_Glossary\")\n",
        "\n",
        "query = \"\"\"\n",
        "SELECT AirCraftType, count(*) MissionsCount\n",
        "FROM Bombing_Operations bo\n",
        "JOIN Aircraft_Glossary ag\n",
        "ON bo.AirCraft = ag.AirCraft\n",
        "GROUP BY AirCraftType\n",
        "ORDER BY MissionsCount DESC\n",
        "\"\"\"\n",
        "\n",
        "spark.sql(query).show()"
      ]
    },
    {
      "cell_type": "markdown",
      "metadata": {
        "id": "ffrW-oV2SahW"
      },
      "source": [
        "The aircrafts of type `Fighter Jet Bomber` participated in most of the missions in the Vietnam war.\n",
        "\n",
        "Note: This dataset would require further cleaning and normalization. See `Fighter Jet Bomber`, `Jet Fighter Bomber`, `Fighter bomber jet`"
      ]
    },
    {
      "cell_type": "code",
      "source": [],
      "metadata": {
        "id": "Os9uzeU3rFHT"
      },
      "execution_count": null,
      "outputs": []
    }
  ],
  "metadata": {
    "colab": {
      "machine_shape": "hm",
      "provenance": []
    },
    "kernelspec": {
      "display_name": "Python 3",
      "language": "python",
      "name": "python3"
    },
    "language_info": {
      "codemirror_mode": {
        "name": "ipython",
        "version": 3
      },
      "file_extension": ".py",
      "mimetype": "text/x-python",
      "name": "python",
      "nbconvert_exporter": "python",
      "pygments_lexer": "ipython3",
      "version": "3.7.3"
    }
  },
  "nbformat": 4,
  "nbformat_minor": 0
}