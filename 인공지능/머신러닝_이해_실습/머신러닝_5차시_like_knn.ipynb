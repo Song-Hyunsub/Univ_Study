{
  "cells": [
    {
      "cell_type": "markdown",
      "metadata": {
        "id": "view-in-github",
        "colab_type": "text"
      },
      "source": [
        "<a href=\"https://colab.research.google.com/github/Song-Hyunsub/Univ_Study/blob/main/%EC%9D%B8%EA%B3%B5%EC%A7%80%EB%8A%A5/%EB%A8%B8%EC%8B%A0%EB%9F%AC%EB%8B%9D_%EC%9D%B4%ED%95%B4_%EC%8B%A4%EC%8A%B5/%EB%A8%B8%EC%8B%A0%EB%9F%AC%EB%8B%9D_5%EC%B0%A8%EC%8B%9C_like_knn.ipynb\" target=\"_parent\"><img src=\"https://colab.research.google.com/assets/colab-badge.svg\" alt=\"Open In Colab\"/></a>"
      ]
    },
    {
      "cell_type": "markdown",
      "source": [
        "KNN의 특장점 : 간단한 구조, 이해 용이, 구현 용이, 강력한 결과  \n",
        "서로 비슷한 속성끼리 모이는 경향을 보여줌  \n",
        "주변 K개의 속성 조사  \n",
        "가장 많은 투표를 얻은 클래스나 속성 예측  \n",
        "K값은 주관적이기 때문에 적당한 값을 정해야 함  \n",
        "KNN(K-인접 이웃) 알고리즘 : 여러 K값으로 테스트 -> 가장 좋은 방법으로 나눈 것  \n",
        "=> 모든 계산이 이루어진 이후 분류 수행  \n",
        "'사례 기반 학습' 또는 '메모리 기반 학습'이라고 함  \n",
        "=> 훈련 데이터에 target값이 존재하므로 '지도 학습'이다.  \n",
        "* 색깔 공 예시 확인하기!  \n",
        "Weighted KNN : 거리의 역수나 역수의 제곱의 역수를 가중치를 두어 정확도가 높음  \n",
        "y = argmax_v (sum_D_x(I(v=y_i)))  \n",
        "I : Identifier 함수 => 1=참, 0=거짓  \n",
        "D_x : x를 중심으로 텍스트 제시 (반경 집합)  \n",
        "argmax_v : 괄호 안 수식의 최대 변수 v(클래스)를 찾는 것  \n",
        "  \n",
        "KNN 분류기 실습  \n",
        "  \n",
        "호감도 Label 예측 모델 : 범주형 데이터이므로 KNN 분류기(Classifier)로 만듦  \n",
        "K값을 선택하면서 시행착오를 겪어야 함  \n",
        "K값에 따라서 분류 결과, 정확도, 신뢰도가 달라짐  \n",
        "KNeighborsClassifier() 함수 = 분류기로 사용  \n",
        "Regressor 함수 = 연속형 데이터 예측  \n",
        "KNeighborsRegressor() = 연속형 값 예측  \n",
        "데이터 -> 모델 구축 -> 호감도 라벨 예측  \n",
        "실제 관측 데이터와 얼마나 차이나는가 확인하는 것이 중요!  "
      ],
      "metadata": {
        "id": "yQYemdvMnaV4"
      }
    },
    {
      "cell_type": "code",
      "execution_count": null,
      "metadata": {
        "id": "V2lqZwMIhgmP",
        "outputId": "6ac8d899-dd00-4335-941f-e6cccd779372"
      },
      "outputs": [
        {
          "data": {
            "text/html": [
              "<div>\n",
              "<style scoped>\n",
              "    .dataframe tbody tr th:only-of-type {\n",
              "        vertical-align: middle;\n",
              "    }\n",
              "\n",
              "    .dataframe tbody tr th {\n",
              "        vertical-align: top;\n",
              "    }\n",
              "\n",
              "    .dataframe thead th {\n",
              "        text-align: right;\n",
              "    }\n",
              "</style>\n",
              "<table border=\"1\" class=\"dataframe\">\n",
              "  <thead>\n",
              "    <tr style=\"text-align: right;\">\n",
              "      <th></th>\n",
              "      <th>talk</th>\n",
              "      <th>book</th>\n",
              "      <th>travel</th>\n",
              "      <th>school</th>\n",
              "      <th>tall</th>\n",
              "      <th>skin</th>\n",
              "      <th>muscle</th>\n",
              "      <th>like_level</th>\n",
              "    </tr>\n",
              "  </thead>\n",
              "  <tbody>\n",
              "    <tr>\n",
              "      <th>0</th>\n",
              "      <td>30</td>\n",
              "      <td>80</td>\n",
              "      <td>40</td>\n",
              "      <td>40</td>\n",
              "      <td>90</td>\n",
              "      <td>90</td>\n",
              "      <td>50</td>\n",
              "      <td>1타입</td>\n",
              "    </tr>\n",
              "    <tr>\n",
              "      <th>1</th>\n",
              "      <td>60</td>\n",
              "      <td>50</td>\n",
              "      <td>70</td>\n",
              "      <td>50</td>\n",
              "      <td>60</td>\n",
              "      <td>60</td>\n",
              "      <td>90</td>\n",
              "      <td>2타입</td>\n",
              "    </tr>\n",
              "    <tr>\n",
              "      <th>2</th>\n",
              "      <td>50</td>\n",
              "      <td>40</td>\n",
              "      <td>80</td>\n",
              "      <td>60</td>\n",
              "      <td>50</td>\n",
              "      <td>70</td>\n",
              "      <td>80</td>\n",
              "      <td>2타입</td>\n",
              "    </tr>\n",
              "    <tr>\n",
              "      <th>3</th>\n",
              "      <td>90</td>\n",
              "      <td>50</td>\n",
              "      <td>60</td>\n",
              "      <td>30</td>\n",
              "      <td>40</td>\n",
              "      <td>20</td>\n",
              "      <td>30</td>\n",
              "      <td>3타입</td>\n",
              "    </tr>\n",
              "    <tr>\n",
              "      <th>4</th>\n",
              "      <td>50</td>\n",
              "      <td>70</td>\n",
              "      <td>30</td>\n",
              "      <td>70</td>\n",
              "      <td>70</td>\n",
              "      <td>80</td>\n",
              "      <td>60</td>\n",
              "      <td>1타입</td>\n",
              "    </tr>\n",
              "  </tbody>\n",
              "</table>\n",
              "</div>"
            ],
            "text/plain": [
              "   talk  book  travel  school  tall  skin  muscle like_level\n",
              "0    30    80      40      40    90    90      50        1타입\n",
              "1    60    50      70      50    60    60      90        2타입\n",
              "2    50    40      80      60    50    70      80        2타입\n",
              "3    90    50      60      30    40    20      30        3타입\n",
              "4    50    70      30      70    70    80      60        1타입"
            ]
          },
          "execution_count": 11,
          "metadata": {},
          "output_type": "execute_result"
        }
      ],
      "source": [
        "import pandas as pd\n",
        "%matplotlib inline\n",
        "import matplotlib.pyplot as plt\n",
        "import numpy as np\n",
        "\n",
        "#데이터를 읽어오기\n",
        "like = pd.read_csv('like.csv')\n",
        "like.columns = ['talk' , 'book' , 'travel' , 'school' , 'tall' , 'skin' , 'muscle' , 'like_level']\n",
        "like.head()"
      ]
    },
    {
      "cell_type": "code",
      "execution_count": null,
      "metadata": {
        "id": "yuY8vlslhgmT",
        "outputId": "b0614e29-6955-4a0a-80e4-afbc86ced00f"
      },
      "outputs": [
        {
          "name": "stdout",
          "output_type": "stream",
          "text": [
            "(14, 7)\n",
            "(14,)\n"
          ]
        }
      ],
      "source": [
        "#입력과 target데이터를 분리한다. (like_level => 예측해야 하는 target 값 )\n",
        "x = np.array(like.drop('like_level', axis=1))\n",
        "print(x.shape)\n",
        "y = np.array(like.like_level)\n",
        "print(y.shape)"
      ]
    },
    {
      "cell_type": "code",
      "execution_count": null,
      "metadata": {
        "id": "0wsJW_FHhgmU",
        "outputId": "a8a3ec12-1e25-43d9-fbdf-fb338f8a1a57"
      },
      "outputs": [
        {
          "data": {
            "text/plain": [
              "array([[30, 80, 40, 40, 90, 90, 50],\n",
              "       [60, 50, 70, 50, 60, 60, 90],\n",
              "       [50, 40, 80, 60, 50, 70, 80],\n",
              "       [90, 50, 60, 30, 40, 20, 30],\n",
              "       [50, 70, 30, 70, 70, 80, 60],\n",
              "       [70, 30, 60, 40, 40, 40, 30],\n",
              "       [40, 90, 60, 60, 60, 80, 60],\n",
              "       [30, 60, 90, 60, 40, 70, 70],\n",
              "       [80, 40, 20, 80, 60, 40, 50],\n",
              "       [50, 70, 70, 50, 70, 90, 50],\n",
              "       [80, 50, 60, 40, 50, 40, 70],\n",
              "       [30, 70, 30, 90, 70, 80, 60],\n",
              "       [40, 60, 90, 60, 50, 70, 80],\n",
              "       [80, 30, 50, 50, 80, 40, 60]], dtype=int64)"
            ]
          },
          "execution_count": 13,
          "metadata": {},
          "output_type": "execute_result"
        }
      ],
      "source": [
        "x"
      ]
    },
    {
      "cell_type": "code",
      "execution_count": null,
      "metadata": {
        "id": "pqoIf5AVhgmV",
        "outputId": "470ec1fe-4f17-4940-edc2-3265066c081a"
      },
      "outputs": [
        {
          "data": {
            "text/plain": [
              "array(['1타입', '2타입', '2타입', '3타입', '1타입', '3타입', '1타입', '2타입', '3타입',\n",
              "       '1타입', '3타입', '1타입', '2타입', '3타입'], dtype=object)"
            ]
          },
          "execution_count": 14,
          "metadata": {},
          "output_type": "execute_result"
        }
      ],
      "source": [
        "y"
      ]
    },
    {
      "cell_type": "code",
      "execution_count": null,
      "metadata": {
        "id": "BQubBkSXhgmV",
        "outputId": "2cc09c1b-ede7-4154-e485-aa366ace4da9"
      },
      "outputs": [
        {
          "data": {
            "text/plain": [
              "((14,), (14, 7))"
            ]
          },
          "execution_count": 3,
          "metadata": {},
          "output_type": "execute_result"
        }
      ],
      "source": [
        "y.shape , x.shape"
      ]
    },
    {
      "cell_type": "code",
      "execution_count": null,
      "metadata": {
        "id": "dElpMYwKhgmV",
        "outputId": "ad6c937f-78b6-4e97-bcc5-bdf7df592e25"
      },
      "outputs": [
        {
          "name": "stderr",
          "output_type": "stream",
          "text": [
            "C:\\Users\\USER\\Anaconda3\\lib\\site-packages\\sklearn\\utils\\validation.py:475: DataConversionWarning: Data with input dtype int64 was converted to float64 by StandardScaler.\n",
            "  warnings.warn(msg, DataConversionWarning)\n"
          ]
        }
      ],
      "source": [
        "#데이터를 정규화한다. (=> 동등한 입장에서 모델을 만들 수 있음)\n",
        "from sklearn.preprocessing import StandardScaler\n",
        "scaler = StandardScaler()\n",
        "scaler.fit(x)\n",
        "\n",
        "x = scaler.transform(x)"
      ]
    },
    {
      "cell_type": "code",
      "execution_count": null,
      "metadata": {
        "id": "fgHfVc1ihgmW",
        "outputId": "5a002369-e456-4e2d-874d-f52c25801f0b"
      },
      "outputs": [
        {
          "data": {
            "text/plain": [
              "array([[-1.26962211,  1.34164079, -0.8461218 , -0.98782916,  2.06644812,\n",
              "         1.29927838, -0.59160798],\n",
              "       [ 0.21160368, -0.36590203,  0.57536283, -0.3592106 ,  0.04805693,\n",
              "        -0.09994449,  1.77482393],\n",
              "       [-0.28213825, -0.93508297,  1.04919104,  0.26940795, -0.62474013,\n",
              "         0.36646313,  1.18321596],\n",
              "       [ 1.69282948, -0.36590203,  0.10153462, -1.61644772, -1.29753719,\n",
              "        -1.96557498, -1.77482393],\n",
              "       [-0.28213825,  0.77245985, -1.31995001,  0.89802651,  0.720854  ,\n",
              "         0.83287076,  0.        ],\n",
              "       [ 0.70534562, -1.50426391,  0.10153462, -0.98782916, -1.29753719,\n",
              "        -1.03275974, -1.77482393],\n",
              "       [-0.77588018,  1.91082173,  0.10153462,  0.26940795,  0.04805693,\n",
              "         0.83287076,  0.        ],\n",
              "       [-1.26962211,  0.20327891,  1.52301925,  0.26940795, -1.29753719,\n",
              "         0.36646313,  0.59160798],\n",
              "       [ 1.19908755, -0.93508297, -1.79377823,  1.52664507,  0.04805693,\n",
              "        -1.03275974, -0.59160798],\n",
              "       [-0.28213825,  0.77245985,  0.57536283, -0.3592106 ,  0.720854  ,\n",
              "         1.29927838, -0.59160798],\n",
              "       [ 1.19908755, -0.36590203,  0.10153462, -0.98782916, -0.62474013,\n",
              "        -1.03275974,  0.59160798],\n",
              "       [-1.26962211,  0.77245985, -1.31995001,  2.15526362,  0.720854  ,\n",
              "         0.83287076,  0.        ],\n",
              "       [-0.77588018,  0.20327891,  1.52301925,  0.26940795, -0.62474013,\n",
              "         0.36646313,  1.18321596],\n",
              "       [ 1.19908755, -1.50426391, -0.37229359, -0.3592106 ,  1.39365106,\n",
              "        -1.03275974,  0.        ]])"
            ]
          },
          "execution_count": 16,
          "metadata": {},
          "output_type": "execute_result"
        }
      ],
      "source": [
        "x"
      ]
    },
    {
      "cell_type": "code",
      "execution_count": null,
      "metadata": {
        "id": "B4vGUiKihgmW",
        "outputId": "e1a9203b-7964-4f94-911d-1375ed363811"
      },
      "outputs": [
        {
          "data": {
            "text/plain": [
              "KNeighborsClassifier(algorithm='auto', leaf_size=30, metric='minkowski',\n",
              "           metric_params=None, n_jobs=1, n_neighbors=5, p=2,\n",
              "           weights='uniform')"
            ]
          },
          "execution_count": 17,
          "metadata": {},
          "output_type": "execute_result"
        }
      ],
      "source": [
        "#knn 분류기 모델을 만든다.(=> 범주형 데이터를 예측하는 모델)\n",
        "from sklearn.neighbors import KNeighborsClassifier\n",
        "classifier = KNeighborsClassifier(n_neighbors=5)\n",
        "classifier.fit(x, y)"
      ]
    },
    {
      "cell_type": "code",
      "execution_count": null,
      "metadata": {
        "id": "zXUKVJDLhgmW",
        "outputId": "35e43788-e868-4d35-8fd2-93c60cfb32ee"
      },
      "outputs": [
        {
          "data": {
            "text/plain": [
              "array(['1타입', '2타입', '2타입', '3타입', '1타입', '3타입', '1타입', '2타입', '3타입',\n",
              "       '1타입', '3타입', '1타입', '2타입', '3타입'], dtype=object)"
            ]
          },
          "execution_count": 18,
          "metadata": {},
          "output_type": "execute_result"
        }
      ],
      "source": [
        "#원래의 데이터를 넣어서 예측한다.\n",
        "y_pred = classifier.predict(x)\n",
        "y_pred"
      ]
    },
    {
      "cell_type": "code",
      "execution_count": null,
      "metadata": {
        "id": "6ZJErYaohgmX",
        "outputId": "7667a3fb-760d-45c3-a38e-fdfc4c06dca8"
      },
      "outputs": [
        {
          "data": {
            "text/plain": [
              "array(['1타입', '2타입', '2타입', '3타입', '1타입', '3타입', '1타입', '2타입', '3타입',\n",
              "       '1타입', '3타입', '1타입', '2타입', '3타입'], dtype=object)"
            ]
          },
          "execution_count": 19,
          "metadata": {},
          "output_type": "execute_result"
        }
      ],
      "source": [
        "y #원래 나왔던 값과 비교하기"
      ]
    },
    {
      "cell_type": "code",
      "execution_count": null,
      "metadata": {
        "id": "iUEbK0sjhgmX",
        "outputId": "4d94cc07-c370-4701-cc52-c3e9b8a28a35"
      },
      "outputs": [
        {
          "name": "stdout",
          "output_type": "stream",
          "text": [
            "[[5 0 0]\n",
            " [0 4 0]\n",
            " [0 0 5]]\n",
            "             precision    recall  f1-score   support\n",
            "\n",
            "        1타입       1.00      1.00      1.00         5\n",
            "        2타입       1.00      1.00      1.00         4\n",
            "        3타입       1.00      1.00      1.00         5\n",
            "\n",
            "avg / total       1.00      1.00      1.00        14\n",
            "\n"
          ]
        }
      ],
      "source": [
        "#모델을 평가한다.\n",
        "from sklearn.metrics import classification_report, confusion_matrix\n",
        "print(confusion_matrix(y, y_pred))\n",
        "print(classification_report(y, y_pred))"
      ]
    },
    {
      "cell_type": "markdown",
      "source": [
        "=> 대각선 방향으로 숫자가 모여있을수록 정확한 모델이다  \n",
        "정확도 : 100%"
      ],
      "metadata": {
        "id": "qm2YD9TBi4Qz"
      }
    },
    {
      "cell_type": "code",
      "execution_count": null,
      "metadata": {
        "collapsed": true,
        "id": "PteVLpBqhgmX"
      },
      "outputs": [],
      "source": []
    },
    {
      "cell_type": "code",
      "execution_count": null,
      "metadata": {
        "collapsed": true,
        "id": "awjgmzuWhgmX"
      },
      "outputs": [],
      "source": []
    }
  ],
  "metadata": {
    "anaconda-cloud": {},
    "kernelspec": {
      "display_name": "Python [default]",
      "language": "python",
      "name": "python3"
    },
    "language_info": {
      "codemirror_mode": {
        "name": "ipython",
        "version": 3
      },
      "file_extension": ".py",
      "mimetype": "text/x-python",
      "name": "python",
      "nbconvert_exporter": "python",
      "pygments_lexer": "ipython3",
      "version": "3.5.2"
    },
    "colab": {
      "provenance": [],
      "include_colab_link": true
    }
  },
  "nbformat": 4,
  "nbformat_minor": 0
}