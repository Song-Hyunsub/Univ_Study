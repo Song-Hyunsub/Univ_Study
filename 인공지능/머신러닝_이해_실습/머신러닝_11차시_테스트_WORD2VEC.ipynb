{
  "cells": [
    {
      "cell_type": "markdown",
      "metadata": {
        "id": "view-in-github",
        "colab_type": "text"
      },
      "source": [
        "<a href=\"https://colab.research.google.com/github/Song-Hyunsub/Univ_Study/blob/main/%EC%9D%B8%EA%B3%B5%EC%A7%80%EB%8A%A5/%EB%A8%B8%EC%8B%A0%EB%9F%AC%EB%8B%9D_%EC%9D%B4%ED%95%B4_%EC%8B%A4%EC%8A%B5/%EB%A8%B8%EC%8B%A0%EB%9F%AC%EB%8B%9D_11%EC%B0%A8%EC%8B%9C_%ED%85%8C%EC%8A%A4%ED%8A%B8_WORD2VEC.ipynb\" target=\"_parent\"><img src=\"https://colab.research.google.com/assets/colab-badge.svg\" alt=\"Open In Colab\"/></a>"
      ]
    },
    {
      "cell_type": "code",
      "execution_count": null,
      "metadata": {
        "id": "4NGjNOW0LivR"
      },
      "outputs": [],
      "source": [
        "from gensim.test.utils import common_texts, get_tmpfile\n",
        "from gensim.models import Word2Vec\n",
        "\n",
        "path = get_tmpfile(\"word2vec.model\")"
      ]
    },
    {
      "cell_type": "code",
      "execution_count": null,
      "metadata": {
        "id": "Fc73kLhbLivS",
        "outputId": "f02645d8-e1c8-421c-af6e-ea1101b07221"
      },
      "outputs": [
        {
          "data": {
            "text/plain": [
              "'C:\\\\Users\\\\YJH\\\\AppData\\\\Local\\\\Temp\\\\tmpyv7_ehna\\\\word2vec.model'"
            ]
          },
          "execution_count": 2,
          "metadata": {},
          "output_type": "execute_result"
        }
      ],
      "source": [
        "path"
      ]
    },
    {
      "cell_type": "code",
      "execution_count": null,
      "metadata": {
        "id": "INFvzKE9LivT",
        "outputId": "07f9d380-0161-4100-ff32-de4c5185f11c"
      },
      "outputs": [
        {
          "data": {
            "text/plain": [
              "[['human', 'interface', 'computer'],\n",
              " ['survey', 'user', 'computer', 'system', 'response', 'time'],\n",
              " ['eps', 'user', 'interface', 'system'],\n",
              " ['system', 'human', 'system', 'eps'],\n",
              " ['user', 'response', 'time'],\n",
              " ['trees'],\n",
              " ['graph', 'trees'],\n",
              " ['graph', 'minors', 'trees'],\n",
              " ['graph', 'minors', 'survey']]"
            ]
          },
          "execution_count": 3,
          "metadata": {},
          "output_type": "execute_result"
        }
      ],
      "source": [
        "common_texts"
      ]
    },
    {
      "cell_type": "code",
      "execution_count": null,
      "metadata": {
        "id": "5lQ_UeUTLivT"
      },
      "outputs": [],
      "source": [
        "#위의 데이터를 기반으로 word2vec모델을 만들어봅시다.\n",
        "#임베딩의 size는 100이고 window는 5로 합니다. (최소 1번이상은 나와야 합니다.)"
      ]
    },
    {
      "cell_type": "code",
      "execution_count": null,
      "metadata": {
        "id": "bridIC4SLivT"
      },
      "outputs": [],
      "source": [
        "model = Word2Vec(common_texts, vector_size = 100, window=5, min_count=1) #버전에 따라 vector_size --> size"
      ]
    },
    {
      "cell_type": "code",
      "execution_count": null,
      "metadata": {
        "id": "SlXVZxU0LivU",
        "outputId": "d1e086af-63a9-425c-eb48-1a541e5b1061"
      },
      "outputs": [
        {
          "data": {
            "text/plain": [
              "<gensim.models.word2vec.Word2Vec at 0x18b675cdf08>"
            ]
          },
          "execution_count": 6,
          "metadata": {},
          "output_type": "execute_result"
        }
      ],
      "source": [
        "model"
      ]
    },
    {
      "cell_type": "code",
      "execution_count": null,
      "metadata": {
        "id": "mYSUSFPbLivU",
        "outputId": "89d8b460-d7f8-4806-e2b9-3d0f3145eedf"
      },
      "outputs": [
        {
          "data": {
            "text/plain": [
              "[['human', 'interface', 'computer'],\n",
              " ['survey', 'user', 'computer', 'system', 'response', 'time'],\n",
              " ['eps', 'user', 'interface', 'system'],\n",
              " ['system', 'human', 'system', 'eps'],\n",
              " ['user', 'response', 'time'],\n",
              " ['trees'],\n",
              " ['graph', 'trees'],\n",
              " ['graph', 'minors', 'trees'],\n",
              " ['graph', 'minors', 'survey']]"
            ]
          },
          "execution_count": 7,
          "metadata": {},
          "output_type": "execute_result"
        }
      ],
      "source": [
        "common_texts"
      ]
    },
    {
      "cell_type": "code",
      "execution_count": null,
      "metadata": {
        "id": "SJE_HXxGLivU"
      },
      "outputs": [],
      "source": [
        "model.save(\"word2vec.model\")"
      ]
    },
    {
      "cell_type": "code",
      "execution_count": null,
      "metadata": {
        "id": "bnzSfsdWLivU"
      },
      "outputs": [],
      "source": [
        "#computer와 human의 임베딩 벡터를 구하시오"
      ]
    },
    {
      "cell_type": "code",
      "execution_count": null,
      "metadata": {
        "id": "8Jzadg5ALivV",
        "outputId": "0f78f7d0-ae4d-4819-a4e9-7227b970c307"
      },
      "outputs": [
        {
          "data": {
            "text/plain": [
              "array([-0.00515774, -0.00667028, -0.0077791 ,  0.00831315, -0.00198292,\n",
              "       -0.00685696, -0.0041556 ,  0.00514562, -0.00286997, -0.00375075,\n",
              "        0.0016219 , -0.0027771 , -0.00158482,  0.0010748 , -0.00297881,\n",
              "        0.00852176,  0.00391207, -0.00996176,  0.00626142, -0.00675622,\n",
              "        0.00076966,  0.00440552, -0.00510486, -0.00211128,  0.00809783,\n",
              "       -0.00424503, -0.00763848,  0.00926061, -0.00215612, -0.00472081,\n",
              "        0.00857329,  0.00428458,  0.0043261 ,  0.00928722, -0.00845554,\n",
              "        0.00525685,  0.00203994,  0.0041895 ,  0.00169839,  0.00446543,\n",
              "        0.00448759,  0.0061063 , -0.00320303, -0.00457706, -0.00042664,\n",
              "        0.00253447, -0.00326412,  0.00605948,  0.00415534,  0.00776685,\n",
              "        0.00257002,  0.00811904, -0.00138761,  0.00808028,  0.0037181 ,\n",
              "       -0.00804967, -0.00393476, -0.0024726 ,  0.00489447, -0.00087241,\n",
              "       -0.00283173,  0.00783599,  0.00932561, -0.0016154 , -0.00516075,\n",
              "       -0.00470313, -0.00484746, -0.00960562,  0.00137242, -0.00422615,\n",
              "        0.00252744,  0.00561612, -0.00406709, -0.00959937,  0.00154715,\n",
              "       -0.00670207,  0.0024959 , -0.00378173,  0.00708048,  0.00064041,\n",
              "        0.00356198, -0.00273993, -0.00171105,  0.00765502,  0.00140809,\n",
              "       -0.00585215, -0.00783678,  0.00123304,  0.00645651,  0.00555797,\n",
              "       -0.00897966,  0.00859466,  0.00404815,  0.00747178,  0.00974917,\n",
              "       -0.0072917 , -0.00904259,  0.0058377 ,  0.00939395,  0.00350795],\n",
              "      dtype=float32)"
            ]
          },
          "execution_count": 10,
          "metadata": {},
          "output_type": "execute_result"
        }
      ],
      "source": [
        "model.wv['computer']"
      ]
    },
    {
      "cell_type": "code",
      "execution_count": null,
      "metadata": {
        "id": "MZhZhYG7LivV",
        "outputId": "720c5ab1-f201-484b-83a7-cd462c197b41"
      },
      "outputs": [
        {
          "data": {
            "text/plain": [
              "array([ 9.7702928e-03,  8.1651136e-03,  1.2809705e-03,  5.0975773e-03,\n",
              "        1.4081288e-03, -6.4551616e-03, -1.4280510e-03,  6.4491653e-03,\n",
              "       -4.6173073e-03, -3.9930656e-03,  4.9244044e-03,  2.7130984e-03,\n",
              "       -1.8479753e-03, -2.8769446e-03,  6.0107303e-03, -5.7167388e-03,\n",
              "       -3.2367038e-03, -6.4878250e-03, -4.2346334e-03, -8.5809948e-03,\n",
              "       -4.4697905e-03, -8.5112313e-03,  1.4037776e-03, -8.6181974e-03,\n",
              "       -9.9166557e-03, -8.2016252e-03, -6.7726658e-03,  6.6805840e-03,\n",
              "        3.7845564e-03,  3.5616636e-04, -2.9579829e-03, -7.4283220e-03,\n",
              "        5.3341867e-04,  4.9989222e-04,  1.9561767e-04,  8.5259438e-04,\n",
              "        7.8633073e-04, -6.8161491e-05, -8.0070542e-03, -5.8702733e-03,\n",
              "       -8.3829118e-03, -1.3120436e-03,  1.8206357e-03,  7.4171280e-03,\n",
              "       -1.9634271e-03, -2.3252917e-03,  9.4871549e-03,  7.9703328e-05,\n",
              "       -2.4045228e-03,  8.6048460e-03,  2.6870037e-03, -5.3439736e-03,\n",
              "        6.5881060e-03,  4.5101522e-03, -7.0544672e-03, -3.2317400e-04,\n",
              "        8.3448651e-04,  5.7473565e-03, -1.7176557e-03, -2.8065301e-03,\n",
              "        1.7484308e-03,  8.4717036e-04,  1.1928272e-03, -2.6342822e-03,\n",
              "       -5.9857843e-03,  7.3229838e-03,  7.5873756e-03,  8.2963565e-03,\n",
              "       -8.5988473e-03,  2.6364254e-03, -3.5599638e-03,  9.6204039e-03,\n",
              "        2.9037667e-03,  4.6411133e-03,  2.3856140e-03,  6.6084769e-03,\n",
              "       -5.7432912e-03,  7.8944108e-03, -2.4109220e-03, -4.5618867e-03,\n",
              "       -2.0609903e-03,  9.7335577e-03, -6.8565919e-03, -2.1917201e-03,\n",
              "        7.0009995e-03, -5.5749417e-05, -6.2949681e-03, -6.3935257e-03,\n",
              "        8.9403940e-03,  6.4295745e-03,  4.7735930e-03, -3.2620477e-03,\n",
              "       -9.2676207e-03,  3.7868882e-03,  7.1605491e-03, -5.6328895e-03,\n",
              "       -7.8650145e-03, -2.9727411e-03, -4.9318983e-03, -2.3151112e-03],\n",
              "      dtype=float32)"
            ]
          },
          "execution_count": 11,
          "metadata": {},
          "output_type": "execute_result"
        }
      ],
      "source": [
        "model.wv['human']"
      ]
    },
    {
      "cell_type": "code",
      "execution_count": null,
      "metadata": {
        "id": "GAe_XeMyLivV"
      },
      "outputs": [],
      "source": [
        "#computer와 가장 가까운 단어를 정렬하여 출력하여 보세요"
      ]
    },
    {
      "cell_type": "code",
      "execution_count": null,
      "metadata": {
        "id": "XsfcbE5QLivV",
        "outputId": "047a1879-c24f-4a60-cd95-77e81f96efa8"
      },
      "outputs": [
        {
          "data": {
            "text/plain": [
              "[('system', 0.21617142856121063),\n",
              " ('survey', 0.044689200818538666),\n",
              " ('interface', 0.01520337350666523),\n",
              " ('time', 0.0019510575802996755),\n",
              " ('trees', -0.03284314647316933),\n",
              " ('human', -0.0742427185177803),\n",
              " ('response', -0.09317588806152344),\n",
              " ('graph', -0.09575346857309341),\n",
              " ('eps', -0.10513805598020554),\n",
              " ('user', -0.16911622881889343)]"
            ]
          },
          "execution_count": 13,
          "metadata": {},
          "output_type": "execute_result"
        }
      ],
      "source": [
        "model.wv.most_similar(positive=[\"computer\"])"
      ]
    },
    {
      "cell_type": "code",
      "execution_count": null,
      "metadata": {
        "id": "p-JPnpz8LivW"
      },
      "outputs": [],
      "source": [
        "#computer와 가장 가까우면서 trees와 먼 단어는 무엇인가요?"
      ]
    },
    {
      "cell_type": "code",
      "execution_count": null,
      "metadata": {
        "id": "GRAtFYjFLivW",
        "outputId": "3cde72e6-65d6-4cf8-de9b-2473dec87c78"
      },
      "outputs": [
        {
          "data": {
            "text/plain": [
              "[('system', 0.18682780861854553),\n",
              " ('interface', 0.08154107630252838),\n",
              " ('graph', -0.050152599811553955),\n",
              " ('response', -0.062904953956604),\n",
              " ('time', -0.10019108653068542),\n",
              " ('survey', -0.10744927823543549),\n",
              " ('user', -0.1082492247223854),\n",
              " ('eps', -0.11774424463510513),\n",
              " ('human', -0.17183560132980347),\n",
              " ('minors', -0.23894456028938293)]"
            ]
          },
          "execution_count": 15,
          "metadata": {},
          "output_type": "execute_result"
        }
      ],
      "source": [
        "model.wv.most_similar(positive=[\"computer\"] , negative=[\"trees\"])"
      ]
    },
    {
      "cell_type": "code",
      "execution_count": null,
      "metadata": {
        "id": "eLLXUkJ2LivW"
      },
      "outputs": [],
      "source": []
    },
    {
      "cell_type": "code",
      "execution_count": null,
      "metadata": {
        "id": "UB5DPau5LivW"
      },
      "outputs": [],
      "source": []
    }
  ],
  "metadata": {
    "kernelspec": {
      "display_name": "Python 3 (ipykernel)",
      "language": "python",
      "name": "python3"
    },
    "language_info": {
      "codemirror_mode": {
        "name": "ipython",
        "version": 3
      },
      "file_extension": ".py",
      "mimetype": "text/x-python",
      "name": "python",
      "nbconvert_exporter": "python",
      "pygments_lexer": "ipython3",
      "version": "3.7.11"
    },
    "colab": {
      "provenance": [],
      "include_colab_link": true
    }
  },
  "nbformat": 4,
  "nbformat_minor": 0
}