{
  "cells": [
    {
      "cell_type": "markdown",
      "metadata": {
        "id": "view-in-github",
        "colab_type": "text"
      },
      "source": [
        "<a href=\"https://colab.research.google.com/github/Song-Hyunsub/Univ_Study/blob/main/%EC%9D%B8%EA%B3%B5%EC%A7%80%EB%8A%A5/%EB%A8%B8%EC%8B%A0%EB%9F%AC%EB%8B%9D_%EC%9D%B4%ED%95%B4_%EC%8B%A4%EC%8A%B5/%EB%A8%B8%EC%8B%A0%EB%9F%AC%EB%8B%9D_4%EC%B0%A8%EC%8B%9C_%EC%95%84%EC%B9%B4%EB%8D%B0%EB%AF%B8_%EA%B5%B0%EC%A7%91%EB%B6%84%EC%84%9D.ipynb\" target=\"_parent\"><img src=\"https://colab.research.google.com/assets/colab-badge.svg\" alt=\"Open In Colab\"/></a>"
      ]
    },
    {
      "cell_type": "code",
      "execution_count": null,
      "metadata": {
        "id": "sgeDwjqUIB0L",
        "outputId": "e7c0ec9a-6532-4346-a43f-02fa2dd44625"
      },
      "outputs": [
        {
          "data": {
            "text/html": [
              "<div>\n",
              "<style scoped>\n",
              "    .dataframe tbody tr th:only-of-type {\n",
              "        vertical-align: middle;\n",
              "    }\n",
              "\n",
              "    .dataframe tbody tr th {\n",
              "        vertical-align: top;\n",
              "    }\n",
              "\n",
              "    .dataframe thead th {\n",
              "        text-align: right;\n",
              "    }\n",
              "</style>\n",
              "<table border=\"1\" class=\"dataframe\">\n",
              "  <thead>\n",
              "    <tr style=\"text-align: right;\">\n",
              "      <th></th>\n",
              "      <th>kor</th>\n",
              "      <th>math</th>\n",
              "      <th>eng</th>\n",
              "      <th>sci</th>\n",
              "      <th>itn</th>\n",
              "    </tr>\n",
              "  </thead>\n",
              "  <tbody>\n",
              "    <tr>\n",
              "      <th>0</th>\n",
              "      <td>90</td>\n",
              "      <td>75</td>\n",
              "      <td>85</td>\n",
              "      <td>60</td>\n",
              "      <td>70</td>\n",
              "    </tr>\n",
              "    <tr>\n",
              "      <th>1</th>\n",
              "      <td>65</td>\n",
              "      <td>90</td>\n",
              "      <td>60</td>\n",
              "      <td>88</td>\n",
              "      <td>80</td>\n",
              "    </tr>\n",
              "    <tr>\n",
              "      <th>2</th>\n",
              "      <td>45</td>\n",
              "      <td>53</td>\n",
              "      <td>48</td>\n",
              "      <td>50</td>\n",
              "      <td>60</td>\n",
              "    </tr>\n",
              "    <tr>\n",
              "      <th>3</th>\n",
              "      <td>77</td>\n",
              "      <td>96</td>\n",
              "      <td>62</td>\n",
              "      <td>92</td>\n",
              "      <td>70</td>\n",
              "    </tr>\n",
              "    <tr>\n",
              "      <th>4</th>\n",
              "      <td>88</td>\n",
              "      <td>89</td>\n",
              "      <td>80</td>\n",
              "      <td>82</td>\n",
              "      <td>90</td>\n",
              "    </tr>\n",
              "  </tbody>\n",
              "</table>\n",
              "</div>"
            ],
            "text/plain": [
              "   kor  math  eng  sci  itn\n",
              "0   90    75   85   60   70\n",
              "1   65    90   60   88   80\n",
              "2   45    53   48   50   60\n",
              "3   77    96   62   92   70\n",
              "4   88    89   80   82   90"
            ]
          },
          "execution_count": 8,
          "metadata": {},
          "output_type": "execute_result"
        }
      ],
      "source": [
        "import pandas as pd\n",
        "%matplotlib inline\n",
        "import matplotlib.pyplot as plt\n",
        "import numpy as np\n",
        "from sklearn import cluster\n",
        "\n",
        "academy = pd.read_csv('academy.csv')\n",
        "academy.columns = ['num' , 'kor' , 'math' , 'eng' , 'sci' , 'itn']\n",
        "academy = academy.drop('num', axis=1)\n",
        "academy.head()"
      ]
    },
    {
      "cell_type": "code",
      "execution_count": null,
      "metadata": {
        "id": "joOIgZR9IB0M"
      },
      "outputs": [],
      "source": [
        "academy_arr = np.array(academy)"
      ]
    },
    {
      "cell_type": "code",
      "execution_count": null,
      "metadata": {
        "id": "j3wmZiroIB0N",
        "outputId": "f4a4dc8e-362c-403e-a882-f9c9efcbcf2b"
      },
      "outputs": [
        {
          "data": {
            "text/plain": [
              "(Index(['kor', 'math', 'eng', 'sci', 'itn'], dtype='object'),\n",
              " array([[ 90,  75,  85,  60,  70],\n",
              "        [ 65,  90,  60,  88,  80],\n",
              "        [ 45,  53,  48,  50,  60],\n",
              "        [ 77,  96,  62,  92,  70],\n",
              "        [ 88,  89,  80,  82,  90],\n",
              "        [ 90,  92,  90,  96, 100],\n",
              "        [ 65,  70,  66,  76,  70],\n",
              "        [ 60,  90,  70,  98,  80],\n",
              "        [ 46,  56,  43,  55,  60],\n",
              "        [ 88,  67,  90,  70,  70],\n",
              "        [ 70,  93,  77,  89,  60],\n",
              "        [ 99,  80,  95,  70,  80],\n",
              "        [ 97,  67,  80,  60,  80],\n",
              "        [ 50,  40,  30,  54,  50],\n",
              "        [ 90,  77,  92,  60,  70],\n",
              "        [ 55,  88,  67,  92,  60],\n",
              "        [ 77,  90,  70,  98,  70],\n",
              "        [ 90,  89,  80,  92,  90],\n",
              "        [ 76,  90,  80,  92,  70],\n",
              "        [ 70,  92,  80,  95,  70],\n",
              "        [ 76,  75,  70,  82,  80],\n",
              "        [ 77,  92,  68,  89,  80],\n",
              "        [ 60,  50,  70,  40,  60],\n",
              "        [ 54,  70,  56,  72,  60],\n",
              "        [ 72,  88,  67,  95,  80],\n",
              "        [ 58,  76,  59,  80,  70],\n",
              "        [ 88,  60,  76,  58,  60],\n",
              "        [ 84,  88,  90,  92,  90],\n",
              "        [ 45,  76,  56,  78,  70],\n",
              "        [ 76,  54,  70,  58,  70],\n",
              "        [ 66,  90,  70,  88,  70],\n",
              "        [ 88,  80,  85,  88,  90],\n",
              "        [ 71,  48,  69,  50,  80],\n",
              "        [ 90,  77,  82,  65,  80],\n",
              "        [ 34,  32,  45,  50,  50],\n",
              "        [ 56,  78,  67,  89,  60],\n",
              "        [ 70,  95,  72,  80,  70],\n",
              "        [ 93,  90,  89,  91,  90],\n",
              "        [ 92,  97,  90,  89,  80],\n",
              "        [ 56,  63,  70,  71,  70],\n",
              "        [ 88,  57,  78,  60,  80],\n",
              "        [ 90,  92,  88,  94,  90],\n",
              "        [ 91,  67,  89,  70,  60],\n",
              "        [ 58,  77,  62,  88,  70],\n",
              "        [ 54,  50,  45,  33,  60],\n",
              "        [ 78,  91,  77,  90,  80],\n",
              "        [ 92,  70,  88,  60,  80],\n",
              "        [ 57,  76,  58,  71,  60],\n",
              "        [ 97,  90,  96,  90,  90],\n",
              "        [ 69,  55,  70,  54,  60],\n",
              "        [ 45,  56,  54,  58,  80],\n",
              "        [ 65,  90,  70,  92,  70]], dtype=int64),\n",
              " (52, 5))"
            ]
          },
          "execution_count": 10,
          "metadata": {},
          "output_type": "execute_result"
        }
      ],
      "source": [
        "academy.columns , academy_arr , academy_arr.shape"
      ]
    },
    {
      "cell_type": "code",
      "execution_count": null,
      "metadata": {
        "id": "sKW9o9H9IB0N",
        "outputId": "e852f0f4-113f-442a-dfce-fb55ceb9f27f"
      },
      "outputs": [
        {
          "data": {
            "text/plain": [
              "KMeans(algorithm='auto', copy_x=True, init='k-means++', max_iter=300,\n",
              "    n_clusters=5, n_init=10, n_jobs=1, precompute_distances='auto',\n",
              "    random_state=None, tol=0.0001, verbose=0)"
            ]
          },
          "execution_count": 11,
          "metadata": {},
          "output_type": "execute_result"
        }
      ],
      "source": [
        "model = cluster.KMeans(n_clusters=5)\n",
        "model.fit(academy_arr)"
      ]
    },
    {
      "cell_type": "code",
      "execution_count": null,
      "metadata": {
        "id": "AMhXPV6HIB0N",
        "outputId": "8a879b9e-d91f-42ac-8274-764f366bcc4d"
      },
      "outputs": [
        {
          "data": {
            "text/plain": [
              "array([1, 4, 2, 4, 3, 3, 0, 4, 2, 1, 4, 1, 1, 2, 1, 0, 4, 3, 4, 4, 4, 4,\n",
              "       2, 0, 4, 0, 1, 3, 0, 1, 4, 3, 2, 1, 2, 0, 4, 3, 3, 0, 1, 3, 1, 0,\n",
              "       2, 4, 1, 0, 3, 2, 2, 4])"
            ]
          },
          "execution_count": 12,
          "metadata": {},
          "output_type": "execute_result"
        }
      ],
      "source": [
        "labels = model.labels_\n",
        "labels"
      ]
    },
    {
      "cell_type": "code",
      "execution_count": null,
      "metadata": {
        "id": "LfHU63nIIB0N",
        "outputId": "8bb84804-65ff-4160-93ec-f58fcd592eb5"
      },
      "outputs": [
        {
          "data": {
            "image/png": "[encoded data removed]",
            "text/plain": [
              "<matplotlib.figure.Figure at 0x233295e9390>"
            ]
          },
          "metadata": {},
          "output_type": "display_data"
        }
      ],
      "source": [
        "# 그래프 그리기 (시각화)\n",
        "ldata = academy_arr[labels == 0]\n",
        "plt.scatter(ldata[:, 2], ldata[:, 3],\n",
        "                  c='red' ,alpha=0.3,s=100 ,marker=\"o\")\n",
        "\n",
        "ldata = academy_arr[labels == 1]\n",
        "plt.scatter(ldata[:, 2], ldata[:, 3],\n",
        "                  c='blue' ,alpha=0.3,s=100 ,marker=\"o\")\n",
        "\n",
        "ldata = academy_arr[labels == 2]\n",
        "plt.scatter(ldata[:, 2], ldata[:, 3],\n",
        "                  c='yellow' ,alpha=0.3,s=100 ,marker=\"o\")\n",
        "\n",
        "ldata = academy_arr[labels == 3]\n",
        "plt.scatter(ldata[:, 2], ldata[:, 3],\n",
        "                  c='black' ,alpha=0.3,s=100 ,marker=\"o\")\n",
        "\n",
        "ldata = academy_arr[labels == 4]\n",
        "plt.scatter(ldata[:, 2], ldata[:, 3],\n",
        "                  c='cyan' ,alpha=0.3,s=100 ,marker=\"o\")\n",
        "\n",
        "# 축 라벨의 설정\n",
        "plt.xlabel(academy.columns[2],fontsize='large')\n",
        "plt.ylabel(academy.columns[3],fontsize='large')\n",
        "\n",
        "plt.show()"
      ]
    },
    {
      "cell_type": "code",
      "execution_count": null,
      "metadata": {
        "id": "ZaLNDVwJIB0O",
        "outputId": "7f811a5b-8ce4-4f98-81eb-44bf9f1a89cc"
      },
      "outputs": [
        {
          "data": {
            "image/png": "[encoded data removed]",
            "text/plain": [
              "<matplotlib.figure.Figure at 0x233296a9320>"
            ]
          },
          "metadata": {},
          "output_type": "display_data"
        }
      ],
      "source": [
        "# calculate full\n",
        "from scipy.cluster.hierarchy import dendrogram, linkage\n",
        "\n",
        "Z = linkage(academy_arr , 'ward') # 링크 정보 : 거리함수 ward 사용\n",
        "\n",
        "plt.figure(figsize=(25, 10))\n",
        "plt.title('Hierarchical Clustering Dendrogram')\n",
        "plt.xlabel('iris')\n",
        "plt.ylabel('distance')\n",
        "dendrogram(\n",
        "    Z,\n",
        "    leaf_rotation=90.,  # rotates the x axis labels\n",
        "    leaf_font_size=8.,  # font size for the x axis labels\n",
        ")\n",
        "plt.show()"
      ]
    },
    {
      "cell_type": "markdown",
      "metadata": {
        "id": "xottTv0uIB0O"
      },
      "source": [
        "k=3이 제일 적절하나, 이는 주관적인 기준"
      ]
    }
  ],
  "metadata": {
    "anaconda-cloud": {},
    "kernelspec": {
      "display_name": "Python [default]",
      "language": "python",
      "name": "python3"
    },
    "language_info": {
      "codemirror_mode": {
        "name": "ipython",
        "version": 3
      },
      "file_extension": ".py",
      "mimetype": "text/x-python",
      "name": "python",
      "nbconvert_exporter": "python",
      "pygments_lexer": "ipython3",
      "version": "3.5.2"
    },
    "colab": {
      "provenance": [],
      "include_colab_link": true
    }
  },
  "nbformat": 4,
  "nbformat_minor": 0
}