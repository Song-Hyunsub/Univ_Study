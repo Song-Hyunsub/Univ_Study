{
  "cells": [
    {
      "cell_type": "markdown",
      "metadata": {
        "id": "view-in-github",
        "colab_type": "text"
      },
      "source": [
        "<a href=\"https://colab.research.google.com/github/Song-Hyunsub/Univ_Study/blob/main/%EC%9D%B8%EA%B3%B5%EC%A7%80%EB%8A%A5/%EB%A8%B8%EC%8B%A0%EB%9F%AC%EB%8B%9D_%EC%9D%B4%ED%95%B4_%EC%8B%A4%EC%8A%B5/%EB%A8%B8%EC%8B%A0%EB%9F%AC%EB%8B%9D_17%EC%B0%A8%EC%8B%9C_%ED%85%8C%EC%8A%A4%ED%8A%B8_%EC%97%B0%EA%B4%80%ED%83%90%EC%82%AC.ipynb\" target=\"_parent\"><img src=\"https://colab.research.google.com/assets/colab-badge.svg\" alt=\"Open In Colab\"/></a>"
      ]
    },
    {
      "cell_type": "code",
      "execution_count": null,
      "metadata": {
        "id": "77P41kk52vRV",
        "outputId": "ddcacac2-4752-4840-9732-db9198d30455"
      },
      "outputs": [
        {
          "name": "stderr",
          "output_type": "stream",
          "text": [
            "C:\\Users\\USER\\Anaconda3\\lib\\site-packages\\mlxtend\\preprocessing\\onehot.py:66: DeprecationWarning: OnehotTransactions has been deprecated and will be removed in future. Please use TransactionEncoder instead.\n",
            "  warnings.warn(msg, DeprecationWarning)\n"
          ]
        }
      ],
      "source": [
        "dataset = [['Milk', 'Onion', 'Nutmeg', 'Kidney Beans', 'Eggs', 'Yogurt'],\n",
        "           ['Dill', 'Onion', 'Nutmeg', 'Kidney Beans', 'Eggs', 'Yogurt'],\n",
        "           ['Milk', 'Apple', 'Kidney Beans', 'Eggs'],\n",
        "           ['Milk', 'Unicorn', 'Corn', 'Kidney Beans', 'Yogurt'],\n",
        "           ['Corn', 'Onion', 'Onion', 'Kidney Beans', 'Ice cream', 'Eggs']]\n",
        "\n",
        "\n",
        "import pandas as pd\n",
        "from mlxtend.preprocessing import OnehotTransactions\n",
        "from mlxtend.frequent_patterns import apriori\n",
        "from mlxtend.frequent_patterns import association_rules\n",
        "\n",
        "oht = OnehotTransactions() # 중요!!"
      ]
    },
    {
      "cell_type": "code",
      "execution_count": null,
      "metadata": {
        "id": "1I4U6aQ42vRY",
        "outputId": "7d743ad4-79a5-4da8-fcea-3a2ce9bf7d54"
      },
      "outputs": [
        {
          "data": {
            "text/plain": [
              "[['Milk', 'Onion', 'Nutmeg', 'Kidney Beans', 'Eggs', 'Yogurt'],\n",
              " ['Dill', 'Onion', 'Nutmeg', 'Kidney Beans', 'Eggs', 'Yogurt'],\n",
              " ['Milk', 'Apple', 'Kidney Beans', 'Eggs'],\n",
              " ['Milk', 'Unicorn', 'Corn', 'Kidney Beans', 'Yogurt'],\n",
              " ['Corn', 'Onion', 'Onion', 'Kidney Beans', 'Ice cream', 'Eggs']]"
            ]
          },
          "execution_count": 11,
          "metadata": {},
          "output_type": "execute_result"
        }
      ],
      "source": [
        "dataset"
      ]
    },
    {
      "cell_type": "code",
      "execution_count": null,
      "metadata": {
        "id": "cm1tmUog2vRY",
        "outputId": "c5242c55-919d-4814-8410-2ce39f7054c2"
      },
      "outputs": [
        {
          "name": "stdout",
          "output_type": "stream",
          "text": [
            "   Apple   Corn   Dill   Eggs  Ice cream  Kidney Beans   Milk  Nutmeg  Onion  \\\n",
            "0  False  False  False   True      False          True   True    True   True   \n",
            "1  False  False   True   True      False          True  False    True   True   \n",
            "2   True  False  False   True      False          True   True   False  False   \n",
            "3  False   True  False  False      False          True   True   False  False   \n",
            "4  False   True  False   True       True          True  False   False   True   \n",
            "\n",
            "   Unicorn  Yogurt  \n",
            "0    False    True  \n",
            "1    False    True  \n",
            "2    False   False  \n",
            "3     True    True  \n",
            "4    False   False  \n"
          ]
        }
      ],
      "source": [
        "oht_ary = oht.fit(dataset).transform(dataset)\n",
        "df = pd.DataFrame(oht_ary, columns=oht.columns_)\n",
        "print (df)"
      ]
    },
    {
      "cell_type": "code",
      "execution_count": null,
      "metadata": {
        "id": "t3pMenP-2vRY",
        "outputId": "e8795967-01ab-474f-c803-248bc76ca8f5"
      },
      "outputs": [
        {
          "data": {
            "text/plain": [
              "['Apple',\n",
              " 'Corn',\n",
              " 'Dill',\n",
              " 'Eggs',\n",
              " 'Ice cream',\n",
              " 'Kidney Beans',\n",
              " 'Milk',\n",
              " 'Nutmeg',\n",
              " 'Onion',\n",
              " 'Unicorn',\n",
              " 'Yogurt']"
            ]
          },
          "execution_count": 13,
          "metadata": {},
          "output_type": "execute_result"
        }
      ],
      "source": [
        "oht.columns_"
      ]
    },
    {
      "cell_type": "code",
      "execution_count": null,
      "metadata": {
        "collapsed": true,
        "id": "IXhlwfJS2vRY"
      },
      "outputs": [],
      "source": [
        "#위의 TR데이터를 이용하여 지지도가 0.7이상인 빈발항목집합을 구하시오"
      ]
    },
    {
      "cell_type": "code",
      "execution_count": null,
      "metadata": {
        "id": "qOAvxITR2vRZ",
        "outputId": "ee831aff-ebd9-4ae5-e34d-492b0a0942d5"
      },
      "outputs": [
        {
          "name": "stdout",
          "output_type": "stream",
          "text": [
            "   support              itemsets\n",
            "0      0.8                (Eggs)\n",
            "1      1.0        (Kidney Beans)\n",
            "2      0.8  (Eggs, Kidney Beans)\n"
          ]
        }
      ],
      "source": [
        "frequent_itemsets = apriori(df, min_support=0.7, use_colnames=True)\n",
        "print (frequent_itemsets)"
      ]
    },
    {
      "cell_type": "code",
      "execution_count": null,
      "metadata": {
        "collapsed": true,
        "id": "O0Ro9ebm2vRZ"
      },
      "outputs": [],
      "source": [
        "#신뢰도(confidence)가 0.7이상인 규칙과 리프트(lift)가 1.2이상인 규칙을 만들고 출력하시오."
      ]
    },
    {
      "cell_type": "code",
      "execution_count": null,
      "metadata": {
        "id": "ov1bytXy2vRZ",
        "outputId": "bbe4bfe5-84f5-4cab-98fe-af314cd25372"
      },
      "outputs": [
        {
          "name": "stdout",
          "output_type": "stream",
          "text": [
            "      antecedents     consequents  antecedent support  consequent support  \\\n",
            "0          (Eggs)  (Kidney Beans)                 0.8                 1.0   \n",
            "1  (Kidney Beans)          (Eggs)                 1.0                 0.8   \n",
            "\n",
            "   support  confidence  lift  leverage  conviction  \n",
            "0      0.8         1.0   1.0       0.0         inf  \n",
            "1      0.8         0.8   1.0       0.0    1.000000  \n",
            "Empty DataFrame\n",
            "Columns: [antecedents, consequents, antecedent support, consequent support, support, confidence, lift, leverage, conviction]\n",
            "Index: []\n"
          ]
        }
      ],
      "source": [
        "rule1 = association_rules(frequent_itemsets, metric=\"confidence\", min_threshold=0.7)\n",
        "rule2 = association_rules(frequent_itemsets, metric=\"lift\", min_threshold=1.2)\n",
        "print(rule1)\n",
        "print(rule2)"
      ]
    },
    {
      "cell_type": "code",
      "execution_count": null,
      "metadata": {
        "collapsed": true,
        "id": "tmgEJbeL2vRZ"
      },
      "outputs": [],
      "source": []
    }
  ],
  "metadata": {
    "kernelspec": {
      "display_name": "Python [default]",
      "language": "python",
      "name": "python3"
    },
    "language_info": {
      "codemirror_mode": {
        "name": "ipython",
        "version": 3
      },
      "file_extension": ".py",
      "mimetype": "text/x-python",
      "name": "python",
      "nbconvert_exporter": "python",
      "pygments_lexer": "ipython3",
      "version": "3.5.2"
    },
    "colab": {
      "provenance": [],
      "include_colab_link": true
    }
  },
  "nbformat": 4,
  "nbformat_minor": 0
}