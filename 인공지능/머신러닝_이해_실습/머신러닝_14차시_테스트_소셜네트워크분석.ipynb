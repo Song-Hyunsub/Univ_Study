{
  "cells": [
    {
      "cell_type": "markdown",
      "metadata": {
        "id": "view-in-github",
        "colab_type": "text"
      },
      "source": [
        "<a href=\"https://colab.research.google.com/github/Song-Hyunsub/Univ_Study/blob/main/%EC%9D%B8%EA%B3%B5%EC%A7%80%EB%8A%A5/%EB%A8%B8%EC%8B%A0%EB%9F%AC%EB%8B%9D_%EC%9D%B4%ED%95%B4_%EC%8B%A4%EC%8A%B5/%EB%A8%B8%EC%8B%A0%EB%9F%AC%EB%8B%9D_14%EC%B0%A8%EC%8B%9C_%ED%85%8C%EC%8A%A4%ED%8A%B8_%EC%86%8C%EC%85%9C%EB%84%A4%ED%8A%B8%EC%9B%8C%ED%81%AC%EB%B6%84%EC%84%9D.ipynb\" target=\"_parent\"><img src=\"https://colab.research.google.com/assets/colab-badge.svg\" alt=\"Open In Colab\"/></a>"
      ]
    },
    {
      "cell_type": "code",
      "execution_count": null,
      "metadata": {
        "id": "S-q2PTwgIbgJ",
        "outputId": "b5ae286e-977b-48e1-e958-370da9b7796d"
      },
      "outputs": [
        {
          "data": {
            "text/plain": [
              "(-1.0, 0.6000000000000001, -1.0, 1.5)"
            ]
          },
          "execution_count": 4,
          "metadata": {},
          "output_type": "execute_result"
        },
        {
          "data": {
            "image/png": "[encoded data removed]",
            "text/plain": [
              "<matplotlib.figure.Figure at 0x21cf96bf668>"
            ]
          },
          "metadata": {},
          "output_type": "display_data"
        }
      ],
      "source": [
        "import networkx as nx\n",
        "import matplotlib.pyplot as plt\n",
        "%matplotlib inline\n",
        "\n",
        "G = nx.Graph()\n",
        "G.add_weighted_edges_from(\n",
        "    [\n",
        "        ('a', 'b', 10.0), ('b', 'c', 1.0), ('a', 'c', 100.0), ('a', 'd', 10.0)\n",
        "    ]\n",
        ")\n",
        "nx.draw_networkx(G)\n",
        "plt.axis('on')\n"
      ]
    },
    {
      "cell_type": "code",
      "execution_count": null,
      "metadata": {
        "collapsed": true,
        "id": "DFCfbWhoIbgN"
      },
      "outputs": [],
      "source": [
        "#이 그래프의 중개중심성을 노드별로 구하세요"
      ]
    },
    {
      "cell_type": "code",
      "execution_count": null,
      "metadata": {
        "id": "pDa9v68QIbgP",
        "outputId": "7ffa6308-9599-4d5e-c705-28c55681aad7"
      },
      "outputs": [
        {
          "data": {
            "text/plain": [
              "{'a': 1.6666666666666665, 'b': 1.0, 'c': 1.0, 'd': 1.0}"
            ]
          },
          "execution_count": 5,
          "metadata": {},
          "output_type": "execute_result"
        }
      ],
      "source": [
        "nx.betweenness_centrality(G, normalized=True, endpoints=True)"
      ]
    },
    {
      "cell_type": "code",
      "execution_count": null,
      "metadata": {
        "collapsed": true,
        "id": "X7OJOjhkIbgQ"
      },
      "outputs": [],
      "source": [
        "#이 그래프의 근접중심성을 노드별로 구하세요"
      ]
    },
    {
      "cell_type": "code",
      "execution_count": null,
      "metadata": {
        "id": "ZDMZX7xJIbgQ",
        "outputId": "0a19fe0f-5cd2-46e9-b39e-9472f89c8c7a"
      },
      "outputs": [
        {
          "data": {
            "text/plain": [
              "{'a': 1.0, 'b': 0.75, 'c': 0.75, 'd': 0.6}"
            ]
          },
          "execution_count": 6,
          "metadata": {},
          "output_type": "execute_result"
        }
      ],
      "source": [
        "nx.closeness_centrality(G)"
      ]
    },
    {
      "cell_type": "code",
      "execution_count": null,
      "metadata": {
        "collapsed": true,
        "id": "R25T0aKVIbgR"
      },
      "outputs": [],
      "source": [
        "#이 그래프의 eigen vector 중심성을 노드별로 구하세요"
      ]
    },
    {
      "cell_type": "code",
      "execution_count": null,
      "metadata": {
        "id": "eyvqgO9zIbgS",
        "outputId": "51e86f01-35ae-4c58-f3ef-0571067fea41"
      },
      "outputs": [
        {
          "data": {
            "text/plain": [
              "{'a': 0.6116286437343045,\n",
              " 'b': 0.5227204550943347,\n",
              " 'c': 0.5227204550943348,\n",
              " 'd': 0.28184579793865727}"
            ]
          },
          "execution_count": 16,
          "metadata": {},
          "output_type": "execute_result"
        }
      ],
      "source": [
        "nx.eigenvector_centrality(G)"
      ]
    },
    {
      "cell_type": "code",
      "execution_count": null,
      "metadata": {
        "collapsed": true,
        "id": "NXtZK6SLIbgS"
      },
      "outputs": [],
      "source": [
        "#이 그래프의 degree를 노드별로 구하면 어떻게 될까요?"
      ]
    },
    {
      "cell_type": "code",
      "execution_count": null,
      "metadata": {
        "id": "GX-Y6h7-IbgS",
        "outputId": "5ea21502-f076-4d8d-c8d2-3f5b4ce15fd6"
      },
      "outputs": [
        {
          "data": {
            "text/plain": [
              "[2, 3, 1, 2]"
            ]
          },
          "execution_count": 7,
          "metadata": {},
          "output_type": "execute_result"
        }
      ],
      "source": [
        "[G.degree(v) for v in G]"
      ]
    },
    {
      "cell_type": "code",
      "execution_count": null,
      "metadata": {
        "id": "hWyZpS7rIbgS"
      },
      "outputs": [],
      "source": [
        "#가장 큰 컴포넌트는 무엇인가?\n",
        "components = nx.connected_components(G)\n",
        "largest_component = max(components, key=len)"
      ]
    },
    {
      "cell_type": "code",
      "execution_count": null,
      "metadata": {
        "id": "nO1dRERHIbgT",
        "outputId": "47dfc020-fd91-4a10-ab02-a29dfbd89849"
      },
      "outputs": [
        {
          "data": {
            "text/plain": [
              "{'a', 'b', 'c', 'd'}"
            ]
          },
          "execution_count": 20,
          "metadata": {},
          "output_type": "execute_result"
        }
      ],
      "source": [
        "largest_component"
      ]
    },
    {
      "cell_type": "code",
      "execution_count": null,
      "metadata": {
        "collapsed": true,
        "id": "WGC80myXIbgT"
      },
      "outputs": [],
      "source": []
    }
  ],
  "metadata": {
    "kernelspec": {
      "display_name": "Python [default]",
      "language": "python",
      "name": "python3"
    },
    "language_info": {
      "codemirror_mode": {
        "name": "ipython",
        "version": 3
      },
      "file_extension": ".py",
      "mimetype": "text/x-python",
      "name": "python",
      "nbconvert_exporter": "python",
      "pygments_lexer": "ipython3",
      "version": "3.5.2"
    },
    "colab": {
      "provenance": [],
      "include_colab_link": true
    }
  },
  "nbformat": 4,
  "nbformat_minor": 0
}