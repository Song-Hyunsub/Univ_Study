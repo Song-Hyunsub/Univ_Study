{
  "cells": [
    {
      "cell_type": "markdown",
      "metadata": {
        "id": "view-in-github",
        "colab_type": "text"
      },
      "source": [
        "<a href=\"https://colab.research.google.com/github/Song-Hyunsub/Univ_Study/blob/main/%EC%9D%B8%EA%B3%B5%EC%A7%80%EB%8A%A5/%EB%A8%B8%EC%8B%A0%EB%9F%AC%EB%8B%9D_%EC%9D%B4%ED%95%B4_%EC%8B%A4%EC%8A%B5/%EB%A8%B8%EC%8B%A0%EB%9F%AC%EB%8B%9D_16%EC%B0%A8%EC%8B%9C_%ED%85%8C%EC%8A%A4%ED%8A%B8_%EC%9C%A0%EC%A0%84%EC%9E%90%EC%95%8C%EA%B3%A0%EB%A6%AC%EC%A6%98.ipynb\" target=\"_parent\"><img src=\"https://colab.research.google.com/assets/colab-badge.svg\" alt=\"Open In Colab\"/></a>"
      ]
    },
    {
      "cell_type": "code",
      "execution_count": null,
      "metadata": {
        "collapsed": true,
        "id": "ewdx70fi-vR8"
      },
      "outputs": [],
      "source": [
        "vec1 = [1, 1, 9, 13, 3, 7, 2, 5, 1, 6, 7, 1, 2, 4, 1, 2, 1, 0]\n",
        "vec2 = [8, 10, 3, 1, 5, 10, 5, 3, 0, 0, 5, 2, 0, 1, 1, 0, 0, 0]"
      ]
    },
    {
      "cell_type": "code",
      "execution_count": null,
      "metadata": {
        "collapsed": true,
        "id": "aGpF1Mwu-vR-"
      },
      "outputs": [],
      "source": [
        "domain = [(0, 17),\n",
        " (0, 16),\n",
        " (0, 15),\n",
        " (0, 14),\n",
        " (0, 13),\n",
        " (0, 12),\n",
        " (0, 11),\n",
        " (0, 10),\n",
        " (0, 9),\n",
        " (0, 8),\n",
        " (0, 7),\n",
        " (0, 6),\n",
        " (0, 5),\n",
        " (0, 4),\n",
        " (0, 3),\n",
        " (0, 2),\n",
        " (0, 1),\n",
        " (0, 0)]"
      ]
    },
    {
      "cell_type": "code",
      "execution_count": null,
      "metadata": {
        "collapsed": true,
        "id": "7qVDZ4mv-vSA"
      },
      "outputs": [],
      "source": [
        "#위의 2개의 유전자와 domain이 정의가 되어 있다. 이것을 이용하여 교차연산(교배)과 변이연산(돌연변이)을 하려고 한다.\n",
        "#관련된 함수를 만들어 보고 2개를 (교배+변이)하여 해를 10개를 만들어 보시오.\n",
        "#변이는 +1 또는 -1를 하세요"
      ]
    },
    {
      "cell_type": "code",
      "execution_count": null,
      "metadata": {
        "collapsed": true,
        "id": "zTgDPc6T-vSA"
      },
      "outputs": [],
      "source": [
        "# 교차연산\n",
        "import random\n",
        "def crossover(r1,r2):\n",
        "    i=random.randint(1,len(vec1)-1)\n",
        "    return r1[0:i]+r2[i:]"
      ]
    },
    {
      "cell_type": "code",
      "execution_count": null,
      "metadata": {
        "id": "4RrQu2PC-vSB",
        "outputId": "3e07b07f-e92a-4f6d-b887-72563e477963"
      },
      "outputs": [
        {
          "data": {
            "text/plain": [
              "[1, 1, 9, 1, 5, 10, 5, 3, 0, 0, 5, 2, 0, 1, 1, 0, 0, 0]"
            ]
          },
          "execution_count": 17,
          "metadata": {},
          "output_type": "execute_result"
        }
      ],
      "source": [
        "vec3 = crossover(vec1 , vec2)\n",
        "vec3"
      ]
    },
    {
      "cell_type": "code",
      "execution_count": null,
      "metadata": {
        "collapsed": true,
        "id": "Su7TGWTt-vSC"
      },
      "outputs": [],
      "source": [
        "# 변이연산\n",
        "step = 1\n",
        "def mutate(vec):\n",
        "    i=random.randint(0,len(vec1)-1)\n",
        "\n",
        "    if random.random()<0.5 and vec[i]-step>domain[i][0]:\n",
        "        return vec[0:i]+[vec[i]-step]+vec[i+1:]\n",
        "    elif vec[i]+step<domain[i][1]:\n",
        "        return vec[0:i]+[vec[i]+step]+vec[i+1:]\n",
        "    else:\n",
        "        return vec"
      ]
    },
    {
      "cell_type": "code",
      "execution_count": null,
      "metadata": {
        "id": "xYl2GBFW-vSD",
        "outputId": "152737f6-80bd-42dd-a6cd-9cd8d8a8dadf"
      },
      "outputs": [
        {
          "data": {
            "text/plain": [
              "[2, 1, 9, 1, 5, 10, 5, 3, 0, 0, 5, 2, 0, 1, 1, 0, 0, 0]"
            ]
          },
          "execution_count": 21,
          "metadata": {},
          "output_type": "execute_result"
        }
      ],
      "source": [
        "mutate(vec3)"
      ]
    },
    {
      "cell_type": "code",
      "execution_count": null,
      "metadata": {
        "id": "8haI1Amn-vSD",
        "outputId": "2a5ff350-3b89-41cd-ad17-3677e8e20ec6"
      },
      "outputs": [
        {
          "name": "stdout",
          "output_type": "stream",
          "text": [
            "1 [1, 1, 9, 13, 3, 10, 5, 3, 0, 0, 5, 2, 0, 1, 1, 0, 0, 0] [1, 1, 9, 13, 3, 10, 5, 3, 0, 1, 5, 2, 0, 1, 1, 0, 0, 0]\n",
            "2 [1, 1, 9, 13, 3, 7, 2, 5, 1, 6, 7, 2, 0, 1, 1, 0, 0, 0] [1, 1, 9, 13, 3, 7, 2, 5, 1, 7, 7, 2, 0, 1, 1, 0, 0, 0]\n",
            "3 [1, 1, 9, 13, 3, 10, 5, 3, 0, 0, 5, 2, 0, 1, 1, 0, 0, 0] [1, 1, 9, 13, 3, 10, 5, 3, 1, 0, 5, 2, 0, 1, 1, 0, 0, 0]\n",
            "4 [1, 1, 9, 13, 3, 10, 5, 3, 0, 0, 5, 2, 0, 1, 1, 0, 0, 0] [1, 1, 9, 13, 3, 10, 5, 3, 0, 0, 5, 3, 0, 1, 1, 0, 0, 0]\n",
            "5 [1, 1, 9, 13, 3, 7, 2, 5, 1, 6, 7, 1, 2, 1, 1, 0, 0, 0] [1, 1, 9, 13, 3, 7, 2, 5, 1, 6, 7, 1, 2, 1, 1, 0, 0, 0]\n",
            "6 [1, 10, 3, 1, 5, 10, 5, 3, 0, 0, 5, 2, 0, 1, 1, 0, 0, 0] [1, 10, 3, 1, 5, 10, 5, 3, 0, 0, 5, 2, 0, 1, 1, 0, 0, 0]\n",
            "7 [1, 1, 9, 13, 3, 7, 2, 5, 0, 0, 5, 2, 0, 1, 1, 0, 0, 0] [1, 1, 9, 13, 3, 7, 2, 5, 0, 0, 5, 2, 1, 1, 1, 0, 0, 0]\n",
            "8 [1, 10, 3, 1, 5, 10, 5, 3, 0, 0, 5, 2, 0, 1, 1, 0, 0, 0] [1, 10, 3, 1, 5, 10, 5, 3, 0, 0, 5, 2, 0, 1, 2, 0, 0, 0]\n",
            "9 [1, 1, 9, 13, 3, 7, 2, 5, 1, 6, 7, 1, 2, 4, 1, 2, 1, 0] [1, 1, 9, 13, 3, 7, 2, 5, 1, 6, 7, 2, 2, 4, 1, 2, 1, 0]\n",
            "10 [1, 1, 9, 13, 3, 7, 2, 5, 1, 6, 5, 2, 0, 1, 1, 0, 0, 0] [1, 2, 9, 13, 3, 7, 2, 5, 1, 6, 5, 2, 0, 1, 1, 0, 0, 0]\n"
          ]
        }
      ],
      "source": [
        "#교차와 변이를 이용하여 해를 10개만든다.\n",
        "for i in range(0,10):\n",
        "    vec3 = crossover(vec1 , vec2)\n",
        "    vec4 = mutate(vec3)\n",
        "    print(i+1 , vec3 , vec4)"
      ]
    },
    {
      "cell_type": "code",
      "execution_count": null,
      "metadata": {
        "collapsed": true,
        "id": "5ucjgUTF-vSD"
      },
      "outputs": [],
      "source": []
    }
  ],
  "metadata": {
    "anaconda-cloud": {},
    "kernelspec": {
      "display_name": "Python [default]",
      "language": "python",
      "name": "python3"
    },
    "language_info": {
      "codemirror_mode": {
        "name": "ipython",
        "version": 3
      },
      "file_extension": ".py",
      "mimetype": "text/x-python",
      "name": "python",
      "nbconvert_exporter": "python",
      "pygments_lexer": "ipython3",
      "version": "3.5.2"
    },
    "colab": {
      "provenance": [],
      "include_colab_link": true
    }
  },
  "nbformat": 4,
  "nbformat_minor": 0
}