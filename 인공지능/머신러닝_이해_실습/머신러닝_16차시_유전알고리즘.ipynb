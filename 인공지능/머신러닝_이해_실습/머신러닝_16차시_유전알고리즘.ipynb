{
  "cells": [
    {
      "cell_type": "markdown",
      "metadata": {
        "id": "view-in-github",
        "colab_type": "text"
      },
      "source": [
        "<a href=\"https://colab.research.google.com/github/Song-Hyunsub/Univ_Study/blob/main/%EC%9D%B8%EA%B3%B5%EC%A7%80%EB%8A%A5/%EB%A8%B8%EC%8B%A0%EB%9F%AC%EB%8B%9D_%EC%9D%B4%ED%95%B4_%EC%8B%A4%EC%8A%B5/%EB%A8%B8%EC%8B%A0%EB%9F%AC%EB%8B%9D_16%EC%B0%A8%EC%8B%9C_%EC%9C%A0%EC%A0%84%EC%95%8C%EA%B3%A0%EB%A6%AC%EC%A6%98.ipynb\" target=\"_parent\"><img src=\"https://colab.research.google.com/assets/colab-badge.svg\" alt=\"Open In Colab\"/></a>"
      ]
    },
    {
      "cell_type": "code",
      "execution_count": null,
      "metadata": {
        "id": "esPDDEH47BSF"
      },
      "outputs": [],
      "source": [
        "# -*- coding: utf-8 -*-\n",
        "#writer : Tomas\n",
        "\n",
        "import time\n",
        "import random\n",
        "import math\n",
        "import scipy.stats\n",
        "import numpy as np\n",
        "\n",
        "#구간과 도메인의 정의\n",
        "times = ['A','B','C','D','E','F']\n",
        "domain=[(0,(len(times)*3)-i-1) for i in range(0,len(times)*3)]\n",
        "\n",
        "#cost function설계를 위한 제약조건 정리\n",
        "# 좋아하는 사람\n",
        "prefs={\n",
        "       1 : ['B', 'C' , 'A'],\n",
        "       7 : ['E', 'F'],\n",
        "       11 : ['A', 'B'],\n",
        "       15 : ['E', 'D']\n",
        "       }\n",
        "# 싫어하는 사람\n",
        "hates = {\n",
        "        13 : [1, 7],\n",
        "        10 : [11, 15],\n",
        "        3 : [8, 12, 10]\n",
        "        }\n",
        "\n",
        "man = [range(0,12)]\n",
        "woman = [range(12,18)]\n",
        "\n",
        "#vec = [0,0,0,0,0,0,0,0,0,0,0,0,0,0,0,0,0,0]\n",
        "# => DNA의 구조\n",
        "\n"
      ]
    },
    {
      "cell_type": "code",
      "execution_count": null,
      "metadata": {
        "id": "T7AInFyO7BSH",
        "outputId": "2fcd8458-ac80-4f6f-d7df-943e31f91703"
      },
      "outputs": [
        {
          "data": {
            "text/plain": [
              "[(0, 17),\n",
              " (0, 16),\n",
              " (0, 15),\n",
              " (0, 14),\n",
              " (0, 13),\n",
              " (0, 12),\n",
              " (0, 11),\n",
              " (0, 10),\n",
              " (0, 9),\n",
              " (0, 8),\n",
              " (0, 7),\n",
              " (0, 6),\n",
              " (0, 5),\n",
              " (0, 4),\n",
              " (0, 3),\n",
              " (0, 2),\n",
              " (0, 1),\n",
              " (0, 0)]"
            ]
          },
          "execution_count": 2,
          "metadata": {},
          "output_type": "execute_result"
        }
      ],
      "source": [
        "domain"
      ]
    },
    {
      "cell_type": "markdown",
      "source": [
        "=> Domain의 모양"
      ],
      "metadata": {
        "id": "kZrltvxb7xkj"
      }
    },
    {
      "cell_type": "markdown",
      "source": [
        "모든 규칙을 충족시키는 것    \n",
        "유전자 알고리즘은 모든 규칙을 충족시켜야 하는 경우에 사용한다.  "
      ],
      "metadata": {
        "id": "uin9hv6R7I31"
      }
    },
    {
      "cell_type": "code",
      "execution_count": null,
      "metadata": {
        "id": "OF5DpWJk7BSI"
      },
      "outputs": [],
      "source": [
        "def dormcost(vec):\n",
        "\n",
        "\n",
        "    #선호하는 시간대에 따라 점수부여\n",
        "\n",
        "    #싫어하는 사람에 따라 점수부여\n",
        "\n",
        "    #각 시간대에 적어도 1명은 남자\n",
        "\n",
        "    #C시간대에 여성이 있으면 안됨\n",
        "\n",
        "    cost=0  # 솔루션이 좋으면 cost가 낮고, 솔루션이 나쁘면 cost가 높다\n",
        "\n",
        "    # Create list a of slots\n",
        "    slots=[]\n",
        "    for i in range(len(times)): slots+=[i,i,i]\n",
        "\n",
        "    #해 vec에 따른 시간대 설정 (=> 제약조건 만들기)\n",
        "    times_band = printsolution(vec) # vec : dna값\n",
        "\n",
        "    #선호하는 시간대에 따라 점수부여 (선호도에 따라 time band를 고름)\n",
        "    for i in prefs.keys():\n",
        "        time=times_band[i]\n",
        "        pref=prefs[i]\n",
        "\n",
        "        satisfy = False\n",
        "        for j in range(len(pref)):\n",
        "            if pref[j]==time:\n",
        "                cost+=(j*2)\n",
        "                satisfy = True\n",
        "        if satisfy == False:\n",
        "            cost+=(j*2+3)\n",
        "\n",
        "    #싫어하는 사람에 따라 점수부여\n",
        "    for i in hates.keys():\n",
        "        time=times_band[i]\n",
        "        ha=hates[i]\n",
        "\n",
        "        for j in range(len(ha)):\n",
        "            y = int(vec[ha[j]])\n",
        "            time_y=times[slots[y]]\n",
        "            if time_y==time:\n",
        "                cost+=(7-j) # cost를 높게 함\n",
        "\n",
        "\n",
        "    #각 방에 적어도 1명은 남자\n",
        "    idx = 0\n",
        "    time_dic = {'A':0 , 'B':0 , 'C':0 , 'D':0 , 'E':0 , 'F':0}\n",
        "\n",
        "    for t in times_band:\n",
        "        idx += 1\n",
        "        if idx >=0 and idx <= 11: # 남자\n",
        "            if t == 'A': time_dic['A'] += 1\n",
        "            elif t == 'B': time_dic['B'] += 1\n",
        "            elif t == 'C': time_dic['C'] += 1\n",
        "            elif t == 'D': time_dic['D'] += 1\n",
        "            elif t == 'E': time_dic['E'] += 1\n",
        "            elif t == 'F': time_dic['F'] += 1\n",
        "\n",
        "    #페널티를 2점씩 부과해준다.\n",
        "    cost += sum(np.matrix(time_dic.values()) == 0) * 2\n",
        "\n",
        "    #C시간대에 여성이 있으면 안됨\n",
        "    idx = 0\n",
        "    time_dic = {'A':0 , 'B':0 , 'C':0 , 'D':0 , 'E':0 , 'F':0}\n",
        "\n",
        "    for t in times_band:\n",
        "        idx += 1\n",
        "        if idx >=12:\n",
        "            if t == 'C': time_dic['C'] += 1\n",
        "\n",
        "    if time_dic['C']>0 : cost+=10 #페널티 10점 부과\n",
        "    # 패널티 부과에 따라 우선순위가 바뀔 수 있음\n",
        "    return cost\n",
        "\n",
        "\n"
      ]
    },
    {
      "cell_type": "code",
      "execution_count": null,
      "metadata": {
        "collapsed": true,
        "id": "T5gKFwt67BSJ"
      },
      "outputs": [],
      "source": []
    },
    {
      "cell_type": "code",
      "execution_count": null,
      "metadata": {
        "id": "H9aEtTbO7BSJ",
        "outputId": "745891e2-c9f9-467e-9ee0-eab653585628"
      },
      "outputs": [
        {
          "data": {
            "text/plain": [
              "[0, 0, 0, 1, 1, 1, 2, 2, 2, 3, 3, 3, 4, 4, 4, 5, 5, 5]"
            ]
          },
          "execution_count": 4,
          "metadata": {},
          "output_type": "execute_result"
        }
      ],
      "source": [
        "#TEST\n",
        "slots=[]\n",
        "for i in range(len(times)): slots+=[i,i,i]\n",
        "slots"
      ]
    },
    {
      "cell_type": "code",
      "execution_count": null,
      "metadata": {
        "id": "qE7qCENJ7BSJ",
        "outputId": "abd76e69-246f-4394-c6c3-fb178fb81a30"
      },
      "outputs": [
        {
          "data": {
            "text/plain": [
              "[(0, 17),\n",
              " (0, 16),\n",
              " (0, 15),\n",
              " (0, 14),\n",
              " (0, 13),\n",
              " (0, 12),\n",
              " (0, 11),\n",
              " (0, 10),\n",
              " (0, 9),\n",
              " (0, 8),\n",
              " (0, 7),\n",
              " (0, 6),\n",
              " (0, 5),\n",
              " (0, 4),\n",
              " (0, 3),\n",
              " (0, 2),\n",
              " (0, 1),\n",
              " (0, 0)]"
            ]
          },
          "execution_count": 5,
          "metadata": {},
          "output_type": "execute_result"
        }
      ],
      "source": [
        "#TEST\n",
        "domain"
      ]
    },
    {
      "cell_type": "code",
      "execution_count": null,
      "metadata": {
        "collapsed": true,
        "id": "fualpkHw7BSK"
      },
      "outputs": [],
      "source": [
        "def printsolution(vec):\n",
        "    slots = []\n",
        "    times_band = []\n",
        "\n",
        "    # 슬롯초기화\n",
        "    for i in range(len(times)): slots+=[i,i,i]\n",
        "\n",
        "    # 루프를 돌면서 전직원들의 시간배정\n",
        "    for i in range(len(vec)):\n",
        "        x=int(vec[i])\n",
        "\n",
        "        # 직원의 시간대를 정한다.\n",
        "        time=times[slots[x]]\n",
        "\n",
        "        #시간대를 추가함.\n",
        "        times_band.append(time)\n",
        "\n",
        "        # 해당하는 슬롯삭제(이미 배정되었으므로)\n",
        "        del slots[x]\n",
        "\n",
        "    return times_band\n",
        "\n",
        "\n"
      ]
    },
    {
      "cell_type": "code",
      "execution_count": null,
      "metadata": {
        "collapsed": true,
        "id": "OxwNllCw7BSK"
      },
      "outputs": [],
      "source": [
        "def geneticoptimize(domain,costf=dormcost,popsize=200,step=1,\n",
        "                    mutprob=0.5,elite=0.4,maxiter=20):\n",
        "  # 유전자알고리즘의 핵심!!\n",
        "\n",
        "\n",
        "    # 변이\n",
        "    def mutate(vec):\n",
        "        i=random.randint(0,len(domain)-1)\n",
        "        if random.random()<0.5 and vec[i]-step>domain[i][0]:\n",
        "            return vec[0:i]+[vec[i]-step]+vec[i+1:]\n",
        "        elif vec[i]+step<domain[i][1]:\n",
        "            return vec[0:i]+[vec[i]+step]+vec[i+1:]\n",
        "        else:\n",
        "            return vec\n",
        "\n",
        "    # 교차연산 - dna를 쪼개서 crossover시킴\n",
        "    def crossover(r1,r2):\n",
        "        i=random.randint(1,len(domain)-1)\n",
        "        return r1[0:i]+r2[i:]\n",
        "\n",
        "    # 초기의 random 해 설정\n",
        "    # DNA 저장\n",
        "    pop=[]\n",
        "    for i in range(popsize):\n",
        "        vec=[random.randint(domain[i][0],domain[i][1])\n",
        "            for i in range(len(domain))]\n",
        "        pop.append(vec)\n",
        "\n",
        "    # 엘리트해의 개수의 설정\n",
        "    topelite=int(elite*popsize)\n",
        "\n",
        "\n",
        "    # 메인루프\n",
        "    for i in range(maxiter): # maxiter : 세대 수\n",
        "        scores=[(costf(v),v) for v in pop]\n",
        "        scores.sort()\n",
        "        ranked=[v for (s,v) in scores]\n",
        "\n",
        "        # 엘리트해의 추출\n",
        "        pop=ranked[0:topelite]\n",
        "\n",
        "        # 변이와 교차의 반복. popsize만큼.\n",
        "        while len(pop)<popsize:\n",
        "            if random.random()<mutprob:\n",
        "\n",
        "                # 변이\n",
        "                c=random.randint(0,topelite)\n",
        "                pop.append(mutate(ranked[c]))\n",
        "            else:\n",
        "\n",
        "                # 교차(싱글)\n",
        "                c1=random.randint(0,topelite)\n",
        "                c2=random.randint(0,topelite)\n",
        "                pop.append(crossover(ranked[c1],ranked[c2]))\n",
        "\n",
        "        # 현재까지의 최적해 출력\n",
        "        print (i,scores[0][0],'--->',scores[0][1] , '==>' , printsolution(scores[0][1]))\n",
        "\n",
        "    return scores[0][1]\n"
      ]
    },
    {
      "cell_type": "code",
      "execution_count": null,
      "metadata": {
        "id": "VLqghM597BSK",
        "outputId": "65211f26-d923-4ddc-b514-38f0ce592711"
      },
      "outputs": [
        {
          "name": "stdout",
          "output_type": "stream",
          "text": [
            "0 [[7]] ---> [14, 6, 1, 10, 9, 5, 11, 0, 3, 8, 3, 0, 5, 2, 2, 2, 1, 0] ==> ['E', 'C', 'A', 'E', 'D', 'C', 'F', 'A', 'B', 'F', 'C', 'A', 'F', 'D', 'D', 'E', 'B', 'B']\n",
            "1 [[7]] ---> [14, 6, 1, 10, 9, 5, 11, 0, 3, 8, 3, 0, 5, 2, 2, 2, 1, 0] ==> ['E', 'C', 'A', 'E', 'D', 'C', 'F', 'A', 'B', 'F', 'C', 'A', 'F', 'D', 'D', 'E', 'B', 'B']\n",
            "2 [[2]] ---> [8, 7, 5, 5, 0, 1, 11, 6, 9, 3, 2, 0, 1, 0, 3, 2, 0, 0] ==> ['C', 'C', 'B', 'C', 'A', 'A', 'F', 'E', 'F', 'D', 'B', 'A', 'D', 'B', 'F', 'E', 'D', 'E']\n",
            "3 [[2]] ---> [8, 7, 5, 5, 0, 1, 11, 6, 9, 3, 2, 0, 1, 0, 3, 2, 0, 0] ==> ['C', 'C', 'B', 'C', 'A', 'A', 'F', 'E', 'F', 'D', 'B', 'A', 'D', 'B', 'F', 'E', 'D', 'E']\n",
            "4 [[0]] ---> [1, 2, 0, 14, 3, 1, 4, 6, 9, 3, 2, 0, 1, 0, 3, 2, 0, 0] ==> ['A', 'B', 'A', 'F', 'C', 'B', 'D', 'E', 'F', 'C', 'C', 'A', 'D', 'B', 'F', 'E', 'D', 'E']\n",
            "5 [[0]] ---> [1, 2, 0, 14, 3, 1, 4, 6, 9, 3, 2, 0, 1, 0, 3, 2, 0, 0] ==> ['A', 'B', 'A', 'F', 'C', 'B', 'D', 'E', 'F', 'C', 'C', 'A', 'D', 'B', 'F', 'E', 'D', 'E']\n",
            "6 [[0]] ---> [1, 2, 0, 14, 3, 1, 4, 6, 9, 3, 2, 0, 1, 0, 3, 2, 0, 0] ==> ['A', 'B', 'A', 'F', 'C', 'B', 'D', 'E', 'F', 'C', 'C', 'A', 'D', 'B', 'F', 'E', 'D', 'E']\n",
            "7 [[0]] ---> [1, 2, 0, 14, 3, 1, 4, 6, 9, 3, 2, 0, 1, 0, 3, 2, 0, 0] ==> ['A', 'B', 'A', 'F', 'C', 'B', 'D', 'E', 'F', 'C', 'C', 'A', 'D', 'B', 'F', 'E', 'D', 'E']\n",
            "8 [[0]] ---> [1, 2, 0, 14, 3, 1, 4, 6, 9, 3, 2, 0, 1, 0, 3, 2, 0, 0] ==> ['A', 'B', 'A', 'F', 'C', 'B', 'D', 'E', 'F', 'C', 'C', 'A', 'D', 'B', 'F', 'E', 'D', 'E']\n",
            "9 [[0]] ---> [1, 2, 0, 14, 3, 1, 4, 6, 8, 3, 2, 0, 5, 2, 2, 2, 1, 0] ==> ['A', 'B', 'A', 'F', 'C', 'B', 'D', 'E', 'F', 'C', 'C', 'A', 'F', 'D', 'E', 'E', 'D', 'B']\n",
            "10 [[0]] ---> [1, 2, 0, 14, 3, 1, 3, 6, 2, 1, 2, 0, 2, 1, 0, 0, 0, 0] ==> ['A', 'B', 'A', 'F', 'C', 'B', 'C', 'E', 'C', 'B', 'D', 'A', 'E', 'D', 'D', 'E', 'F', 'F']\n",
            "11 [[0]] ---> [1, 2, 0, 13, 3, 1, 4, 6, 9, 3, 2, 0, 2, 0, 3, 2, 0, 0] ==> ['A', 'B', 'A', 'F', 'C', 'B', 'D', 'E', 'F', 'C', 'C', 'A', 'D', 'B', 'F', 'E', 'D', 'E']\n",
            "12 [[0]] ---> [1, 2, 0, 12, 3, 1, 3, 6, 2, 1, 2, 0, 1, 4, 0, 0, 0, 0] ==> ['A', 'B', 'A', 'F', 'C', 'B', 'C', 'E', 'C', 'B', 'D', 'A', 'D', 'F', 'D', 'E', 'E', 'F']\n",
            "13 [[0]] ---> [1, 2, 0, 12, 3, 1, 3, 6, 2, 1, 2, 0, 1, 4, 0, 0, 0, 0] ==> ['A', 'B', 'A', 'F', 'C', 'B', 'C', 'E', 'C', 'B', 'D', 'A', 'D', 'F', 'D', 'E', 'E', 'F']\n",
            "14 [[0]] ---> [1, 2, 0, 12, 2, 1, 3, 6, 2, 1, 2, 0, 1, 4, 0, 0, 0, 0] ==> ['A', 'B', 'A', 'F', 'B', 'B', 'C', 'E', 'C', 'C', 'D', 'A', 'D', 'F', 'D', 'E', 'E', 'F']\n",
            "15 [[0]] ---> [1, 2, 0, 12, 2, 1, 3, 6, 2, 1, 2, 0, 1, 4, 0, 0, 0, 0] ==> ['A', 'B', 'A', 'F', 'B', 'B', 'C', 'E', 'C', 'C', 'D', 'A', 'D', 'F', 'D', 'E', 'E', 'F']\n",
            "16 [[0]] ---> [1, 2, 0, 12, 2, 1, 3, 6, 2, 1, 2, 0, 1, 4, 0, 0, 0, 0] ==> ['A', 'B', 'A', 'F', 'B', 'B', 'C', 'E', 'C', 'C', 'D', 'A', 'D', 'F', 'D', 'E', 'E', 'F']\n",
            "17 [[0]] ---> [1, 2, 0, 11, 2, 1, 3, 6, 2, 1, 3, 0, 1, 4, 0, 0, 0, 0] ==> ['A', 'B', 'A', 'E', 'B', 'B', 'C', 'E', 'C', 'C', 'D', 'A', 'D', 'F', 'D', 'E', 'F', 'F']\n",
            "18 [[0]] ---> [1, 2, 0, 11, 2, 1, 3, 6, 2, 1, 3, 0, 1, 4, 0, 0, 0, 0] ==> ['A', 'B', 'A', 'E', 'B', 'B', 'C', 'E', 'C', 'C', 'D', 'A', 'D', 'F', 'D', 'E', 'F', 'F']\n",
            "19 [[0]] ---> [1, 2, 0, 11, 1, 1, 3, 6, 2, 1, 3, 0, 1, 4, 0, 0, 0, 0] ==> ['A', 'B', 'A', 'E', 'B', 'B', 'C', 'E', 'C', 'C', 'D', 'A', 'D', 'F', 'D', 'E', 'F', 'F']\n"
          ]
        },
        {
          "data": {
            "text/plain": [
              "[1, 2, 0, 11, 1, 1, 3, 6, 2, 1, 3, 0, 1, 4, 0, 0, 0, 0]"
            ]
          },
          "execution_count": 8,
          "metadata": {},
          "output_type": "execute_result"
        }
      ],
      "source": [
        "geneticoptimize(domain)"
      ]
    },
    {
      "cell_type": "markdown",
      "source": [
        "=> cost가 점점 작아지도록 학습함  \n",
        "=> 마지막 줄이 최적의 솔루션!!  "
      ],
      "metadata": {
        "id": "Bu5EZ5M3-S68"
      }
    },
    {
      "cell_type": "code",
      "execution_count": null,
      "metadata": {
        "collapsed": true,
        "id": "jHg0arRg7BSK"
      },
      "outputs": [],
      "source": []
    },
    {
      "cell_type": "code",
      "execution_count": null,
      "metadata": {
        "id": "DFXLyfZF7BSL"
      },
      "outputs": [],
      "source": [
        "vec=[random.randint(domain[i][0],domain[i][1])\n",
        "            for i in range(len(domain))]"
      ]
    },
    {
      "cell_type": "code",
      "execution_count": null,
      "metadata": {
        "id": "4wdrg8zQ7BSL",
        "outputId": "ba0a85d5-7347-4112-eeb7-f0ad241cd591"
      },
      "outputs": [
        {
          "data": {
            "text/plain": [
              "([8, 10, 3, 1, 5, 10, 5, 3, 0, 0, 5, 2, 0, 1, 1, 0, 0, 0], 18)"
            ]
          },
          "execution_count": 16,
          "metadata": {},
          "output_type": "execute_result"
        }
      ],
      "source": [
        "vec , len(vec)"
      ]
    },
    {
      "cell_type": "code",
      "execution_count": null,
      "metadata": {
        "id": "LM4FSY_i7BSL",
        "outputId": "3c0f4e98-9db5-47ad-9c41-2cfaa8a78468"
      },
      "outputs": [
        {
          "data": {
            "text/plain": [
              "18"
            ]
          },
          "execution_count": 12,
          "metadata": {},
          "output_type": "execute_result"
        }
      ],
      "source": [
        "len(domain)"
      ]
    },
    {
      "cell_type": "code",
      "execution_count": null,
      "metadata": {
        "id": "6Yg1pfw57BSL",
        "outputId": "c076f8f2-7804-4d25-bd5a-fcc1e828b51f"
      },
      "outputs": [
        {
          "data": {
            "text/plain": [
              "[(0, 17),\n",
              " (0, 16),\n",
              " (0, 15),\n",
              " (0, 14),\n",
              " (0, 13),\n",
              " (0, 12),\n",
              " (0, 11),\n",
              " (0, 10),\n",
              " (0, 9),\n",
              " (0, 8),\n",
              " (0, 7),\n",
              " (0, 6),\n",
              " (0, 5),\n",
              " (0, 4),\n",
              " (0, 3),\n",
              " (0, 2),\n",
              " (0, 1),\n",
              " (0, 0)]"
            ]
          },
          "execution_count": 14,
          "metadata": {},
          "output_type": "execute_result"
        }
      ],
      "source": [
        "domain"
      ]
    },
    {
      "cell_type": "code",
      "execution_count": null,
      "metadata": {
        "id": "oQDZFGiS7BSL",
        "outputId": "449d7dfc-d454-4136-9dbb-d8bc249de36b"
      },
      "outputs": [
        {
          "data": {
            "text/plain": [
              "0"
            ]
          },
          "execution_count": 17,
          "metadata": {},
          "output_type": "execute_result"
        }
      ],
      "source": [
        "domain[i][0]"
      ]
    },
    {
      "cell_type": "code",
      "execution_count": null,
      "metadata": {
        "id": "52aMSyFM7BSL",
        "outputId": "84be1ded-67d6-4695-ad83-bec9cfe9bec0"
      },
      "outputs": [
        {
          "data": {
            "text/plain": [
              "5"
            ]
          },
          "execution_count": 18,
          "metadata": {},
          "output_type": "execute_result"
        }
      ],
      "source": [
        "i"
      ]
    },
    {
      "cell_type": "code",
      "execution_count": null,
      "metadata": {
        "collapsed": true,
        "id": "SJoYW9X87BSM"
      },
      "outputs": [],
      "source": []
    }
  ],
  "metadata": {
    "anaconda-cloud": {},
    "kernelspec": {
      "display_name": "Python [default]",
      "language": "python",
      "name": "python3"
    },
    "language_info": {
      "codemirror_mode": {
        "name": "ipython",
        "version": 3
      },
      "file_extension": ".py",
      "mimetype": "text/x-python",
      "name": "python",
      "nbconvert_exporter": "python",
      "pygments_lexer": "ipython3",
      "version": "3.5.2"
    },
    "colab": {
      "provenance": [],
      "include_colab_link": true
    }
  },
  "nbformat": 4,
  "nbformat_minor": 0
}