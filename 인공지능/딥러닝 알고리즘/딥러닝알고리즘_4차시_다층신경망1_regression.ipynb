{
  "nbformat": 4,
  "nbformat_minor": 0,
  "metadata": {
    "colab": {
      "provenance": [],
      "authorship_tag": "ABX9TyOC97xj9bMVtXm1rp7reYMz",
      "include_colab_link": true
    },
    "kernelspec": {
      "name": "python3",
      "display_name": "Python 3"
    },
    "language_info": {
      "name": "python"
    }
  },
  "cells": [
    {
      "cell_type": "markdown",
      "metadata": {
        "id": "view-in-github",
        "colab_type": "text"
      },
      "source": [
        "<a href=\"https://colab.research.google.com/github/Song-Hyunsub/Univ_Study/blob/main/%EC%9D%B8%EA%B3%B5%EC%A7%80%EB%8A%A5/%EB%94%A5%EB%9F%AC%EB%8B%9D%20%EC%95%8C%EA%B3%A0%EB%A6%AC%EC%A6%98/%EB%94%A5%EB%9F%AC%EB%8B%9D%EC%95%8C%EA%B3%A0%EB%A6%AC%EC%A6%98_4%EC%B0%A8%EC%8B%9C_%EB%8B%A4%EC%B8%B5%EC%8B%A0%EA%B2%BD%EB%A7%9D1_regression.ipynb\" target=\"_parent\"><img src=\"https://colab.research.google.com/assets/colab-badge.svg\" alt=\"Open In Colab\"/></a>"
      ]
    },
    {
      "cell_type": "markdown",
      "source": [
        "1. 출력 n개를 위한 가중치와 편향 행렬 구성  \n",
        "\n",
        "[1] 가중치 행렬  \n",
        "- 뉴런(Node)으로의 m개 입력 : x_1, x_2, x_3, ..., x_m (feature)  \n",
        "- 출력 뉴런(Node)의 수는 n  \n",
        "- 이때 각 입력에 대응하는 가중치(Weigh) 행렬 W는 아래와 같음  \n",
        "w_11 w_12 ... w_1n  \n",
        "w_21 w_22 ... w_2n  \n",
        "...  \n",
        "w_m1 w_m2 ... w_mn  \n",
        "  \n",
        "=> n개의 출력을 만들기 위해 W는 n개의 열을 가져야 함  \n",
        "  \n",
        "[2] 편향 벡터  \n",
        "X= [x_1, x_2, ..., x_m]  \n",
        "- 편향(Bias)의 수는 출력 뉴런의 수와 동일한 n개 필요  \n",
        "B = [b_1, b_2, ...., b_n]  \n",
        "- 각 입력과 가중치 곱의 합이 다음과 같이 n개 생성  \n",
        "XW = [sum(from k=1 to m)(x_k * w_k1), sum(from k=1 to m)(x_k * w_k2), ..., sum(from k=1 to m)(x_k * w_kn)]  \n",
        "[3] 최종 출력  \n",
        "- 위 결과에 편향(Bias) B를 더한 결과는 아래와 같음  \n",
        "U = [sum(from k=1 to m)(x_k * w_k1) + b_1, sum(from k=1 to m)(x_k * w_k2) + b_2, ..., sum(from k=1 to m)(x_k * w_kn) + b_n]  \n",
        "- 위 결과에 활성화 함수 f를 적용하여 출력 Y를 구하면 다음과 같음  \n",
        "Y = f(U)  \n",
        "= [f(sum(from k=1 to m)(x_k * w_k1) + b_1), f(sum(from k=1 to m)(x_k * w_k2) + b_2), ..., f(sum(from k=1 to m)(x_k * w_kn) + b_n)]   \n",
        "  \n",
        "2. 완전 연결층 구현을 위한 알고리즘  \n",
        " [1] 완전 연결 계층  \n",
        "  - 지금까지 결과 => 모든 입력이 출력으로 연결된 Fully Connected Layer(완전 연결 계층)를 구성  \n",
        " [2] 딥러닝 네트워크  \n",
        "  - 출력 Y를 다음 층의 입력으로 사용  \n",
        "   입력층(Input Layer), 은닉층(Hidden Layer), 출력층(Output Layer)  \n",
        "  \n",
        "3. 회귀를 위한 다층 신경망 구현 실습  \n",
        " [1] 회귀문제 신경망 구현  \n",
        "  - 입력층 노드 : 2개  \n",
        "  - 은닉층 노드 : 2개  \n",
        "  - 출력층 노드 : 1개  \n",
        "  - 은닉층 활성화함수 : 시그모이드  \n",
        "  - 출력층 활성화 함수 : 항등함수  \n",
        "\n",
        "뉴런으로의 입력 m개, 출력 n개일 때, 이에 적용할 가중치 행렬 W의 크기 : (m, n)  \n",
        "뉴런으로의 입력 m개, 출력 n개일 때, 이에 적용할 편향 행렬 B의 크기 : (n)  "
      ],
      "metadata": {
        "id": "SQDp2HvGxw1l"
      }
    },
    {
      "cell_type": "code",
      "execution_count": 1,
      "metadata": {
        "id": "cnzIL-frubW0"
      },
      "outputs": [],
      "source": [
        "import numpy as np\n",
        "import matplotlib.pyplot as plt"
      ]
    },
    {
      "cell_type": "code",
      "source": [
        "# 입력\n",
        "X = np.arange(-1.0, 1.0, 0.2)\n",
        "Y = np.arange(-1.0, 1.0, 0.2)"
      ],
      "metadata": {
        "id": "OM7wISJKuojJ"
      },
      "execution_count": 2,
      "outputs": []
    },
    {
      "cell_type": "code",
      "source": [
        "# 출력\n",
        "Z = np.zeros((10, 10))"
      ],
      "metadata": {
        "id": "oV11SXwCuvzN"
      },
      "execution_count": 3,
      "outputs": []
    },
    {
      "cell_type": "code",
      "source": [
        "# 가중치\n",
        "w_im = np.array([[4.0, 4.0], [4.0, 4.0]])\n",
        "w_mo = np.array([[1.0], [-1.0]])"
      ],
      "metadata": {
        "id": "Z-LQbMRwuy7F"
      },
      "execution_count": 5,
      "outputs": []
    },
    {
      "cell_type": "code",
      "source": [
        "# 편향\n",
        "b_im = np.array([3.0, -3.0])\n",
        "b_mo = np.array([0.1])"
      ],
      "metadata": {
        "id": "FTY61E73vCT9"
      },
      "execution_count": 6,
      "outputs": []
    },
    {
      "cell_type": "code",
      "source": [
        "# 은닉층\n",
        "def middle_layer(x, w, b):\n",
        "  u = np.dot(x, w) + b\n",
        "  return 1 / (1 + np.exp(-u))"
      ],
      "metadata": {
        "id": "DcXDYwIrvI48"
      },
      "execution_count": 9,
      "outputs": []
    },
    {
      "cell_type": "code",
      "source": [
        "# 출력층\n",
        "def output_layer(x, w, b):\n",
        "  u = np.dot(x, w) + b\n",
        "  return u"
      ],
      "metadata": {
        "id": "LTW2tLFdvzVL"
      },
      "execution_count": 10,
      "outputs": []
    },
    {
      "cell_type": "code",
      "source": [
        "for i in range(10):\n",
        "  for j in range(10):\n",
        "    inp = np.array([X[i], Y[j]]) # 입력층\n",
        "    mid = middle_layer(inp, w_im, b_im) # 은닉층\n",
        "    out = output_layer(mid, w_mo, b_mo) # 출력층\n",
        "    Z[j][i] = out[0]"
      ],
      "metadata": {
        "id": "cvSFjnpwv_w0"
      },
      "execution_count": 14,
      "outputs": []
    },
    {
      "cell_type": "code",
      "source": [
        "plt.imshow(Z, 'gray', vmin=0, vmax=1.0)\n",
        "plt.colorbar()\n",
        "plt.show()"
      ],
      "metadata": {
        "colab": {
          "base_uri": "https://localhost:8080/",
          "height": 435
        },
        "id": "3yt1H_USwku4",
        "outputId": "34cfa665-a96d-4535-8426-4744d2c9ca9f"
      },
      "execution_count": 15,
      "outputs": [
        {
          "output_type": "display_data",
          "data": {
            "text/plain": [
              "<Figure size 640x480 with 2 Axes>"
            ],
            "image/png": "[encoded data removed]"
          },
          "metadata": {}
        }
      ]
    },
    {
      "cell_type": "code",
      "source": [
        "# 가중치값, 편향값 바꾸기 1\n",
        "w_im = np.array([[-5.0, -5.0], [5.0, -5.0]])\n",
        "w_mo = np.array([[1.0], [-1.0]])\n",
        "b_im = np.array([0.0, 0.0])\n",
        "b_mo = np.array([0.0])\n",
        "for i in range(10):\n",
        "  for j in range(10):\n",
        "    inp = np.array([X[i], Y[j]]) # 입력층\n",
        "    mid = middle_layer(inp, w_im, b_im) # 은닉층\n",
        "    out = output_layer(mid, w_mo, b_mo) # 출력층\n",
        "    Z[j][i] = out[0]\n",
        "plt.imshow(Z, 'gray', vmin=0, vmax=1.0)\n",
        "plt.colorbar()\n",
        "plt.show()"
      ],
      "metadata": {
        "colab": {
          "base_uri": "https://localhost:8080/",
          "height": 435
        },
        "id": "vY2UMWwMwm5w",
        "outputId": "347b79ca-4808-4987-acac-88b60682b573"
      },
      "execution_count": 16,
      "outputs": [
        {
          "output_type": "display_data",
          "data": {
            "text/plain": [
              "<Figure size 640x480 with 2 Axes>"
            ],
            "image/png": "[encoded data removed]"
          },
          "metadata": {}
        }
      ]
    },
    {
      "cell_type": "code",
      "source": [
        "# 가중치값, 편향값 바꾸기 2\n",
        "w_im = np.array([[4.0, 4.0], [4.0, 4.0]])\n",
        "w_mo = np.array([[-1.0], [1.0]])\n",
        "b_im = np.array([3.0, -3.0])\n",
        "b_mo = np.array([1.0])\n",
        "for i in range(10):\n",
        "  for j in range(10):\n",
        "    inp = np.array([X[i], Y[j]]) # 입력층\n",
        "    mid = middle_layer(inp, w_im, b_im) # 은닉층\n",
        "    out = output_layer(mid, w_mo, b_mo) # 출력층\n",
        "    Z[j][i] = out[0]\n",
        "plt.imshow(Z, 'gray', vmin=0, vmax=1.0)\n",
        "plt.colorbar()\n",
        "plt.show()"
      ],
      "metadata": {
        "colab": {
          "base_uri": "https://localhost:8080/",
          "height": 435
        },
        "id": "O_z8ZhV-xdTE",
        "outputId": "7440af1d-589e-4116-85fe-0c8e571518e7"
      },
      "execution_count": 17,
      "outputs": [
        {
          "output_type": "display_data",
          "data": {
            "text/plain": [
              "<Figure size 640x480 with 2 Axes>"
            ],
            "image/png": "[encoded data removed]"
          },
          "metadata": {}
        }
      ]
    }
  ]
}